{
 "cells": [
  {
   "cell_type": "code",
   "execution_count": 1,
   "metadata": {},
   "outputs": [],
   "source": [
    "import pandas as pd\n",
    "import numpy as np\n",
    "import xgboost as xgb\n",
    "from tqdm import tqdm\n",
    "from sklearn.svm import SVC\n",
    "from keras.models import Sequential\n",
    "from keras.layers.recurrent import LSTM, GRU\n",
    "from keras.layers.core import Dense, Activation, Dropout\n",
    "from keras.layers.embeddings import Embedding\n",
    "from keras.layers.normalization import BatchNormalization\n",
    "from keras.utils import np_utils\n",
    "from sklearn import preprocessing, decomposition, model_selection, metrics, pipeline\n",
    "from sklearn.model_selection import GridSearchCV\n",
    "from sklearn.feature_extraction.text import TfidfVectorizer, CountVectorizer\n",
    "from sklearn.decomposition import TruncatedSVD\n",
    "from sklearn.linear_model import LogisticRegression\n",
    "from sklearn.model_selection import train_test_split, KFold, StratifiedKFold\n",
    "from sklearn.naive_bayes import MultinomialNB\n",
    "from keras.layers import GlobalMaxPooling1D, Conv1D, MaxPooling1D, Flatten, Bidirectional, SpatialDropout1D\n",
    "from keras.preprocessing import sequence, text\n",
    "from keras.callbacks import EarlyStopping\n",
    "from nltk import word_tokenize\n",
    "from nltk.corpus import stopwords\n",
    "from sklearn.metrics import f1_score\n",
    "#stop_words = stopwords.words('english')\n",
    "\n",
    "#from text_share.text_share3_5noisyexamples import noisy_example1, noisy_example2, noisy_example3, noisy_example1_morph, noisy_example2_morph"
   ]
  },
  {
   "cell_type": "code",
   "execution_count": 3,
   "metadata": {},
   "outputs": [],
   "source": [
    "def multiclass_logloss(actual, predicted, eps=1e-15):\n",
    "    \"\"\"Multi class version of Logarithmic Loss metric.\n",
    "    :param actual: Array containing the actual target classes\n",
    "    :param predicted: Matrix with class predictions, one probability per class\n",
    "    \"\"\"\n",
    "    # Convert 'actual' to a binary array if it's not already:\n",
    "    if len(actual.shape) == 1:\n",
    "        actual2 = np.zeros((actual.shape[0], predicted.shape[1]))\n",
    "        for i, val in enumerate(actual):\n",
    "            actual2[i, val] = 1\n",
    "        actual = actual2\n",
    "\n",
    "    clip = np.clip(predicted, eps, 1 - eps)\n",
    "    rows = actual.shape[0]\n",
    "    vsota = np.sum(actual * np.log(clip))\n",
    "    return -1.0 / rows * vsota\n",
    "\n",
    "def prediction_accuracy(predictions, yvalid):\n",
    "    return len([i for i, j in zip(predictions.argmax(axis=1), yvalid) if i == j])/len(yvalid)"
   ]
  },
  {
   "cell_type": "code",
   "execution_count": null,
   "metadata": {},
   "outputs": [],
   "source": []
  },
  {
   "cell_type": "code",
   "execution_count": 5,
   "metadata": {},
   "outputs": [],
   "source": [
    "#lbl_enc = preprocessing.LabelEncoder()\n",
    "#ytrain = lbl_enc.fit_transform(edit_data.qti.values)"
   ]
  },
  {
   "cell_type": "code",
   "execution_count": 9,
   "metadata": {},
   "outputs": [],
   "source": [
    "cvec_char_vec = CountVectorizer(min_df=3,  max_features=None, \n",
    "                                strip_accents='unicode', analyzer='char_wb',ngram_range=(1,4),\n",
    "                                stop_words = None)\n",
    "\n",
    "#cvec_char_vec=CountVectorizer(min_df=3,tokenizer=tokenizer.tokenize,ngram_range=(1,5))\n",
    "cvec_char_vec.fit(raw_data['edit_text_ne0'].values.tolist())\n",
    "train_cvec_char0 = cvec_char_vec.transform(raw_data['edit_text_ne0'].to_numpy())\n",
    "test_cvec_char0 = cvec_char_vec.transform(raw_test_data['edit_text_ne0'].to_numpy())\n",
    "\n",
    "cvec_char_vec = CountVectorizer(min_df=3,  max_features=None, \n",
    "                                strip_accents='unicode', analyzer='char_wb',ngram_range=(1,4),\n",
    "                                stop_words = None)\n",
    "\n",
    "#cvec_char_vec=CountVectorizer(min_df=3,tokenizer=tokenizer.tokenize,ngram_range=(1,5))\n",
    "cvec_char_vec.fit(raw_data['edit_text_ne1'].values.tolist())\n",
    "train_cvec_char1 = cvec_char_vec.transform(raw_data['edit_text_ne1'].to_numpy())\n",
    "test_cvec_char1 = cvec_char_vec.transform(raw_test_data['edit_text_ne1'].to_numpy())\n",
    "\n",
    "cvec_char_vec = CountVectorizer(min_df=3,  max_features=None, \n",
    "                                strip_accents='unicode', analyzer='char_wb',ngram_range=(1,4),\n",
    "                                stop_words = None)\n",
    "\n",
    "#cvec_char_vec=CountVectorizer(min_df=3,tokenizer=tokenizer.tokenize,ngram_range=(1,5))\n",
    "cvec_char_vec.fit(raw_data['edit_text_ne2'].values.tolist())\n",
    "train_cvec_char2 = cvec_char_vec.transform(raw_data['edit_text_ne2'].to_numpy())\n",
    "test_cvec_char2 = cvec_char_vec.transform(raw_test_data['edit_text_ne2'].to_numpy())\n",
    "\n",
    "cvec_char_vec = CountVectorizer(min_df=3,  max_features=None, \n",
    "                                strip_accents='unicode', analyzer='char_wb',ngram_range=(1,4),\n",
    "                                stop_words = None)\n",
    "\n",
    "#cvec_char_vec=CountVectorizer(min_df=3,tokenizer=tokenizer.tokenize,ngram_range=(1,5))\n",
    "cvec_char_vec.fit(raw_data['edit_text_ne3'].values.tolist())\n",
    "train_cvec_char3 = cvec_char_vec.transform(raw_data['edit_text_ne3'].to_numpy())\n",
    "test_cvec_char3 = cvec_char_vec.transform(raw_test_data['edit_text_ne3'].to_numpy())\n",
    "\n",
    "cvec_char_vec = CountVectorizer(min_df=3,  max_features=None, \n",
    "                                strip_accents='unicode', analyzer='char_wb',ngram_range=(1,4),\n",
    "                                stop_words = None)\n",
    "\n",
    "#cvec_char_vec=CountVectorizer(min_df=3,tokenizer=tokenizer.tokenize,ngram_range=(1,5))\n",
    "cvec_char_vec.fit(raw_data['edit_text_ne4'].values.tolist())\n",
    "train_cvec_char4 = cvec_char_vec.transform(raw_data['edit_text_ne4'].to_numpy())\n",
    "test_cvec_char4 = cvec_char_vec.transform(raw_test_data['edit_text_ne4'].to_numpy())\n",
    "\n",
    "cvec_char_vec = CountVectorizer(min_df=3,  max_features=None, \n",
    "                                strip_accents='unicode', analyzer='char_wb',ngram_range=(1,4),\n",
    "                                stop_words = None)\n",
    "\n",
    "#cvec_char_vec=CountVectorizer(min_df=3,tokenizer=tokenizer.tokenize,ngram_range=(1,5))\n",
    "cvec_char_vec.fit(raw_data['edit_text_ne5'].values.tolist())\n",
    "train_cvec_char5 = cvec_char_vec.transform(raw_data['edit_text_ne5'].to_numpy())\n",
    "test_cvec_char5 = cvec_char_vec.transform(raw_test_data['edit_text_ne5'].to_numpy())"
   ]
  },
  {
   "cell_type": "code",
   "execution_count": 10,
   "metadata": {},
   "outputs": [],
   "source": [
    "clf = xgb.XGBClassifier(max_depth=7, n_estimators=200, colsample_bytree=0.8, \n",
    "                        subsample=0.8, nthread=10, learning_rate=0.1)\n",
    "\n",
    "clf.fit(train_cvec_char0, raw_data['label'])\n",
    "test_predictions0 = clf.predict_proba(test_cvec_char0.tocsc())\n",
    "\n",
    "clf = xgb.XGBClassifier(max_depth=7, n_estimators=200, colsample_bytree=0.8, \n",
    "                        subsample=0.8, nthread=10, learning_rate=0.1)\n",
    "\n",
    "clf.fit(train_cvec_char1, raw_data['label'])\n",
    "test_predictions1 = clf.predict_proba(test_cvec_char1.tocsc())\n",
    "\n",
    "clf = xgb.XGBClassifier(max_depth=7, n_estimators=200, colsample_bytree=0.8, \n",
    "                        subsample=0.8, nthread=10, learning_rate=0.1)\n",
    "\n",
    "clf.fit(train_cvec_char2, raw_data['label'])\n",
    "test_predictions2 = clf.predict_proba(test_cvec_char2.tocsc())\n",
    "\n",
    "clf = xgb.XGBClassifier(max_depth=7, n_estimators=200, colsample_bytree=0.8, \n",
    "                        subsample=0.8, nthread=10, learning_rate=0.1)\n",
    "\n",
    "clf.fit(train_cvec_char3, raw_data['label'])\n",
    "test_predictions3 = clf.predict_proba(test_cvec_char3.tocsc())\n",
    "\n",
    "clf = xgb.XGBClassifier(max_depth=7, n_estimators=200, colsample_bytree=0.8, \n",
    "                        subsample=0.8, nthread=10, learning_rate=0.1)\n",
    "\n",
    "clf.fit(train_cvec_char4, raw_data['label'])\n",
    "test_predictions4 = clf.predict_proba(test_cvec_char4.tocsc())\n",
    "\n",
    "clf = xgb.XGBClassifier(max_depth=7, n_estimators=200, colsample_bytree=0.8, \n",
    "                        subsample=0.8, nthread=10, learning_rate=0.1)\n",
    "\n",
    "clf.fit(train_cvec_char5, raw_data['label'])\n",
    "test_predictions5 = clf.predict_proba(test_cvec_char5.tocsc())"
   ]
  },
  {
   "cell_type": "code",
   "execution_count": null,
   "metadata": {},
   "outputs": [],
   "source": [
    "################### SAVE FIRST #########################################################"
   ]
  },
  {
   "cell_type": "code",
   "execution_count": null,
   "metadata": {},
   "outputs": [],
   "source": [
    "#################################down here for xgb 3#######################################"
   ]
  },
  {
   "cell_type": "code",
   "execution_count": 11,
   "metadata": {},
   "outputs": [],
   "source": [
    "cvec_char_vec = CountVectorizer(min_df=3,  max_features=None, \n",
    "                                strip_accents='unicode', analyzer='word',\n",
    "                                stop_words = None)\n",
    "\n",
    "#cvec_char_vec=CountVectorizer(min_df=3,tokenizer=tokenizer.tokenize,ngram_range=(1,5))\n",
    "cvec_char_vec.fit(raw_data['edit_text_ne0m'].values.tolist())\n",
    "train_cvec_char0 = cvec_char_vec.transform(raw_data['edit_text_ne0m'].to_numpy())\n",
    "test_cvec_char0 = cvec_char_vec.transform(raw_test_data['edit_text_ne0m'].to_numpy())\n",
    "\n",
    "cvec_char_vec = CountVectorizer(min_df=3,  max_features=None, \n",
    "                                strip_accents='unicode', analyzer='word',\n",
    "                                stop_words = None)\n",
    "\n",
    "#cvec_char_vec=CountVectorizer(min_df=3,tokenizer=tokenizer.tokenize,ngram_range=(1,5))\n",
    "cvec_char_vec.fit(raw_data['edit_text_ne1m'].values.tolist())\n",
    "train_cvec_char1 = cvec_char_vec.transform(raw_data['edit_text_ne1m'].to_numpy())\n",
    "test_cvec_char1 = cvec_char_vec.transform(raw_test_data['edit_text_ne1m'].to_numpy())\n",
    "\n",
    "cvec_char_vec = CountVectorizer(min_df=3,  max_features=None, \n",
    "                                strip_accents='unicode', analyzer='word',\n",
    "                                stop_words = None)\n",
    "\n",
    "#cvec_char_vec=CountVectorizer(min_df=3,tokenizer=tokenizer.tokenize,ngram_range=(1,5))\n",
    "cvec_char_vec.fit(raw_data['edit_text_ne2m'].values.tolist())\n",
    "train_cvec_char2 = cvec_char_vec.transform(raw_data['edit_text_ne2m'].to_numpy())\n",
    "test_cvec_char2 = cvec_char_vec.transform(raw_test_data['edit_text_ne2m'].to_numpy())\n",
    "\n",
    "cvec_char_vec = CountVectorizer(min_df=3,  max_features=None, \n",
    "                                strip_accents='unicode', analyzer='word',\n",
    "                                stop_words = None)\n",
    "\n",
    "#cvec_char_vec=CountVectorizer(min_df=3,tokenizer=tokenizer.tokenize,ngram_range=(1,5))\n",
    "cvec_char_vec.fit(raw_data['edit_text_ne3m'].values.tolist())\n",
    "train_cvec_char3 = cvec_char_vec.transform(raw_data['edit_text_ne3m'].to_numpy())\n",
    "test_cvec_char3 = cvec_char_vec.transform(raw_test_data['edit_text_ne3m'].to_numpy())\n",
    "\n",
    "cvec_char_vec = CountVectorizer(min_df=3,  max_features=None, \n",
    "                                strip_accents='unicode', analyzer='word',\n",
    "                                stop_words = None)\n",
    "\n",
    "#cvec_char_vec=CountVectorizer(min_df=3,tokenizer=tokenizer.tokenize,ngram_range=(1,5))\n",
    "cvec_char_vec.fit(raw_data['edit_text_ne4m'].values.tolist())\n",
    "train_cvec_char4 = cvec_char_vec.transform(raw_data['edit_text_ne4m'].to_numpy())\n",
    "test_cvec_char4 = cvec_char_vec.transform(raw_test_data['edit_text_ne4m'].to_numpy())\n",
    "\n",
    "cvec_char_vec = CountVectorizer(min_df=3,  max_features=None, \n",
    "                                strip_accents='unicode', analyzer='word',\n",
    "                                stop_words = None)\n",
    "\n",
    "#cvec_char_vec=CountVectorizer(min_df=3,tokenizer=tokenizer.tokenize,ngram_range=(1,5))\n",
    "cvec_char_vec.fit(raw_data['edit_text_ne5m'].values.tolist())\n",
    "train_cvec_char5 = cvec_char_vec.transform(raw_data['edit_text_ne5m'].to_numpy())\n",
    "test_cvec_char5 = cvec_char_vec.transform(raw_test_data['edit_text_ne5m'].to_numpy())"
   ]
  },
  {
   "cell_type": "code",
   "execution_count": 12,
   "metadata": {},
   "outputs": [],
   "source": [
    "clf = xgb.XGBClassifier(max_depth=7, n_estimators=200, colsample_bytree=0.8, \n",
    "                        subsample=0.8, nthread=10, learning_rate=0.1)\n",
    "\n",
    "clf.fit(train_cvec_char0, raw_data['label'])\n",
    "test_predictions0m = clf.predict_proba(test_cvec_char0.tocsc())\n",
    "\n",
    "clf = xgb.XGBClassifier(max_depth=7, n_estimators=200, colsample_bytree=0.8, \n",
    "                        subsample=0.8, nthread=10, learning_rate=0.1)\n",
    "\n",
    "clf.fit(train_cvec_char1, raw_data['label'])\n",
    "test_predictions1m = clf.predict_proba(test_cvec_char1.tocsc())\n",
    "\n",
    "clf = xgb.XGBClassifier(max_depth=7, n_estimators=200, colsample_bytree=0.8, \n",
    "                        subsample=0.8, nthread=10, learning_rate=0.1)\n",
    "\n",
    "clf.fit(train_cvec_char2, raw_data['label'])\n",
    "test_predictions2m = clf.predict_proba(test_cvec_char2.tocsc())\n",
    "\n",
    "clf = xgb.XGBClassifier(max_depth=7, n_estimators=200, colsample_bytree=0.8, \n",
    "                        subsample=0.8, nthread=10, learning_rate=0.1)\n",
    "\n",
    "clf.fit(train_cvec_char3, raw_data['label'])\n",
    "test_predictions3m = clf.predict_proba(test_cvec_char3.tocsc())\n",
    "\n",
    "clf = xgb.XGBClassifier(max_depth=7, n_estimators=200, colsample_bytree=0.8, \n",
    "                        subsample=0.8, nthread=10, learning_rate=0.1)\n",
    "\n",
    "clf.fit(train_cvec_char4, raw_data['label'])\n",
    "test_predictions4m = clf.predict_proba(test_cvec_char4.tocsc())\n",
    "\n",
    "clf = xgb.XGBClassifier(max_depth=7, n_estimators=200, colsample_bytree=0.8, \n",
    "                        subsample=0.8, nthread=10, learning_rate=0.1)\n",
    "\n",
    "clf.fit(train_cvec_char5, raw_data['label'])\n",
    "test_predictions5m = clf.predict_proba(test_cvec_char5.tocsc())"
   ]
  },
  {
   "cell_type": "code",
   "execution_count": 13,
   "metadata": {},
   "outputs": [],
   "source": [
    "FILEPATH = '../Mondeique/predictions_clean/'\n",
    "\n",
    "np.save(FILEPATH+'XGB_'+'ne0',test_predictions0)\n",
    "np.save(FILEPATH+'XGB_'+'ne1',test_predictions1)\n",
    "np.save(FILEPATH+'XGB_'+'ne2',test_predictions2)\n",
    "np.save(FILEPATH+'XGB_'+'ne3',test_predictions3)\n",
    "np.save(FILEPATH+'XGB_'+'ne4',test_predictions4)\n",
    "np.save(FILEPATH+'XGB_'+'ne5',test_predictions5)\n",
    "\n",
    "np.save(FILEPATH+'XGB_'+'ne0m',test_predictions0m)\n",
    "np.save(FILEPATH+'XGB_'+'ne1m',test_predictions1m)\n",
    "np.save(FILEPATH+'XGB_'+'ne2m',test_predictions2m)\n",
    "np.save(FILEPATH+'XGB_'+'ne3m',test_predictions3m)\n",
    "np.save(FILEPATH+'XGB_'+'ne4m',test_predictions4m)\n",
    "np.save(FILEPATH+'XGB_'+'ne5m',test_predictions5m)"
   ]
  },
  {
   "cell_type": "code",
   "execution_count": 401,
   "metadata": {},
   "outputs": [
    {
     "data": {
      "text/plain": [
       "0        아래쪽 그림과 같이 한 변의 길이가 인 정사각형에서 각 변의 중점 , 에서 반지름...\n",
       "1                                    함수 의 역함수를 바르게 구한 것은 \n",
       "2                      함수 의 최댓값을 최솟값을 라고 할 때 값은 단 는 상수이다 \n",
       "3                                     다음 명제 중 그 역이 참인 것은 \n",
       "4        어느 고등학교 학생 명의 달리기 기록은 평균이 분 표준편차가 분인 정규분포를 따른...\n",
       "                              ...                        \n",
       "2677                         두 사건 에 대하여 br/> , 일 때 br/ 는 \n",
       "2678          무리함수 의 그래프가 다음 그림과 같을 때 상수 에 대하여 의 값을 구하시오 \n",
       "2679      함수 의 역함수를 라고 하자 의 그래프와 의 그래프의 교점의 좌표가 일 때 의 값은 \n",
       "2680                             함수 에 대하여 를 만족하는 실수 의 값은 \n",
       "2681     정규분포 을 따르는 모집단에서 크기가 인 표본을 임의추출할 때 표본평균 에 대하여...\n",
       "Name: edit_text_ne5, Length: 2682, dtype: object"
      ]
     },
     "execution_count": 401,
     "metadata": {},
     "output_type": "execute_result"
    }
   ],
   "source": [
    "open_train_data['edit_text_ne5']"
   ]
  },
  {
   "cell_type": "code",
   "execution_count": 402,
   "metadata": {},
   "outputs": [],
   "source": [
    "zip_list = zip(open_test_data['label'].values, test_predictions0.argmax(axis=1))\n",
    "correct = 0\n",
    "count = 0\n",
    "wrong0 = []\n",
    "for ans, pred in zip_list:\n",
    "    if(ans==pred):\n",
    "        correct += 1\n",
    "    else:\n",
    "        wrong0.append(count)\n",
    "    count+=1\n",
    "percentage0 = correct/len(open_test_data['label'])"
   ]
  },
  {
   "cell_type": "code",
   "execution_count": 403,
   "metadata": {},
   "outputs": [],
   "source": [
    "zip_list = zip(open_test_data['label'].values, test_predictions1.argmax(axis=1))\n",
    "correct = 0\n",
    "count = 0\n",
    "wrong1 = []\n",
    "for ans, pred in zip_list:\n",
    "    if(ans==pred):\n",
    "        correct += 1\n",
    "    else:\n",
    "        wrong1.append(count)\n",
    "    count+=1\n",
    "percentage1 = correct/len(open_test_data['label'])"
   ]
  },
  {
   "cell_type": "code",
   "execution_count": 404,
   "metadata": {},
   "outputs": [],
   "source": [
    "zip_list = zip(open_test_data['label'].values, test_predictions2.argmax(axis=1))\n",
    "correct = 0\n",
    "count = 0\n",
    "wrong2 = []\n",
    "for ans, pred in zip_list:\n",
    "    if(ans==pred):\n",
    "        correct += 1\n",
    "    else:\n",
    "        wrong2.append(count)\n",
    "    count+=1\n",
    "percentage2 = correct/len(open_test_data['label'])"
   ]
  },
  {
   "cell_type": "code",
   "execution_count": 405,
   "metadata": {},
   "outputs": [],
   "source": [
    "zip_list = zip(open_test_data['label'].values, test_predictions3.argmax(axis=1))\n",
    "correct = 0\n",
    "count = 0\n",
    "wrong3 = []\n",
    "for ans, pred in zip_list:\n",
    "    if(ans==pred):\n",
    "        correct += 1\n",
    "    else:\n",
    "        wrong3.append(count)\n",
    "    count+=1\n",
    "percentage3 = correct/len(open_test_data['label'])"
   ]
  },
  {
   "cell_type": "code",
   "execution_count": 406,
   "metadata": {},
   "outputs": [],
   "source": [
    "zip_list = zip(open_test_data['label'].values, test_predictions4.argmax(axis=1))\n",
    "correct = 0\n",
    "count = 0\n",
    "wrong4 = []\n",
    "for ans, pred in zip_list:\n",
    "    if(ans==pred):\n",
    "        correct += 1\n",
    "    else:\n",
    "        wrong4.append(count)\n",
    "    count+=1\n",
    "percentage4 = correct/len(open_test_data['label'])"
   ]
  },
  {
   "cell_type": "code",
   "execution_count": 407,
   "metadata": {},
   "outputs": [],
   "source": [
    "zip_list = zip(open_test_data['label'].values, test_predictions5.argmax(axis=1))\n",
    "correct = 0\n",
    "count = 0\n",
    "wrong5 = []\n",
    "for ans, pred in zip_list:\n",
    "    if(ans==pred):\n",
    "        correct += 1\n",
    "    else:\n",
    "        wrong5.append(count)\n",
    "    count+=1\n",
    "percentage5 = correct/len(open_test_data['label'])"
   ]
  },
  {
   "cell_type": "code",
   "execution_count": 408,
   "metadata": {
    "scrolled": true
   },
   "outputs": [
    {
     "name": "stdout",
     "output_type": "stream",
     "text": [
      "0.8266219239373602 0.831096196868009 0.825503355704698 0.8277404921700223 0.6976137211036539 0.6991051454138703\n"
     ]
    }
   ],
   "source": [
    "print(percentage0, percentage1, percentage2, percentage3, percentage4, percentage5)"
   ]
  },
  {
   "cell_type": "code",
   "execution_count": 409,
   "metadata": {
    "scrolled": true
   },
   "outputs": [
    {
     "name": "stdout",
     "output_type": "stream",
     "text": [
      "465 [0, 2, 7, 14, 19, 20, 25, 28, 33, 42, 44, 54, 57, 59, 69, 71, 74, 78, 81, 93, 98, 102, 104, 108, 122, 123, 130, 137, 142, 144, 147, 148, 149, 151, 157, 158, 172, 173, 179, 184, 186, 195, 199, 201, 203, 229, 230, 231, 236, 237, 252, 257, 259, 262, 263, 265, 276, 281, 284, 287, 288, 295, 297, 315, 325, 339, 341, 342, 362, 379, 393, 395, 396, 404, 405, 407, 426, 427, 432, 447, 454, 474, 477, 479, 497, 506, 511, 523, 531, 532, 534, 546, 556, 558, 561, 563, 570, 587, 591, 599, 602, 606, 615, 618, 656, 666, 668, 670, 672, 675, 677, 680, 685, 686, 693, 698, 701, 705, 707, 711, 723, 737, 742, 744, 746, 755, 759, 770, 771, 778, 787, 803, 810, 812, 821, 822, 826, 829, 831, 833, 839, 858, 861, 869, 875, 876, 883, 886, 894, 907, 913, 919, 920, 931, 933, 945, 953, 956, 958, 963, 967, 968, 985, 993, 997, 1001, 1008, 1009, 1011, 1013, 1020, 1022, 1025, 1030, 1031, 1033, 1034, 1043, 1050, 1057, 1064, 1077, 1080, 1092, 1093, 1097, 1114, 1119, 1125, 1126, 1128, 1138, 1139, 1142, 1143, 1147, 1151, 1157, 1175, 1183, 1184, 1189, 1199, 1202, 1203, 1208, 1210, 1225, 1227, 1232, 1238, 1246, 1254, 1255, 1258, 1272, 1274, 1280, 1289, 1290, 1293, 1298, 1299, 1318, 1319, 1351, 1369, 1371, 1377, 1383, 1390, 1391, 1394, 1399, 1412, 1418, 1419, 1421, 1426, 1432, 1440, 1454, 1455, 1465, 1466, 1468, 1471, 1483, 1485, 1503, 1514, 1519, 1527, 1550, 1554, 1561, 1563, 1565, 1567, 1568, 1578, 1581, 1588, 1589, 1596, 1598, 1606, 1609, 1611, 1618, 1619, 1621, 1623, 1628, 1631, 1637, 1642, 1644, 1652, 1656, 1659, 1663, 1666, 1667, 1675, 1679, 1683, 1686, 1690, 1692, 1697, 1701, 1705, 1709, 1713, 1715, 1716, 1729, 1742, 1744, 1745, 1747, 1751, 1754, 1757, 1773, 1774, 1777, 1798, 1818, 1830, 1831, 1836, 1838, 1840, 1845, 1870, 1871, 1873, 1876, 1877, 1884, 1886, 1889, 1892, 1895, 1898, 1899, 1902, 1917, 1921, 1928, 1942, 1945, 1947, 1950, 1951, 1957, 1966, 1974, 1976, 1980, 1988, 1990, 1995, 1998, 2004, 2009, 2022, 2024, 2026, 2036, 2040, 2048, 2067, 2070, 2076, 2079, 2092, 2095, 2100, 2108, 2113, 2117, 2118, 2119, 2131, 2143, 2148, 2152, 2154, 2164, 2172, 2187, 2190, 2196, 2212, 2229, 2240, 2252, 2257, 2286, 2287, 2291, 2292, 2295, 2305, 2307, 2310, 2313, 2314, 2318, 2326, 2336, 2339, 2347, 2352, 2354, 2358, 2360, 2366, 2369, 2376, 2381, 2383, 2384, 2390, 2396, 2399, 2400, 2402, 2407, 2412, 2419, 2420, 2423, 2438, 2445, 2446, 2452, 2464, 2469, 2476, 2496, 2501, 2502, 2504, 2512, 2523, 2528, 2532, 2537, 2542, 2544, 2546, 2549, 2550, 2551, 2560, 2561, 2563, 2567, 2574, 2577, 2580, 2582, 2587, 2591, 2592, 2595, 2605, 2608, 2609, 2616, 2620, 2621, 2625, 2626, 2629, 2631, 2637, 2649, 2655, 2657, 2676]\n",
      "453 [0, 7, 14, 19, 20, 25, 28, 33, 42, 44, 54, 57, 59, 69, 74, 78, 81, 86, 93, 98, 102, 104, 108, 115, 122, 123, 130, 137, 142, 147, 148, 149, 151, 157, 158, 173, 179, 184, 186, 195, 201, 203, 229, 230, 231, 236, 237, 243, 257, 259, 262, 263, 265, 276, 277, 281, 284, 288, 289, 297, 301, 315, 333, 339, 341, 342, 362, 372, 379, 380, 393, 395, 396, 404, 405, 407, 426, 427, 432, 454, 474, 477, 479, 497, 511, 523, 531, 532, 534, 546, 556, 558, 561, 563, 570, 587, 591, 599, 602, 606, 615, 618, 621, 631, 656, 666, 668, 670, 672, 675, 677, 680, 685, 686, 692, 693, 698, 701, 705, 707, 711, 723, 737, 742, 744, 746, 755, 759, 770, 771, 778, 787, 803, 810, 812, 821, 822, 826, 829, 831, 833, 858, 861, 869, 875, 876, 883, 886, 894, 907, 913, 920, 931, 933, 945, 953, 956, 958, 963, 967, 968, 984, 993, 997, 999, 1001, 1008, 1009, 1011, 1013, 1020, 1022, 1025, 1031, 1033, 1034, 1043, 1050, 1057, 1064, 1077, 1080, 1093, 1097, 1102, 1114, 1119, 1125, 1126, 1128, 1138, 1142, 1147, 1175, 1176, 1183, 1184, 1189, 1199, 1202, 1203, 1210, 1225, 1232, 1238, 1246, 1254, 1255, 1258, 1272, 1274, 1280, 1289, 1290, 1293, 1298, 1299, 1318, 1319, 1351, 1369, 1371, 1377, 1383, 1390, 1391, 1399, 1412, 1419, 1421, 1426, 1432, 1440, 1454, 1455, 1465, 1466, 1468, 1471, 1483, 1485, 1503, 1514, 1519, 1527, 1550, 1554, 1561, 1563, 1565, 1567, 1568, 1578, 1581, 1588, 1589, 1596, 1598, 1606, 1611, 1618, 1619, 1621, 1623, 1628, 1631, 1637, 1642, 1644, 1652, 1656, 1659, 1663, 1666, 1667, 1675, 1679, 1683, 1686, 1690, 1692, 1697, 1701, 1709, 1713, 1715, 1716, 1729, 1742, 1744, 1745, 1747, 1751, 1757, 1773, 1774, 1777, 1787, 1798, 1818, 1831, 1836, 1838, 1840, 1845, 1870, 1871, 1873, 1876, 1884, 1886, 1892, 1895, 1898, 1899, 1901, 1917, 1921, 1928, 1942, 1945, 1947, 1950, 1951, 1957, 1964, 1966, 1974, 1976, 1980, 1988, 1990, 1995, 1998, 2004, 2009, 2022, 2024, 2026, 2036, 2048, 2067, 2070, 2074, 2076, 2079, 2090, 2092, 2095, 2100, 2113, 2117, 2118, 2119, 2131, 2143, 2144, 2148, 2152, 2164, 2172, 2187, 2190, 2196, 2229, 2237, 2240, 2252, 2257, 2277, 2286, 2287, 2291, 2292, 2295, 2305, 2307, 2310, 2313, 2314, 2318, 2326, 2336, 2339, 2345, 2347, 2349, 2352, 2354, 2358, 2360, 2366, 2369, 2376, 2381, 2383, 2384, 2390, 2396, 2399, 2400, 2402, 2407, 2412, 2419, 2420, 2423, 2438, 2445, 2446, 2452, 2464, 2469, 2476, 2496, 2501, 2502, 2504, 2512, 2523, 2528, 2532, 2537, 2542, 2544, 2546, 2549, 2550, 2551, 2563, 2567, 2574, 2577, 2580, 2582, 2585, 2587, 2591, 2592, 2605, 2608, 2609, 2616, 2620, 2621, 2625, 2626, 2629, 2631, 2637, 2649, 2655, 2657]\n",
      "468 [0, 7, 14, 19, 20, 25, 28, 33, 42, 44, 54, 57, 59, 69, 71, 74, 78, 81, 86, 93, 98, 102, 104, 108, 115, 116, 122, 123, 130, 137, 142, 144, 147, 148, 149, 151, 157, 158, 172, 173, 179, 184, 186, 195, 201, 203, 229, 230, 231, 236, 237, 257, 259, 262, 263, 265, 276, 277, 281, 284, 288, 289, 295, 297, 301, 315, 325, 339, 341, 342, 360, 362, 374, 379, 380, 393, 395, 396, 404, 405, 407, 426, 427, 432, 447, 451, 454, 474, 477, 479, 484, 497, 506, 511, 517, 523, 531, 532, 536, 546, 558, 561, 563, 570, 587, 591, 599, 602, 606, 615, 618, 621, 656, 666, 668, 670, 672, 675, 676, 677, 680, 685, 686, 688, 692, 693, 698, 701, 705, 707, 711, 737, 742, 744, 746, 759, 770, 771, 778, 787, 803, 810, 812, 821, 822, 826, 829, 831, 833, 839, 858, 861, 869, 875, 876, 883, 886, 887, 894, 902, 907, 913, 919, 920, 931, 933, 945, 953, 956, 958, 963, 967, 968, 993, 1001, 1008, 1009, 1011, 1013, 1020, 1022, 1025, 1030, 1031, 1033, 1034, 1043, 1050, 1064, 1080, 1093, 1097, 1102, 1112, 1114, 1119, 1125, 1126, 1128, 1130, 1139, 1142, 1147, 1171, 1175, 1183, 1184, 1189, 1199, 1202, 1203, 1210, 1225, 1232, 1238, 1246, 1254, 1255, 1258, 1259, 1272, 1280, 1289, 1290, 1293, 1298, 1299, 1316, 1318, 1319, 1351, 1369, 1371, 1377, 1383, 1390, 1391, 1399, 1412, 1419, 1421, 1426, 1432, 1440, 1454, 1455, 1463, 1465, 1466, 1468, 1471, 1485, 1503, 1514, 1519, 1527, 1529, 1550, 1554, 1561, 1563, 1565, 1568, 1578, 1581, 1588, 1589, 1596, 1598, 1606, 1609, 1611, 1619, 1621, 1623, 1625, 1628, 1631, 1637, 1639, 1642, 1644, 1646, 1652, 1659, 1663, 1666, 1667, 1670, 1675, 1679, 1683, 1686, 1690, 1692, 1697, 1701, 1705, 1709, 1713, 1715, 1716, 1729, 1744, 1745, 1746, 1747, 1751, 1757, 1773, 1774, 1777, 1787, 1797, 1831, 1836, 1838, 1840, 1845, 1870, 1871, 1873, 1876, 1877, 1884, 1886, 1892, 1896, 1898, 1899, 1900, 1916, 1917, 1921, 1928, 1942, 1945, 1947, 1948, 1950, 1951, 1957, 1966, 1974, 1976, 1980, 1988, 1995, 1998, 2004, 2009, 2022, 2024, 2026, 2036, 2048, 2067, 2070, 2076, 2079, 2086, 2092, 2095, 2100, 2113, 2117, 2118, 2119, 2131, 2143, 2144, 2148, 2152, 2154, 2164, 2172, 2187, 2190, 2196, 2199, 2212, 2229, 2237, 2240, 2252, 2257, 2277, 2286, 2287, 2291, 2292, 2295, 2305, 2307, 2310, 2313, 2314, 2318, 2326, 2327, 2336, 2339, 2345, 2347, 2349, 2352, 2354, 2358, 2360, 2366, 2369, 2376, 2381, 2383, 2390, 2399, 2400, 2402, 2407, 2412, 2419, 2423, 2438, 2445, 2446, 2448, 2452, 2464, 2476, 2496, 2501, 2502, 2504, 2512, 2523, 2528, 2532, 2537, 2542, 2544, 2546, 2549, 2550, 2551, 2563, 2567, 2574, 2580, 2582, 2587, 2591, 2592, 2605, 2608, 2609, 2614, 2616, 2620, 2621, 2625, 2626, 2629, 2631, 2637, 2649, 2655, 2657, 2676]\n",
      "462 [0, 7, 14, 19, 20, 25, 28, 33, 42, 43, 44, 54, 57, 59, 69, 71, 74, 78, 81, 86, 93, 98, 102, 104, 108, 115, 122, 123, 130, 137, 142, 144, 147, 148, 149, 151, 157, 158, 172, 173, 179, 184, 186, 195, 199, 201, 203, 229, 230, 231, 236, 237, 243, 252, 257, 259, 262, 263, 265, 276, 277, 281, 284, 287, 288, 295, 297, 301, 315, 318, 325, 333, 339, 341, 342, 360, 362, 379, 380, 381, 393, 395, 396, 400, 404, 405, 407, 426, 427, 432, 447, 451, 454, 474, 477, 479, 484, 486, 497, 506, 511, 517, 523, 531, 532, 534, 542, 546, 556, 558, 561, 563, 570, 587, 591, 599, 602, 606, 615, 618, 621, 656, 668, 670, 672, 675, 676, 677, 680, 685, 686, 688, 692, 693, 698, 701, 705, 707, 711, 723, 727, 737, 742, 744, 746, 759, 765, 770, 771, 778, 787, 803, 810, 812, 821, 822, 826, 829, 831, 833, 839, 858, 861, 864, 869, 875, 876, 883, 886, 887, 894, 902, 907, 913, 920, 931, 933, 945, 953, 956, 958, 963, 967, 968, 984, 986, 993, 999, 1001, 1008, 1009, 1011, 1013, 1020, 1022, 1031, 1033, 1034, 1043, 1050, 1064, 1077, 1080, 1093, 1097, 1102, 1114, 1119, 1125, 1126, 1130, 1138, 1139, 1142, 1147, 1171, 1175, 1183, 1184, 1189, 1199, 1202, 1203, 1210, 1225, 1232, 1238, 1246, 1254, 1255, 1258, 1259, 1272, 1274, 1280, 1289, 1290, 1293, 1298, 1299, 1316, 1319, 1351, 1369, 1371, 1377, 1390, 1391, 1399, 1412, 1419, 1421, 1426, 1432, 1454, 1455, 1465, 1466, 1468, 1471, 1485, 1514, 1527, 1529, 1550, 1554, 1561, 1563, 1567, 1578, 1581, 1588, 1589, 1596, 1598, 1606, 1609, 1611, 1619, 1621, 1623, 1625, 1628, 1631, 1637, 1639, 1642, 1644, 1646, 1652, 1656, 1659, 1663, 1666, 1667, 1670, 1675, 1679, 1683, 1686, 1690, 1697, 1701, 1705, 1709, 1713, 1715, 1716, 1744, 1745, 1747, 1751, 1757, 1773, 1777, 1787, 1797, 1831, 1836, 1838, 1845, 1870, 1871, 1873, 1876, 1884, 1886, 1892, 1896, 1898, 1899, 1900, 1917, 1921, 1942, 1945, 1947, 1950, 1951, 1957, 1966, 1974, 1976, 1980, 1988, 1995, 1998, 2004, 2009, 2022, 2024, 2026, 2036, 2048, 2067, 2070, 2076, 2079, 2092, 2095, 2100, 2113, 2117, 2118, 2119, 2131, 2143, 2148, 2152, 2154, 2164, 2181, 2187, 2193, 2196, 2212, 2225, 2229, 2237, 2240, 2252, 2257, 2277, 2286, 2287, 2291, 2292, 2295, 2305, 2307, 2310, 2313, 2314, 2318, 2326, 2336, 2339, 2345, 2347, 2352, 2354, 2358, 2360, 2366, 2369, 2376, 2381, 2383, 2390, 2399, 2400, 2402, 2407, 2412, 2419, 2423, 2438, 2445, 2446, 2452, 2464, 2476, 2492, 2496, 2501, 2502, 2504, 2512, 2513, 2523, 2528, 2532, 2537, 2542, 2544, 2546, 2549, 2550, 2551, 2563, 2567, 2574, 2580, 2582, 2587, 2591, 2592, 2605, 2609, 2614, 2616, 2620, 2621, 2625, 2626, 2629, 2631, 2637, 2649, 2655, 2657, 2676]\n",
      "811 [13, 14, 15, 18, 19, 20, 25, 28, 38, 39, 43, 48, 54, 56, 60, 63, 65, 69, 71, 74, 78, 86, 93, 95, 101, 102, 104, 105, 109, 111, 114, 115, 117, 121, 122, 123, 124, 128, 131, 134, 137, 139, 142, 146, 147, 148, 151, 153, 157, 158, 159, 161, 169, 172, 173, 179, 180, 188, 189, 195, 197, 201, 203, 212, 217, 224, 226, 230, 231, 234, 236, 237, 242, 244, 249, 252, 257, 259, 260, 261, 262, 263, 265, 272, 274, 276, 277, 281, 284, 287, 288, 291, 295, 297, 301, 303, 315, 321, 324, 325, 333, 339, 341, 342, 346, 348, 354, 356, 357, 360, 361, 362, 363, 365, 366, 369, 370, 374, 379, 391, 392, 393, 395, 396, 400, 401, 403, 404, 405, 407, 409, 411, 417, 418, 421, 426, 427, 428, 430, 432, 436, 440, 442, 449, 450, 451, 454, 461, 465, 472, 474, 478, 482, 484, 486, 488, 490, 497, 499, 502, 506, 507, 514, 516, 517, 523, 530, 532, 533, 534, 535, 544, 545, 551, 553, 555, 556, 559, 561, 563, 564, 569, 570, 576, 581, 582, 587, 592, 593, 595, 596, 599, 602, 615, 618, 622, 623, 631, 641, 654, 656, 658, 662, 664, 668, 672, 673, 675, 676, 677, 684, 685, 686, 692, 698, 709, 711, 722, 723, 726, 727, 735, 736, 737, 741, 742, 744, 746, 754, 759, 761, 763, 764, 765, 768, 769, 770, 776, 777, 778, 782, 784, 787, 790, 796, 798, 799, 803, 805, 807, 810, 812, 818, 821, 822, 826, 828, 829, 830, 831, 833, 838, 839, 841, 842, 847, 852, 858, 861, 865, 867, 869, 874, 875, 876, 877, 883, 886, 887, 889, 893, 894, 895, 899, 907, 908, 913, 916, 917, 920, 924, 925, 929, 931, 937, 944, 945, 949, 953, 955, 956, 958, 962, 963, 964, 967, 968, 973, 982, 986, 987, 993, 999, 1001, 1008, 1009, 1010, 1011, 1013, 1018, 1019, 1020, 1022, 1023, 1024, 1025, 1026, 1028, 1030, 1034, 1040, 1043, 1046, 1047, 1050, 1068, 1069, 1078, 1080, 1093, 1097, 1099, 1102, 1111, 1114, 1116, 1117, 1119, 1125, 1126, 1130, 1132, 1133, 1138, 1139, 1141, 1142, 1147, 1149, 1155, 1157, 1163, 1167, 1171, 1172, 1173, 1175, 1182, 1183, 1184, 1186, 1189, 1190, 1192, 1195, 1196, 1197, 1198, 1199, 1202, 1203, 1210, 1214, 1216, 1217, 1222, 1225, 1230, 1231, 1232, 1238, 1239, 1243, 1246, 1254, 1255, 1256, 1258, 1260, 1270, 1272, 1274, 1277, 1278, 1280, 1285, 1290, 1292, 1293, 1294, 1297, 1298, 1299, 1304, 1310, 1314, 1316, 1319, 1320, 1325, 1327, 1329, 1343, 1351, 1354, 1358, 1362, 1367, 1369, 1373, 1377, 1383, 1390, 1391, 1394, 1405, 1406, 1409, 1412, 1413, 1421, 1426, 1428, 1432, 1438, 1440, 1453, 1455, 1461, 1464, 1465, 1466, 1468, 1469, 1475, 1480, 1481, 1484, 1485, 1496, 1500, 1503, 1505, 1510, 1514, 1516, 1525, 1529, 1532, 1537, 1540, 1544, 1546, 1547, 1550, 1559, 1561, 1562, 1563, 1567, 1570, 1577, 1578, 1581, 1589, 1590, 1594, 1596, 1598, 1604, 1605, 1606, 1611, 1613, 1614, 1618, 1620, 1621, 1623, 1625, 1628, 1631, 1634, 1638, 1639, 1641, 1644, 1646, 1647, 1652, 1658, 1659, 1660, 1663, 1667, 1675, 1679, 1683, 1686, 1688, 1691, 1692, 1694, 1701, 1705, 1709, 1711, 1713, 1715, 1716, 1721, 1722, 1728, 1729, 1731, 1734, 1736, 1745, 1746, 1747, 1751, 1754, 1757, 1762, 1769, 1771, 1773, 1787, 1793, 1795, 1797, 1798, 1804, 1805, 1818, 1821, 1825, 1826, 1828, 1829, 1835, 1836, 1837, 1838, 1845, 1850, 1858, 1860, 1864, 1870, 1872, 1876, 1879, 1881, 1884, 1886, 1889, 1894, 1896, 1898, 1899, 1900, 1901, 1906, 1916, 1917, 1921, 1926, 1930, 1932, 1938, 1942, 1944, 1946, 1947, 1950, 1951, 1957, 1962, 1964, 1966, 1968, 1973, 1974, 1976, 1977, 1980, 1981, 1987, 1988, 1993, 1995, 1999, 2004, 2008, 2009, 2011, 2014, 2022, 2024, 2026, 2032, 2036, 2039, 2048, 2053, 2067, 2068, 2070, 2076, 2079, 2081, 2090, 2092, 2095, 2097, 2103, 2108, 2113, 2117, 2118, 2119, 2131, 2133, 2139, 2143, 2144, 2145, 2148, 2152, 2156, 2158, 2164, 2165, 2169, 2181, 2183, 2187, 2188, 2190, 2193, 2194, 2195, 2196, 2199, 2201, 2212, 2213, 2216, 2224, 2226, 2229, 2234, 2240, 2246, 2247, 2249, 2255, 2257, 2259, 2261, 2264, 2266, 2270, 2272, 2285, 2286, 2287, 2288, 2292, 2295, 2301, 2303, 2305, 2307, 2310, 2313, 2314, 2318, 2320, 2322, 2326, 2327, 2329, 2330, 2332, 2334, 2339, 2347, 2348, 2349, 2350, 2354, 2356, 2358, 2360, 2362, 2366, 2367, 2369, 2377, 2379, 2381, 2383, 2384, 2388, 2390, 2391, 2399, 2400, 2406, 2407, 2419, 2423, 2427, 2438, 2440, 2445, 2446, 2447, 2452, 2457, 2462, 2463, 2464, 2472, 2476, 2477, 2484, 2485, 2486, 2488, 2491, 2492, 2496, 2508, 2510, 2512, 2513, 2526, 2528, 2530, 2532, 2535, 2538, 2542, 2546, 2549, 2550, 2555, 2558, 2560, 2561, 2562, 2563, 2567, 2574, 2577, 2580, 2582, 2588, 2591, 2593, 2598, 2599, 2600, 2605, 2606, 2607, 2608, 2609, 2610, 2616, 2618, 2620, 2621, 2623, 2625, 2626, 2629, 2631, 2637, 2638, 2645, 2646, 2649, 2653, 2655, 2665, 2672, 2676]\n",
      "807 [0, 2, 7, 13, 14, 19, 20, 21, 24, 25, 28, 29, 32, 33, 34, 35, 40, 42, 43, 44, 48, 50, 54, 55, 57, 59, 64, 69, 70, 71, 72, 74, 76, 79, 81, 86, 90, 93, 97, 98, 99, 100, 102, 104, 108, 116, 119, 122, 123, 130, 137, 139, 142, 144, 147, 148, 149, 151, 152, 154, 157, 158, 168, 172, 173, 175, 179, 184, 186, 191, 193, 195, 199, 201, 202, 203, 205, 208, 218, 224, 227, 229, 230, 231, 236, 237, 240, 243, 245, 252, 257, 258, 259, 262, 263, 265, 271, 276, 277, 281, 284, 285, 287, 290, 295, 297, 301, 306, 307, 308, 312, 313, 315, 316, 325, 326, 328, 329, 336, 338, 339, 340, 341, 342, 347, 349, 350, 362, 372, 374, 379, 380, 391, 393, 395, 396, 401, 404, 405, 420, 422, 426, 427, 432, 440, 447, 449, 454, 457, 459, 462, 465, 466, 467, 473, 474, 475, 476, 477, 479, 481, 484, 489, 495, 497, 498, 508, 511, 522, 523, 531, 532, 536, 538, 546, 547, 550, 552, 555, 556, 558, 560, 561, 563, 565, 568, 569, 570, 580, 584, 587, 591, 598, 599, 602, 606, 608, 612, 613, 615, 618, 621, 628, 633, 634, 639, 644, 645, 650, 656, 661, 662, 666, 668, 670, 672, 674, 675, 676, 677, 678, 680, 685, 686, 688, 690, 693, 698, 701, 705, 707, 708, 709, 711, 718, 719, 727, 729, 731, 737, 742, 744, 746, 755, 759, 760, 762, 770, 771, 772, 775, 778, 784, 787, 791, 795, 802, 803, 804, 805, 809, 812, 815, 816, 821, 825, 826, 829, 831, 832, 833, 836, 839, 840, 843, 849, 850, 854, 858, 861, 866, 872, 875, 876, 883, 885, 886, 887, 889, 892, 896, 897, 900, 902, 903, 907, 912, 913, 914, 918, 919, 920, 933, 935, 940, 945, 946, 951, 953, 956, 958, 963, 967, 968, 971, 972, 977, 981, 984, 986, 992, 993, 997, 999, 1000, 1001, 1008, 1009, 1011, 1013, 1020, 1025, 1030, 1031, 1032, 1033, 1034, 1040, 1043, 1048, 1049, 1050, 1057, 1064, 1077, 1079, 1080, 1082, 1088, 1092, 1093, 1097, 1099, 1114, 1119, 1126, 1128, 1134, 1137, 1138, 1142, 1143, 1146, 1147, 1154, 1174, 1175, 1176, 1177, 1183, 1184, 1185, 1189, 1192, 1199, 1202, 1203, 1210, 1220, 1225, 1227, 1232, 1234, 1238, 1246, 1253, 1254, 1258, 1259, 1272, 1274, 1280, 1287, 1289, 1290, 1295, 1298, 1299, 1301, 1311, 1318, 1319, 1323, 1324, 1331, 1332, 1336, 1340, 1348, 1351, 1352, 1355, 1356, 1368, 1369, 1371, 1375, 1376, 1377, 1380, 1381, 1383, 1384, 1390, 1391, 1392, 1395, 1398, 1399, 1401, 1404, 1419, 1420, 1421, 1424, 1425, 1426, 1430, 1432, 1434, 1441, 1446, 1451, 1454, 1455, 1465, 1468, 1471, 1483, 1485, 1490, 1493, 1497, 1499, 1503, 1513, 1514, 1517, 1519, 1527, 1528, 1529, 1531, 1538, 1550, 1551, 1554, 1561, 1563, 1564, 1565, 1568, 1570, 1578, 1580, 1586, 1588, 1589, 1596, 1597, 1598, 1603, 1606, 1609, 1611, 1616, 1617, 1619, 1621, 1623, 1625, 1628, 1631, 1637, 1642, 1644, 1646, 1648, 1652, 1659, 1663, 1666, 1667, 1670, 1672, 1675, 1679, 1681, 1682, 1683, 1684, 1686, 1687, 1690, 1691, 1697, 1701, 1705, 1709, 1712, 1713, 1715, 1716, 1720, 1725, 1729, 1739, 1742, 1744, 1745, 1746, 1747, 1754, 1756, 1757, 1758, 1761, 1766, 1768, 1773, 1774, 1779, 1786, 1787, 1794, 1797, 1800, 1806, 1811, 1818, 1825, 1830, 1831, 1833, 1836, 1838, 1839, 1840, 1846, 1852, 1865, 1871, 1873, 1876, 1877, 1880, 1882, 1883, 1884, 1886, 1890, 1892, 1893, 1895, 1898, 1899, 1900, 1901, 1908, 1917, 1921, 1922, 1928, 1933, 1938, 1939, 1940, 1945, 1947, 1950, 1954, 1966, 1972, 1974, 1976, 1980, 1988, 1990, 1997, 1998, 2003, 2004, 2007, 2009, 2013, 2019, 2022, 2024, 2026, 2030, 2034, 2038, 2040, 2047, 2049, 2058, 2060, 2067, 2070, 2074, 2076, 2077, 2079, 2084, 2086, 2088, 2092, 2095, 2096, 2100, 2109, 2115, 2117, 2118, 2119, 2123, 2125, 2131, 2138, 2142, 2143, 2148, 2154, 2155, 2164, 2165, 2166, 2167, 2172, 2178, 2185, 2187, 2192, 2193, 2196, 2207, 2210, 2212, 2220, 2223, 2225, 2229, 2232, 2235, 2237, 2238, 2240, 2249, 2252, 2257, 2280, 2282, 2286, 2287, 2289, 2290, 2291, 2292, 2293, 2295, 2298, 2300, 2307, 2309, 2310, 2313, 2317, 2318, 2322, 2326, 2327, 2328, 2336, 2339, 2345, 2346, 2347, 2349, 2350, 2352, 2354, 2358, 2359, 2360, 2366, 2367, 2368, 2369, 2370, 2376, 2381, 2383, 2384, 2385, 2389, 2390, 2391, 2392, 2393, 2395, 2396, 2400, 2402, 2407, 2412, 2414, 2419, 2420, 2421, 2422, 2428, 2433, 2442, 2443, 2445, 2446, 2448, 2450, 2452, 2458, 2462, 2464, 2468, 2469, 2472, 2474, 2476, 2479, 2493, 2494, 2496, 2501, 2504, 2512, 2514, 2518, 2523, 2524, 2528, 2532, 2533, 2537, 2540, 2542, 2543, 2544, 2546, 2549, 2550, 2551, 2553, 2560, 2561, 2563, 2567, 2573, 2574, 2579, 2580, 2582, 2585, 2587, 2591, 2598, 2605, 2608, 2609, 2611, 2614, 2616, 2620, 2621, 2625, 2629, 2630, 2631, 2637, 2642, 2646, 2649, 2654, 2655, 2657, 2659, 2663, 2669, 2673]\n"
     ]
    }
   ],
   "source": [
    "print(len(wrong0), wrong0)\n",
    "print(len(wrong1),wrong1)\n",
    "print(len(wrong2), wrong2)\n",
    "print(len(wrong3),wrong3)\n",
    "print(len(wrong4),wrong4)\n",
    "print(len(wrong5),wrong5)"
   ]
  },
  {
   "cell_type": "code",
   "execution_count": 410,
   "metadata": {},
   "outputs": [],
   "source": [
    "test_predictions0_1 = clf.predict_proba(test_cvec_char1.tocsc())\n",
    "test_predictions0_2 = clf.predict_proba(test_cvec_char2.tocsc())\n",
    "test_predictions0_3 = clf.predict_proba(test_cvec_char3.tocsc())\n",
    "test_predictions0_4 = clf.predict_proba(test_cvec_char4.tocsc())\n",
    "test_predictions0_5 = clf.predict_proba(test_cvec_char5.tocsc())"
   ]
  },
  {
   "cell_type": "code",
   "execution_count": 411,
   "metadata": {},
   "outputs": [],
   "source": [
    "test_predictions1_0 = clf.predict_proba(test_cvec_char0.tocsc())\n",
    "test_predictions1_2 = clf.predict_proba(test_cvec_char2.tocsc())\n",
    "test_predictions1_3 = clf.predict_proba(test_cvec_char3.tocsc())\n",
    "test_predictions1_4 = clf.predict_proba(test_cvec_char4.tocsc())\n",
    "test_predictions1_5 = clf.predict_proba(test_cvec_char5.tocsc())"
   ]
  },
  {
   "cell_type": "code",
   "execution_count": 412,
   "metadata": {},
   "outputs": [],
   "source": [
    "test_predictions2_0 = clf.predict_proba(test_cvec_char0.tocsc())\n",
    "test_predictions2_1 = clf.predict_proba(test_cvec_char1.tocsc())\n",
    "test_predictions2_3 = clf.predict_proba(test_cvec_char3.tocsc())\n",
    "test_predictions2_4 = clf.predict_proba(test_cvec_char4.tocsc())\n",
    "test_predictions2_5 = clf.predict_proba(test_cvec_char5.tocsc())"
   ]
  },
  {
   "cell_type": "code",
   "execution_count": 413,
   "metadata": {},
   "outputs": [],
   "source": [
    "test_predictions3_1 = clf.predict_proba(test_cvec_char1.tocsc())\n",
    "test_predictions3_2 = clf.predict_proba(test_cvec_char2.tocsc())\n",
    "test_predictions3_0 = clf.predict_proba(test_cvec_char0.tocsc())\n",
    "test_predictions3_4 = clf.predict_proba(test_cvec_char4.tocsc())\n",
    "test_predictions3_5 = clf.predict_proba(test_cvec_char5.tocsc())"
   ]
  },
  {
   "cell_type": "code",
   "execution_count": 414,
   "metadata": {},
   "outputs": [],
   "source": [
    "test_predictions4_1 = clf.predict_proba(test_cvec_char1.tocsc())\n",
    "test_predictions4_2 = clf.predict_proba(test_cvec_char2.tocsc())\n",
    "test_predictions4_3 = clf.predict_proba(test_cvec_char3.tocsc())\n",
    "test_predictions4_0 = clf.predict_proba(test_cvec_char0.tocsc())\n",
    "test_predictions4_5 = clf.predict_proba(test_cvec_char5.tocsc())"
   ]
  },
  {
   "cell_type": "code",
   "execution_count": 415,
   "metadata": {},
   "outputs": [],
   "source": [
    "test_predictions5_1 = clf.predict_proba(test_cvec_char1.tocsc())\n",
    "test_predictions5_2 = clf.predict_proba(test_cvec_char2.tocsc())\n",
    "test_predictions5_3 = clf.predict_proba(test_cvec_char3.tocsc())\n",
    "test_predictions5_4 = clf.predict_proba(test_cvec_char4.tocsc())\n",
    "test_predictions5_0 = clf.predict_proba(test_cvec_char0.tocsc())"
   ]
  },
  {
   "cell_type": "code",
   "execution_count": 416,
   "metadata": {},
   "outputs": [
    {
     "name": "stdout",
     "output_type": "stream",
     "text": [
      "0.6957494407158836 0.6923937360178971 0.6935123042505593 0.020879940343027592 0.6991051454138703\n",
      "wrong0_1 [0, 2, 7, 13, 14, 19, 20, 21, 24, 25, 28, 29, 32, 33, 34, 35, 40, 42, 43, 44, 48, 50, 53, 54, 57, 59, 64, 69, 70, 71, 72, 74, 76, 79, 81, 86, 90, 93, 97, 98, 99, 100, 102, 104, 108, 116, 119, 122, 123, 130, 137, 139, 142, 144, 147, 148, 149, 151, 152, 154, 157, 158, 160, 168, 172, 173, 175, 179, 184, 186, 191, 193, 195, 199, 201, 202, 203, 205, 208, 218, 224, 227, 229, 230, 231, 236, 237, 240, 243, 245, 252, 257, 258, 259, 262, 263, 265, 271, 276, 277, 281, 284, 285, 287, 290, 292, 295, 297, 301, 306, 307, 308, 312, 313, 314, 315, 316, 325, 326, 328, 336, 338, 339, 340, 341, 342, 347, 349, 350, 362, 367, 372, 374, 379, 380, 391, 392, 393, 395, 396, 401, 404, 405, 420, 422, 426, 427, 432, 440, 447, 449, 454, 457, 459, 462, 465, 466, 467, 473, 474, 475, 476, 477, 479, 481, 484, 489, 495, 497, 498, 508, 511, 522, 523, 531, 532, 536, 538, 546, 547, 550, 552, 555, 558, 559, 560, 561, 563, 565, 568, 570, 580, 584, 587, 591, 598, 599, 602, 606, 608, 612, 613, 615, 618, 621, 628, 633, 634, 639, 640, 644, 645, 650, 656, 661, 662, 666, 668, 670, 672, 674, 675, 676, 677, 678, 680, 685, 686, 688, 690, 693, 698, 701, 705, 707, 708, 709, 711, 712, 718, 719, 727, 729, 731, 737, 742, 744, 746, 755, 759, 760, 762, 770, 771, 772, 775, 778, 784, 787, 791, 795, 802, 803, 805, 809, 812, 815, 816, 821, 825, 826, 829, 831, 832, 833, 839, 840, 843, 849, 850, 854, 858, 861, 866, 872, 875, 876, 880, 883, 885, 886, 887, 889, 892, 896, 897, 900, 902, 903, 907, 912, 913, 914, 918, 919, 920, 933, 935, 940, 945, 946, 951, 953, 956, 958, 963, 967, 968, 971, 972, 977, 981, 984, 986, 992, 993, 997, 999, 1000, 1001, 1003, 1008, 1009, 1011, 1013, 1020, 1025, 1030, 1031, 1032, 1033, 1034, 1040, 1043, 1048, 1049, 1050, 1057, 1064, 1077, 1079, 1080, 1082, 1088, 1092, 1093, 1097, 1099, 1107, 1108, 1114, 1119, 1126, 1128, 1134, 1137, 1138, 1142, 1146, 1147, 1154, 1174, 1175, 1176, 1177, 1183, 1184, 1185, 1189, 1192, 1199, 1202, 1203, 1210, 1220, 1225, 1227, 1232, 1234, 1238, 1246, 1253, 1254, 1258, 1259, 1262, 1272, 1274, 1280, 1287, 1289, 1290, 1295, 1298, 1299, 1301, 1318, 1319, 1323, 1324, 1331, 1332, 1336, 1340, 1348, 1351, 1352, 1355, 1356, 1360, 1368, 1369, 1371, 1375, 1376, 1377, 1380, 1381, 1383, 1384, 1390, 1391, 1392, 1395, 1398, 1399, 1401, 1403, 1404, 1411, 1419, 1421, 1424, 1425, 1426, 1432, 1434, 1441, 1446, 1451, 1454, 1455, 1465, 1468, 1471, 1485, 1490, 1493, 1497, 1499, 1503, 1513, 1514, 1517, 1519, 1527, 1528, 1529, 1531, 1538, 1550, 1551, 1554, 1561, 1563, 1564, 1565, 1568, 1570, 1578, 1580, 1586, 1588, 1589, 1596, 1597, 1598, 1603, 1606, 1609, 1611, 1616, 1617, 1619, 1621, 1623, 1625, 1628, 1631, 1637, 1642, 1644, 1646, 1648, 1652, 1659, 1663, 1666, 1667, 1670, 1672, 1675, 1679, 1681, 1682, 1683, 1684, 1686, 1687, 1690, 1691, 1697, 1701, 1708, 1709, 1712, 1713, 1715, 1716, 1720, 1725, 1726, 1729, 1739, 1742, 1744, 1745, 1746, 1747, 1750, 1754, 1756, 1757, 1758, 1761, 1766, 1768, 1773, 1774, 1779, 1786, 1787, 1794, 1797, 1800, 1806, 1811, 1818, 1825, 1830, 1831, 1836, 1838, 1839, 1840, 1846, 1852, 1865, 1867, 1871, 1873, 1876, 1877, 1880, 1882, 1883, 1884, 1886, 1890, 1892, 1895, 1898, 1899, 1900, 1901, 1908, 1917, 1921, 1922, 1928, 1933, 1938, 1939, 1940, 1942, 1945, 1947, 1950, 1954, 1966, 1972, 1974, 1976, 1980, 1988, 1990, 1997, 1998, 2003, 2004, 2007, 2009, 2013, 2019, 2022, 2024, 2026, 2030, 2034, 2038, 2040, 2047, 2049, 2051, 2058, 2060, 2067, 2070, 2074, 2076, 2077, 2079, 2084, 2085, 2086, 2088, 2092, 2095, 2096, 2100, 2109, 2115, 2117, 2118, 2119, 2123, 2125, 2131, 2138, 2142, 2143, 2144, 2148, 2154, 2155, 2164, 2165, 2166, 2167, 2172, 2178, 2185, 2187, 2190, 2192, 2193, 2196, 2207, 2210, 2212, 2220, 2223, 2225, 2229, 2232, 2235, 2237, 2238, 2240, 2249, 2252, 2257, 2280, 2282, 2286, 2287, 2289, 2290, 2291, 2292, 2293, 2298, 2300, 2303, 2307, 2309, 2310, 2313, 2317, 2318, 2324, 2326, 2327, 2328, 2336, 2339, 2345, 2346, 2347, 2349, 2350, 2352, 2354, 2358, 2359, 2360, 2367, 2368, 2369, 2370, 2376, 2381, 2383, 2384, 2385, 2389, 2390, 2391, 2392, 2393, 2395, 2396, 2400, 2402, 2407, 2412, 2414, 2419, 2420, 2421, 2422, 2428, 2433, 2442, 2443, 2445, 2446, 2448, 2450, 2452, 2458, 2462, 2464, 2468, 2469, 2474, 2476, 2481, 2493, 2494, 2496, 2501, 2504, 2512, 2514, 2518, 2523, 2524, 2526, 2528, 2532, 2533, 2537, 2540, 2542, 2543, 2544, 2546, 2549, 2550, 2551, 2553, 2561, 2563, 2567, 2573, 2574, 2580, 2582, 2585, 2587, 2591, 2598, 2605, 2608, 2609, 2611, 2614, 2616, 2620, 2621, 2625, 2629, 2631, 2637, 2642, 2646, 2649, 2654, 2655, 2657, 2659, 2660, 2663, 2669, 2673]\n",
      "wrong0_2 [0, 2, 7, 13, 14, 19, 20, 21, 24, 25, 28, 29, 32, 33, 34, 35, 40, 42, 43, 44, 48, 50, 53, 54, 57, 59, 64, 69, 70, 71, 72, 74, 76, 79, 81, 86, 90, 93, 97, 98, 99, 100, 102, 104, 108, 116, 119, 122, 123, 130, 137, 139, 142, 144, 147, 148, 149, 151, 152, 154, 157, 158, 160, 168, 172, 173, 175, 179, 184, 186, 191, 193, 195, 199, 201, 202, 203, 205, 208, 218, 224, 227, 229, 230, 231, 236, 237, 240, 243, 245, 252, 257, 258, 259, 262, 263, 265, 271, 276, 277, 281, 283, 284, 285, 287, 290, 292, 295, 297, 301, 306, 307, 308, 312, 313, 315, 316, 325, 326, 328, 336, 338, 339, 340, 341, 342, 347, 349, 350, 354, 362, 367, 368, 372, 374, 379, 380, 391, 392, 393, 395, 396, 401, 404, 405, 420, 422, 426, 427, 432, 440, 447, 449, 454, 457, 459, 462, 465, 466, 467, 473, 474, 476, 477, 479, 481, 484, 489, 495, 497, 498, 508, 511, 522, 523, 531, 532, 536, 538, 546, 547, 552, 555, 556, 558, 559, 560, 562, 563, 565, 568, 570, 580, 584, 587, 591, 598, 599, 602, 606, 608, 612, 613, 615, 618, 621, 628, 633, 634, 639, 640, 644, 645, 650, 656, 661, 662, 666, 668, 670, 672, 674, 675, 676, 677, 678, 680, 685, 686, 688, 690, 693, 698, 701, 705, 707, 708, 709, 711, 712, 718, 719, 727, 729, 731, 737, 739, 742, 744, 746, 755, 759, 760, 762, 770, 771, 772, 775, 778, 784, 787, 791, 795, 802, 803, 805, 809, 812, 815, 816, 821, 825, 826, 829, 831, 832, 833, 836, 839, 840, 843, 848, 849, 850, 854, 858, 861, 866, 872, 875, 876, 880, 883, 885, 886, 887, 889, 892, 896, 897, 902, 903, 907, 912, 913, 914, 918, 919, 920, 933, 935, 940, 945, 946, 951, 953, 956, 958, 963, 967, 968, 971, 972, 977, 981, 984, 986, 992, 993, 997, 999, 1000, 1001, 1003, 1008, 1009, 1011, 1012, 1013, 1020, 1025, 1030, 1031, 1032, 1033, 1034, 1040, 1043, 1046, 1048, 1049, 1050, 1057, 1064, 1065, 1077, 1079, 1080, 1082, 1088, 1089, 1092, 1093, 1097, 1099, 1107, 1108, 1114, 1119, 1126, 1128, 1134, 1137, 1138, 1142, 1143, 1146, 1147, 1154, 1174, 1175, 1177, 1183, 1184, 1185, 1189, 1192, 1199, 1202, 1203, 1210, 1220, 1225, 1227, 1232, 1234, 1238, 1246, 1253, 1254, 1258, 1259, 1272, 1274, 1280, 1287, 1289, 1290, 1295, 1298, 1299, 1301, 1318, 1319, 1323, 1324, 1331, 1332, 1336, 1340, 1348, 1351, 1352, 1355, 1356, 1360, 1368, 1369, 1371, 1375, 1376, 1377, 1380, 1381, 1383, 1384, 1390, 1391, 1392, 1395, 1398, 1399, 1401, 1404, 1411, 1419, 1421, 1424, 1425, 1426, 1432, 1434, 1441, 1446, 1451, 1454, 1455, 1465, 1468, 1471, 1485, 1490, 1493, 1497, 1499, 1503, 1513, 1514, 1517, 1519, 1527, 1528, 1529, 1531, 1536, 1538, 1550, 1551, 1554, 1561, 1563, 1564, 1565, 1568, 1570, 1572, 1578, 1580, 1586, 1588, 1589, 1596, 1597, 1598, 1603, 1606, 1609, 1611, 1616, 1617, 1619, 1621, 1623, 1625, 1627, 1628, 1631, 1637, 1642, 1644, 1646, 1648, 1652, 1659, 1663, 1666, 1667, 1670, 1672, 1675, 1679, 1681, 1682, 1683, 1684, 1686, 1687, 1690, 1691, 1697, 1701, 1708, 1709, 1712, 1713, 1715, 1716, 1720, 1725, 1726, 1729, 1739, 1742, 1744, 1745, 1746, 1747, 1750, 1754, 1756, 1757, 1758, 1761, 1766, 1768, 1773, 1774, 1779, 1786, 1787, 1794, 1797, 1800, 1806, 1811, 1818, 1825, 1830, 1831, 1836, 1838, 1839, 1840, 1846, 1852, 1865, 1871, 1873, 1876, 1877, 1880, 1882, 1883, 1884, 1886, 1890, 1892, 1893, 1895, 1898, 1899, 1900, 1901, 1908, 1917, 1921, 1922, 1928, 1933, 1938, 1939, 1940, 1945, 1947, 1950, 1951, 1954, 1966, 1972, 1974, 1976, 1980, 1987, 1988, 1990, 1997, 1998, 2003, 2004, 2007, 2009, 2013, 2019, 2022, 2026, 2030, 2034, 2038, 2040, 2042, 2047, 2049, 2051, 2058, 2060, 2070, 2074, 2076, 2077, 2079, 2084, 2085, 2086, 2088, 2092, 2095, 2096, 2100, 2109, 2115, 2117, 2118, 2119, 2123, 2125, 2131, 2138, 2142, 2143, 2148, 2154, 2155, 2164, 2165, 2166, 2167, 2172, 2178, 2179, 2185, 2187, 2190, 2192, 2193, 2196, 2207, 2210, 2212, 2220, 2223, 2225, 2229, 2232, 2235, 2237, 2238, 2240, 2249, 2252, 2257, 2280, 2282, 2286, 2287, 2289, 2290, 2291, 2292, 2293, 2295, 2298, 2300, 2303, 2307, 2310, 2313, 2317, 2318, 2324, 2326, 2327, 2328, 2336, 2339, 2345, 2346, 2347, 2349, 2350, 2352, 2354, 2358, 2359, 2360, 2366, 2367, 2368, 2369, 2370, 2376, 2381, 2383, 2385, 2389, 2390, 2391, 2392, 2393, 2395, 2396, 2400, 2402, 2407, 2412, 2414, 2419, 2420, 2421, 2422, 2428, 2433, 2442, 2443, 2445, 2446, 2448, 2450, 2452, 2458, 2462, 2464, 2468, 2469, 2474, 2476, 2481, 2493, 2494, 2496, 2501, 2504, 2512, 2514, 2518, 2523, 2524, 2526, 2528, 2532, 2533, 2537, 2540, 2542, 2543, 2544, 2546, 2549, 2550, 2551, 2553, 2561, 2563, 2567, 2573, 2574, 2577, 2580, 2582, 2585, 2587, 2591, 2598, 2605, 2608, 2609, 2611, 2614, 2616, 2620, 2621, 2625, 2629, 2631, 2637, 2642, 2646, 2649, 2654, 2655, 2657, 2659, 2663, 2669, 2673, 2676]\n",
      "wrong0_3 [0, 2, 7, 13, 14, 19, 20, 21, 24, 25, 28, 29, 32, 33, 34, 35, 40, 42, 43, 44, 48, 50, 53, 54, 57, 59, 64, 69, 70, 71, 72, 74, 76, 79, 81, 86, 90, 93, 97, 98, 99, 100, 102, 104, 108, 116, 119, 122, 123, 130, 137, 139, 142, 144, 147, 148, 149, 151, 152, 154, 157, 158, 160, 168, 172, 173, 175, 179, 184, 186, 191, 193, 195, 199, 201, 202, 203, 205, 208, 218, 224, 227, 229, 230, 231, 236, 237, 240, 243, 245, 252, 257, 258, 259, 262, 263, 265, 271, 276, 277, 281, 283, 284, 285, 287, 290, 292, 295, 297, 301, 306, 307, 308, 312, 313, 315, 316, 325, 326, 328, 336, 338, 339, 340, 341, 342, 347, 349, 350, 354, 362, 367, 368, 372, 374, 379, 380, 391, 392, 393, 395, 396, 401, 404, 405, 420, 422, 426, 427, 432, 440, 447, 449, 454, 457, 459, 462, 465, 466, 467, 473, 474, 476, 477, 479, 481, 484, 489, 495, 497, 498, 508, 511, 522, 523, 531, 532, 536, 538, 546, 547, 550, 552, 555, 556, 558, 559, 560, 562, 563, 565, 568, 570, 580, 584, 587, 591, 598, 599, 602, 606, 608, 612, 613, 615, 618, 621, 633, 634, 639, 640, 644, 645, 650, 656, 661, 662, 666, 668, 670, 672, 674, 675, 676, 677, 678, 680, 685, 686, 688, 690, 693, 698, 701, 705, 707, 708, 709, 711, 712, 718, 719, 727, 729, 731, 737, 739, 742, 744, 746, 755, 759, 760, 762, 770, 771, 772, 775, 778, 784, 787, 791, 795, 802, 803, 805, 809, 812, 815, 816, 821, 825, 826, 829, 831, 832, 833, 836, 839, 840, 843, 848, 849, 850, 854, 858, 861, 866, 872, 875, 876, 880, 883, 885, 886, 887, 889, 892, 896, 897, 902, 903, 907, 912, 913, 914, 918, 919, 920, 933, 935, 940, 945, 946, 951, 953, 956, 958, 963, 967, 968, 971, 972, 977, 981, 984, 986, 992, 993, 997, 999, 1000, 1001, 1003, 1008, 1009, 1011, 1012, 1013, 1020, 1025, 1030, 1031, 1032, 1033, 1034, 1040, 1043, 1046, 1048, 1049, 1050, 1057, 1064, 1065, 1079, 1080, 1082, 1088, 1089, 1092, 1093, 1097, 1099, 1107, 1108, 1114, 1119, 1126, 1128, 1134, 1137, 1138, 1142, 1146, 1147, 1154, 1174, 1175, 1176, 1177, 1183, 1184, 1185, 1189, 1192, 1199, 1202, 1203, 1210, 1220, 1225, 1227, 1232, 1234, 1238, 1246, 1253, 1254, 1258, 1259, 1272, 1274, 1280, 1287, 1289, 1290, 1295, 1298, 1299, 1301, 1318, 1319, 1323, 1324, 1331, 1332, 1336, 1340, 1348, 1351, 1352, 1355, 1356, 1360, 1368, 1369, 1371, 1375, 1376, 1377, 1380, 1381, 1383, 1384, 1390, 1391, 1392, 1395, 1398, 1399, 1401, 1404, 1411, 1419, 1420, 1421, 1424, 1425, 1426, 1432, 1434, 1441, 1446, 1451, 1454, 1455, 1465, 1468, 1471, 1485, 1490, 1493, 1497, 1499, 1503, 1513, 1514, 1517, 1519, 1527, 1528, 1529, 1531, 1538, 1550, 1551, 1554, 1561, 1563, 1564, 1565, 1568, 1570, 1572, 1578, 1580, 1586, 1588, 1589, 1596, 1597, 1598, 1603, 1606, 1609, 1611, 1616, 1617, 1619, 1621, 1623, 1625, 1628, 1631, 1637, 1642, 1644, 1646, 1648, 1652, 1659, 1663, 1666, 1667, 1670, 1672, 1675, 1679, 1681, 1682, 1683, 1684, 1686, 1687, 1690, 1691, 1697, 1701, 1708, 1709, 1712, 1713, 1715, 1716, 1720, 1725, 1726, 1729, 1739, 1742, 1744, 1745, 1746, 1747, 1750, 1754, 1756, 1757, 1758, 1761, 1766, 1768, 1773, 1774, 1779, 1786, 1787, 1794, 1797, 1800, 1806, 1811, 1818, 1825, 1830, 1831, 1836, 1838, 1839, 1840, 1846, 1852, 1865, 1871, 1873, 1876, 1877, 1880, 1882, 1883, 1884, 1886, 1890, 1892, 1895, 1898, 1899, 1900, 1901, 1908, 1917, 1921, 1922, 1928, 1933, 1938, 1939, 1940, 1945, 1947, 1950, 1951, 1954, 1966, 1972, 1974, 1976, 1980, 1987, 1988, 1990, 1997, 1998, 2003, 2004, 2007, 2009, 2013, 2019, 2022, 2026, 2030, 2034, 2038, 2040, 2042, 2047, 2049, 2051, 2058, 2060, 2067, 2070, 2074, 2076, 2077, 2079, 2084, 2085, 2086, 2092, 2095, 2096, 2100, 2109, 2115, 2117, 2118, 2119, 2123, 2125, 2131, 2138, 2142, 2143, 2144, 2148, 2154, 2155, 2164, 2165, 2166, 2167, 2172, 2178, 2179, 2185, 2187, 2190, 2192, 2193, 2196, 2207, 2210, 2212, 2220, 2223, 2225, 2229, 2232, 2235, 2237, 2238, 2240, 2249, 2252, 2257, 2280, 2282, 2286, 2287, 2289, 2290, 2291, 2292, 2293, 2295, 2298, 2300, 2303, 2307, 2310, 2313, 2317, 2318, 2324, 2326, 2327, 2328, 2336, 2339, 2345, 2346, 2347, 2349, 2350, 2352, 2354, 2358, 2359, 2360, 2366, 2367, 2368, 2369, 2370, 2376, 2381, 2383, 2385, 2389, 2390, 2391, 2392, 2393, 2395, 2396, 2400, 2402, 2407, 2412, 2414, 2419, 2420, 2421, 2422, 2428, 2433, 2442, 2443, 2445, 2446, 2448, 2450, 2452, 2458, 2462, 2464, 2468, 2469, 2474, 2476, 2481, 2493, 2494, 2496, 2501, 2504, 2512, 2514, 2518, 2523, 2524, 2526, 2528, 2532, 2533, 2537, 2540, 2542, 2543, 2544, 2546, 2549, 2550, 2551, 2553, 2561, 2563, 2567, 2573, 2574, 2577, 2580, 2585, 2587, 2591, 2598, 2605, 2608, 2609, 2611, 2614, 2616, 2620, 2621, 2625, 2629, 2631, 2637, 2642, 2646, 2649, 2654, 2655, 2657, 2659, 2663, 2669, 2673, 2676]\n",
      "wrong0_4 [0, 1, 2, 3, 4, 5, 6, 7, 8, 9, 10, 11, 12, 13, 14, 15, 16, 17, 18, 19, 20, 21, 22, 23, 24, 25, 26, 27, 28, 29, 30, 31, 32, 33, 34, 35, 36, 37, 38, 39, 40, 41, 42, 43, 44, 45, 46, 47, 48, 49, 50, 51, 52, 53, 54, 55, 56, 57, 58, 59, 60, 61, 62, 63, 64, 65, 66, 67, 68, 69, 70, 71, 72, 73, 74, 75, 76, 77, 78, 79, 80, 81, 82, 83, 84, 85, 86, 87, 88, 89, 90, 91, 92, 93, 94, 95, 96, 97, 98, 99, 100, 101, 102, 103, 104, 105, 106, 107, 108, 109, 110, 111, 112, 113, 114, 115, 116, 117, 118, 119, 120, 121, 122, 123, 124, 125, 126, 127, 128, 129, 130, 131, 132, 133, 134, 135, 136, 137, 138, 139, 140, 141, 142, 143, 144, 145, 146, 147, 148, 149, 151, 152, 153, 154, 155, 156, 157, 158, 159, 160, 161, 163, 164, 165, 166, 167, 168, 169, 170, 171, 172, 173, 174, 175, 176, 177, 178, 179, 180, 181, 182, 183, 184, 185, 186, 187, 188, 189, 190, 191, 192, 193, 194, 195, 196, 197, 198, 199, 200, 201, 202, 203, 204, 205, 206, 207, 209, 210, 211, 212, 213, 214, 215, 216, 217, 218, 219, 220, 221, 222, 223, 224, 225, 226, 227, 228, 229, 230, 231, 232, 233, 234, 235, 236, 237, 238, 239, 240, 241, 242, 243, 244, 245, 246, 247, 248, 249, 250, 251, 252, 253, 254, 255, 256, 257, 258, 259, 260, 261, 262, 263, 264, 265, 266, 267, 268, 269, 270, 271, 272, 273, 274, 275, 276, 277, 278, 279, 280, 281, 282, 283, 284, 285, 286, 287, 288, 289, 290, 291, 292, 293, 294, 295, 296, 297, 298, 299, 300, 301, 302, 303, 304, 305, 306, 307, 308, 309, 310, 311, 312, 314, 315, 316, 317, 318, 319, 320, 321, 322, 323, 324, 325, 326, 327, 328, 329, 330, 331, 332, 333, 334, 335, 336, 337, 338, 339, 340, 341, 342, 343, 344, 345, 346, 347, 348, 349, 350, 351, 352, 353, 354, 355, 356, 357, 358, 359, 360, 361, 362, 363, 364, 365, 366, 367, 368, 369, 370, 371, 372, 373, 374, 375, 376, 377, 378, 379, 380, 381, 382, 383, 384, 385, 386, 387, 388, 389, 390, 391, 392, 393, 394, 395, 396, 397, 398, 399, 400, 401, 402, 403, 404, 405, 406, 407, 408, 409, 410, 411, 412, 413, 414, 415, 416, 417, 418, 419, 420, 421, 422, 423, 424, 425, 426, 427, 428, 429, 430, 432, 433, 434, 435, 436, 437, 438, 439, 440, 441, 442, 443, 444, 445, 446, 447, 448, 449, 450, 451, 452, 453, 454, 455, 456, 457, 458, 460, 461, 462, 463, 464, 465, 466, 467, 468, 469, 470, 471, 472, 473, 474, 475, 476, 477, 478, 479, 480, 481, 482, 483, 484, 485, 486, 487, 488, 489, 490, 491, 492, 493, 494, 495, 496, 497, 498, 499, 500, 501, 502, 503, 504, 505, 506, 507, 508, 509, 510, 512, 513, 514, 515, 516, 517, 518, 519, 520, 521, 522, 523, 524, 525, 526, 527, 528, 529, 530, 531, 532, 533, 534, 535, 536, 537, 538, 539, 540, 541, 542, 543, 544, 545, 546, 547, 548, 549, 550, 551, 552, 553, 554, 555, 556, 557, 558, 559, 560, 561, 562, 563, 564, 565, 566, 567, 568, 569, 570, 571, 572, 573, 574, 575, 576, 577, 578, 579, 580, 581, 582, 583, 584, 585, 586, 587, 588, 589, 590, 591, 592, 593, 594, 595, 596, 597, 599, 600, 601, 602, 603, 604, 605, 606, 607, 608, 609, 610, 611, 612, 613, 614, 615, 616, 617, 618, 619, 620, 621, 622, 623, 624, 625, 626, 627, 629, 630, 631, 632, 633, 634, 635, 636, 637, 638, 639, 640, 641, 642, 643, 644, 645, 646, 647, 648, 649, 650, 651, 652, 653, 655, 656, 657, 658, 659, 660, 661, 662, 663, 664, 665, 666, 667, 668, 669, 670, 671, 672, 673, 674, 675, 676, 677, 678, 679, 680, 681, 682, 683, 684, 685, 686, 687, 688, 689, 690, 691, 692, 693, 694, 695, 696, 697, 698, 699, 700, 701, 702, 703, 704, 705, 706, 707, 708, 709, 710, 711, 712, 713, 714, 715, 716, 717, 718, 719, 720, 721, 722, 723, 724, 725, 726, 727, 728, 729, 730, 731, 732, 733, 734, 735, 736, 737, 738, 739, 740, 741, 742, 743, 744, 745, 746, 747, 748, 749, 750, 751, 752, 753, 754, 755, 756, 757, 758, 759, 760, 761, 762, 763, 764, 765, 766, 767, 768, 769, 770, 771, 772, 773, 774, 775, 776, 777, 778, 779, 780, 781, 782, 783, 784, 785, 786, 788, 789, 790, 791, 792, 793, 795, 796, 797, 798, 799, 800, 801, 802, 803, 804, 805, 806, 807, 808, 809, 810, 811, 812, 813, 814, 815, 816, 817, 818, 819, 820, 821, 822, 823, 824, 825, 826, 827, 828, 829, 830, 831, 832, 833, 834, 835, 836, 837, 838, 839, 840, 841, 842, 843, 844, 845, 846, 847, 849, 850, 851, 852, 853, 854, 855, 856, 857, 858, 859, 860, 861, 862, 863, 864, 865, 866, 867, 868, 869, 870, 871, 872, 873, 874, 875, 876, 877, 878, 879, 880, 881, 882, 883, 884, 885, 886, 887, 888, 889, 890, 891, 892, 893, 894, 895, 896, 897, 898, 899, 900, 901, 902, 904, 905, 906, 907, 908, 909, 910, 911, 912, 913, 914, 915, 916, 917, 918, 919, 920, 921, 922, 923, 924, 925, 926, 927, 928, 929, 930, 931, 932, 933, 934, 935, 936, 937, 938, 939, 940, 941, 942, 943, 944, 945, 946, 947, 948, 949, 950, 951, 952, 953, 954, 955, 956, 957, 958, 959, 960, 961, 962, 963, 964, 965, 966, 967, 968, 969, 970, 971, 972, 973, 974, 975, 976, 977, 978, 979, 980, 981, 982, 983, 984, 985, 986, 987, 988, 989, 990, 991, 992, 993, 994, 995, 996, 997, 998, 999, 1000, 1001, 1002, 1003, 1004, 1005, 1006, 1007, 1008, 1010, 1011, 1012, 1013, 1014, 1015, 1016, 1017, 1018, 1019, 1020, 1021, 1022, 1023, 1024, 1025, 1026, 1027, 1028, 1029, 1030, 1031, 1032, 1033, 1034, 1035, 1036, 1037, 1038, 1039, 1040, 1041, 1042, 1043, 1044, 1045, 1046, 1047, 1048, 1049, 1050, 1051, 1052, 1053, 1054, 1055, 1056, 1057, 1058, 1059, 1060, 1061, 1062, 1063, 1064, 1065, 1066, 1067, 1068, 1069, 1070, 1071, 1072, 1073, 1074, 1075, 1076, 1077, 1078, 1079, 1080, 1081, 1082, 1083, 1084, 1085, 1086, 1087, 1088, 1089, 1090, 1091, 1092, 1093, 1094, 1095, 1096, 1097, 1098, 1099, 1100, 1101, 1102, 1103, 1104, 1105, 1106, 1107, 1108, 1109, 1110, 1111, 1112, 1113, 1114, 1115, 1116, 1117, 1118, 1119, 1120, 1121, 1122, 1123, 1124, 1125, 1126, 1127, 1128, 1129, 1130, 1131, 1132, 1133, 1134, 1135, 1136, 1137, 1138, 1139, 1140, 1141, 1142, 1144, 1145, 1146, 1147, 1148, 1149, 1150, 1151, 1152, 1153, 1154, 1155, 1156, 1157, 1158, 1159, 1160, 1161, 1162, 1163, 1164, 1165, 1166, 1167, 1168, 1169, 1170, 1171, 1172, 1173, 1174, 1175, 1176, 1177, 1178, 1179, 1180, 1181, 1182, 1183, 1184, 1185, 1186, 1187, 1188, 1189, 1190, 1191, 1192, 1193, 1194, 1195, 1196, 1197, 1198, 1199, 1200, 1201, 1202, 1203, 1204, 1205, 1206, 1207, 1208, 1209, 1210, 1211, 1212, 1213, 1214, 1215, 1216, 1217, 1218, 1219, 1220, 1221, 1222, 1223, 1224, 1225, 1226, 1227, 1228, 1229, 1230, 1231, 1232, 1233, 1234, 1235, 1236, 1237, 1238, 1239, 1240, 1241, 1242, 1243, 1244, 1245, 1246, 1247, 1248, 1249, 1250, 1251, 1252, 1253, 1254, 1255, 1256, 1257, 1258, 1259, 1260, 1261, 1262, 1263, 1264, 1265, 1266, 1267, 1268, 1269, 1270, 1271, 1272, 1273, 1274, 1275, 1276, 1277, 1278, 1279, 1280, 1281, 1282, 1283, 1284, 1285, 1286, 1287, 1288, 1289, 1290, 1291, 1292, 1293, 1294, 1295, 1296, 1297, 1298, 1299, 1300, 1301, 1302, 1303, 1304, 1306, 1307, 1308, 1309, 1310, 1311, 1312, 1313, 1314, 1315, 1316, 1317, 1318, 1319, 1320, 1321, 1322, 1323, 1324, 1325, 1326, 1327, 1328, 1329, 1330, 1331, 1333, 1334, 1335, 1336, 1337, 1338, 1339, 1340, 1341, 1342, 1343, 1344, 1345, 1346, 1347, 1348, 1349, 1350, 1351, 1352, 1353, 1354, 1355, 1356, 1357, 1358, 1359, 1360, 1361, 1362, 1363, 1364, 1365, 1366, 1367, 1369, 1370, 1371, 1372, 1373, 1374, 1375, 1376, 1377, 1378, 1379, 1380, 1381, 1382, 1383, 1384, 1385, 1386, 1387, 1388, 1389, 1390, 1391, 1392, 1393, 1394, 1395, 1396, 1397, 1398, 1399, 1400, 1401, 1402, 1403, 1404, 1405, 1407, 1408, 1409, 1410, 1411, 1412, 1413, 1414, 1415, 1416, 1417, 1418, 1419, 1421, 1422, 1423, 1424, 1425, 1426, 1427, 1428, 1429, 1430, 1431, 1432, 1433, 1434, 1435, 1436, 1437, 1438, 1439, 1440, 1441, 1442, 1443, 1444, 1445, 1446, 1447, 1448, 1449, 1450, 1451, 1452, 1453, 1454, 1455, 1456, 1458, 1459, 1460, 1461, 1462, 1463, 1464, 1465, 1466, 1467, 1468, 1469, 1470, 1471, 1472, 1473, 1474, 1475, 1476, 1477, 1478, 1479, 1480, 1481, 1482, 1483, 1484, 1485, 1486, 1487, 1488, 1489, 1490, 1491, 1492, 1493, 1494, 1495, 1496, 1497, 1498, 1499, 1500, 1501, 1502, 1503, 1504, 1505, 1506, 1507, 1508, 1509, 1510, 1511, 1512, 1513, 1514, 1515, 1516, 1517, 1518, 1519, 1520, 1521, 1522, 1523, 1524, 1525, 1526, 1527, 1528, 1529, 1530, 1531, 1532, 1533, 1534, 1535, 1536, 1537, 1538, 1539, 1540, 1541, 1542, 1543, 1544, 1545, 1546, 1547, 1548, 1550, 1551, 1552, 1553, 1554, 1556, 1557, 1558, 1559, 1560, 1561, 1562, 1563, 1564, 1565, 1566, 1567, 1568, 1569, 1570, 1571, 1572, 1573, 1574, 1575, 1576, 1577, 1578, 1579, 1580, 1581, 1582, 1583, 1584, 1585, 1587, 1588, 1589, 1590, 1592, 1593, 1594, 1595, 1596, 1597, 1598, 1599, 1600, 1601, 1602, 1604, 1605, 1606, 1608, 1609, 1610, 1611, 1612, 1613, 1614, 1615, 1616, 1617, 1618, 1619, 1620, 1621, 1622, 1623, 1624, 1625, 1626, 1627, 1628, 1629, 1630, 1631, 1632, 1633, 1634, 1635, 1636, 1637, 1638, 1639, 1640, 1641, 1642, 1643, 1644, 1645, 1646, 1647, 1648, 1649, 1650, 1651, 1652, 1653, 1654, 1655, 1656, 1657, 1658, 1659, 1660, 1661, 1662, 1663, 1664, 1665, 1666, 1667, 1668, 1669, 1670, 1671, 1672, 1673, 1674, 1675, 1676, 1677, 1678, 1679, 1680, 1681, 1682, 1683, 1684, 1685, 1686, 1687, 1688, 1689, 1690, 1691, 1692, 1693, 1694, 1695, 1696, 1697, 1698, 1699, 1700, 1701, 1702, 1703, 1704, 1705, 1706, 1707, 1708, 1709, 1710, 1711, 1712, 1713, 1714, 1715, 1716, 1717, 1718, 1719, 1720, 1721, 1722, 1723, 1724, 1725, 1726, 1727, 1728, 1729, 1730, 1731, 1732, 1733, 1734, 1735, 1736, 1737, 1738, 1739, 1740, 1741, 1742, 1743, 1744, 1745, 1746, 1747, 1748, 1750, 1751, 1752, 1753, 1754, 1755, 1756, 1757, 1759, 1760, 1761, 1762, 1763, 1764, 1765, 1766, 1767, 1768, 1769, 1770, 1771, 1772, 1773, 1774, 1775, 1776, 1777, 1778, 1779, 1780, 1781, 1782, 1783, 1784, 1785, 1786, 1787, 1788, 1789, 1790, 1791, 1792, 1793, 1794, 1795, 1796, 1797, 1798, 1799, 1800, 1801, 1802, 1803, 1804, 1805, 1806, 1807, 1808, 1809, 1810, 1811, 1812, 1813, 1814, 1815, 1816, 1817, 1818, 1819, 1820, 1821, 1822, 1823, 1824, 1825, 1826, 1827, 1828, 1829, 1830, 1831, 1832, 1833, 1834, 1835, 1836, 1837, 1838, 1839, 1840, 1841, 1842, 1843, 1844, 1845, 1846, 1847, 1848, 1849, 1850, 1851, 1852, 1853, 1854, 1855, 1856, 1857, 1858, 1859, 1860, 1861, 1862, 1863, 1864, 1865, 1866, 1867, 1868, 1869, 1870, 1871, 1872, 1873, 1874, 1875, 1876, 1877, 1878, 1879, 1880, 1881, 1882, 1883, 1884, 1885, 1886, 1887, 1888, 1889, 1890, 1891, 1892, 1893, 1894, 1895, 1896, 1897, 1898, 1899, 1900, 1901, 1902, 1904, 1905, 1906, 1907, 1908, 1909, 1910, 1911, 1913, 1914, 1915, 1916, 1917, 1918, 1919, 1920, 1921, 1922, 1923, 1924, 1925, 1926, 1927, 1928, 1929, 1930, 1931, 1932, 1933, 1934, 1935, 1936, 1937, 1938, 1940, 1941, 1942, 1943, 1944, 1945, 1946, 1947, 1948, 1949, 1950, 1951, 1952, 1953, 1954, 1955, 1956, 1957, 1958, 1959, 1960, 1961, 1962, 1963, 1964, 1965, 1966, 1967, 1968, 1969, 1970, 1971, 1973, 1974, 1975, 1976, 1977, 1978, 1979, 1980, 1981, 1982, 1983, 1984, 1985, 1986, 1988, 1989, 1990, 1991, 1992, 1993, 1994, 1995, 1996, 1997, 1998, 1999, 2000, 2001, 2002, 2003, 2005, 2006, 2007, 2008, 2009, 2010, 2011, 2012, 2013, 2014, 2015, 2016, 2017, 2018, 2019, 2020, 2021, 2023, 2024, 2025, 2026, 2027, 2028, 2029, 2030, 2031, 2032, 2033, 2034, 2035, 2037, 2038, 2039, 2040, 2041, 2042, 2043, 2044, 2045, 2046, 2049, 2050, 2051, 2052, 2053, 2054, 2055, 2056, 2057, 2058, 2059, 2060, 2061, 2062, 2063, 2064, 2065, 2066, 2067, 2068, 2069, 2070, 2071, 2072, 2073, 2074, 2075, 2076, 2077, 2078, 2079, 2080, 2081, 2082, 2083, 2084, 2085, 2086, 2087, 2088, 2089, 2090, 2091, 2092, 2093, 2094, 2095, 2096, 2097, 2098, 2099, 2100, 2101, 2102, 2103, 2104, 2105, 2106, 2107, 2108, 2109, 2110, 2111, 2112, 2113, 2114, 2115, 2116, 2117, 2118, 2119, 2120, 2121, 2122, 2123, 2124, 2126, 2127, 2128, 2129, 2130, 2131, 2132, 2133, 2134, 2135, 2136, 2137, 2138, 2139, 2140, 2142, 2143, 2145, 2146, 2147, 2148, 2149, 2150, 2151, 2152, 2153, 2154, 2155, 2156, 2157, 2158, 2159, 2160, 2161, 2162, 2163, 2164, 2165, 2166, 2167, 2168, 2169, 2170, 2171, 2172, 2173, 2174, 2175, 2176, 2177, 2178, 2179, 2180, 2181, 2182, 2183, 2184, 2185, 2186, 2187, 2188, 2189, 2190, 2191, 2192, 2193, 2194, 2195, 2196, 2197, 2198, 2199, 2200, 2201, 2202, 2203, 2204, 2205, 2206, 2207, 2208, 2209, 2210, 2211, 2212, 2213, 2214, 2215, 2216, 2217, 2218, 2219, 2220, 2221, 2222, 2223, 2224, 2225, 2226, 2227, 2228, 2229, 2230, 2231, 2232, 2233, 2234, 2235, 2236, 2237, 2238, 2239, 2240, 2242, 2243, 2244, 2245, 2246, 2247, 2248, 2249, 2250, 2251, 2252, 2253, 2254, 2255, 2256, 2257, 2258, 2259, 2260, 2261, 2262, 2263, 2264, 2265, 2266, 2267, 2268, 2269, 2270, 2271, 2272, 2273, 2274, 2275, 2276, 2277, 2278, 2279, 2280, 2281, 2282, 2283, 2284, 2285, 2286, 2287, 2288, 2289, 2290, 2291, 2292, 2293, 2294, 2295, 2296, 2297, 2298, 2299, 2300, 2301, 2302, 2303, 2304, 2305, 2306, 2307, 2308, 2309, 2310, 2311, 2312, 2313, 2314, 2315, 2316, 2317, 2318, 2319, 2320, 2321, 2322, 2323, 2324, 2325, 2326, 2327, 2329, 2330, 2331, 2332, 2333, 2334, 2335, 2336, 2337, 2338, 2339, 2340, 2341, 2342, 2343, 2344, 2345, 2346, 2347, 2348, 2349, 2350, 2351, 2352, 2353, 2354, 2355, 2356, 2357, 2358, 2359, 2360, 2361, 2362, 2363, 2364, 2365, 2366, 2367, 2368, 2369, 2370, 2371, 2372, 2373, 2374, 2375, 2376, 2377, 2379, 2380, 2381, 2382, 2383, 2384, 2385, 2386, 2387, 2388, 2389, 2390, 2391, 2392, 2393, 2394, 2395, 2396, 2397, 2398, 2399, 2400, 2401, 2402, 2403, 2404, 2405, 2406, 2407, 2408, 2409, 2410, 2411, 2412, 2413, 2414, 2415, 2416, 2417, 2418, 2419, 2420, 2421, 2422, 2423, 2424, 2425, 2426, 2427, 2429, 2430, 2431, 2432, 2433, 2434, 2435, 2436, 2437, 2438, 2439, 2440, 2441, 2442, 2443, 2444, 2445, 2446, 2447, 2448, 2449, 2450, 2451, 2452, 2453, 2454, 2455, 2456, 2457, 2458, 2459, 2460, 2461, 2462, 2463, 2465, 2466, 2467, 2468, 2469, 2470, 2471, 2472, 2473, 2474, 2475, 2476, 2477, 2478, 2479, 2480, 2481, 2482, 2483, 2484, 2485, 2486, 2487, 2488, 2489, 2490, 2491, 2492, 2493, 2494, 2495, 2496, 2497, 2498, 2499, 2500, 2501, 2502, 2503, 2504, 2505, 2506, 2507, 2508, 2509, 2510, 2511, 2512, 2513, 2514, 2515, 2516, 2518, 2519, 2520, 2521, 2522, 2524, 2525, 2526, 2527, 2528, 2529, 2530, 2531, 2532, 2533, 2534, 2535, 2536, 2537, 2538, 2539, 2542, 2543, 2544, 2545, 2546, 2547, 2548, 2550, 2551, 2552, 2553, 2554, 2555, 2556, 2557, 2558, 2559, 2560, 2561, 2562, 2563, 2564, 2565, 2566, 2567, 2568, 2569, 2570, 2571, 2572, 2573, 2574, 2575, 2576, 2577, 2578, 2579, 2580, 2581, 2582, 2583, 2584, 2585, 2586, 2587, 2588, 2589, 2590, 2591, 2592, 2593, 2594, 2595, 2596, 2597, 2598, 2599, 2600, 2601, 2602, 2603, 2604, 2605, 2606, 2607, 2608, 2609, 2610, 2611, 2612, 2613, 2615, 2616, 2617, 2618, 2619, 2620, 2621, 2622, 2623, 2624, 2625, 2626, 2627, 2628, 2630, 2631, 2632, 2633, 2634, 2635, 2636, 2637, 2638, 2639, 2641, 2642, 2643, 2644, 2645, 2646, 2647, 2648, 2649, 2650, 2651, 2652, 2653, 2654, 2655, 2656, 2657, 2658, 2659, 2660, 2661, 2662, 2663, 2664, 2665, 2666, 2667, 2668, 2669, 2670, 2671, 2672, 2673, 2674, 2675, 2676, 2677, 2678, 2679, 2680, 2681]\n",
      "wrong0_5 [0, 2, 7, 13, 14, 19, 20, 21, 24, 25, 28, 29, 32, 33, 34, 35, 40, 42, 43, 44, 48, 50, 54, 55, 57, 59, 64, 69, 70, 71, 72, 74, 76, 79, 81, 86, 90, 93, 97, 98, 99, 100, 102, 104, 108, 116, 119, 122, 123, 130, 137, 139, 142, 144, 147, 148, 149, 151, 152, 154, 157, 158, 168, 172, 173, 175, 179, 184, 186, 191, 193, 195, 199, 201, 202, 203, 205, 208, 218, 224, 227, 229, 230, 231, 236, 237, 240, 243, 245, 252, 257, 258, 259, 262, 263, 265, 271, 276, 277, 281, 284, 285, 287, 290, 295, 297, 301, 306, 307, 308, 312, 313, 315, 316, 325, 326, 328, 329, 336, 338, 339, 340, 341, 342, 347, 349, 350, 362, 372, 374, 379, 380, 391, 393, 395, 396, 401, 404, 405, 420, 422, 426, 427, 432, 440, 447, 449, 454, 457, 459, 462, 465, 466, 467, 473, 474, 475, 476, 477, 479, 481, 484, 489, 495, 497, 498, 508, 511, 522, 523, 531, 532, 536, 538, 546, 547, 550, 552, 555, 556, 558, 560, 561, 563, 565, 568, 569, 570, 580, 584, 587, 591, 598, 599, 602, 606, 608, 612, 613, 615, 618, 621, 628, 633, 634, 639, 644, 645, 650, 656, 661, 662, 666, 668, 670, 672, 674, 675, 676, 677, 678, 680, 685, 686, 688, 690, 693, 698, 701, 705, 707, 708, 709, 711, 718, 719, 727, 729, 731, 737, 742, 744, 746, 755, 759, 760, 762, 770, 771, 772, 775, 778, 784, 787, 791, 795, 802, 803, 804, 805, 809, 812, 815, 816, 821, 825, 826, 829, 831, 832, 833, 836, 839, 840, 843, 849, 850, 854, 858, 861, 866, 872, 875, 876, 883, 885, 886, 887, 889, 892, 896, 897, 900, 902, 903, 907, 912, 913, 914, 918, 919, 920, 933, 935, 940, 945, 946, 951, 953, 956, 958, 963, 967, 968, 971, 972, 977, 981, 984, 986, 992, 993, 997, 999, 1000, 1001, 1008, 1009, 1011, 1013, 1020, 1025, 1030, 1031, 1032, 1033, 1034, 1040, 1043, 1048, 1049, 1050, 1057, 1064, 1077, 1079, 1080, 1082, 1088, 1092, 1093, 1097, 1099, 1114, 1119, 1126, 1128, 1134, 1137, 1138, 1142, 1143, 1146, 1147, 1154, 1174, 1175, 1176, 1177, 1183, 1184, 1185, 1189, 1192, 1199, 1202, 1203, 1210, 1220, 1225, 1227, 1232, 1234, 1238, 1246, 1253, 1254, 1258, 1259, 1272, 1274, 1280, 1287, 1289, 1290, 1295, 1298, 1299, 1301, 1311, 1318, 1319, 1323, 1324, 1331, 1332, 1336, 1340, 1348, 1351, 1352, 1355, 1356, 1368, 1369, 1371, 1375, 1376, 1377, 1380, 1381, 1383, 1384, 1390, 1391, 1392, 1395, 1398, 1399, 1401, 1404, 1419, 1420, 1421, 1424, 1425, 1426, 1430, 1432, 1434, 1441, 1446, 1451, 1454, 1455, 1465, 1468, 1471, 1483, 1485, 1490, 1493, 1497, 1499, 1503, 1513, 1514, 1517, 1519, 1527, 1528, 1529, 1531, 1538, 1550, 1551, 1554, 1561, 1563, 1564, 1565, 1568, 1570, 1578, 1580, 1586, 1588, 1589, 1596, 1597, 1598, 1603, 1606, 1609, 1611, 1616, 1617, 1619, 1621, 1623, 1625, 1628, 1631, 1637, 1642, 1644, 1646, 1648, 1652, 1659, 1663, 1666, 1667, 1670, 1672, 1675, 1679, 1681, 1682, 1683, 1684, 1686, 1687, 1690, 1691, 1697, 1701, 1705, 1709, 1712, 1713, 1715, 1716, 1720, 1725, 1729, 1739, 1742, 1744, 1745, 1746, 1747, 1754, 1756, 1757, 1758, 1761, 1766, 1768, 1773, 1774, 1779, 1786, 1787, 1794, 1797, 1800, 1806, 1811, 1818, 1825, 1830, 1831, 1833, 1836, 1838, 1839, 1840, 1846, 1852, 1865, 1871, 1873, 1876, 1877, 1880, 1882, 1883, 1884, 1886, 1890, 1892, 1893, 1895, 1898, 1899, 1900, 1901, 1908, 1917, 1921, 1922, 1928, 1933, 1938, 1939, 1940, 1945, 1947, 1950, 1954, 1966, 1972, 1974, 1976, 1980, 1988, 1990, 1997, 1998, 2003, 2004, 2007, 2009, 2013, 2019, 2022, 2024, 2026, 2030, 2034, 2038, 2040, 2047, 2049, 2058, 2060, 2067, 2070, 2074, 2076, 2077, 2079, 2084, 2086, 2088, 2092, 2095, 2096, 2100, 2109, 2115, 2117, 2118, 2119, 2123, 2125, 2131, 2138, 2142, 2143, 2148, 2154, 2155, 2164, 2165, 2166, 2167, 2172, 2178, 2185, 2187, 2192, 2193, 2196, 2207, 2210, 2212, 2220, 2223, 2225, 2229, 2232, 2235, 2237, 2238, 2240, 2249, 2252, 2257, 2280, 2282, 2286, 2287, 2289, 2290, 2291, 2292, 2293, 2295, 2298, 2300, 2307, 2309, 2310, 2313, 2317, 2318, 2322, 2326, 2327, 2328, 2336, 2339, 2345, 2346, 2347, 2349, 2350, 2352, 2354, 2358, 2359, 2360, 2366, 2367, 2368, 2369, 2370, 2376, 2381, 2383, 2384, 2385, 2389, 2390, 2391, 2392, 2393, 2395, 2396, 2400, 2402, 2407, 2412, 2414, 2419, 2420, 2421, 2422, 2428, 2433, 2442, 2443, 2445, 2446, 2448, 2450, 2452, 2458, 2462, 2464, 2468, 2469, 2472, 2474, 2476, 2479, 2493, 2494, 2496, 2501, 2504, 2512, 2514, 2518, 2523, 2524, 2528, 2532, 2533, 2537, 2540, 2542, 2543, 2544, 2546, 2549, 2550, 2551, 2553, 2560, 2561, 2563, 2567, 2573, 2574, 2579, 2580, 2582, 2585, 2587, 2591, 2598, 2605, 2608, 2609, 2611, 2614, 2616, 2620, 2621, 2625, 2629, 2630, 2631, 2637, 2642, 2646, 2649, 2654, 2655, 2657, 2659, 2663, 2669, 2673]\n"
     ]
    }
   ],
   "source": [
    "zip_list = zip(open_test_data['label'].values, test_predictions0_1.argmax(axis=1))\n",
    "correct = 0\n",
    "count = 0\n",
    "wrong0_1 = []\n",
    "for ans, pred in zip_list:\n",
    "    if(ans==pred):\n",
    "        correct += 1\n",
    "    else:\n",
    "        wrong0_1.append(count)\n",
    "    count+=1\n",
    "percentage0_1 = correct/len(open_test_data['label'])\n",
    "\n",
    "zip_list = zip(open_test_data['label'].values, test_predictions0_2.argmax(axis=1))\n",
    "correct = 0\n",
    "count = 0\n",
    "wrong0_2 = []\n",
    "for ans, pred in zip_list:\n",
    "    if(ans==pred):\n",
    "        correct += 1\n",
    "    else:\n",
    "        wrong0_2.append(count)\n",
    "    count+=1\n",
    "percentage0_2 = correct/len(open_test_data['label'])\n",
    "\n",
    "zip_list = zip(open_test_data['label'].values, test_predictions0_3.argmax(axis=1))\n",
    "correct = 0\n",
    "count = 0\n",
    "wrong0_3 = []\n",
    "for ans, pred in zip_list:\n",
    "    if(ans==pred):\n",
    "        correct += 1\n",
    "    else:\n",
    "        wrong0_3.append(count)\n",
    "    count+=1\n",
    "percentage0_3 = correct/len(open_test_data['label'])\n",
    "\n",
    "zip_list = zip(open_test_data['label'].values, test_predictions0_4.argmax(axis=1))\n",
    "correct = 0\n",
    "count = 0\n",
    "wrong0_4 = []\n",
    "for ans, pred in zip_list:\n",
    "    if(ans==pred):\n",
    "        correct += 1\n",
    "    else:\n",
    "        wrong0_4.append(count)\n",
    "    count+=1\n",
    "percentage0_4 = correct/len(open_test_data['label'])\n",
    "\n",
    "zip_list = zip(open_test_data['label'].values, test_predictions0_5.argmax(axis=1))\n",
    "correct = 0\n",
    "count = 0\n",
    "wrong0_5 = []\n",
    "for ans, pred in zip_list:\n",
    "    if(ans==pred):\n",
    "        correct += 1\n",
    "    else:\n",
    "        wrong0_5.append(count)\n",
    "    count+=1\n",
    "percentage0_5 = correct/len(open_test_data['label'])\n",
    "\n",
    "print(percentage0_1, percentage0_2, percentage0_3, percentage0_4, percentage0_5)\n",
    "\n",
    "print('wrong0_1', wrong0_1)\n",
    "print('wrong0_2', wrong0_2)\n",
    "print('wrong0_3', wrong0_3)\n",
    "print('wrong0_4', wrong0_4)\n",
    "print('wrong0_5', wrong0_5)"
   ]
  },
  {
   "cell_type": "code",
   "execution_count": 417,
   "metadata": {},
   "outputs": [
    {
     "name": "stdout",
     "output_type": "stream",
     "text": [
      "0.6950037285607755 0.6923937360178971 0.6935123042505593 0.020879940343027592 0.6991051454138703\n",
      "wrong1_0 [0, 2, 7, 13, 14, 19, 20, 21, 24, 25, 28, 29, 32, 33, 34, 35, 40, 42, 43, 44, 48, 50, 53, 54, 57, 59, 64, 69, 70, 71, 72, 74, 76, 78, 79, 81, 86, 90, 93, 97, 98, 99, 100, 102, 104, 108, 116, 119, 122, 123, 130, 137, 139, 142, 144, 147, 148, 149, 151, 152, 154, 157, 158, 160, 168, 172, 173, 175, 179, 184, 186, 191, 193, 195, 199, 201, 202, 203, 205, 208, 218, 224, 227, 229, 230, 231, 236, 237, 240, 243, 245, 252, 257, 258, 259, 262, 263, 265, 271, 276, 277, 281, 284, 285, 287, 290, 292, 295, 297, 301, 306, 307, 308, 312, 313, 314, 315, 316, 325, 326, 328, 336, 338, 339, 340, 341, 342, 347, 349, 350, 362, 367, 372, 374, 379, 380, 391, 392, 393, 395, 396, 401, 404, 405, 420, 422, 426, 427, 432, 440, 447, 449, 454, 457, 459, 462, 465, 466, 467, 473, 474, 475, 476, 477, 479, 481, 484, 489, 495, 497, 498, 508, 511, 522, 523, 531, 532, 536, 538, 546, 547, 550, 552, 555, 558, 559, 560, 561, 562, 563, 565, 568, 569, 570, 580, 584, 587, 591, 598, 599, 602, 606, 608, 612, 613, 615, 618, 621, 628, 633, 634, 639, 640, 644, 645, 650, 656, 661, 662, 666, 668, 670, 672, 674, 675, 676, 677, 678, 680, 685, 686, 688, 690, 693, 698, 701, 705, 707, 708, 709, 711, 712, 718, 719, 727, 729, 731, 737, 742, 744, 746, 755, 759, 760, 762, 770, 771, 772, 775, 778, 784, 787, 791, 795, 802, 803, 805, 809, 812, 815, 816, 821, 825, 826, 829, 831, 832, 833, 839, 840, 843, 849, 850, 854, 858, 861, 866, 872, 875, 876, 880, 883, 885, 886, 887, 889, 892, 896, 897, 902, 903, 907, 912, 913, 914, 918, 919, 920, 933, 935, 940, 945, 946, 951, 953, 956, 958, 963, 967, 968, 971, 972, 977, 981, 984, 986, 992, 993, 997, 999, 1000, 1001, 1003, 1008, 1009, 1011, 1012, 1013, 1020, 1025, 1030, 1031, 1032, 1033, 1034, 1040, 1043, 1048, 1049, 1050, 1057, 1064, 1077, 1079, 1080, 1082, 1088, 1092, 1093, 1097, 1099, 1107, 1108, 1114, 1119, 1126, 1128, 1134, 1137, 1138, 1142, 1146, 1147, 1154, 1174, 1175, 1176, 1177, 1183, 1184, 1185, 1189, 1192, 1199, 1202, 1203, 1210, 1220, 1225, 1227, 1232, 1234, 1238, 1246, 1253, 1254, 1258, 1259, 1262, 1272, 1274, 1280, 1287, 1289, 1290, 1295, 1298, 1299, 1301, 1318, 1319, 1323, 1324, 1331, 1332, 1336, 1340, 1348, 1351, 1352, 1355, 1356, 1360, 1368, 1369, 1371, 1375, 1376, 1377, 1380, 1381, 1383, 1384, 1390, 1391, 1392, 1395, 1398, 1399, 1401, 1404, 1411, 1419, 1421, 1424, 1425, 1426, 1432, 1434, 1441, 1446, 1451, 1454, 1455, 1465, 1468, 1471, 1485, 1490, 1493, 1497, 1499, 1503, 1513, 1514, 1517, 1519, 1527, 1528, 1529, 1531, 1538, 1550, 1551, 1554, 1561, 1563, 1564, 1565, 1568, 1570, 1578, 1580, 1586, 1588, 1589, 1596, 1597, 1598, 1603, 1606, 1609, 1611, 1616, 1617, 1619, 1621, 1623, 1625, 1628, 1631, 1637, 1642, 1644, 1646, 1648, 1652, 1659, 1663, 1666, 1667, 1670, 1672, 1675, 1679, 1681, 1682, 1683, 1684, 1686, 1687, 1690, 1691, 1697, 1701, 1708, 1709, 1712, 1713, 1715, 1716, 1720, 1725, 1726, 1729, 1739, 1742, 1744, 1745, 1746, 1747, 1750, 1754, 1756, 1757, 1758, 1761, 1766, 1768, 1773, 1774, 1779, 1786, 1787, 1794, 1797, 1800, 1806, 1811, 1818, 1825, 1830, 1831, 1836, 1838, 1839, 1840, 1846, 1852, 1865, 1867, 1871, 1873, 1876, 1877, 1880, 1882, 1883, 1884, 1886, 1890, 1892, 1895, 1898, 1899, 1900, 1901, 1902, 1908, 1917, 1921, 1922, 1928, 1933, 1938, 1939, 1940, 1942, 1945, 1947, 1950, 1954, 1966, 1972, 1974, 1976, 1980, 1988, 1990, 1997, 1998, 2003, 2004, 2007, 2009, 2013, 2019, 2022, 2024, 2026, 2030, 2034, 2038, 2040, 2047, 2049, 2051, 2058, 2060, 2067, 2070, 2074, 2076, 2077, 2079, 2084, 2085, 2086, 2088, 2092, 2095, 2096, 2100, 2109, 2115, 2117, 2118, 2119, 2123, 2125, 2131, 2138, 2142, 2143, 2144, 2148, 2154, 2155, 2164, 2165, 2166, 2167, 2172, 2178, 2185, 2187, 2190, 2192, 2193, 2196, 2207, 2210, 2212, 2220, 2223, 2225, 2229, 2232, 2235, 2237, 2238, 2240, 2249, 2252, 2257, 2280, 2282, 2286, 2287, 2289, 2290, 2291, 2292, 2293, 2298, 2300, 2303, 2307, 2309, 2310, 2313, 2317, 2318, 2322, 2324, 2326, 2327, 2328, 2336, 2339, 2345, 2346, 2347, 2349, 2350, 2352, 2354, 2358, 2359, 2360, 2367, 2368, 2369, 2370, 2376, 2381, 2383, 2384, 2385, 2389, 2390, 2391, 2392, 2393, 2395, 2396, 2400, 2402, 2407, 2412, 2414, 2419, 2420, 2421, 2422, 2428, 2433, 2442, 2443, 2445, 2446, 2448, 2450, 2452, 2458, 2462, 2464, 2468, 2469, 2474, 2476, 2481, 2493, 2494, 2496, 2501, 2504, 2512, 2514, 2518, 2523, 2524, 2528, 2532, 2533, 2537, 2540, 2542, 2543, 2544, 2546, 2549, 2550, 2551, 2553, 2561, 2563, 2567, 2573, 2574, 2580, 2582, 2585, 2587, 2591, 2598, 2605, 2608, 2609, 2611, 2614, 2616, 2620, 2621, 2625, 2629, 2631, 2637, 2642, 2646, 2649, 2654, 2655, 2657, 2659, 2663, 2669, 2673]\n",
      "wrong1_2 [0, 2, 7, 13, 14, 19, 20, 21, 24, 25, 28, 29, 32, 33, 34, 35, 40, 42, 43, 44, 48, 50, 53, 54, 57, 59, 64, 69, 70, 71, 72, 74, 76, 79, 81, 86, 90, 93, 97, 98, 99, 100, 102, 104, 108, 116, 119, 122, 123, 130, 137, 139, 142, 144, 147, 148, 149, 151, 152, 154, 157, 158, 160, 168, 172, 173, 175, 179, 184, 186, 191, 193, 195, 199, 201, 202, 203, 205, 208, 218, 224, 227, 229, 230, 231, 236, 237, 240, 243, 245, 252, 257, 258, 259, 262, 263, 265, 271, 276, 277, 281, 283, 284, 285, 287, 290, 292, 295, 297, 301, 306, 307, 308, 312, 313, 315, 316, 325, 326, 328, 336, 338, 339, 340, 341, 342, 347, 349, 350, 354, 362, 367, 368, 372, 374, 379, 380, 391, 392, 393, 395, 396, 401, 404, 405, 420, 422, 426, 427, 432, 440, 447, 449, 454, 457, 459, 462, 465, 466, 467, 473, 474, 476, 477, 479, 481, 484, 489, 495, 497, 498, 508, 511, 522, 523, 531, 532, 536, 538, 546, 547, 552, 555, 556, 558, 559, 560, 562, 563, 565, 568, 570, 580, 584, 587, 591, 598, 599, 602, 606, 608, 612, 613, 615, 618, 621, 628, 633, 634, 639, 640, 644, 645, 650, 656, 661, 662, 666, 668, 670, 672, 674, 675, 676, 677, 678, 680, 685, 686, 688, 690, 693, 698, 701, 705, 707, 708, 709, 711, 712, 718, 719, 727, 729, 731, 737, 739, 742, 744, 746, 755, 759, 760, 762, 770, 771, 772, 775, 778, 784, 787, 791, 795, 802, 803, 805, 809, 812, 815, 816, 821, 825, 826, 829, 831, 832, 833, 836, 839, 840, 843, 848, 849, 850, 854, 858, 861, 866, 872, 875, 876, 880, 883, 885, 886, 887, 889, 892, 896, 897, 902, 903, 907, 912, 913, 914, 918, 919, 920, 933, 935, 940, 945, 946, 951, 953, 956, 958, 963, 967, 968, 971, 972, 977, 981, 984, 986, 992, 993, 997, 999, 1000, 1001, 1003, 1008, 1009, 1011, 1012, 1013, 1020, 1025, 1030, 1031, 1032, 1033, 1034, 1040, 1043, 1046, 1048, 1049, 1050, 1057, 1064, 1065, 1077, 1079, 1080, 1082, 1088, 1089, 1092, 1093, 1097, 1099, 1107, 1108, 1114, 1119, 1126, 1128, 1134, 1137, 1138, 1142, 1143, 1146, 1147, 1154, 1174, 1175, 1177, 1183, 1184, 1185, 1189, 1192, 1199, 1202, 1203, 1210, 1220, 1225, 1227, 1232, 1234, 1238, 1246, 1253, 1254, 1258, 1259, 1272, 1274, 1280, 1287, 1289, 1290, 1295, 1298, 1299, 1301, 1318, 1319, 1323, 1324, 1331, 1332, 1336, 1340, 1348, 1351, 1352, 1355, 1356, 1360, 1368, 1369, 1371, 1375, 1376, 1377, 1380, 1381, 1383, 1384, 1390, 1391, 1392, 1395, 1398, 1399, 1401, 1404, 1411, 1419, 1421, 1424, 1425, 1426, 1432, 1434, 1441, 1446, 1451, 1454, 1455, 1465, 1468, 1471, 1485, 1490, 1493, 1497, 1499, 1503, 1513, 1514, 1517, 1519, 1527, 1528, 1529, 1531, 1536, 1538, 1550, 1551, 1554, 1561, 1563, 1564, 1565, 1568, 1570, 1572, 1578, 1580, 1586, 1588, 1589, 1596, 1597, 1598, 1603, 1606, 1609, 1611, 1616, 1617, 1619, 1621, 1623, 1625, 1627, 1628, 1631, 1637, 1642, 1644, 1646, 1648, 1652, 1659, 1663, 1666, 1667, 1670, 1672, 1675, 1679, 1681, 1682, 1683, 1684, 1686, 1687, 1690, 1691, 1697, 1701, 1708, 1709, 1712, 1713, 1715, 1716, 1720, 1725, 1726, 1729, 1739, 1742, 1744, 1745, 1746, 1747, 1750, 1754, 1756, 1757, 1758, 1761, 1766, 1768, 1773, 1774, 1779, 1786, 1787, 1794, 1797, 1800, 1806, 1811, 1818, 1825, 1830, 1831, 1836, 1838, 1839, 1840, 1846, 1852, 1865, 1871, 1873, 1876, 1877, 1880, 1882, 1883, 1884, 1886, 1890, 1892, 1893, 1895, 1898, 1899, 1900, 1901, 1908, 1917, 1921, 1922, 1928, 1933, 1938, 1939, 1940, 1945, 1947, 1950, 1951, 1954, 1966, 1972, 1974, 1976, 1980, 1987, 1988, 1990, 1997, 1998, 2003, 2004, 2007, 2009, 2013, 2019, 2022, 2026, 2030, 2034, 2038, 2040, 2042, 2047, 2049, 2051, 2058, 2060, 2070, 2074, 2076, 2077, 2079, 2084, 2085, 2086, 2088, 2092, 2095, 2096, 2100, 2109, 2115, 2117, 2118, 2119, 2123, 2125, 2131, 2138, 2142, 2143, 2148, 2154, 2155, 2164, 2165, 2166, 2167, 2172, 2178, 2179, 2185, 2187, 2190, 2192, 2193, 2196, 2207, 2210, 2212, 2220, 2223, 2225, 2229, 2232, 2235, 2237, 2238, 2240, 2249, 2252, 2257, 2280, 2282, 2286, 2287, 2289, 2290, 2291, 2292, 2293, 2295, 2298, 2300, 2303, 2307, 2310, 2313, 2317, 2318, 2324, 2326, 2327, 2328, 2336, 2339, 2345, 2346, 2347, 2349, 2350, 2352, 2354, 2358, 2359, 2360, 2366, 2367, 2368, 2369, 2370, 2376, 2381, 2383, 2385, 2389, 2390, 2391, 2392, 2393, 2395, 2396, 2400, 2402, 2407, 2412, 2414, 2419, 2420, 2421, 2422, 2428, 2433, 2442, 2443, 2445, 2446, 2448, 2450, 2452, 2458, 2462, 2464, 2468, 2469, 2474, 2476, 2481, 2493, 2494, 2496, 2501, 2504, 2512, 2514, 2518, 2523, 2524, 2526, 2528, 2532, 2533, 2537, 2540, 2542, 2543, 2544, 2546, 2549, 2550, 2551, 2553, 2561, 2563, 2567, 2573, 2574, 2577, 2580, 2582, 2585, 2587, 2591, 2598, 2605, 2608, 2609, 2611, 2614, 2616, 2620, 2621, 2625, 2629, 2631, 2637, 2642, 2646, 2649, 2654, 2655, 2657, 2659, 2663, 2669, 2673, 2676]\n",
      "wrong1_3 [0, 2, 7, 13, 14, 19, 20, 21, 24, 25, 28, 29, 32, 33, 34, 35, 40, 42, 43, 44, 48, 50, 53, 54, 57, 59, 64, 69, 70, 71, 72, 74, 76, 79, 81, 86, 90, 93, 97, 98, 99, 100, 102, 104, 108, 116, 119, 122, 123, 130, 137, 139, 142, 144, 147, 148, 149, 151, 152, 154, 157, 158, 160, 168, 172, 173, 175, 179, 184, 186, 191, 193, 195, 199, 201, 202, 203, 205, 208, 218, 224, 227, 229, 230, 231, 236, 237, 240, 243, 245, 252, 257, 258, 259, 262, 263, 265, 271, 276, 277, 281, 283, 284, 285, 287, 290, 292, 295, 297, 301, 306, 307, 308, 312, 313, 315, 316, 325, 326, 328, 336, 338, 339, 340, 341, 342, 347, 349, 350, 354, 362, 367, 368, 372, 374, 379, 380, 391, 392, 393, 395, 396, 401, 404, 405, 420, 422, 426, 427, 432, 440, 447, 449, 454, 457, 459, 462, 465, 466, 467, 473, 474, 476, 477, 479, 481, 484, 489, 495, 497, 498, 508, 511, 522, 523, 531, 532, 536, 538, 546, 547, 550, 552, 555, 556, 558, 559, 560, 562, 563, 565, 568, 570, 580, 584, 587, 591, 598, 599, 602, 606, 608, 612, 613, 615, 618, 621, 633, 634, 639, 640, 644, 645, 650, 656, 661, 662, 666, 668, 670, 672, 674, 675, 676, 677, 678, 680, 685, 686, 688, 690, 693, 698, 701, 705, 707, 708, 709, 711, 712, 718, 719, 727, 729, 731, 737, 739, 742, 744, 746, 755, 759, 760, 762, 770, 771, 772, 775, 778, 784, 787, 791, 795, 802, 803, 805, 809, 812, 815, 816, 821, 825, 826, 829, 831, 832, 833, 836, 839, 840, 843, 848, 849, 850, 854, 858, 861, 866, 872, 875, 876, 880, 883, 885, 886, 887, 889, 892, 896, 897, 902, 903, 907, 912, 913, 914, 918, 919, 920, 933, 935, 940, 945, 946, 951, 953, 956, 958, 963, 967, 968, 971, 972, 977, 981, 984, 986, 992, 993, 997, 999, 1000, 1001, 1003, 1008, 1009, 1011, 1012, 1013, 1020, 1025, 1030, 1031, 1032, 1033, 1034, 1040, 1043, 1046, 1048, 1049, 1050, 1057, 1064, 1065, 1079, 1080, 1082, 1088, 1089, 1092, 1093, 1097, 1099, 1107, 1108, 1114, 1119, 1126, 1128, 1134, 1137, 1138, 1142, 1146, 1147, 1154, 1174, 1175, 1176, 1177, 1183, 1184, 1185, 1189, 1192, 1199, 1202, 1203, 1210, 1220, 1225, 1227, 1232, 1234, 1238, 1246, 1253, 1254, 1258, 1259, 1272, 1274, 1280, 1287, 1289, 1290, 1295, 1298, 1299, 1301, 1318, 1319, 1323, 1324, 1331, 1332, 1336, 1340, 1348, 1351, 1352, 1355, 1356, 1360, 1368, 1369, 1371, 1375, 1376, 1377, 1380, 1381, 1383, 1384, 1390, 1391, 1392, 1395, 1398, 1399, 1401, 1404, 1411, 1419, 1420, 1421, 1424, 1425, 1426, 1432, 1434, 1441, 1446, 1451, 1454, 1455, 1465, 1468, 1471, 1485, 1490, 1493, 1497, 1499, 1503, 1513, 1514, 1517, 1519, 1527, 1528, 1529, 1531, 1538, 1550, 1551, 1554, 1561, 1563, 1564, 1565, 1568, 1570, 1572, 1578, 1580, 1586, 1588, 1589, 1596, 1597, 1598, 1603, 1606, 1609, 1611, 1616, 1617, 1619, 1621, 1623, 1625, 1628, 1631, 1637, 1642, 1644, 1646, 1648, 1652, 1659, 1663, 1666, 1667, 1670, 1672, 1675, 1679, 1681, 1682, 1683, 1684, 1686, 1687, 1690, 1691, 1697, 1701, 1708, 1709, 1712, 1713, 1715, 1716, 1720, 1725, 1726, 1729, 1739, 1742, 1744, 1745, 1746, 1747, 1750, 1754, 1756, 1757, 1758, 1761, 1766, 1768, 1773, 1774, 1779, 1786, 1787, 1794, 1797, 1800, 1806, 1811, 1818, 1825, 1830, 1831, 1836, 1838, 1839, 1840, 1846, 1852, 1865, 1871, 1873, 1876, 1877, 1880, 1882, 1883, 1884, 1886, 1890, 1892, 1895, 1898, 1899, 1900, 1901, 1908, 1917, 1921, 1922, 1928, 1933, 1938, 1939, 1940, 1945, 1947, 1950, 1951, 1954, 1966, 1972, 1974, 1976, 1980, 1987, 1988, 1990, 1997, 1998, 2003, 2004, 2007, 2009, 2013, 2019, 2022, 2026, 2030, 2034, 2038, 2040, 2042, 2047, 2049, 2051, 2058, 2060, 2067, 2070, 2074, 2076, 2077, 2079, 2084, 2085, 2086, 2092, 2095, 2096, 2100, 2109, 2115, 2117, 2118, 2119, 2123, 2125, 2131, 2138, 2142, 2143, 2144, 2148, 2154, 2155, 2164, 2165, 2166, 2167, 2172, 2178, 2179, 2185, 2187, 2190, 2192, 2193, 2196, 2207, 2210, 2212, 2220, 2223, 2225, 2229, 2232, 2235, 2237, 2238, 2240, 2249, 2252, 2257, 2280, 2282, 2286, 2287, 2289, 2290, 2291, 2292, 2293, 2295, 2298, 2300, 2303, 2307, 2310, 2313, 2317, 2318, 2324, 2326, 2327, 2328, 2336, 2339, 2345, 2346, 2347, 2349, 2350, 2352, 2354, 2358, 2359, 2360, 2366, 2367, 2368, 2369, 2370, 2376, 2381, 2383, 2385, 2389, 2390, 2391, 2392, 2393, 2395, 2396, 2400, 2402, 2407, 2412, 2414, 2419, 2420, 2421, 2422, 2428, 2433, 2442, 2443, 2445, 2446, 2448, 2450, 2452, 2458, 2462, 2464, 2468, 2469, 2474, 2476, 2481, 2493, 2494, 2496, 2501, 2504, 2512, 2514, 2518, 2523, 2524, 2526, 2528, 2532, 2533, 2537, 2540, 2542, 2543, 2544, 2546, 2549, 2550, 2551, 2553, 2561, 2563, 2567, 2573, 2574, 2577, 2580, 2585, 2587, 2591, 2598, 2605, 2608, 2609, 2611, 2614, 2616, 2620, 2621, 2625, 2629, 2631, 2637, 2642, 2646, 2649, 2654, 2655, 2657, 2659, 2663, 2669, 2673, 2676]\n",
      "wrong1_4 [0, 1, 2, 3, 4, 5, 6, 7, 8, 9, 10, 11, 12, 13, 14, 15, 16, 17, 18, 19, 20, 21, 22, 23, 24, 25, 26, 27, 28, 29, 30, 31, 32, 33, 34, 35, 36, 37, 38, 39, 40, 41, 42, 43, 44, 45, 46, 47, 48, 49, 50, 51, 52, 53, 54, 55, 56, 57, 58, 59, 60, 61, 62, 63, 64, 65, 66, 67, 68, 69, 70, 71, 72, 73, 74, 75, 76, 77, 78, 79, 80, 81, 82, 83, 84, 85, 86, 87, 88, 89, 90, 91, 92, 93, 94, 95, 96, 97, 98, 99, 100, 101, 102, 103, 104, 105, 106, 107, 108, 109, 110, 111, 112, 113, 114, 115, 116, 117, 118, 119, 120, 121, 122, 123, 124, 125, 126, 127, 128, 129, 130, 131, 132, 133, 134, 135, 136, 137, 138, 139, 140, 141, 142, 143, 144, 145, 146, 147, 148, 149, 151, 152, 153, 154, 155, 156, 157, 158, 159, 160, 161, 163, 164, 165, 166, 167, 168, 169, 170, 171, 172, 173, 174, 175, 176, 177, 178, 179, 180, 181, 182, 183, 184, 185, 186, 187, 188, 189, 190, 191, 192, 193, 194, 195, 196, 197, 198, 199, 200, 201, 202, 203, 204, 205, 206, 207, 209, 210, 211, 212, 213, 214, 215, 216, 217, 218, 219, 220, 221, 222, 223, 224, 225, 226, 227, 228, 229, 230, 231, 232, 233, 234, 235, 236, 237, 238, 239, 240, 241, 242, 243, 244, 245, 246, 247, 248, 249, 250, 251, 252, 253, 254, 255, 256, 257, 258, 259, 260, 261, 262, 263, 264, 265, 266, 267, 268, 269, 270, 271, 272, 273, 274, 275, 276, 277, 278, 279, 280, 281, 282, 283, 284, 285, 286, 287, 288, 289, 290, 291, 292, 293, 294, 295, 296, 297, 298, 299, 300, 301, 302, 303, 304, 305, 306, 307, 308, 309, 310, 311, 312, 314, 315, 316, 317, 318, 319, 320, 321, 322, 323, 324, 325, 326, 327, 328, 329, 330, 331, 332, 333, 334, 335, 336, 337, 338, 339, 340, 341, 342, 343, 344, 345, 346, 347, 348, 349, 350, 351, 352, 353, 354, 355, 356, 357, 358, 359, 360, 361, 362, 363, 364, 365, 366, 367, 368, 369, 370, 371, 372, 373, 374, 375, 376, 377, 378, 379, 380, 381, 382, 383, 384, 385, 386, 387, 388, 389, 390, 391, 392, 393, 394, 395, 396, 397, 398, 399, 400, 401, 402, 403, 404, 405, 406, 407, 408, 409, 410, 411, 412, 413, 414, 415, 416, 417, 418, 419, 420, 421, 422, 423, 424, 425, 426, 427, 428, 429, 430, 432, 433, 434, 435, 436, 437, 438, 439, 440, 441, 442, 443, 444, 445, 446, 447, 448, 449, 450, 451, 452, 453, 454, 455, 456, 457, 458, 460, 461, 462, 463, 464, 465, 466, 467, 468, 469, 470, 471, 472, 473, 474, 475, 476, 477, 478, 479, 480, 481, 482, 483, 484, 485, 486, 487, 488, 489, 490, 491, 492, 493, 494, 495, 496, 497, 498, 499, 500, 501, 502, 503, 504, 505, 506, 507, 508, 509, 510, 512, 513, 514, 515, 516, 517, 518, 519, 520, 521, 522, 523, 524, 525, 526, 527, 528, 529, 530, 531, 532, 533, 534, 535, 536, 537, 538, 539, 540, 541, 542, 543, 544, 545, 546, 547, 548, 549, 550, 551, 552, 553, 554, 555, 556, 557, 558, 559, 560, 561, 562, 563, 564, 565, 566, 567, 568, 569, 570, 571, 572, 573, 574, 575, 576, 577, 578, 579, 580, 581, 582, 583, 584, 585, 586, 587, 588, 589, 590, 591, 592, 593, 594, 595, 596, 597, 599, 600, 601, 602, 603, 604, 605, 606, 607, 608, 609, 610, 611, 612, 613, 614, 615, 616, 617, 618, 619, 620, 621, 622, 623, 624, 625, 626, 627, 629, 630, 631, 632, 633, 634, 635, 636, 637, 638, 639, 640, 641, 642, 643, 644, 645, 646, 647, 648, 649, 650, 651, 652, 653, 655, 656, 657, 658, 659, 660, 661, 662, 663, 664, 665, 666, 667, 668, 669, 670, 671, 672, 673, 674, 675, 676, 677, 678, 679, 680, 681, 682, 683, 684, 685, 686, 687, 688, 689, 690, 691, 692, 693, 694, 695, 696, 697, 698, 699, 700, 701, 702, 703, 704, 705, 706, 707, 708, 709, 710, 711, 712, 713, 714, 715, 716, 717, 718, 719, 720, 721, 722, 723, 724, 725, 726, 727, 728, 729, 730, 731, 732, 733, 734, 735, 736, 737, 738, 739, 740, 741, 742, 743, 744, 745, 746, 747, 748, 749, 750, 751, 752, 753, 754, 755, 756, 757, 758, 759, 760, 761, 762, 763, 764, 765, 766, 767, 768, 769, 770, 771, 772, 773, 774, 775, 776, 777, 778, 779, 780, 781, 782, 783, 784, 785, 786, 788, 789, 790, 791, 792, 793, 795, 796, 797, 798, 799, 800, 801, 802, 803, 804, 805, 806, 807, 808, 809, 810, 811, 812, 813, 814, 815, 816, 817, 818, 819, 820, 821, 822, 823, 824, 825, 826, 827, 828, 829, 830, 831, 832, 833, 834, 835, 836, 837, 838, 839, 840, 841, 842, 843, 844, 845, 846, 847, 849, 850, 851, 852, 853, 854, 855, 856, 857, 858, 859, 860, 861, 862, 863, 864, 865, 866, 867, 868, 869, 870, 871, 872, 873, 874, 875, 876, 877, 878, 879, 880, 881, 882, 883, 884, 885, 886, 887, 888, 889, 890, 891, 892, 893, 894, 895, 896, 897, 898, 899, 900, 901, 902, 904, 905, 906, 907, 908, 909, 910, 911, 912, 913, 914, 915, 916, 917, 918, 919, 920, 921, 922, 923, 924, 925, 926, 927, 928, 929, 930, 931, 932, 933, 934, 935, 936, 937, 938, 939, 940, 941, 942, 943, 944, 945, 946, 947, 948, 949, 950, 951, 952, 953, 954, 955, 956, 957, 958, 959, 960, 961, 962, 963, 964, 965, 966, 967, 968, 969, 970, 971, 972, 973, 974, 975, 976, 977, 978, 979, 980, 981, 982, 983, 984, 985, 986, 987, 988, 989, 990, 991, 992, 993, 994, 995, 996, 997, 998, 999, 1000, 1001, 1002, 1003, 1004, 1005, 1006, 1007, 1008, 1010, 1011, 1012, 1013, 1014, 1015, 1016, 1017, 1018, 1019, 1020, 1021, 1022, 1023, 1024, 1025, 1026, 1027, 1028, 1029, 1030, 1031, 1032, 1033, 1034, 1035, 1036, 1037, 1038, 1039, 1040, 1041, 1042, 1043, 1044, 1045, 1046, 1047, 1048, 1049, 1050, 1051, 1052, 1053, 1054, 1055, 1056, 1057, 1058, 1059, 1060, 1061, 1062, 1063, 1064, 1065, 1066, 1067, 1068, 1069, 1070, 1071, 1072, 1073, 1074, 1075, 1076, 1077, 1078, 1079, 1080, 1081, 1082, 1083, 1084, 1085, 1086, 1087, 1088, 1089, 1090, 1091, 1092, 1093, 1094, 1095, 1096, 1097, 1098, 1099, 1100, 1101, 1102, 1103, 1104, 1105, 1106, 1107, 1108, 1109, 1110, 1111, 1112, 1113, 1114, 1115, 1116, 1117, 1118, 1119, 1120, 1121, 1122, 1123, 1124, 1125, 1126, 1127, 1128, 1129, 1130, 1131, 1132, 1133, 1134, 1135, 1136, 1137, 1138, 1139, 1140, 1141, 1142, 1144, 1145, 1146, 1147, 1148, 1149, 1150, 1151, 1152, 1153, 1154, 1155, 1156, 1157, 1158, 1159, 1160, 1161, 1162, 1163, 1164, 1165, 1166, 1167, 1168, 1169, 1170, 1171, 1172, 1173, 1174, 1175, 1176, 1177, 1178, 1179, 1180, 1181, 1182, 1183, 1184, 1185, 1186, 1187, 1188, 1189, 1190, 1191, 1192, 1193, 1194, 1195, 1196, 1197, 1198, 1199, 1200, 1201, 1202, 1203, 1204, 1205, 1206, 1207, 1208, 1209, 1210, 1211, 1212, 1213, 1214, 1215, 1216, 1217, 1218, 1219, 1220, 1221, 1222, 1223, 1224, 1225, 1226, 1227, 1228, 1229, 1230, 1231, 1232, 1233, 1234, 1235, 1236, 1237, 1238, 1239, 1240, 1241, 1242, 1243, 1244, 1245, 1246, 1247, 1248, 1249, 1250, 1251, 1252, 1253, 1254, 1255, 1256, 1257, 1258, 1259, 1260, 1261, 1262, 1263, 1264, 1265, 1266, 1267, 1268, 1269, 1270, 1271, 1272, 1273, 1274, 1275, 1276, 1277, 1278, 1279, 1280, 1281, 1282, 1283, 1284, 1285, 1286, 1287, 1288, 1289, 1290, 1291, 1292, 1293, 1294, 1295, 1296, 1297, 1298, 1299, 1300, 1301, 1302, 1303, 1304, 1306, 1307, 1308, 1309, 1310, 1311, 1312, 1313, 1314, 1315, 1316, 1317, 1318, 1319, 1320, 1321, 1322, 1323, 1324, 1325, 1326, 1327, 1328, 1329, 1330, 1331, 1333, 1334, 1335, 1336, 1337, 1338, 1339, 1340, 1341, 1342, 1343, 1344, 1345, 1346, 1347, 1348, 1349, 1350, 1351, 1352, 1353, 1354, 1355, 1356, 1357, 1358, 1359, 1360, 1361, 1362, 1363, 1364, 1365, 1366, 1367, 1369, 1370, 1371, 1372, 1373, 1374, 1375, 1376, 1377, 1378, 1379, 1380, 1381, 1382, 1383, 1384, 1385, 1386, 1387, 1388, 1389, 1390, 1391, 1392, 1393, 1394, 1395, 1396, 1397, 1398, 1399, 1400, 1401, 1402, 1403, 1404, 1405, 1407, 1408, 1409, 1410, 1411, 1412, 1413, 1414, 1415, 1416, 1417, 1418, 1419, 1421, 1422, 1423, 1424, 1425, 1426, 1427, 1428, 1429, 1430, 1431, 1432, 1433, 1434, 1435, 1436, 1437, 1438, 1439, 1440, 1441, 1442, 1443, 1444, 1445, 1446, 1447, 1448, 1449, 1450, 1451, 1452, 1453, 1454, 1455, 1456, 1458, 1459, 1460, 1461, 1462, 1463, 1464, 1465, 1466, 1467, 1468, 1469, 1470, 1471, 1472, 1473, 1474, 1475, 1476, 1477, 1478, 1479, 1480, 1481, 1482, 1483, 1484, 1485, 1486, 1487, 1488, 1489, 1490, 1491, 1492, 1493, 1494, 1495, 1496, 1497, 1498, 1499, 1500, 1501, 1502, 1503, 1504, 1505, 1506, 1507, 1508, 1509, 1510, 1511, 1512, 1513, 1514, 1515, 1516, 1517, 1518, 1519, 1520, 1521, 1522, 1523, 1524, 1525, 1526, 1527, 1528, 1529, 1530, 1531, 1532, 1533, 1534, 1535, 1536, 1537, 1538, 1539, 1540, 1541, 1542, 1543, 1544, 1545, 1546, 1547, 1548, 1550, 1551, 1552, 1553, 1554, 1556, 1557, 1558, 1559, 1560, 1561, 1562, 1563, 1564, 1565, 1566, 1567, 1568, 1569, 1570, 1571, 1572, 1573, 1574, 1575, 1576, 1577, 1578, 1579, 1580, 1581, 1582, 1583, 1584, 1585, 1587, 1588, 1589, 1590, 1592, 1593, 1594, 1595, 1596, 1597, 1598, 1599, 1600, 1601, 1602, 1604, 1605, 1606, 1608, 1609, 1610, 1611, 1612, 1613, 1614, 1615, 1616, 1617, 1618, 1619, 1620, 1621, 1622, 1623, 1624, 1625, 1626, 1627, 1628, 1629, 1630, 1631, 1632, 1633, 1634, 1635, 1636, 1637, 1638, 1639, 1640, 1641, 1642, 1643, 1644, 1645, 1646, 1647, 1648, 1649, 1650, 1651, 1652, 1653, 1654, 1655, 1656, 1657, 1658, 1659, 1660, 1661, 1662, 1663, 1664, 1665, 1666, 1667, 1668, 1669, 1670, 1671, 1672, 1673, 1674, 1675, 1676, 1677, 1678, 1679, 1680, 1681, 1682, 1683, 1684, 1685, 1686, 1687, 1688, 1689, 1690, 1691, 1692, 1693, 1694, 1695, 1696, 1697, 1698, 1699, 1700, 1701, 1702, 1703, 1704, 1705, 1706, 1707, 1708, 1709, 1710, 1711, 1712, 1713, 1714, 1715, 1716, 1717, 1718, 1719, 1720, 1721, 1722, 1723, 1724, 1725, 1726, 1727, 1728, 1729, 1730, 1731, 1732, 1733, 1734, 1735, 1736, 1737, 1738, 1739, 1740, 1741, 1742, 1743, 1744, 1745, 1746, 1747, 1748, 1750, 1751, 1752, 1753, 1754, 1755, 1756, 1757, 1759, 1760, 1761, 1762, 1763, 1764, 1765, 1766, 1767, 1768, 1769, 1770, 1771, 1772, 1773, 1774, 1775, 1776, 1777, 1778, 1779, 1780, 1781, 1782, 1783, 1784, 1785, 1786, 1787, 1788, 1789, 1790, 1791, 1792, 1793, 1794, 1795, 1796, 1797, 1798, 1799, 1800, 1801, 1802, 1803, 1804, 1805, 1806, 1807, 1808, 1809, 1810, 1811, 1812, 1813, 1814, 1815, 1816, 1817, 1818, 1819, 1820, 1821, 1822, 1823, 1824, 1825, 1826, 1827, 1828, 1829, 1830, 1831, 1832, 1833, 1834, 1835, 1836, 1837, 1838, 1839, 1840, 1841, 1842, 1843, 1844, 1845, 1846, 1847, 1848, 1849, 1850, 1851, 1852, 1853, 1854, 1855, 1856, 1857, 1858, 1859, 1860, 1861, 1862, 1863, 1864, 1865, 1866, 1867, 1868, 1869, 1870, 1871, 1872, 1873, 1874, 1875, 1876, 1877, 1878, 1879, 1880, 1881, 1882, 1883, 1884, 1885, 1886, 1887, 1888, 1889, 1890, 1891, 1892, 1893, 1894, 1895, 1896, 1897, 1898, 1899, 1900, 1901, 1902, 1904, 1905, 1906, 1907, 1908, 1909, 1910, 1911, 1913, 1914, 1915, 1916, 1917, 1918, 1919, 1920, 1921, 1922, 1923, 1924, 1925, 1926, 1927, 1928, 1929, 1930, 1931, 1932, 1933, 1934, 1935, 1936, 1937, 1938, 1940, 1941, 1942, 1943, 1944, 1945, 1946, 1947, 1948, 1949, 1950, 1951, 1952, 1953, 1954, 1955, 1956, 1957, 1958, 1959, 1960, 1961, 1962, 1963, 1964, 1965, 1966, 1967, 1968, 1969, 1970, 1971, 1973, 1974, 1975, 1976, 1977, 1978, 1979, 1980, 1981, 1982, 1983, 1984, 1985, 1986, 1988, 1989, 1990, 1991, 1992, 1993, 1994, 1995, 1996, 1997, 1998, 1999, 2000, 2001, 2002, 2003, 2005, 2006, 2007, 2008, 2009, 2010, 2011, 2012, 2013, 2014, 2015, 2016, 2017, 2018, 2019, 2020, 2021, 2023, 2024, 2025, 2026, 2027, 2028, 2029, 2030, 2031, 2032, 2033, 2034, 2035, 2037, 2038, 2039, 2040, 2041, 2042, 2043, 2044, 2045, 2046, 2049, 2050, 2051, 2052, 2053, 2054, 2055, 2056, 2057, 2058, 2059, 2060, 2061, 2062, 2063, 2064, 2065, 2066, 2067, 2068, 2069, 2070, 2071, 2072, 2073, 2074, 2075, 2076, 2077, 2078, 2079, 2080, 2081, 2082, 2083, 2084, 2085, 2086, 2087, 2088, 2089, 2090, 2091, 2092, 2093, 2094, 2095, 2096, 2097, 2098, 2099, 2100, 2101, 2102, 2103, 2104, 2105, 2106, 2107, 2108, 2109, 2110, 2111, 2112, 2113, 2114, 2115, 2116, 2117, 2118, 2119, 2120, 2121, 2122, 2123, 2124, 2126, 2127, 2128, 2129, 2130, 2131, 2132, 2133, 2134, 2135, 2136, 2137, 2138, 2139, 2140, 2142, 2143, 2145, 2146, 2147, 2148, 2149, 2150, 2151, 2152, 2153, 2154, 2155, 2156, 2157, 2158, 2159, 2160, 2161, 2162, 2163, 2164, 2165, 2166, 2167, 2168, 2169, 2170, 2171, 2172, 2173, 2174, 2175, 2176, 2177, 2178, 2179, 2180, 2181, 2182, 2183, 2184, 2185, 2186, 2187, 2188, 2189, 2190, 2191, 2192, 2193, 2194, 2195, 2196, 2197, 2198, 2199, 2200, 2201, 2202, 2203, 2204, 2205, 2206, 2207, 2208, 2209, 2210, 2211, 2212, 2213, 2214, 2215, 2216, 2217, 2218, 2219, 2220, 2221, 2222, 2223, 2224, 2225, 2226, 2227, 2228, 2229, 2230, 2231, 2232, 2233, 2234, 2235, 2236, 2237, 2238, 2239, 2240, 2242, 2243, 2244, 2245, 2246, 2247, 2248, 2249, 2250, 2251, 2252, 2253, 2254, 2255, 2256, 2257, 2258, 2259, 2260, 2261, 2262, 2263, 2264, 2265, 2266, 2267, 2268, 2269, 2270, 2271, 2272, 2273, 2274, 2275, 2276, 2277, 2278, 2279, 2280, 2281, 2282, 2283, 2284, 2285, 2286, 2287, 2288, 2289, 2290, 2291, 2292, 2293, 2294, 2295, 2296, 2297, 2298, 2299, 2300, 2301, 2302, 2303, 2304, 2305, 2306, 2307, 2308, 2309, 2310, 2311, 2312, 2313, 2314, 2315, 2316, 2317, 2318, 2319, 2320, 2321, 2322, 2323, 2324, 2325, 2326, 2327, 2329, 2330, 2331, 2332, 2333, 2334, 2335, 2336, 2337, 2338, 2339, 2340, 2341, 2342, 2343, 2344, 2345, 2346, 2347, 2348, 2349, 2350, 2351, 2352, 2353, 2354, 2355, 2356, 2357, 2358, 2359, 2360, 2361, 2362, 2363, 2364, 2365, 2366, 2367, 2368, 2369, 2370, 2371, 2372, 2373, 2374, 2375, 2376, 2377, 2379, 2380, 2381, 2382, 2383, 2384, 2385, 2386, 2387, 2388, 2389, 2390, 2391, 2392, 2393, 2394, 2395, 2396, 2397, 2398, 2399, 2400, 2401, 2402, 2403, 2404, 2405, 2406, 2407, 2408, 2409, 2410, 2411, 2412, 2413, 2414, 2415, 2416, 2417, 2418, 2419, 2420, 2421, 2422, 2423, 2424, 2425, 2426, 2427, 2429, 2430, 2431, 2432, 2433, 2434, 2435, 2436, 2437, 2438, 2439, 2440, 2441, 2442, 2443, 2444, 2445, 2446, 2447, 2448, 2449, 2450, 2451, 2452, 2453, 2454, 2455, 2456, 2457, 2458, 2459, 2460, 2461, 2462, 2463, 2465, 2466, 2467, 2468, 2469, 2470, 2471, 2472, 2473, 2474, 2475, 2476, 2477, 2478, 2479, 2480, 2481, 2482, 2483, 2484, 2485, 2486, 2487, 2488, 2489, 2490, 2491, 2492, 2493, 2494, 2495, 2496, 2497, 2498, 2499, 2500, 2501, 2502, 2503, 2504, 2505, 2506, 2507, 2508, 2509, 2510, 2511, 2512, 2513, 2514, 2515, 2516, 2518, 2519, 2520, 2521, 2522, 2524, 2525, 2526, 2527, 2528, 2529, 2530, 2531, 2532, 2533, 2534, 2535, 2536, 2537, 2538, 2539, 2542, 2543, 2544, 2545, 2546, 2547, 2548, 2550, 2551, 2552, 2553, 2554, 2555, 2556, 2557, 2558, 2559, 2560, 2561, 2562, 2563, 2564, 2565, 2566, 2567, 2568, 2569, 2570, 2571, 2572, 2573, 2574, 2575, 2576, 2577, 2578, 2579, 2580, 2581, 2582, 2583, 2584, 2585, 2586, 2587, 2588, 2589, 2590, 2591, 2592, 2593, 2594, 2595, 2596, 2597, 2598, 2599, 2600, 2601, 2602, 2603, 2604, 2605, 2606, 2607, 2608, 2609, 2610, 2611, 2612, 2613, 2615, 2616, 2617, 2618, 2619, 2620, 2621, 2622, 2623, 2624, 2625, 2626, 2627, 2628, 2630, 2631, 2632, 2633, 2634, 2635, 2636, 2637, 2638, 2639, 2641, 2642, 2643, 2644, 2645, 2646, 2647, 2648, 2649, 2650, 2651, 2652, 2653, 2654, 2655, 2656, 2657, 2658, 2659, 2660, 2661, 2662, 2663, 2664, 2665, 2666, 2667, 2668, 2669, 2670, 2671, 2672, 2673, 2674, 2675, 2676, 2677, 2678, 2679, 2680, 2681]\n",
      "wrong1_5 [0, 2, 7, 13, 14, 19, 20, 21, 24, 25, 28, 29, 32, 33, 34, 35, 40, 42, 43, 44, 48, 50, 54, 55, 57, 59, 64, 69, 70, 71, 72, 74, 76, 79, 81, 86, 90, 93, 97, 98, 99, 100, 102, 104, 108, 116, 119, 122, 123, 130, 137, 139, 142, 144, 147, 148, 149, 151, 152, 154, 157, 158, 168, 172, 173, 175, 179, 184, 186, 191, 193, 195, 199, 201, 202, 203, 205, 208, 218, 224, 227, 229, 230, 231, 236, 237, 240, 243, 245, 252, 257, 258, 259, 262, 263, 265, 271, 276, 277, 281, 284, 285, 287, 290, 295, 297, 301, 306, 307, 308, 312, 313, 315, 316, 325, 326, 328, 329, 336, 338, 339, 340, 341, 342, 347, 349, 350, 362, 372, 374, 379, 380, 391, 393, 395, 396, 401, 404, 405, 420, 422, 426, 427, 432, 440, 447, 449, 454, 457, 459, 462, 465, 466, 467, 473, 474, 475, 476, 477, 479, 481, 484, 489, 495, 497, 498, 508, 511, 522, 523, 531, 532, 536, 538, 546, 547, 550, 552, 555, 556, 558, 560, 561, 563, 565, 568, 569, 570, 580, 584, 587, 591, 598, 599, 602, 606, 608, 612, 613, 615, 618, 621, 628, 633, 634, 639, 644, 645, 650, 656, 661, 662, 666, 668, 670, 672, 674, 675, 676, 677, 678, 680, 685, 686, 688, 690, 693, 698, 701, 705, 707, 708, 709, 711, 718, 719, 727, 729, 731, 737, 742, 744, 746, 755, 759, 760, 762, 770, 771, 772, 775, 778, 784, 787, 791, 795, 802, 803, 804, 805, 809, 812, 815, 816, 821, 825, 826, 829, 831, 832, 833, 836, 839, 840, 843, 849, 850, 854, 858, 861, 866, 872, 875, 876, 883, 885, 886, 887, 889, 892, 896, 897, 900, 902, 903, 907, 912, 913, 914, 918, 919, 920, 933, 935, 940, 945, 946, 951, 953, 956, 958, 963, 967, 968, 971, 972, 977, 981, 984, 986, 992, 993, 997, 999, 1000, 1001, 1008, 1009, 1011, 1013, 1020, 1025, 1030, 1031, 1032, 1033, 1034, 1040, 1043, 1048, 1049, 1050, 1057, 1064, 1077, 1079, 1080, 1082, 1088, 1092, 1093, 1097, 1099, 1114, 1119, 1126, 1128, 1134, 1137, 1138, 1142, 1143, 1146, 1147, 1154, 1174, 1175, 1176, 1177, 1183, 1184, 1185, 1189, 1192, 1199, 1202, 1203, 1210, 1220, 1225, 1227, 1232, 1234, 1238, 1246, 1253, 1254, 1258, 1259, 1272, 1274, 1280, 1287, 1289, 1290, 1295, 1298, 1299, 1301, 1311, 1318, 1319, 1323, 1324, 1331, 1332, 1336, 1340, 1348, 1351, 1352, 1355, 1356, 1368, 1369, 1371, 1375, 1376, 1377, 1380, 1381, 1383, 1384, 1390, 1391, 1392, 1395, 1398, 1399, 1401, 1404, 1419, 1420, 1421, 1424, 1425, 1426, 1430, 1432, 1434, 1441, 1446, 1451, 1454, 1455, 1465, 1468, 1471, 1483, 1485, 1490, 1493, 1497, 1499, 1503, 1513, 1514, 1517, 1519, 1527, 1528, 1529, 1531, 1538, 1550, 1551, 1554, 1561, 1563, 1564, 1565, 1568, 1570, 1578, 1580, 1586, 1588, 1589, 1596, 1597, 1598, 1603, 1606, 1609, 1611, 1616, 1617, 1619, 1621, 1623, 1625, 1628, 1631, 1637, 1642, 1644, 1646, 1648, 1652, 1659, 1663, 1666, 1667, 1670, 1672, 1675, 1679, 1681, 1682, 1683, 1684, 1686, 1687, 1690, 1691, 1697, 1701, 1705, 1709, 1712, 1713, 1715, 1716, 1720, 1725, 1729, 1739, 1742, 1744, 1745, 1746, 1747, 1754, 1756, 1757, 1758, 1761, 1766, 1768, 1773, 1774, 1779, 1786, 1787, 1794, 1797, 1800, 1806, 1811, 1818, 1825, 1830, 1831, 1833, 1836, 1838, 1839, 1840, 1846, 1852, 1865, 1871, 1873, 1876, 1877, 1880, 1882, 1883, 1884, 1886, 1890, 1892, 1893, 1895, 1898, 1899, 1900, 1901, 1908, 1917, 1921, 1922, 1928, 1933, 1938, 1939, 1940, 1945, 1947, 1950, 1954, 1966, 1972, 1974, 1976, 1980, 1988, 1990, 1997, 1998, 2003, 2004, 2007, 2009, 2013, 2019, 2022, 2024, 2026, 2030, 2034, 2038, 2040, 2047, 2049, 2058, 2060, 2067, 2070, 2074, 2076, 2077, 2079, 2084, 2086, 2088, 2092, 2095, 2096, 2100, 2109, 2115, 2117, 2118, 2119, 2123, 2125, 2131, 2138, 2142, 2143, 2148, 2154, 2155, 2164, 2165, 2166, 2167, 2172, 2178, 2185, 2187, 2192, 2193, 2196, 2207, 2210, 2212, 2220, 2223, 2225, 2229, 2232, 2235, 2237, 2238, 2240, 2249, 2252, 2257, 2280, 2282, 2286, 2287, 2289, 2290, 2291, 2292, 2293, 2295, 2298, 2300, 2307, 2309, 2310, 2313, 2317, 2318, 2322, 2326, 2327, 2328, 2336, 2339, 2345, 2346, 2347, 2349, 2350, 2352, 2354, 2358, 2359, 2360, 2366, 2367, 2368, 2369, 2370, 2376, 2381, 2383, 2384, 2385, 2389, 2390, 2391, 2392, 2393, 2395, 2396, 2400, 2402, 2407, 2412, 2414, 2419, 2420, 2421, 2422, 2428, 2433, 2442, 2443, 2445, 2446, 2448, 2450, 2452, 2458, 2462, 2464, 2468, 2469, 2472, 2474, 2476, 2479, 2493, 2494, 2496, 2501, 2504, 2512, 2514, 2518, 2523, 2524, 2528, 2532, 2533, 2537, 2540, 2542, 2543, 2544, 2546, 2549, 2550, 2551, 2553, 2560, 2561, 2563, 2567, 2573, 2574, 2579, 2580, 2582, 2585, 2587, 2591, 2598, 2605, 2608, 2609, 2611, 2614, 2616, 2620, 2621, 2625, 2629, 2630, 2631, 2637, 2642, 2646, 2649, 2654, 2655, 2657, 2659, 2663, 2669, 2673]\n"
     ]
    }
   ],
   "source": [
    "zip_list = zip(open_test_data['label'].values, test_predictions1_0.argmax(axis=1))\n",
    "correct = 0\n",
    "count = 0\n",
    "wrong1_0 = []\n",
    "for ans, pred in zip_list:\n",
    "    if(ans==pred):\n",
    "        correct += 1\n",
    "    else:\n",
    "        wrong1_0.append(count)\n",
    "    count+=1\n",
    "percentage1_0 = correct/len(open_test_data['label'])\n",
    "\n",
    "zip_list = zip(open_test_data['label'].values, test_predictions1_2.argmax(axis=1))\n",
    "correct = 0\n",
    "count = 0\n",
    "wrong1_2 = []\n",
    "for ans, pred in zip_list:\n",
    "    if(ans==pred):\n",
    "        correct += 1\n",
    "    else:\n",
    "        wrong1_2.append(count)\n",
    "    count+=1\n",
    "percentage1_2 = correct/len(open_test_data['label'])\n",
    "\n",
    "zip_list = zip(open_test_data['label'].values, test_predictions1_3.argmax(axis=1))\n",
    "correct = 0\n",
    "count = 0\n",
    "wrong1_3 = []\n",
    "for ans, pred in zip_list:\n",
    "    if(ans==pred):\n",
    "        correct += 1\n",
    "    else:\n",
    "        wrong1_3.append(count)\n",
    "    count+=1\n",
    "percentage1_3 = correct/len(open_test_data['label'])\n",
    "\n",
    "zip_list = zip(open_test_data['label'].values, test_predictions1_4.argmax(axis=1))\n",
    "correct = 0\n",
    "count = 0\n",
    "wrong1_4 = []\n",
    "for ans, pred in zip_list:\n",
    "    if(ans==pred):\n",
    "        correct += 1\n",
    "    else:\n",
    "        wrong1_4.append(count)\n",
    "    count+=1\n",
    "percentage1_4 = correct/len(open_test_data['label'])\n",
    "\n",
    "zip_list = zip(open_test_data['label'].values, test_predictions1_5.argmax(axis=1))\n",
    "correct = 0\n",
    "count = 0\n",
    "wrong1_5 = []\n",
    "for ans, pred in zip_list:\n",
    "    if(ans==pred):\n",
    "        correct += 1\n",
    "    else:\n",
    "        wrong1_5.append(count)\n",
    "    count+=1\n",
    "percentage1_5 = correct/len(open_test_data['label'])\n",
    "\n",
    "print(percentage1_0, percentage1_2, percentage1_3, percentage1_4, percentage1_5)\n",
    "\n",
    "print('wrong1_0',wrong1_0)\n",
    "print('wrong1_2',wrong1_2)\n",
    "print('wrong1_3',wrong1_3)\n",
    "print('wrong1_4',wrong1_4)\n",
    "print('wrong1_5',wrong1_5)"
   ]
  },
  {
   "cell_type": "code",
   "execution_count": 418,
   "metadata": {},
   "outputs": [
    {
     "name": "stdout",
     "output_type": "stream",
     "text": [
      "0.6950037285607755 0.6957494407158836 0.6935123042505593 0.020879940343027592 0.6991051454138703\n",
      "wrong2_0 [0, 2, 7, 13, 14, 19, 20, 21, 24, 25, 28, 29, 32, 33, 34, 35, 40, 42, 43, 44, 48, 50, 53, 54, 57, 59, 64, 69, 70, 71, 72, 74, 76, 78, 79, 81, 86, 90, 93, 97, 98, 99, 100, 102, 104, 108, 116, 119, 122, 123, 130, 137, 139, 142, 144, 147, 148, 149, 151, 152, 154, 157, 158, 160, 168, 172, 173, 175, 179, 184, 186, 191, 193, 195, 199, 201, 202, 203, 205, 208, 218, 224, 227, 229, 230, 231, 236, 237, 240, 243, 245, 252, 257, 258, 259, 262, 263, 265, 271, 276, 277, 281, 284, 285, 287, 290, 292, 295, 297, 301, 306, 307, 308, 312, 313, 314, 315, 316, 325, 326, 328, 336, 338, 339, 340, 341, 342, 347, 349, 350, 362, 367, 372, 374, 379, 380, 391, 392, 393, 395, 396, 401, 404, 405, 420, 422, 426, 427, 432, 440, 447, 449, 454, 457, 459, 462, 465, 466, 467, 473, 474, 475, 476, 477, 479, 481, 484, 489, 495, 497, 498, 508, 511, 522, 523, 531, 532, 536, 538, 546, 547, 550, 552, 555, 558, 559, 560, 561, 562, 563, 565, 568, 569, 570, 580, 584, 587, 591, 598, 599, 602, 606, 608, 612, 613, 615, 618, 621, 628, 633, 634, 639, 640, 644, 645, 650, 656, 661, 662, 666, 668, 670, 672, 674, 675, 676, 677, 678, 680, 685, 686, 688, 690, 693, 698, 701, 705, 707, 708, 709, 711, 712, 718, 719, 727, 729, 731, 737, 742, 744, 746, 755, 759, 760, 762, 770, 771, 772, 775, 778, 784, 787, 791, 795, 802, 803, 805, 809, 812, 815, 816, 821, 825, 826, 829, 831, 832, 833, 839, 840, 843, 849, 850, 854, 858, 861, 866, 872, 875, 876, 880, 883, 885, 886, 887, 889, 892, 896, 897, 902, 903, 907, 912, 913, 914, 918, 919, 920, 933, 935, 940, 945, 946, 951, 953, 956, 958, 963, 967, 968, 971, 972, 977, 981, 984, 986, 992, 993, 997, 999, 1000, 1001, 1003, 1008, 1009, 1011, 1012, 1013, 1020, 1025, 1030, 1031, 1032, 1033, 1034, 1040, 1043, 1048, 1049, 1050, 1057, 1064, 1077, 1079, 1080, 1082, 1088, 1092, 1093, 1097, 1099, 1107, 1108, 1114, 1119, 1126, 1128, 1134, 1137, 1138, 1142, 1146, 1147, 1154, 1174, 1175, 1176, 1177, 1183, 1184, 1185, 1189, 1192, 1199, 1202, 1203, 1210, 1220, 1225, 1227, 1232, 1234, 1238, 1246, 1253, 1254, 1258, 1259, 1262, 1272, 1274, 1280, 1287, 1289, 1290, 1295, 1298, 1299, 1301, 1318, 1319, 1323, 1324, 1331, 1332, 1336, 1340, 1348, 1351, 1352, 1355, 1356, 1360, 1368, 1369, 1371, 1375, 1376, 1377, 1380, 1381, 1383, 1384, 1390, 1391, 1392, 1395, 1398, 1399, 1401, 1404, 1411, 1419, 1421, 1424, 1425, 1426, 1432, 1434, 1441, 1446, 1451, 1454, 1455, 1465, 1468, 1471, 1485, 1490, 1493, 1497, 1499, 1503, 1513, 1514, 1517, 1519, 1527, 1528, 1529, 1531, 1538, 1550, 1551, 1554, 1561, 1563, 1564, 1565, 1568, 1570, 1578, 1580, 1586, 1588, 1589, 1596, 1597, 1598, 1603, 1606, 1609, 1611, 1616, 1617, 1619, 1621, 1623, 1625, 1628, 1631, 1637, 1642, 1644, 1646, 1648, 1652, 1659, 1663, 1666, 1667, 1670, 1672, 1675, 1679, 1681, 1682, 1683, 1684, 1686, 1687, 1690, 1691, 1697, 1701, 1708, 1709, 1712, 1713, 1715, 1716, 1720, 1725, 1726, 1729, 1739, 1742, 1744, 1745, 1746, 1747, 1750, 1754, 1756, 1757, 1758, 1761, 1766, 1768, 1773, 1774, 1779, 1786, 1787, 1794, 1797, 1800, 1806, 1811, 1818, 1825, 1830, 1831, 1836, 1838, 1839, 1840, 1846, 1852, 1865, 1867, 1871, 1873, 1876, 1877, 1880, 1882, 1883, 1884, 1886, 1890, 1892, 1895, 1898, 1899, 1900, 1901, 1902, 1908, 1917, 1921, 1922, 1928, 1933, 1938, 1939, 1940, 1942, 1945, 1947, 1950, 1954, 1966, 1972, 1974, 1976, 1980, 1988, 1990, 1997, 1998, 2003, 2004, 2007, 2009, 2013, 2019, 2022, 2024, 2026, 2030, 2034, 2038, 2040, 2047, 2049, 2051, 2058, 2060, 2067, 2070, 2074, 2076, 2077, 2079, 2084, 2085, 2086, 2088, 2092, 2095, 2096, 2100, 2109, 2115, 2117, 2118, 2119, 2123, 2125, 2131, 2138, 2142, 2143, 2144, 2148, 2154, 2155, 2164, 2165, 2166, 2167, 2172, 2178, 2185, 2187, 2190, 2192, 2193, 2196, 2207, 2210, 2212, 2220, 2223, 2225, 2229, 2232, 2235, 2237, 2238, 2240, 2249, 2252, 2257, 2280, 2282, 2286, 2287, 2289, 2290, 2291, 2292, 2293, 2298, 2300, 2303, 2307, 2309, 2310, 2313, 2317, 2318, 2322, 2324, 2326, 2327, 2328, 2336, 2339, 2345, 2346, 2347, 2349, 2350, 2352, 2354, 2358, 2359, 2360, 2367, 2368, 2369, 2370, 2376, 2381, 2383, 2384, 2385, 2389, 2390, 2391, 2392, 2393, 2395, 2396, 2400, 2402, 2407, 2412, 2414, 2419, 2420, 2421, 2422, 2428, 2433, 2442, 2443, 2445, 2446, 2448, 2450, 2452, 2458, 2462, 2464, 2468, 2469, 2474, 2476, 2481, 2493, 2494, 2496, 2501, 2504, 2512, 2514, 2518, 2523, 2524, 2528, 2532, 2533, 2537, 2540, 2542, 2543, 2544, 2546, 2549, 2550, 2551, 2553, 2561, 2563, 2567, 2573, 2574, 2580, 2582, 2585, 2587, 2591, 2598, 2605, 2608, 2609, 2611, 2614, 2616, 2620, 2621, 2625, 2629, 2631, 2637, 2642, 2646, 2649, 2654, 2655, 2657, 2659, 2663, 2669, 2673]\n",
      "wrong2_1 [0, 2, 7, 13, 14, 19, 20, 21, 24, 25, 28, 29, 32, 33, 34, 35, 40, 42, 43, 44, 48, 50, 53, 54, 57, 59, 64, 69, 70, 71, 72, 74, 76, 79, 81, 86, 90, 93, 97, 98, 99, 100, 102, 104, 108, 116, 119, 122, 123, 130, 137, 139, 142, 144, 147, 148, 149, 151, 152, 154, 157, 158, 160, 168, 172, 173, 175, 179, 184, 186, 191, 193, 195, 199, 201, 202, 203, 205, 208, 218, 224, 227, 229, 230, 231, 236, 237, 240, 243, 245, 252, 257, 258, 259, 262, 263, 265, 271, 276, 277, 281, 284, 285, 287, 290, 292, 295, 297, 301, 306, 307, 308, 312, 313, 314, 315, 316, 325, 326, 328, 336, 338, 339, 340, 341, 342, 347, 349, 350, 362, 367, 372, 374, 379, 380, 391, 392, 393, 395, 396, 401, 404, 405, 420, 422, 426, 427, 432, 440, 447, 449, 454, 457, 459, 462, 465, 466, 467, 473, 474, 475, 476, 477, 479, 481, 484, 489, 495, 497, 498, 508, 511, 522, 523, 531, 532, 536, 538, 546, 547, 550, 552, 555, 558, 559, 560, 561, 563, 565, 568, 570, 580, 584, 587, 591, 598, 599, 602, 606, 608, 612, 613, 615, 618, 621, 628, 633, 634, 639, 640, 644, 645, 650, 656, 661, 662, 666, 668, 670, 672, 674, 675, 676, 677, 678, 680, 685, 686, 688, 690, 693, 698, 701, 705, 707, 708, 709, 711, 712, 718, 719, 727, 729, 731, 737, 742, 744, 746, 755, 759, 760, 762, 770, 771, 772, 775, 778, 784, 787, 791, 795, 802, 803, 805, 809, 812, 815, 816, 821, 825, 826, 829, 831, 832, 833, 839, 840, 843, 849, 850, 854, 858, 861, 866, 872, 875, 876, 880, 883, 885, 886, 887, 889, 892, 896, 897, 900, 902, 903, 907, 912, 913, 914, 918, 919, 920, 933, 935, 940, 945, 946, 951, 953, 956, 958, 963, 967, 968, 971, 972, 977, 981, 984, 986, 992, 993, 997, 999, 1000, 1001, 1003, 1008, 1009, 1011, 1013, 1020, 1025, 1030, 1031, 1032, 1033, 1034, 1040, 1043, 1048, 1049, 1050, 1057, 1064, 1077, 1079, 1080, 1082, 1088, 1092, 1093, 1097, 1099, 1107, 1108, 1114, 1119, 1126, 1128, 1134, 1137, 1138, 1142, 1146, 1147, 1154, 1174, 1175, 1176, 1177, 1183, 1184, 1185, 1189, 1192, 1199, 1202, 1203, 1210, 1220, 1225, 1227, 1232, 1234, 1238, 1246, 1253, 1254, 1258, 1259, 1262, 1272, 1274, 1280, 1287, 1289, 1290, 1295, 1298, 1299, 1301, 1318, 1319, 1323, 1324, 1331, 1332, 1336, 1340, 1348, 1351, 1352, 1355, 1356, 1360, 1368, 1369, 1371, 1375, 1376, 1377, 1380, 1381, 1383, 1384, 1390, 1391, 1392, 1395, 1398, 1399, 1401, 1403, 1404, 1411, 1419, 1421, 1424, 1425, 1426, 1432, 1434, 1441, 1446, 1451, 1454, 1455, 1465, 1468, 1471, 1485, 1490, 1493, 1497, 1499, 1503, 1513, 1514, 1517, 1519, 1527, 1528, 1529, 1531, 1538, 1550, 1551, 1554, 1561, 1563, 1564, 1565, 1568, 1570, 1578, 1580, 1586, 1588, 1589, 1596, 1597, 1598, 1603, 1606, 1609, 1611, 1616, 1617, 1619, 1621, 1623, 1625, 1628, 1631, 1637, 1642, 1644, 1646, 1648, 1652, 1659, 1663, 1666, 1667, 1670, 1672, 1675, 1679, 1681, 1682, 1683, 1684, 1686, 1687, 1690, 1691, 1697, 1701, 1708, 1709, 1712, 1713, 1715, 1716, 1720, 1725, 1726, 1729, 1739, 1742, 1744, 1745, 1746, 1747, 1750, 1754, 1756, 1757, 1758, 1761, 1766, 1768, 1773, 1774, 1779, 1786, 1787, 1794, 1797, 1800, 1806, 1811, 1818, 1825, 1830, 1831, 1836, 1838, 1839, 1840, 1846, 1852, 1865, 1867, 1871, 1873, 1876, 1877, 1880, 1882, 1883, 1884, 1886, 1890, 1892, 1895, 1898, 1899, 1900, 1901, 1908, 1917, 1921, 1922, 1928, 1933, 1938, 1939, 1940, 1942, 1945, 1947, 1950, 1954, 1966, 1972, 1974, 1976, 1980, 1988, 1990, 1997, 1998, 2003, 2004, 2007, 2009, 2013, 2019, 2022, 2024, 2026, 2030, 2034, 2038, 2040, 2047, 2049, 2051, 2058, 2060, 2067, 2070, 2074, 2076, 2077, 2079, 2084, 2085, 2086, 2088, 2092, 2095, 2096, 2100, 2109, 2115, 2117, 2118, 2119, 2123, 2125, 2131, 2138, 2142, 2143, 2144, 2148, 2154, 2155, 2164, 2165, 2166, 2167, 2172, 2178, 2185, 2187, 2190, 2192, 2193, 2196, 2207, 2210, 2212, 2220, 2223, 2225, 2229, 2232, 2235, 2237, 2238, 2240, 2249, 2252, 2257, 2280, 2282, 2286, 2287, 2289, 2290, 2291, 2292, 2293, 2298, 2300, 2303, 2307, 2309, 2310, 2313, 2317, 2318, 2324, 2326, 2327, 2328, 2336, 2339, 2345, 2346, 2347, 2349, 2350, 2352, 2354, 2358, 2359, 2360, 2367, 2368, 2369, 2370, 2376, 2381, 2383, 2384, 2385, 2389, 2390, 2391, 2392, 2393, 2395, 2396, 2400, 2402, 2407, 2412, 2414, 2419, 2420, 2421, 2422, 2428, 2433, 2442, 2443, 2445, 2446, 2448, 2450, 2452, 2458, 2462, 2464, 2468, 2469, 2474, 2476, 2481, 2493, 2494, 2496, 2501, 2504, 2512, 2514, 2518, 2523, 2524, 2526, 2528, 2532, 2533, 2537, 2540, 2542, 2543, 2544, 2546, 2549, 2550, 2551, 2553, 2561, 2563, 2567, 2573, 2574, 2580, 2582, 2585, 2587, 2591, 2598, 2605, 2608, 2609, 2611, 2614, 2616, 2620, 2621, 2625, 2629, 2631, 2637, 2642, 2646, 2649, 2654, 2655, 2657, 2659, 2660, 2663, 2669, 2673]\n",
      "wrong2_3 [0, 2, 7, 13, 14, 19, 20, 21, 24, 25, 28, 29, 32, 33, 34, 35, 40, 42, 43, 44, 48, 50, 53, 54, 57, 59, 64, 69, 70, 71, 72, 74, 76, 79, 81, 86, 90, 93, 97, 98, 99, 100, 102, 104, 108, 116, 119, 122, 123, 130, 137, 139, 142, 144, 147, 148, 149, 151, 152, 154, 157, 158, 160, 168, 172, 173, 175, 179, 184, 186, 191, 193, 195, 199, 201, 202, 203, 205, 208, 218, 224, 227, 229, 230, 231, 236, 237, 240, 243, 245, 252, 257, 258, 259, 262, 263, 265, 271, 276, 277, 281, 283, 284, 285, 287, 290, 292, 295, 297, 301, 306, 307, 308, 312, 313, 315, 316, 325, 326, 328, 336, 338, 339, 340, 341, 342, 347, 349, 350, 354, 362, 367, 368, 372, 374, 379, 380, 391, 392, 393, 395, 396, 401, 404, 405, 420, 422, 426, 427, 432, 440, 447, 449, 454, 457, 459, 462, 465, 466, 467, 473, 474, 476, 477, 479, 481, 484, 489, 495, 497, 498, 508, 511, 522, 523, 531, 532, 536, 538, 546, 547, 550, 552, 555, 556, 558, 559, 560, 562, 563, 565, 568, 570, 580, 584, 587, 591, 598, 599, 602, 606, 608, 612, 613, 615, 618, 621, 633, 634, 639, 640, 644, 645, 650, 656, 661, 662, 666, 668, 670, 672, 674, 675, 676, 677, 678, 680, 685, 686, 688, 690, 693, 698, 701, 705, 707, 708, 709, 711, 712, 718, 719, 727, 729, 731, 737, 739, 742, 744, 746, 755, 759, 760, 762, 770, 771, 772, 775, 778, 784, 787, 791, 795, 802, 803, 805, 809, 812, 815, 816, 821, 825, 826, 829, 831, 832, 833, 836, 839, 840, 843, 848, 849, 850, 854, 858, 861, 866, 872, 875, 876, 880, 883, 885, 886, 887, 889, 892, 896, 897, 902, 903, 907, 912, 913, 914, 918, 919, 920, 933, 935, 940, 945, 946, 951, 953, 956, 958, 963, 967, 968, 971, 972, 977, 981, 984, 986, 992, 993, 997, 999, 1000, 1001, 1003, 1008, 1009, 1011, 1012, 1013, 1020, 1025, 1030, 1031, 1032, 1033, 1034, 1040, 1043, 1046, 1048, 1049, 1050, 1057, 1064, 1065, 1079, 1080, 1082, 1088, 1089, 1092, 1093, 1097, 1099, 1107, 1108, 1114, 1119, 1126, 1128, 1134, 1137, 1138, 1142, 1146, 1147, 1154, 1174, 1175, 1176, 1177, 1183, 1184, 1185, 1189, 1192, 1199, 1202, 1203, 1210, 1220, 1225, 1227, 1232, 1234, 1238, 1246, 1253, 1254, 1258, 1259, 1272, 1274, 1280, 1287, 1289, 1290, 1295, 1298, 1299, 1301, 1318, 1319, 1323, 1324, 1331, 1332, 1336, 1340, 1348, 1351, 1352, 1355, 1356, 1360, 1368, 1369, 1371, 1375, 1376, 1377, 1380, 1381, 1383, 1384, 1390, 1391, 1392, 1395, 1398, 1399, 1401, 1404, 1411, 1419, 1420, 1421, 1424, 1425, 1426, 1432, 1434, 1441, 1446, 1451, 1454, 1455, 1465, 1468, 1471, 1485, 1490, 1493, 1497, 1499, 1503, 1513, 1514, 1517, 1519, 1527, 1528, 1529, 1531, 1538, 1550, 1551, 1554, 1561, 1563, 1564, 1565, 1568, 1570, 1572, 1578, 1580, 1586, 1588, 1589, 1596, 1597, 1598, 1603, 1606, 1609, 1611, 1616, 1617, 1619, 1621, 1623, 1625, 1628, 1631, 1637, 1642, 1644, 1646, 1648, 1652, 1659, 1663, 1666, 1667, 1670, 1672, 1675, 1679, 1681, 1682, 1683, 1684, 1686, 1687, 1690, 1691, 1697, 1701, 1708, 1709, 1712, 1713, 1715, 1716, 1720, 1725, 1726, 1729, 1739, 1742, 1744, 1745, 1746, 1747, 1750, 1754, 1756, 1757, 1758, 1761, 1766, 1768, 1773, 1774, 1779, 1786, 1787, 1794, 1797, 1800, 1806, 1811, 1818, 1825, 1830, 1831, 1836, 1838, 1839, 1840, 1846, 1852, 1865, 1871, 1873, 1876, 1877, 1880, 1882, 1883, 1884, 1886, 1890, 1892, 1895, 1898, 1899, 1900, 1901, 1908, 1917, 1921, 1922, 1928, 1933, 1938, 1939, 1940, 1945, 1947, 1950, 1951, 1954, 1966, 1972, 1974, 1976, 1980, 1987, 1988, 1990, 1997, 1998, 2003, 2004, 2007, 2009, 2013, 2019, 2022, 2026, 2030, 2034, 2038, 2040, 2042, 2047, 2049, 2051, 2058, 2060, 2067, 2070, 2074, 2076, 2077, 2079, 2084, 2085, 2086, 2092, 2095, 2096, 2100, 2109, 2115, 2117, 2118, 2119, 2123, 2125, 2131, 2138, 2142, 2143, 2144, 2148, 2154, 2155, 2164, 2165, 2166, 2167, 2172, 2178, 2179, 2185, 2187, 2190, 2192, 2193, 2196, 2207, 2210, 2212, 2220, 2223, 2225, 2229, 2232, 2235, 2237, 2238, 2240, 2249, 2252, 2257, 2280, 2282, 2286, 2287, 2289, 2290, 2291, 2292, 2293, 2295, 2298, 2300, 2303, 2307, 2310, 2313, 2317, 2318, 2324, 2326, 2327, 2328, 2336, 2339, 2345, 2346, 2347, 2349, 2350, 2352, 2354, 2358, 2359, 2360, 2366, 2367, 2368, 2369, 2370, 2376, 2381, 2383, 2385, 2389, 2390, 2391, 2392, 2393, 2395, 2396, 2400, 2402, 2407, 2412, 2414, 2419, 2420, 2421, 2422, 2428, 2433, 2442, 2443, 2445, 2446, 2448, 2450, 2452, 2458, 2462, 2464, 2468, 2469, 2474, 2476, 2481, 2493, 2494, 2496, 2501, 2504, 2512, 2514, 2518, 2523, 2524, 2526, 2528, 2532, 2533, 2537, 2540, 2542, 2543, 2544, 2546, 2549, 2550, 2551, 2553, 2561, 2563, 2567, 2573, 2574, 2577, 2580, 2585, 2587, 2591, 2598, 2605, 2608, 2609, 2611, 2614, 2616, 2620, 2621, 2625, 2629, 2631, 2637, 2642, 2646, 2649, 2654, 2655, 2657, 2659, 2663, 2669, 2673, 2676]\n",
      "wrong2_4 [0, 1, 2, 3, 4, 5, 6, 7, 8, 9, 10, 11, 12, 13, 14, 15, 16, 17, 18, 19, 20, 21, 22, 23, 24, 25, 26, 27, 28, 29, 30, 31, 32, 33, 34, 35, 36, 37, 38, 39, 40, 41, 42, 43, 44, 45, 46, 47, 48, 49, 50, 51, 52, 53, 54, 55, 56, 57, 58, 59, 60, 61, 62, 63, 64, 65, 66, 67, 68, 69, 70, 71, 72, 73, 74, 75, 76, 77, 78, 79, 80, 81, 82, 83, 84, 85, 86, 87, 88, 89, 90, 91, 92, 93, 94, 95, 96, 97, 98, 99, 100, 101, 102, 103, 104, 105, 106, 107, 108, 109, 110, 111, 112, 113, 114, 115, 116, 117, 118, 119, 120, 121, 122, 123, 124, 125, 126, 127, 128, 129, 130, 131, 132, 133, 134, 135, 136, 137, 138, 139, 140, 141, 142, 143, 144, 145, 146, 147, 148, 149, 151, 152, 153, 154, 155, 156, 157, 158, 159, 160, 161, 163, 164, 165, 166, 167, 168, 169, 170, 171, 172, 173, 174, 175, 176, 177, 178, 179, 180, 181, 182, 183, 184, 185, 186, 187, 188, 189, 190, 191, 192, 193, 194, 195, 196, 197, 198, 199, 200, 201, 202, 203, 204, 205, 206, 207, 209, 210, 211, 212, 213, 214, 215, 216, 217, 218, 219, 220, 221, 222, 223, 224, 225, 226, 227, 228, 229, 230, 231, 232, 233, 234, 235, 236, 237, 238, 239, 240, 241, 242, 243, 244, 245, 246, 247, 248, 249, 250, 251, 252, 253, 254, 255, 256, 257, 258, 259, 260, 261, 262, 263, 264, 265, 266, 267, 268, 269, 270, 271, 272, 273, 274, 275, 276, 277, 278, 279, 280, 281, 282, 283, 284, 285, 286, 287, 288, 289, 290, 291, 292, 293, 294, 295, 296, 297, 298, 299, 300, 301, 302, 303, 304, 305, 306, 307, 308, 309, 310, 311, 312, 314, 315, 316, 317, 318, 319, 320, 321, 322, 323, 324, 325, 326, 327, 328, 329, 330, 331, 332, 333, 334, 335, 336, 337, 338, 339, 340, 341, 342, 343, 344, 345, 346, 347, 348, 349, 350, 351, 352, 353, 354, 355, 356, 357, 358, 359, 360, 361, 362, 363, 364, 365, 366, 367, 368, 369, 370, 371, 372, 373, 374, 375, 376, 377, 378, 379, 380, 381, 382, 383, 384, 385, 386, 387, 388, 389, 390, 391, 392, 393, 394, 395, 396, 397, 398, 399, 400, 401, 402, 403, 404, 405, 406, 407, 408, 409, 410, 411, 412, 413, 414, 415, 416, 417, 418, 419, 420, 421, 422, 423, 424, 425, 426, 427, 428, 429, 430, 432, 433, 434, 435, 436, 437, 438, 439, 440, 441, 442, 443, 444, 445, 446, 447, 448, 449, 450, 451, 452, 453, 454, 455, 456, 457, 458, 460, 461, 462, 463, 464, 465, 466, 467, 468, 469, 470, 471, 472, 473, 474, 475, 476, 477, 478, 479, 480, 481, 482, 483, 484, 485, 486, 487, 488, 489, 490, 491, 492, 493, 494, 495, 496, 497, 498, 499, 500, 501, 502, 503, 504, 505, 506, 507, 508, 509, 510, 512, 513, 514, 515, 516, 517, 518, 519, 520, 521, 522, 523, 524, 525, 526, 527, 528, 529, 530, 531, 532, 533, 534, 535, 536, 537, 538, 539, 540, 541, 542, 543, 544, 545, 546, 547, 548, 549, 550, 551, 552, 553, 554, 555, 556, 557, 558, 559, 560, 561, 562, 563, 564, 565, 566, 567, 568, 569, 570, 571, 572, 573, 574, 575, 576, 577, 578, 579, 580, 581, 582, 583, 584, 585, 586, 587, 588, 589, 590, 591, 592, 593, 594, 595, 596, 597, 599, 600, 601, 602, 603, 604, 605, 606, 607, 608, 609, 610, 611, 612, 613, 614, 615, 616, 617, 618, 619, 620, 621, 622, 623, 624, 625, 626, 627, 629, 630, 631, 632, 633, 634, 635, 636, 637, 638, 639, 640, 641, 642, 643, 644, 645, 646, 647, 648, 649, 650, 651, 652, 653, 655, 656, 657, 658, 659, 660, 661, 662, 663, 664, 665, 666, 667, 668, 669, 670, 671, 672, 673, 674, 675, 676, 677, 678, 679, 680, 681, 682, 683, 684, 685, 686, 687, 688, 689, 690, 691, 692, 693, 694, 695, 696, 697, 698, 699, 700, 701, 702, 703, 704, 705, 706, 707, 708, 709, 710, 711, 712, 713, 714, 715, 716, 717, 718, 719, 720, 721, 722, 723, 724, 725, 726, 727, 728, 729, 730, 731, 732, 733, 734, 735, 736, 737, 738, 739, 740, 741, 742, 743, 744, 745, 746, 747, 748, 749, 750, 751, 752, 753, 754, 755, 756, 757, 758, 759, 760, 761, 762, 763, 764, 765, 766, 767, 768, 769, 770, 771, 772, 773, 774, 775, 776, 777, 778, 779, 780, 781, 782, 783, 784, 785, 786, 788, 789, 790, 791, 792, 793, 795, 796, 797, 798, 799, 800, 801, 802, 803, 804, 805, 806, 807, 808, 809, 810, 811, 812, 813, 814, 815, 816, 817, 818, 819, 820, 821, 822, 823, 824, 825, 826, 827, 828, 829, 830, 831, 832, 833, 834, 835, 836, 837, 838, 839, 840, 841, 842, 843, 844, 845, 846, 847, 849, 850, 851, 852, 853, 854, 855, 856, 857, 858, 859, 860, 861, 862, 863, 864, 865, 866, 867, 868, 869, 870, 871, 872, 873, 874, 875, 876, 877, 878, 879, 880, 881, 882, 883, 884, 885, 886, 887, 888, 889, 890, 891, 892, 893, 894, 895, 896, 897, 898, 899, 900, 901, 902, 904, 905, 906, 907, 908, 909, 910, 911, 912, 913, 914, 915, 916, 917, 918, 919, 920, 921, 922, 923, 924, 925, 926, 927, 928, 929, 930, 931, 932, 933, 934, 935, 936, 937, 938, 939, 940, 941, 942, 943, 944, 945, 946, 947, 948, 949, 950, 951, 952, 953, 954, 955, 956, 957, 958, 959, 960, 961, 962, 963, 964, 965, 966, 967, 968, 969, 970, 971, 972, 973, 974, 975, 976, 977, 978, 979, 980, 981, 982, 983, 984, 985, 986, 987, 988, 989, 990, 991, 992, 993, 994, 995, 996, 997, 998, 999, 1000, 1001, 1002, 1003, 1004, 1005, 1006, 1007, 1008, 1010, 1011, 1012, 1013, 1014, 1015, 1016, 1017, 1018, 1019, 1020, 1021, 1022, 1023, 1024, 1025, 1026, 1027, 1028, 1029, 1030, 1031, 1032, 1033, 1034, 1035, 1036, 1037, 1038, 1039, 1040, 1041, 1042, 1043, 1044, 1045, 1046, 1047, 1048, 1049, 1050, 1051, 1052, 1053, 1054, 1055, 1056, 1057, 1058, 1059, 1060, 1061, 1062, 1063, 1064, 1065, 1066, 1067, 1068, 1069, 1070, 1071, 1072, 1073, 1074, 1075, 1076, 1077, 1078, 1079, 1080, 1081, 1082, 1083, 1084, 1085, 1086, 1087, 1088, 1089, 1090, 1091, 1092, 1093, 1094, 1095, 1096, 1097, 1098, 1099, 1100, 1101, 1102, 1103, 1104, 1105, 1106, 1107, 1108, 1109, 1110, 1111, 1112, 1113, 1114, 1115, 1116, 1117, 1118, 1119, 1120, 1121, 1122, 1123, 1124, 1125, 1126, 1127, 1128, 1129, 1130, 1131, 1132, 1133, 1134, 1135, 1136, 1137, 1138, 1139, 1140, 1141, 1142, 1144, 1145, 1146, 1147, 1148, 1149, 1150, 1151, 1152, 1153, 1154, 1155, 1156, 1157, 1158, 1159, 1160, 1161, 1162, 1163, 1164, 1165, 1166, 1167, 1168, 1169, 1170, 1171, 1172, 1173, 1174, 1175, 1176, 1177, 1178, 1179, 1180, 1181, 1182, 1183, 1184, 1185, 1186, 1187, 1188, 1189, 1190, 1191, 1192, 1193, 1194, 1195, 1196, 1197, 1198, 1199, 1200, 1201, 1202, 1203, 1204, 1205, 1206, 1207, 1208, 1209, 1210, 1211, 1212, 1213, 1214, 1215, 1216, 1217, 1218, 1219, 1220, 1221, 1222, 1223, 1224, 1225, 1226, 1227, 1228, 1229, 1230, 1231, 1232, 1233, 1234, 1235, 1236, 1237, 1238, 1239, 1240, 1241, 1242, 1243, 1244, 1245, 1246, 1247, 1248, 1249, 1250, 1251, 1252, 1253, 1254, 1255, 1256, 1257, 1258, 1259, 1260, 1261, 1262, 1263, 1264, 1265, 1266, 1267, 1268, 1269, 1270, 1271, 1272, 1273, 1274, 1275, 1276, 1277, 1278, 1279, 1280, 1281, 1282, 1283, 1284, 1285, 1286, 1287, 1288, 1289, 1290, 1291, 1292, 1293, 1294, 1295, 1296, 1297, 1298, 1299, 1300, 1301, 1302, 1303, 1304, 1306, 1307, 1308, 1309, 1310, 1311, 1312, 1313, 1314, 1315, 1316, 1317, 1318, 1319, 1320, 1321, 1322, 1323, 1324, 1325, 1326, 1327, 1328, 1329, 1330, 1331, 1333, 1334, 1335, 1336, 1337, 1338, 1339, 1340, 1341, 1342, 1343, 1344, 1345, 1346, 1347, 1348, 1349, 1350, 1351, 1352, 1353, 1354, 1355, 1356, 1357, 1358, 1359, 1360, 1361, 1362, 1363, 1364, 1365, 1366, 1367, 1369, 1370, 1371, 1372, 1373, 1374, 1375, 1376, 1377, 1378, 1379, 1380, 1381, 1382, 1383, 1384, 1385, 1386, 1387, 1388, 1389, 1390, 1391, 1392, 1393, 1394, 1395, 1396, 1397, 1398, 1399, 1400, 1401, 1402, 1403, 1404, 1405, 1407, 1408, 1409, 1410, 1411, 1412, 1413, 1414, 1415, 1416, 1417, 1418, 1419, 1421, 1422, 1423, 1424, 1425, 1426, 1427, 1428, 1429, 1430, 1431, 1432, 1433, 1434, 1435, 1436, 1437, 1438, 1439, 1440, 1441, 1442, 1443, 1444, 1445, 1446, 1447, 1448, 1449, 1450, 1451, 1452, 1453, 1454, 1455, 1456, 1458, 1459, 1460, 1461, 1462, 1463, 1464, 1465, 1466, 1467, 1468, 1469, 1470, 1471, 1472, 1473, 1474, 1475, 1476, 1477, 1478, 1479, 1480, 1481, 1482, 1483, 1484, 1485, 1486, 1487, 1488, 1489, 1490, 1491, 1492, 1493, 1494, 1495, 1496, 1497, 1498, 1499, 1500, 1501, 1502, 1503, 1504, 1505, 1506, 1507, 1508, 1509, 1510, 1511, 1512, 1513, 1514, 1515, 1516, 1517, 1518, 1519, 1520, 1521, 1522, 1523, 1524, 1525, 1526, 1527, 1528, 1529, 1530, 1531, 1532, 1533, 1534, 1535, 1536, 1537, 1538, 1539, 1540, 1541, 1542, 1543, 1544, 1545, 1546, 1547, 1548, 1550, 1551, 1552, 1553, 1554, 1556, 1557, 1558, 1559, 1560, 1561, 1562, 1563, 1564, 1565, 1566, 1567, 1568, 1569, 1570, 1571, 1572, 1573, 1574, 1575, 1576, 1577, 1578, 1579, 1580, 1581, 1582, 1583, 1584, 1585, 1587, 1588, 1589, 1590, 1592, 1593, 1594, 1595, 1596, 1597, 1598, 1599, 1600, 1601, 1602, 1604, 1605, 1606, 1608, 1609, 1610, 1611, 1612, 1613, 1614, 1615, 1616, 1617, 1618, 1619, 1620, 1621, 1622, 1623, 1624, 1625, 1626, 1627, 1628, 1629, 1630, 1631, 1632, 1633, 1634, 1635, 1636, 1637, 1638, 1639, 1640, 1641, 1642, 1643, 1644, 1645, 1646, 1647, 1648, 1649, 1650, 1651, 1652, 1653, 1654, 1655, 1656, 1657, 1658, 1659, 1660, 1661, 1662, 1663, 1664, 1665, 1666, 1667, 1668, 1669, 1670, 1671, 1672, 1673, 1674, 1675, 1676, 1677, 1678, 1679, 1680, 1681, 1682, 1683, 1684, 1685, 1686, 1687, 1688, 1689, 1690, 1691, 1692, 1693, 1694, 1695, 1696, 1697, 1698, 1699, 1700, 1701, 1702, 1703, 1704, 1705, 1706, 1707, 1708, 1709, 1710, 1711, 1712, 1713, 1714, 1715, 1716, 1717, 1718, 1719, 1720, 1721, 1722, 1723, 1724, 1725, 1726, 1727, 1728, 1729, 1730, 1731, 1732, 1733, 1734, 1735, 1736, 1737, 1738, 1739, 1740, 1741, 1742, 1743, 1744, 1745, 1746, 1747, 1748, 1750, 1751, 1752, 1753, 1754, 1755, 1756, 1757, 1759, 1760, 1761, 1762, 1763, 1764, 1765, 1766, 1767, 1768, 1769, 1770, 1771, 1772, 1773, 1774, 1775, 1776, 1777, 1778, 1779, 1780, 1781, 1782, 1783, 1784, 1785, 1786, 1787, 1788, 1789, 1790, 1791, 1792, 1793, 1794, 1795, 1796, 1797, 1798, 1799, 1800, 1801, 1802, 1803, 1804, 1805, 1806, 1807, 1808, 1809, 1810, 1811, 1812, 1813, 1814, 1815, 1816, 1817, 1818, 1819, 1820, 1821, 1822, 1823, 1824, 1825, 1826, 1827, 1828, 1829, 1830, 1831, 1832, 1833, 1834, 1835, 1836, 1837, 1838, 1839, 1840, 1841, 1842, 1843, 1844, 1845, 1846, 1847, 1848, 1849, 1850, 1851, 1852, 1853, 1854, 1855, 1856, 1857, 1858, 1859, 1860, 1861, 1862, 1863, 1864, 1865, 1866, 1867, 1868, 1869, 1870, 1871, 1872, 1873, 1874, 1875, 1876, 1877, 1878, 1879, 1880, 1881, 1882, 1883, 1884, 1885, 1886, 1887, 1888, 1889, 1890, 1891, 1892, 1893, 1894, 1895, 1896, 1897, 1898, 1899, 1900, 1901, 1902, 1904, 1905, 1906, 1907, 1908, 1909, 1910, 1911, 1913, 1914, 1915, 1916, 1917, 1918, 1919, 1920, 1921, 1922, 1923, 1924, 1925, 1926, 1927, 1928, 1929, 1930, 1931, 1932, 1933, 1934, 1935, 1936, 1937, 1938, 1940, 1941, 1942, 1943, 1944, 1945, 1946, 1947, 1948, 1949, 1950, 1951, 1952, 1953, 1954, 1955, 1956, 1957, 1958, 1959, 1960, 1961, 1962, 1963, 1964, 1965, 1966, 1967, 1968, 1969, 1970, 1971, 1973, 1974, 1975, 1976, 1977, 1978, 1979, 1980, 1981, 1982, 1983, 1984, 1985, 1986, 1988, 1989, 1990, 1991, 1992, 1993, 1994, 1995, 1996, 1997, 1998, 1999, 2000, 2001, 2002, 2003, 2005, 2006, 2007, 2008, 2009, 2010, 2011, 2012, 2013, 2014, 2015, 2016, 2017, 2018, 2019, 2020, 2021, 2023, 2024, 2025, 2026, 2027, 2028, 2029, 2030, 2031, 2032, 2033, 2034, 2035, 2037, 2038, 2039, 2040, 2041, 2042, 2043, 2044, 2045, 2046, 2049, 2050, 2051, 2052, 2053, 2054, 2055, 2056, 2057, 2058, 2059, 2060, 2061, 2062, 2063, 2064, 2065, 2066, 2067, 2068, 2069, 2070, 2071, 2072, 2073, 2074, 2075, 2076, 2077, 2078, 2079, 2080, 2081, 2082, 2083, 2084, 2085, 2086, 2087, 2088, 2089, 2090, 2091, 2092, 2093, 2094, 2095, 2096, 2097, 2098, 2099, 2100, 2101, 2102, 2103, 2104, 2105, 2106, 2107, 2108, 2109, 2110, 2111, 2112, 2113, 2114, 2115, 2116, 2117, 2118, 2119, 2120, 2121, 2122, 2123, 2124, 2126, 2127, 2128, 2129, 2130, 2131, 2132, 2133, 2134, 2135, 2136, 2137, 2138, 2139, 2140, 2142, 2143, 2145, 2146, 2147, 2148, 2149, 2150, 2151, 2152, 2153, 2154, 2155, 2156, 2157, 2158, 2159, 2160, 2161, 2162, 2163, 2164, 2165, 2166, 2167, 2168, 2169, 2170, 2171, 2172, 2173, 2174, 2175, 2176, 2177, 2178, 2179, 2180, 2181, 2182, 2183, 2184, 2185, 2186, 2187, 2188, 2189, 2190, 2191, 2192, 2193, 2194, 2195, 2196, 2197, 2198, 2199, 2200, 2201, 2202, 2203, 2204, 2205, 2206, 2207, 2208, 2209, 2210, 2211, 2212, 2213, 2214, 2215, 2216, 2217, 2218, 2219, 2220, 2221, 2222, 2223, 2224, 2225, 2226, 2227, 2228, 2229, 2230, 2231, 2232, 2233, 2234, 2235, 2236, 2237, 2238, 2239, 2240, 2242, 2243, 2244, 2245, 2246, 2247, 2248, 2249, 2250, 2251, 2252, 2253, 2254, 2255, 2256, 2257, 2258, 2259, 2260, 2261, 2262, 2263, 2264, 2265, 2266, 2267, 2268, 2269, 2270, 2271, 2272, 2273, 2274, 2275, 2276, 2277, 2278, 2279, 2280, 2281, 2282, 2283, 2284, 2285, 2286, 2287, 2288, 2289, 2290, 2291, 2292, 2293, 2294, 2295, 2296, 2297, 2298, 2299, 2300, 2301, 2302, 2303, 2304, 2305, 2306, 2307, 2308, 2309, 2310, 2311, 2312, 2313, 2314, 2315, 2316, 2317, 2318, 2319, 2320, 2321, 2322, 2323, 2324, 2325, 2326, 2327, 2329, 2330, 2331, 2332, 2333, 2334, 2335, 2336, 2337, 2338, 2339, 2340, 2341, 2342, 2343, 2344, 2345, 2346, 2347, 2348, 2349, 2350, 2351, 2352, 2353, 2354, 2355, 2356, 2357, 2358, 2359, 2360, 2361, 2362, 2363, 2364, 2365, 2366, 2367, 2368, 2369, 2370, 2371, 2372, 2373, 2374, 2375, 2376, 2377, 2379, 2380, 2381, 2382, 2383, 2384, 2385, 2386, 2387, 2388, 2389, 2390, 2391, 2392, 2393, 2394, 2395, 2396, 2397, 2398, 2399, 2400, 2401, 2402, 2403, 2404, 2405, 2406, 2407, 2408, 2409, 2410, 2411, 2412, 2413, 2414, 2415, 2416, 2417, 2418, 2419, 2420, 2421, 2422, 2423, 2424, 2425, 2426, 2427, 2429, 2430, 2431, 2432, 2433, 2434, 2435, 2436, 2437, 2438, 2439, 2440, 2441, 2442, 2443, 2444, 2445, 2446, 2447, 2448, 2449, 2450, 2451, 2452, 2453, 2454, 2455, 2456, 2457, 2458, 2459, 2460, 2461, 2462, 2463, 2465, 2466, 2467, 2468, 2469, 2470, 2471, 2472, 2473, 2474, 2475, 2476, 2477, 2478, 2479, 2480, 2481, 2482, 2483, 2484, 2485, 2486, 2487, 2488, 2489, 2490, 2491, 2492, 2493, 2494, 2495, 2496, 2497, 2498, 2499, 2500, 2501, 2502, 2503, 2504, 2505, 2506, 2507, 2508, 2509, 2510, 2511, 2512, 2513, 2514, 2515, 2516, 2518, 2519, 2520, 2521, 2522, 2524, 2525, 2526, 2527, 2528, 2529, 2530, 2531, 2532, 2533, 2534, 2535, 2536, 2537, 2538, 2539, 2542, 2543, 2544, 2545, 2546, 2547, 2548, 2550, 2551, 2552, 2553, 2554, 2555, 2556, 2557, 2558, 2559, 2560, 2561, 2562, 2563, 2564, 2565, 2566, 2567, 2568, 2569, 2570, 2571, 2572, 2573, 2574, 2575, 2576, 2577, 2578, 2579, 2580, 2581, 2582, 2583, 2584, 2585, 2586, 2587, 2588, 2589, 2590, 2591, 2592, 2593, 2594, 2595, 2596, 2597, 2598, 2599, 2600, 2601, 2602, 2603, 2604, 2605, 2606, 2607, 2608, 2609, 2610, 2611, 2612, 2613, 2615, 2616, 2617, 2618, 2619, 2620, 2621, 2622, 2623, 2624, 2625, 2626, 2627, 2628, 2630, 2631, 2632, 2633, 2634, 2635, 2636, 2637, 2638, 2639, 2641, 2642, 2643, 2644, 2645, 2646, 2647, 2648, 2649, 2650, 2651, 2652, 2653, 2654, 2655, 2656, 2657, 2658, 2659, 2660, 2661, 2662, 2663, 2664, 2665, 2666, 2667, 2668, 2669, 2670, 2671, 2672, 2673, 2674, 2675, 2676, 2677, 2678, 2679, 2680, 2681]\n",
      "wrong2_5 [0, 2, 7, 13, 14, 19, 20, 21, 24, 25, 28, 29, 32, 33, 34, 35, 40, 42, 43, 44, 48, 50, 54, 55, 57, 59, 64, 69, 70, 71, 72, 74, 76, 79, 81, 86, 90, 93, 97, 98, 99, 100, 102, 104, 108, 116, 119, 122, 123, 130, 137, 139, 142, 144, 147, 148, 149, 151, 152, 154, 157, 158, 168, 172, 173, 175, 179, 184, 186, 191, 193, 195, 199, 201, 202, 203, 205, 208, 218, 224, 227, 229, 230, 231, 236, 237, 240, 243, 245, 252, 257, 258, 259, 262, 263, 265, 271, 276, 277, 281, 284, 285, 287, 290, 295, 297, 301, 306, 307, 308, 312, 313, 315, 316, 325, 326, 328, 329, 336, 338, 339, 340, 341, 342, 347, 349, 350, 362, 372, 374, 379, 380, 391, 393, 395, 396, 401, 404, 405, 420, 422, 426, 427, 432, 440, 447, 449, 454, 457, 459, 462, 465, 466, 467, 473, 474, 475, 476, 477, 479, 481, 484, 489, 495, 497, 498, 508, 511, 522, 523, 531, 532, 536, 538, 546, 547, 550, 552, 555, 556, 558, 560, 561, 563, 565, 568, 569, 570, 580, 584, 587, 591, 598, 599, 602, 606, 608, 612, 613, 615, 618, 621, 628, 633, 634, 639, 644, 645, 650, 656, 661, 662, 666, 668, 670, 672, 674, 675, 676, 677, 678, 680, 685, 686, 688, 690, 693, 698, 701, 705, 707, 708, 709, 711, 718, 719, 727, 729, 731, 737, 742, 744, 746, 755, 759, 760, 762, 770, 771, 772, 775, 778, 784, 787, 791, 795, 802, 803, 804, 805, 809, 812, 815, 816, 821, 825, 826, 829, 831, 832, 833, 836, 839, 840, 843, 849, 850, 854, 858, 861, 866, 872, 875, 876, 883, 885, 886, 887, 889, 892, 896, 897, 900, 902, 903, 907, 912, 913, 914, 918, 919, 920, 933, 935, 940, 945, 946, 951, 953, 956, 958, 963, 967, 968, 971, 972, 977, 981, 984, 986, 992, 993, 997, 999, 1000, 1001, 1008, 1009, 1011, 1013, 1020, 1025, 1030, 1031, 1032, 1033, 1034, 1040, 1043, 1048, 1049, 1050, 1057, 1064, 1077, 1079, 1080, 1082, 1088, 1092, 1093, 1097, 1099, 1114, 1119, 1126, 1128, 1134, 1137, 1138, 1142, 1143, 1146, 1147, 1154, 1174, 1175, 1176, 1177, 1183, 1184, 1185, 1189, 1192, 1199, 1202, 1203, 1210, 1220, 1225, 1227, 1232, 1234, 1238, 1246, 1253, 1254, 1258, 1259, 1272, 1274, 1280, 1287, 1289, 1290, 1295, 1298, 1299, 1301, 1311, 1318, 1319, 1323, 1324, 1331, 1332, 1336, 1340, 1348, 1351, 1352, 1355, 1356, 1368, 1369, 1371, 1375, 1376, 1377, 1380, 1381, 1383, 1384, 1390, 1391, 1392, 1395, 1398, 1399, 1401, 1404, 1419, 1420, 1421, 1424, 1425, 1426, 1430, 1432, 1434, 1441, 1446, 1451, 1454, 1455, 1465, 1468, 1471, 1483, 1485, 1490, 1493, 1497, 1499, 1503, 1513, 1514, 1517, 1519, 1527, 1528, 1529, 1531, 1538, 1550, 1551, 1554, 1561, 1563, 1564, 1565, 1568, 1570, 1578, 1580, 1586, 1588, 1589, 1596, 1597, 1598, 1603, 1606, 1609, 1611, 1616, 1617, 1619, 1621, 1623, 1625, 1628, 1631, 1637, 1642, 1644, 1646, 1648, 1652, 1659, 1663, 1666, 1667, 1670, 1672, 1675, 1679, 1681, 1682, 1683, 1684, 1686, 1687, 1690, 1691, 1697, 1701, 1705, 1709, 1712, 1713, 1715, 1716, 1720, 1725, 1729, 1739, 1742, 1744, 1745, 1746, 1747, 1754, 1756, 1757, 1758, 1761, 1766, 1768, 1773, 1774, 1779, 1786, 1787, 1794, 1797, 1800, 1806, 1811, 1818, 1825, 1830, 1831, 1833, 1836, 1838, 1839, 1840, 1846, 1852, 1865, 1871, 1873, 1876, 1877, 1880, 1882, 1883, 1884, 1886, 1890, 1892, 1893, 1895, 1898, 1899, 1900, 1901, 1908, 1917, 1921, 1922, 1928, 1933, 1938, 1939, 1940, 1945, 1947, 1950, 1954, 1966, 1972, 1974, 1976, 1980, 1988, 1990, 1997, 1998, 2003, 2004, 2007, 2009, 2013, 2019, 2022, 2024, 2026, 2030, 2034, 2038, 2040, 2047, 2049, 2058, 2060, 2067, 2070, 2074, 2076, 2077, 2079, 2084, 2086, 2088, 2092, 2095, 2096, 2100, 2109, 2115, 2117, 2118, 2119, 2123, 2125, 2131, 2138, 2142, 2143, 2148, 2154, 2155, 2164, 2165, 2166, 2167, 2172, 2178, 2185, 2187, 2192, 2193, 2196, 2207, 2210, 2212, 2220, 2223, 2225, 2229, 2232, 2235, 2237, 2238, 2240, 2249, 2252, 2257, 2280, 2282, 2286, 2287, 2289, 2290, 2291, 2292, 2293, 2295, 2298, 2300, 2307, 2309, 2310, 2313, 2317, 2318, 2322, 2326, 2327, 2328, 2336, 2339, 2345, 2346, 2347, 2349, 2350, 2352, 2354, 2358, 2359, 2360, 2366, 2367, 2368, 2369, 2370, 2376, 2381, 2383, 2384, 2385, 2389, 2390, 2391, 2392, 2393, 2395, 2396, 2400, 2402, 2407, 2412, 2414, 2419, 2420, 2421, 2422, 2428, 2433, 2442, 2443, 2445, 2446, 2448, 2450, 2452, 2458, 2462, 2464, 2468, 2469, 2472, 2474, 2476, 2479, 2493, 2494, 2496, 2501, 2504, 2512, 2514, 2518, 2523, 2524, 2528, 2532, 2533, 2537, 2540, 2542, 2543, 2544, 2546, 2549, 2550, 2551, 2553, 2560, 2561, 2563, 2567, 2573, 2574, 2579, 2580, 2582, 2585, 2587, 2591, 2598, 2605, 2608, 2609, 2611, 2614, 2616, 2620, 2621, 2625, 2629, 2630, 2631, 2637, 2642, 2646, 2649, 2654, 2655, 2657, 2659, 2663, 2669, 2673]\n"
     ]
    }
   ],
   "source": [
    "zip_list = zip(open_test_data['label'].values, test_predictions2_0.argmax(axis=1))\n",
    "correct = 0\n",
    "count = 0\n",
    "wrong2_0 = []\n",
    "for ans, pred in zip_list:\n",
    "    if(ans==pred):\n",
    "        correct += 1\n",
    "    else:\n",
    "        wrong2_0.append(count)\n",
    "    count+=1\n",
    "percentage2_0 = correct/len(open_test_data['label'])\n",
    "\n",
    "zip_list = zip(open_test_data['label'].values, test_predictions2_1.argmax(axis=1))\n",
    "correct = 0\n",
    "count = 0\n",
    "wrong2_1 = []\n",
    "for ans, pred in zip_list:\n",
    "    if(ans==pred):\n",
    "        correct += 1\n",
    "    else:\n",
    "        wrong2_1.append(count)\n",
    "    count+=1\n",
    "percentage2_1 = correct/len(open_test_data['label'])\n",
    "\n",
    "zip_list = zip(open_test_data['label'].values, test_predictions2_3.argmax(axis=1))\n",
    "correct = 0\n",
    "count = 0\n",
    "wrong2_3 = []\n",
    "for ans, pred in zip_list:\n",
    "    if(ans==pred):\n",
    "        correct += 1\n",
    "    else:\n",
    "        wrong2_3.append(count)\n",
    "    count+=1\n",
    "percentage2_3 = correct/len(open_test_data['label'])\n",
    "\n",
    "zip_list = zip(open_test_data['label'].values, test_predictions2_4.argmax(axis=1))\n",
    "correct = 0\n",
    "count = 0\n",
    "wrong2_4 = []\n",
    "for ans, pred in zip_list:\n",
    "    if(ans==pred):\n",
    "        correct += 1\n",
    "    else:\n",
    "        wrong2_4.append(count)\n",
    "    count+=1\n",
    "percentage2_4 = correct/len(open_test_data['label'])\n",
    "\n",
    "zip_list = zip(open_test_data['label'].values, test_predictions2_5.argmax(axis=1))\n",
    "correct = 0\n",
    "count = 0\n",
    "wrong2_5 = []\n",
    "for ans, pred in zip_list:\n",
    "    if(ans==pred):\n",
    "        correct += 1\n",
    "    else:\n",
    "        wrong2_5.append(count)\n",
    "    count+=1\n",
    "percentage2_5 = correct/len(open_test_data['label'])\n",
    "\n",
    "print(percentage2_0, percentage2_1, percentage2_3, percentage2_4, percentage2_5)\n",
    "\n",
    "print('wrong2_0',wrong2_0)\n",
    "print('wrong2_1',wrong2_1)\n",
    "print('wrong2_3',wrong2_3)\n",
    "print('wrong2_4',wrong2_4)\n",
    "print('wrong2_5',wrong2_5)"
   ]
  },
  {
   "cell_type": "code",
   "execution_count": 419,
   "metadata": {},
   "outputs": [
    {
     "name": "stdout",
     "output_type": "stream",
     "text": [
      "0.6950037285607755 0.6923937360178971 0.6957494407158836 0.020879940343027592 0.6991051454138703\n",
      "wrong3_0 [0, 2, 7, 13, 14, 19, 20, 21, 24, 25, 28, 29, 32, 33, 34, 35, 40, 42, 43, 44, 48, 50, 53, 54, 57, 59, 64, 69, 70, 71, 72, 74, 76, 78, 79, 81, 86, 90, 93, 97, 98, 99, 100, 102, 104, 108, 116, 119, 122, 123, 130, 137, 139, 142, 144, 147, 148, 149, 151, 152, 154, 157, 158, 160, 168, 172, 173, 175, 179, 184, 186, 191, 193, 195, 199, 201, 202, 203, 205, 208, 218, 224, 227, 229, 230, 231, 236, 237, 240, 243, 245, 252, 257, 258, 259, 262, 263, 265, 271, 276, 277, 281, 284, 285, 287, 290, 292, 295, 297, 301, 306, 307, 308, 312, 313, 314, 315, 316, 325, 326, 328, 336, 338, 339, 340, 341, 342, 347, 349, 350, 362, 367, 372, 374, 379, 380, 391, 392, 393, 395, 396, 401, 404, 405, 420, 422, 426, 427, 432, 440, 447, 449, 454, 457, 459, 462, 465, 466, 467, 473, 474, 475, 476, 477, 479, 481, 484, 489, 495, 497, 498, 508, 511, 522, 523, 531, 532, 536, 538, 546, 547, 550, 552, 555, 558, 559, 560, 561, 562, 563, 565, 568, 569, 570, 580, 584, 587, 591, 598, 599, 602, 606, 608, 612, 613, 615, 618, 621, 628, 633, 634, 639, 640, 644, 645, 650, 656, 661, 662, 666, 668, 670, 672, 674, 675, 676, 677, 678, 680, 685, 686, 688, 690, 693, 698, 701, 705, 707, 708, 709, 711, 712, 718, 719, 727, 729, 731, 737, 742, 744, 746, 755, 759, 760, 762, 770, 771, 772, 775, 778, 784, 787, 791, 795, 802, 803, 805, 809, 812, 815, 816, 821, 825, 826, 829, 831, 832, 833, 839, 840, 843, 849, 850, 854, 858, 861, 866, 872, 875, 876, 880, 883, 885, 886, 887, 889, 892, 896, 897, 902, 903, 907, 912, 913, 914, 918, 919, 920, 933, 935, 940, 945, 946, 951, 953, 956, 958, 963, 967, 968, 971, 972, 977, 981, 984, 986, 992, 993, 997, 999, 1000, 1001, 1003, 1008, 1009, 1011, 1012, 1013, 1020, 1025, 1030, 1031, 1032, 1033, 1034, 1040, 1043, 1048, 1049, 1050, 1057, 1064, 1077, 1079, 1080, 1082, 1088, 1092, 1093, 1097, 1099, 1107, 1108, 1114, 1119, 1126, 1128, 1134, 1137, 1138, 1142, 1146, 1147, 1154, 1174, 1175, 1176, 1177, 1183, 1184, 1185, 1189, 1192, 1199, 1202, 1203, 1210, 1220, 1225, 1227, 1232, 1234, 1238, 1246, 1253, 1254, 1258, 1259, 1262, 1272, 1274, 1280, 1287, 1289, 1290, 1295, 1298, 1299, 1301, 1318, 1319, 1323, 1324, 1331, 1332, 1336, 1340, 1348, 1351, 1352, 1355, 1356, 1360, 1368, 1369, 1371, 1375, 1376, 1377, 1380, 1381, 1383, 1384, 1390, 1391, 1392, 1395, 1398, 1399, 1401, 1404, 1411, 1419, 1421, 1424, 1425, 1426, 1432, 1434, 1441, 1446, 1451, 1454, 1455, 1465, 1468, 1471, 1485, 1490, 1493, 1497, 1499, 1503, 1513, 1514, 1517, 1519, 1527, 1528, 1529, 1531, 1538, 1550, 1551, 1554, 1561, 1563, 1564, 1565, 1568, 1570, 1578, 1580, 1586, 1588, 1589, 1596, 1597, 1598, 1603, 1606, 1609, 1611, 1616, 1617, 1619, 1621, 1623, 1625, 1628, 1631, 1637, 1642, 1644, 1646, 1648, 1652, 1659, 1663, 1666, 1667, 1670, 1672, 1675, 1679, 1681, 1682, 1683, 1684, 1686, 1687, 1690, 1691, 1697, 1701, 1708, 1709, 1712, 1713, 1715, 1716, 1720, 1725, 1726, 1729, 1739, 1742, 1744, 1745, 1746, 1747, 1750, 1754, 1756, 1757, 1758, 1761, 1766, 1768, 1773, 1774, 1779, 1786, 1787, 1794, 1797, 1800, 1806, 1811, 1818, 1825, 1830, 1831, 1836, 1838, 1839, 1840, 1846, 1852, 1865, 1867, 1871, 1873, 1876, 1877, 1880, 1882, 1883, 1884, 1886, 1890, 1892, 1895, 1898, 1899, 1900, 1901, 1902, 1908, 1917, 1921, 1922, 1928, 1933, 1938, 1939, 1940, 1942, 1945, 1947, 1950, 1954, 1966, 1972, 1974, 1976, 1980, 1988, 1990, 1997, 1998, 2003, 2004, 2007, 2009, 2013, 2019, 2022, 2024, 2026, 2030, 2034, 2038, 2040, 2047, 2049, 2051, 2058, 2060, 2067, 2070, 2074, 2076, 2077, 2079, 2084, 2085, 2086, 2088, 2092, 2095, 2096, 2100, 2109, 2115, 2117, 2118, 2119, 2123, 2125, 2131, 2138, 2142, 2143, 2144, 2148, 2154, 2155, 2164, 2165, 2166, 2167, 2172, 2178, 2185, 2187, 2190, 2192, 2193, 2196, 2207, 2210, 2212, 2220, 2223, 2225, 2229, 2232, 2235, 2237, 2238, 2240, 2249, 2252, 2257, 2280, 2282, 2286, 2287, 2289, 2290, 2291, 2292, 2293, 2298, 2300, 2303, 2307, 2309, 2310, 2313, 2317, 2318, 2322, 2324, 2326, 2327, 2328, 2336, 2339, 2345, 2346, 2347, 2349, 2350, 2352, 2354, 2358, 2359, 2360, 2367, 2368, 2369, 2370, 2376, 2381, 2383, 2384, 2385, 2389, 2390, 2391, 2392, 2393, 2395, 2396, 2400, 2402, 2407, 2412, 2414, 2419, 2420, 2421, 2422, 2428, 2433, 2442, 2443, 2445, 2446, 2448, 2450, 2452, 2458, 2462, 2464, 2468, 2469, 2474, 2476, 2481, 2493, 2494, 2496, 2501, 2504, 2512, 2514, 2518, 2523, 2524, 2528, 2532, 2533, 2537, 2540, 2542, 2543, 2544, 2546, 2549, 2550, 2551, 2553, 2561, 2563, 2567, 2573, 2574, 2580, 2582, 2585, 2587, 2591, 2598, 2605, 2608, 2609, 2611, 2614, 2616, 2620, 2621, 2625, 2629, 2631, 2637, 2642, 2646, 2649, 2654, 2655, 2657, 2659, 2663, 2669, 2673]\n",
      "wrong3_2 [0, 2, 7, 13, 14, 19, 20, 21, 24, 25, 28, 29, 32, 33, 34, 35, 40, 42, 43, 44, 48, 50, 53, 54, 57, 59, 64, 69, 70, 71, 72, 74, 76, 79, 81, 86, 90, 93, 97, 98, 99, 100, 102, 104, 108, 116, 119, 122, 123, 130, 137, 139, 142, 144, 147, 148, 149, 151, 152, 154, 157, 158, 160, 168, 172, 173, 175, 179, 184, 186, 191, 193, 195, 199, 201, 202, 203, 205, 208, 218, 224, 227, 229, 230, 231, 236, 237, 240, 243, 245, 252, 257, 258, 259, 262, 263, 265, 271, 276, 277, 281, 283, 284, 285, 287, 290, 292, 295, 297, 301, 306, 307, 308, 312, 313, 315, 316, 325, 326, 328, 336, 338, 339, 340, 341, 342, 347, 349, 350, 354, 362, 367, 368, 372, 374, 379, 380, 391, 392, 393, 395, 396, 401, 404, 405, 420, 422, 426, 427, 432, 440, 447, 449, 454, 457, 459, 462, 465, 466, 467, 473, 474, 476, 477, 479, 481, 484, 489, 495, 497, 498, 508, 511, 522, 523, 531, 532, 536, 538, 546, 547, 552, 555, 556, 558, 559, 560, 562, 563, 565, 568, 570, 580, 584, 587, 591, 598, 599, 602, 606, 608, 612, 613, 615, 618, 621, 628, 633, 634, 639, 640, 644, 645, 650, 656, 661, 662, 666, 668, 670, 672, 674, 675, 676, 677, 678, 680, 685, 686, 688, 690, 693, 698, 701, 705, 707, 708, 709, 711, 712, 718, 719, 727, 729, 731, 737, 739, 742, 744, 746, 755, 759, 760, 762, 770, 771, 772, 775, 778, 784, 787, 791, 795, 802, 803, 805, 809, 812, 815, 816, 821, 825, 826, 829, 831, 832, 833, 836, 839, 840, 843, 848, 849, 850, 854, 858, 861, 866, 872, 875, 876, 880, 883, 885, 886, 887, 889, 892, 896, 897, 902, 903, 907, 912, 913, 914, 918, 919, 920, 933, 935, 940, 945, 946, 951, 953, 956, 958, 963, 967, 968, 971, 972, 977, 981, 984, 986, 992, 993, 997, 999, 1000, 1001, 1003, 1008, 1009, 1011, 1012, 1013, 1020, 1025, 1030, 1031, 1032, 1033, 1034, 1040, 1043, 1046, 1048, 1049, 1050, 1057, 1064, 1065, 1077, 1079, 1080, 1082, 1088, 1089, 1092, 1093, 1097, 1099, 1107, 1108, 1114, 1119, 1126, 1128, 1134, 1137, 1138, 1142, 1143, 1146, 1147, 1154, 1174, 1175, 1177, 1183, 1184, 1185, 1189, 1192, 1199, 1202, 1203, 1210, 1220, 1225, 1227, 1232, 1234, 1238, 1246, 1253, 1254, 1258, 1259, 1272, 1274, 1280, 1287, 1289, 1290, 1295, 1298, 1299, 1301, 1318, 1319, 1323, 1324, 1331, 1332, 1336, 1340, 1348, 1351, 1352, 1355, 1356, 1360, 1368, 1369, 1371, 1375, 1376, 1377, 1380, 1381, 1383, 1384, 1390, 1391, 1392, 1395, 1398, 1399, 1401, 1404, 1411, 1419, 1421, 1424, 1425, 1426, 1432, 1434, 1441, 1446, 1451, 1454, 1455, 1465, 1468, 1471, 1485, 1490, 1493, 1497, 1499, 1503, 1513, 1514, 1517, 1519, 1527, 1528, 1529, 1531, 1536, 1538, 1550, 1551, 1554, 1561, 1563, 1564, 1565, 1568, 1570, 1572, 1578, 1580, 1586, 1588, 1589, 1596, 1597, 1598, 1603, 1606, 1609, 1611, 1616, 1617, 1619, 1621, 1623, 1625, 1627, 1628, 1631, 1637, 1642, 1644, 1646, 1648, 1652, 1659, 1663, 1666, 1667, 1670, 1672, 1675, 1679, 1681, 1682, 1683, 1684, 1686, 1687, 1690, 1691, 1697, 1701, 1708, 1709, 1712, 1713, 1715, 1716, 1720, 1725, 1726, 1729, 1739, 1742, 1744, 1745, 1746, 1747, 1750, 1754, 1756, 1757, 1758, 1761, 1766, 1768, 1773, 1774, 1779, 1786, 1787, 1794, 1797, 1800, 1806, 1811, 1818, 1825, 1830, 1831, 1836, 1838, 1839, 1840, 1846, 1852, 1865, 1871, 1873, 1876, 1877, 1880, 1882, 1883, 1884, 1886, 1890, 1892, 1893, 1895, 1898, 1899, 1900, 1901, 1908, 1917, 1921, 1922, 1928, 1933, 1938, 1939, 1940, 1945, 1947, 1950, 1951, 1954, 1966, 1972, 1974, 1976, 1980, 1987, 1988, 1990, 1997, 1998, 2003, 2004, 2007, 2009, 2013, 2019, 2022, 2026, 2030, 2034, 2038, 2040, 2042, 2047, 2049, 2051, 2058, 2060, 2070, 2074, 2076, 2077, 2079, 2084, 2085, 2086, 2088, 2092, 2095, 2096, 2100, 2109, 2115, 2117, 2118, 2119, 2123, 2125, 2131, 2138, 2142, 2143, 2148, 2154, 2155, 2164, 2165, 2166, 2167, 2172, 2178, 2179, 2185, 2187, 2190, 2192, 2193, 2196, 2207, 2210, 2212, 2220, 2223, 2225, 2229, 2232, 2235, 2237, 2238, 2240, 2249, 2252, 2257, 2280, 2282, 2286, 2287, 2289, 2290, 2291, 2292, 2293, 2295, 2298, 2300, 2303, 2307, 2310, 2313, 2317, 2318, 2324, 2326, 2327, 2328, 2336, 2339, 2345, 2346, 2347, 2349, 2350, 2352, 2354, 2358, 2359, 2360, 2366, 2367, 2368, 2369, 2370, 2376, 2381, 2383, 2385, 2389, 2390, 2391, 2392, 2393, 2395, 2396, 2400, 2402, 2407, 2412, 2414, 2419, 2420, 2421, 2422, 2428, 2433, 2442, 2443, 2445, 2446, 2448, 2450, 2452, 2458, 2462, 2464, 2468, 2469, 2474, 2476, 2481, 2493, 2494, 2496, 2501, 2504, 2512, 2514, 2518, 2523, 2524, 2526, 2528, 2532, 2533, 2537, 2540, 2542, 2543, 2544, 2546, 2549, 2550, 2551, 2553, 2561, 2563, 2567, 2573, 2574, 2577, 2580, 2582, 2585, 2587, 2591, 2598, 2605, 2608, 2609, 2611, 2614, 2616, 2620, 2621, 2625, 2629, 2631, 2637, 2642, 2646, 2649, 2654, 2655, 2657, 2659, 2663, 2669, 2673, 2676]\n",
      "wrong3_1 [0, 2, 7, 13, 14, 19, 20, 21, 24, 25, 28, 29, 32, 33, 34, 35, 40, 42, 43, 44, 48, 50, 53, 54, 57, 59, 64, 69, 70, 71, 72, 74, 76, 79, 81, 86, 90, 93, 97, 98, 99, 100, 102, 104, 108, 116, 119, 122, 123, 130, 137, 139, 142, 144, 147, 148, 149, 151, 152, 154, 157, 158, 160, 168, 172, 173, 175, 179, 184, 186, 191, 193, 195, 199, 201, 202, 203, 205, 208, 218, 224, 227, 229, 230, 231, 236, 237, 240, 243, 245, 252, 257, 258, 259, 262, 263, 265, 271, 276, 277, 281, 284, 285, 287, 290, 292, 295, 297, 301, 306, 307, 308, 312, 313, 314, 315, 316, 325, 326, 328, 336, 338, 339, 340, 341, 342, 347, 349, 350, 362, 367, 372, 374, 379, 380, 391, 392, 393, 395, 396, 401, 404, 405, 420, 422, 426, 427, 432, 440, 447, 449, 454, 457, 459, 462, 465, 466, 467, 473, 474, 475, 476, 477, 479, 481, 484, 489, 495, 497, 498, 508, 511, 522, 523, 531, 532, 536, 538, 546, 547, 550, 552, 555, 558, 559, 560, 561, 563, 565, 568, 570, 580, 584, 587, 591, 598, 599, 602, 606, 608, 612, 613, 615, 618, 621, 628, 633, 634, 639, 640, 644, 645, 650, 656, 661, 662, 666, 668, 670, 672, 674, 675, 676, 677, 678, 680, 685, 686, 688, 690, 693, 698, 701, 705, 707, 708, 709, 711, 712, 718, 719, 727, 729, 731, 737, 742, 744, 746, 755, 759, 760, 762, 770, 771, 772, 775, 778, 784, 787, 791, 795, 802, 803, 805, 809, 812, 815, 816, 821, 825, 826, 829, 831, 832, 833, 839, 840, 843, 849, 850, 854, 858, 861, 866, 872, 875, 876, 880, 883, 885, 886, 887, 889, 892, 896, 897, 900, 902, 903, 907, 912, 913, 914, 918, 919, 920, 933, 935, 940, 945, 946, 951, 953, 956, 958, 963, 967, 968, 971, 972, 977, 981, 984, 986, 992, 993, 997, 999, 1000, 1001, 1003, 1008, 1009, 1011, 1013, 1020, 1025, 1030, 1031, 1032, 1033, 1034, 1040, 1043, 1048, 1049, 1050, 1057, 1064, 1077, 1079, 1080, 1082, 1088, 1092, 1093, 1097, 1099, 1107, 1108, 1114, 1119, 1126, 1128, 1134, 1137, 1138, 1142, 1146, 1147, 1154, 1174, 1175, 1176, 1177, 1183, 1184, 1185, 1189, 1192, 1199, 1202, 1203, 1210, 1220, 1225, 1227, 1232, 1234, 1238, 1246, 1253, 1254, 1258, 1259, 1262, 1272, 1274, 1280, 1287, 1289, 1290, 1295, 1298, 1299, 1301, 1318, 1319, 1323, 1324, 1331, 1332, 1336, 1340, 1348, 1351, 1352, 1355, 1356, 1360, 1368, 1369, 1371, 1375, 1376, 1377, 1380, 1381, 1383, 1384, 1390, 1391, 1392, 1395, 1398, 1399, 1401, 1403, 1404, 1411, 1419, 1421, 1424, 1425, 1426, 1432, 1434, 1441, 1446, 1451, 1454, 1455, 1465, 1468, 1471, 1485, 1490, 1493, 1497, 1499, 1503, 1513, 1514, 1517, 1519, 1527, 1528, 1529, 1531, 1538, 1550, 1551, 1554, 1561, 1563, 1564, 1565, 1568, 1570, 1578, 1580, 1586, 1588, 1589, 1596, 1597, 1598, 1603, 1606, 1609, 1611, 1616, 1617, 1619, 1621, 1623, 1625, 1628, 1631, 1637, 1642, 1644, 1646, 1648, 1652, 1659, 1663, 1666, 1667, 1670, 1672, 1675, 1679, 1681, 1682, 1683, 1684, 1686, 1687, 1690, 1691, 1697, 1701, 1708, 1709, 1712, 1713, 1715, 1716, 1720, 1725, 1726, 1729, 1739, 1742, 1744, 1745, 1746, 1747, 1750, 1754, 1756, 1757, 1758, 1761, 1766, 1768, 1773, 1774, 1779, 1786, 1787, 1794, 1797, 1800, 1806, 1811, 1818, 1825, 1830, 1831, 1836, 1838, 1839, 1840, 1846, 1852, 1865, 1867, 1871, 1873, 1876, 1877, 1880, 1882, 1883, 1884, 1886, 1890, 1892, 1895, 1898, 1899, 1900, 1901, 1908, 1917, 1921, 1922, 1928, 1933, 1938, 1939, 1940, 1942, 1945, 1947, 1950, 1954, 1966, 1972, 1974, 1976, 1980, 1988, 1990, 1997, 1998, 2003, 2004, 2007, 2009, 2013, 2019, 2022, 2024, 2026, 2030, 2034, 2038, 2040, 2047, 2049, 2051, 2058, 2060, 2067, 2070, 2074, 2076, 2077, 2079, 2084, 2085, 2086, 2088, 2092, 2095, 2096, 2100, 2109, 2115, 2117, 2118, 2119, 2123, 2125, 2131, 2138, 2142, 2143, 2144, 2148, 2154, 2155, 2164, 2165, 2166, 2167, 2172, 2178, 2185, 2187, 2190, 2192, 2193, 2196, 2207, 2210, 2212, 2220, 2223, 2225, 2229, 2232, 2235, 2237, 2238, 2240, 2249, 2252, 2257, 2280, 2282, 2286, 2287, 2289, 2290, 2291, 2292, 2293, 2298, 2300, 2303, 2307, 2309, 2310, 2313, 2317, 2318, 2324, 2326, 2327, 2328, 2336, 2339, 2345, 2346, 2347, 2349, 2350, 2352, 2354, 2358, 2359, 2360, 2367, 2368, 2369, 2370, 2376, 2381, 2383, 2384, 2385, 2389, 2390, 2391, 2392, 2393, 2395, 2396, 2400, 2402, 2407, 2412, 2414, 2419, 2420, 2421, 2422, 2428, 2433, 2442, 2443, 2445, 2446, 2448, 2450, 2452, 2458, 2462, 2464, 2468, 2469, 2474, 2476, 2481, 2493, 2494, 2496, 2501, 2504, 2512, 2514, 2518, 2523, 2524, 2526, 2528, 2532, 2533, 2537, 2540, 2542, 2543, 2544, 2546, 2549, 2550, 2551, 2553, 2561, 2563, 2567, 2573, 2574, 2580, 2582, 2585, 2587, 2591, 2598, 2605, 2608, 2609, 2611, 2614, 2616, 2620, 2621, 2625, 2629, 2631, 2637, 2642, 2646, 2649, 2654, 2655, 2657, 2659, 2660, 2663, 2669, 2673]\n",
      "wrong3_4 [0, 1, 2, 3, 4, 5, 6, 7, 8, 9, 10, 11, 12, 13, 14, 15, 16, 17, 18, 19, 20, 21, 22, 23, 24, 25, 26, 27, 28, 29, 30, 31, 32, 33, 34, 35, 36, 37, 38, 39, 40, 41, 42, 43, 44, 45, 46, 47, 48, 49, 50, 51, 52, 53, 54, 55, 56, 57, 58, 59, 60, 61, 62, 63, 64, 65, 66, 67, 68, 69, 70, 71, 72, 73, 74, 75, 76, 77, 78, 79, 80, 81, 82, 83, 84, 85, 86, 87, 88, 89, 90, 91, 92, 93, 94, 95, 96, 97, 98, 99, 100, 101, 102, 103, 104, 105, 106, 107, 108, 109, 110, 111, 112, 113, 114, 115, 116, 117, 118, 119, 120, 121, 122, 123, 124, 125, 126, 127, 128, 129, 130, 131, 132, 133, 134, 135, 136, 137, 138, 139, 140, 141, 142, 143, 144, 145, 146, 147, 148, 149, 151, 152, 153, 154, 155, 156, 157, 158, 159, 160, 161, 163, 164, 165, 166, 167, 168, 169, 170, 171, 172, 173, 174, 175, 176, 177, 178, 179, 180, 181, 182, 183, 184, 185, 186, 187, 188, 189, 190, 191, 192, 193, 194, 195, 196, 197, 198, 199, 200, 201, 202, 203, 204, 205, 206, 207, 209, 210, 211, 212, 213, 214, 215, 216, 217, 218, 219, 220, 221, 222, 223, 224, 225, 226, 227, 228, 229, 230, 231, 232, 233, 234, 235, 236, 237, 238, 239, 240, 241, 242, 243, 244, 245, 246, 247, 248, 249, 250, 251, 252, 253, 254, 255, 256, 257, 258, 259, 260, 261, 262, 263, 264, 265, 266, 267, 268, 269, 270, 271, 272, 273, 274, 275, 276, 277, 278, 279, 280, 281, 282, 283, 284, 285, 286, 287, 288, 289, 290, 291, 292, 293, 294, 295, 296, 297, 298, 299, 300, 301, 302, 303, 304, 305, 306, 307, 308, 309, 310, 311, 312, 314, 315, 316, 317, 318, 319, 320, 321, 322, 323, 324, 325, 326, 327, 328, 329, 330, 331, 332, 333, 334, 335, 336, 337, 338, 339, 340, 341, 342, 343, 344, 345, 346, 347, 348, 349, 350, 351, 352, 353, 354, 355, 356, 357, 358, 359, 360, 361, 362, 363, 364, 365, 366, 367, 368, 369, 370, 371, 372, 373, 374, 375, 376, 377, 378, 379, 380, 381, 382, 383, 384, 385, 386, 387, 388, 389, 390, 391, 392, 393, 394, 395, 396, 397, 398, 399, 400, 401, 402, 403, 404, 405, 406, 407, 408, 409, 410, 411, 412, 413, 414, 415, 416, 417, 418, 419, 420, 421, 422, 423, 424, 425, 426, 427, 428, 429, 430, 432, 433, 434, 435, 436, 437, 438, 439, 440, 441, 442, 443, 444, 445, 446, 447, 448, 449, 450, 451, 452, 453, 454, 455, 456, 457, 458, 460, 461, 462, 463, 464, 465, 466, 467, 468, 469, 470, 471, 472, 473, 474, 475, 476, 477, 478, 479, 480, 481, 482, 483, 484, 485, 486, 487, 488, 489, 490, 491, 492, 493, 494, 495, 496, 497, 498, 499, 500, 501, 502, 503, 504, 505, 506, 507, 508, 509, 510, 512, 513, 514, 515, 516, 517, 518, 519, 520, 521, 522, 523, 524, 525, 526, 527, 528, 529, 530, 531, 532, 533, 534, 535, 536, 537, 538, 539, 540, 541, 542, 543, 544, 545, 546, 547, 548, 549, 550, 551, 552, 553, 554, 555, 556, 557, 558, 559, 560, 561, 562, 563, 564, 565, 566, 567, 568, 569, 570, 571, 572, 573, 574, 575, 576, 577, 578, 579, 580, 581, 582, 583, 584, 585, 586, 587, 588, 589, 590, 591, 592, 593, 594, 595, 596, 597, 599, 600, 601, 602, 603, 604, 605, 606, 607, 608, 609, 610, 611, 612, 613, 614, 615, 616, 617, 618, 619, 620, 621, 622, 623, 624, 625, 626, 627, 629, 630, 631, 632, 633, 634, 635, 636, 637, 638, 639, 640, 641, 642, 643, 644, 645, 646, 647, 648, 649, 650, 651, 652, 653, 655, 656, 657, 658, 659, 660, 661, 662, 663, 664, 665, 666, 667, 668, 669, 670, 671, 672, 673, 674, 675, 676, 677, 678, 679, 680, 681, 682, 683, 684, 685, 686, 687, 688, 689, 690, 691, 692, 693, 694, 695, 696, 697, 698, 699, 700, 701, 702, 703, 704, 705, 706, 707, 708, 709, 710, 711, 712, 713, 714, 715, 716, 717, 718, 719, 720, 721, 722, 723, 724, 725, 726, 727, 728, 729, 730, 731, 732, 733, 734, 735, 736, 737, 738, 739, 740, 741, 742, 743, 744, 745, 746, 747, 748, 749, 750, 751, 752, 753, 754, 755, 756, 757, 758, 759, 760, 761, 762, 763, 764, 765, 766, 767, 768, 769, 770, 771, 772, 773, 774, 775, 776, 777, 778, 779, 780, 781, 782, 783, 784, 785, 786, 788, 789, 790, 791, 792, 793, 795, 796, 797, 798, 799, 800, 801, 802, 803, 804, 805, 806, 807, 808, 809, 810, 811, 812, 813, 814, 815, 816, 817, 818, 819, 820, 821, 822, 823, 824, 825, 826, 827, 828, 829, 830, 831, 832, 833, 834, 835, 836, 837, 838, 839, 840, 841, 842, 843, 844, 845, 846, 847, 849, 850, 851, 852, 853, 854, 855, 856, 857, 858, 859, 860, 861, 862, 863, 864, 865, 866, 867, 868, 869, 870, 871, 872, 873, 874, 875, 876, 877, 878, 879, 880, 881, 882, 883, 884, 885, 886, 887, 888, 889, 890, 891, 892, 893, 894, 895, 896, 897, 898, 899, 900, 901, 902, 904, 905, 906, 907, 908, 909, 910, 911, 912, 913, 914, 915, 916, 917, 918, 919, 920, 921, 922, 923, 924, 925, 926, 927, 928, 929, 930, 931, 932, 933, 934, 935, 936, 937, 938, 939, 940, 941, 942, 943, 944, 945, 946, 947, 948, 949, 950, 951, 952, 953, 954, 955, 956, 957, 958, 959, 960, 961, 962, 963, 964, 965, 966, 967, 968, 969, 970, 971, 972, 973, 974, 975, 976, 977, 978, 979, 980, 981, 982, 983, 984, 985, 986, 987, 988, 989, 990, 991, 992, 993, 994, 995, 996, 997, 998, 999, 1000, 1001, 1002, 1003, 1004, 1005, 1006, 1007, 1008, 1010, 1011, 1012, 1013, 1014, 1015, 1016, 1017, 1018, 1019, 1020, 1021, 1022, 1023, 1024, 1025, 1026, 1027, 1028, 1029, 1030, 1031, 1032, 1033, 1034, 1035, 1036, 1037, 1038, 1039, 1040, 1041, 1042, 1043, 1044, 1045, 1046, 1047, 1048, 1049, 1050, 1051, 1052, 1053, 1054, 1055, 1056, 1057, 1058, 1059, 1060, 1061, 1062, 1063, 1064, 1065, 1066, 1067, 1068, 1069, 1070, 1071, 1072, 1073, 1074, 1075, 1076, 1077, 1078, 1079, 1080, 1081, 1082, 1083, 1084, 1085, 1086, 1087, 1088, 1089, 1090, 1091, 1092, 1093, 1094, 1095, 1096, 1097, 1098, 1099, 1100, 1101, 1102, 1103, 1104, 1105, 1106, 1107, 1108, 1109, 1110, 1111, 1112, 1113, 1114, 1115, 1116, 1117, 1118, 1119, 1120, 1121, 1122, 1123, 1124, 1125, 1126, 1127, 1128, 1129, 1130, 1131, 1132, 1133, 1134, 1135, 1136, 1137, 1138, 1139, 1140, 1141, 1142, 1144, 1145, 1146, 1147, 1148, 1149, 1150, 1151, 1152, 1153, 1154, 1155, 1156, 1157, 1158, 1159, 1160, 1161, 1162, 1163, 1164, 1165, 1166, 1167, 1168, 1169, 1170, 1171, 1172, 1173, 1174, 1175, 1176, 1177, 1178, 1179, 1180, 1181, 1182, 1183, 1184, 1185, 1186, 1187, 1188, 1189, 1190, 1191, 1192, 1193, 1194, 1195, 1196, 1197, 1198, 1199, 1200, 1201, 1202, 1203, 1204, 1205, 1206, 1207, 1208, 1209, 1210, 1211, 1212, 1213, 1214, 1215, 1216, 1217, 1218, 1219, 1220, 1221, 1222, 1223, 1224, 1225, 1226, 1227, 1228, 1229, 1230, 1231, 1232, 1233, 1234, 1235, 1236, 1237, 1238, 1239, 1240, 1241, 1242, 1243, 1244, 1245, 1246, 1247, 1248, 1249, 1250, 1251, 1252, 1253, 1254, 1255, 1256, 1257, 1258, 1259, 1260, 1261, 1262, 1263, 1264, 1265, 1266, 1267, 1268, 1269, 1270, 1271, 1272, 1273, 1274, 1275, 1276, 1277, 1278, 1279, 1280, 1281, 1282, 1283, 1284, 1285, 1286, 1287, 1288, 1289, 1290, 1291, 1292, 1293, 1294, 1295, 1296, 1297, 1298, 1299, 1300, 1301, 1302, 1303, 1304, 1306, 1307, 1308, 1309, 1310, 1311, 1312, 1313, 1314, 1315, 1316, 1317, 1318, 1319, 1320, 1321, 1322, 1323, 1324, 1325, 1326, 1327, 1328, 1329, 1330, 1331, 1333, 1334, 1335, 1336, 1337, 1338, 1339, 1340, 1341, 1342, 1343, 1344, 1345, 1346, 1347, 1348, 1349, 1350, 1351, 1352, 1353, 1354, 1355, 1356, 1357, 1358, 1359, 1360, 1361, 1362, 1363, 1364, 1365, 1366, 1367, 1369, 1370, 1371, 1372, 1373, 1374, 1375, 1376, 1377, 1378, 1379, 1380, 1381, 1382, 1383, 1384, 1385, 1386, 1387, 1388, 1389, 1390, 1391, 1392, 1393, 1394, 1395, 1396, 1397, 1398, 1399, 1400, 1401, 1402, 1403, 1404, 1405, 1407, 1408, 1409, 1410, 1411, 1412, 1413, 1414, 1415, 1416, 1417, 1418, 1419, 1421, 1422, 1423, 1424, 1425, 1426, 1427, 1428, 1429, 1430, 1431, 1432, 1433, 1434, 1435, 1436, 1437, 1438, 1439, 1440, 1441, 1442, 1443, 1444, 1445, 1446, 1447, 1448, 1449, 1450, 1451, 1452, 1453, 1454, 1455, 1456, 1458, 1459, 1460, 1461, 1462, 1463, 1464, 1465, 1466, 1467, 1468, 1469, 1470, 1471, 1472, 1473, 1474, 1475, 1476, 1477, 1478, 1479, 1480, 1481, 1482, 1483, 1484, 1485, 1486, 1487, 1488, 1489, 1490, 1491, 1492, 1493, 1494, 1495, 1496, 1497, 1498, 1499, 1500, 1501, 1502, 1503, 1504, 1505, 1506, 1507, 1508, 1509, 1510, 1511, 1512, 1513, 1514, 1515, 1516, 1517, 1518, 1519, 1520, 1521, 1522, 1523, 1524, 1525, 1526, 1527, 1528, 1529, 1530, 1531, 1532, 1533, 1534, 1535, 1536, 1537, 1538, 1539, 1540, 1541, 1542, 1543, 1544, 1545, 1546, 1547, 1548, 1550, 1551, 1552, 1553, 1554, 1556, 1557, 1558, 1559, 1560, 1561, 1562, 1563, 1564, 1565, 1566, 1567, 1568, 1569, 1570, 1571, 1572, 1573, 1574, 1575, 1576, 1577, 1578, 1579, 1580, 1581, 1582, 1583, 1584, 1585, 1587, 1588, 1589, 1590, 1592, 1593, 1594, 1595, 1596, 1597, 1598, 1599, 1600, 1601, 1602, 1604, 1605, 1606, 1608, 1609, 1610, 1611, 1612, 1613, 1614, 1615, 1616, 1617, 1618, 1619, 1620, 1621, 1622, 1623, 1624, 1625, 1626, 1627, 1628, 1629, 1630, 1631, 1632, 1633, 1634, 1635, 1636, 1637, 1638, 1639, 1640, 1641, 1642, 1643, 1644, 1645, 1646, 1647, 1648, 1649, 1650, 1651, 1652, 1653, 1654, 1655, 1656, 1657, 1658, 1659, 1660, 1661, 1662, 1663, 1664, 1665, 1666, 1667, 1668, 1669, 1670, 1671, 1672, 1673, 1674, 1675, 1676, 1677, 1678, 1679, 1680, 1681, 1682, 1683, 1684, 1685, 1686, 1687, 1688, 1689, 1690, 1691, 1692, 1693, 1694, 1695, 1696, 1697, 1698, 1699, 1700, 1701, 1702, 1703, 1704, 1705, 1706, 1707, 1708, 1709, 1710, 1711, 1712, 1713, 1714, 1715, 1716, 1717, 1718, 1719, 1720, 1721, 1722, 1723, 1724, 1725, 1726, 1727, 1728, 1729, 1730, 1731, 1732, 1733, 1734, 1735, 1736, 1737, 1738, 1739, 1740, 1741, 1742, 1743, 1744, 1745, 1746, 1747, 1748, 1750, 1751, 1752, 1753, 1754, 1755, 1756, 1757, 1759, 1760, 1761, 1762, 1763, 1764, 1765, 1766, 1767, 1768, 1769, 1770, 1771, 1772, 1773, 1774, 1775, 1776, 1777, 1778, 1779, 1780, 1781, 1782, 1783, 1784, 1785, 1786, 1787, 1788, 1789, 1790, 1791, 1792, 1793, 1794, 1795, 1796, 1797, 1798, 1799, 1800, 1801, 1802, 1803, 1804, 1805, 1806, 1807, 1808, 1809, 1810, 1811, 1812, 1813, 1814, 1815, 1816, 1817, 1818, 1819, 1820, 1821, 1822, 1823, 1824, 1825, 1826, 1827, 1828, 1829, 1830, 1831, 1832, 1833, 1834, 1835, 1836, 1837, 1838, 1839, 1840, 1841, 1842, 1843, 1844, 1845, 1846, 1847, 1848, 1849, 1850, 1851, 1852, 1853, 1854, 1855, 1856, 1857, 1858, 1859, 1860, 1861, 1862, 1863, 1864, 1865, 1866, 1867, 1868, 1869, 1870, 1871, 1872, 1873, 1874, 1875, 1876, 1877, 1878, 1879, 1880, 1881, 1882, 1883, 1884, 1885, 1886, 1887, 1888, 1889, 1890, 1891, 1892, 1893, 1894, 1895, 1896, 1897, 1898, 1899, 1900, 1901, 1902, 1904, 1905, 1906, 1907, 1908, 1909, 1910, 1911, 1913, 1914, 1915, 1916, 1917, 1918, 1919, 1920, 1921, 1922, 1923, 1924, 1925, 1926, 1927, 1928, 1929, 1930, 1931, 1932, 1933, 1934, 1935, 1936, 1937, 1938, 1940, 1941, 1942, 1943, 1944, 1945, 1946, 1947, 1948, 1949, 1950, 1951, 1952, 1953, 1954, 1955, 1956, 1957, 1958, 1959, 1960, 1961, 1962, 1963, 1964, 1965, 1966, 1967, 1968, 1969, 1970, 1971, 1973, 1974, 1975, 1976, 1977, 1978, 1979, 1980, 1981, 1982, 1983, 1984, 1985, 1986, 1988, 1989, 1990, 1991, 1992, 1993, 1994, 1995, 1996, 1997, 1998, 1999, 2000, 2001, 2002, 2003, 2005, 2006, 2007, 2008, 2009, 2010, 2011, 2012, 2013, 2014, 2015, 2016, 2017, 2018, 2019, 2020, 2021, 2023, 2024, 2025, 2026, 2027, 2028, 2029, 2030, 2031, 2032, 2033, 2034, 2035, 2037, 2038, 2039, 2040, 2041, 2042, 2043, 2044, 2045, 2046, 2049, 2050, 2051, 2052, 2053, 2054, 2055, 2056, 2057, 2058, 2059, 2060, 2061, 2062, 2063, 2064, 2065, 2066, 2067, 2068, 2069, 2070, 2071, 2072, 2073, 2074, 2075, 2076, 2077, 2078, 2079, 2080, 2081, 2082, 2083, 2084, 2085, 2086, 2087, 2088, 2089, 2090, 2091, 2092, 2093, 2094, 2095, 2096, 2097, 2098, 2099, 2100, 2101, 2102, 2103, 2104, 2105, 2106, 2107, 2108, 2109, 2110, 2111, 2112, 2113, 2114, 2115, 2116, 2117, 2118, 2119, 2120, 2121, 2122, 2123, 2124, 2126, 2127, 2128, 2129, 2130, 2131, 2132, 2133, 2134, 2135, 2136, 2137, 2138, 2139, 2140, 2142, 2143, 2145, 2146, 2147, 2148, 2149, 2150, 2151, 2152, 2153, 2154, 2155, 2156, 2157, 2158, 2159, 2160, 2161, 2162, 2163, 2164, 2165, 2166, 2167, 2168, 2169, 2170, 2171, 2172, 2173, 2174, 2175, 2176, 2177, 2178, 2179, 2180, 2181, 2182, 2183, 2184, 2185, 2186, 2187, 2188, 2189, 2190, 2191, 2192, 2193, 2194, 2195, 2196, 2197, 2198, 2199, 2200, 2201, 2202, 2203, 2204, 2205, 2206, 2207, 2208, 2209, 2210, 2211, 2212, 2213, 2214, 2215, 2216, 2217, 2218, 2219, 2220, 2221, 2222, 2223, 2224, 2225, 2226, 2227, 2228, 2229, 2230, 2231, 2232, 2233, 2234, 2235, 2236, 2237, 2238, 2239, 2240, 2242, 2243, 2244, 2245, 2246, 2247, 2248, 2249, 2250, 2251, 2252, 2253, 2254, 2255, 2256, 2257, 2258, 2259, 2260, 2261, 2262, 2263, 2264, 2265, 2266, 2267, 2268, 2269, 2270, 2271, 2272, 2273, 2274, 2275, 2276, 2277, 2278, 2279, 2280, 2281, 2282, 2283, 2284, 2285, 2286, 2287, 2288, 2289, 2290, 2291, 2292, 2293, 2294, 2295, 2296, 2297, 2298, 2299, 2300, 2301, 2302, 2303, 2304, 2305, 2306, 2307, 2308, 2309, 2310, 2311, 2312, 2313, 2314, 2315, 2316, 2317, 2318, 2319, 2320, 2321, 2322, 2323, 2324, 2325, 2326, 2327, 2329, 2330, 2331, 2332, 2333, 2334, 2335, 2336, 2337, 2338, 2339, 2340, 2341, 2342, 2343, 2344, 2345, 2346, 2347, 2348, 2349, 2350, 2351, 2352, 2353, 2354, 2355, 2356, 2357, 2358, 2359, 2360, 2361, 2362, 2363, 2364, 2365, 2366, 2367, 2368, 2369, 2370, 2371, 2372, 2373, 2374, 2375, 2376, 2377, 2379, 2380, 2381, 2382, 2383, 2384, 2385, 2386, 2387, 2388, 2389, 2390, 2391, 2392, 2393, 2394, 2395, 2396, 2397, 2398, 2399, 2400, 2401, 2402, 2403, 2404, 2405, 2406, 2407, 2408, 2409, 2410, 2411, 2412, 2413, 2414, 2415, 2416, 2417, 2418, 2419, 2420, 2421, 2422, 2423, 2424, 2425, 2426, 2427, 2429, 2430, 2431, 2432, 2433, 2434, 2435, 2436, 2437, 2438, 2439, 2440, 2441, 2442, 2443, 2444, 2445, 2446, 2447, 2448, 2449, 2450, 2451, 2452, 2453, 2454, 2455, 2456, 2457, 2458, 2459, 2460, 2461, 2462, 2463, 2465, 2466, 2467, 2468, 2469, 2470, 2471, 2472, 2473, 2474, 2475, 2476, 2477, 2478, 2479, 2480, 2481, 2482, 2483, 2484, 2485, 2486, 2487, 2488, 2489, 2490, 2491, 2492, 2493, 2494, 2495, 2496, 2497, 2498, 2499, 2500, 2501, 2502, 2503, 2504, 2505, 2506, 2507, 2508, 2509, 2510, 2511, 2512, 2513, 2514, 2515, 2516, 2518, 2519, 2520, 2521, 2522, 2524, 2525, 2526, 2527, 2528, 2529, 2530, 2531, 2532, 2533, 2534, 2535, 2536, 2537, 2538, 2539, 2542, 2543, 2544, 2545, 2546, 2547, 2548, 2550, 2551, 2552, 2553, 2554, 2555, 2556, 2557, 2558, 2559, 2560, 2561, 2562, 2563, 2564, 2565, 2566, 2567, 2568, 2569, 2570, 2571, 2572, 2573, 2574, 2575, 2576, 2577, 2578, 2579, 2580, 2581, 2582, 2583, 2584, 2585, 2586, 2587, 2588, 2589, 2590, 2591, 2592, 2593, 2594, 2595, 2596, 2597, 2598, 2599, 2600, 2601, 2602, 2603, 2604, 2605, 2606, 2607, 2608, 2609, 2610, 2611, 2612, 2613, 2615, 2616, 2617, 2618, 2619, 2620, 2621, 2622, 2623, 2624, 2625, 2626, 2627, 2628, 2630, 2631, 2632, 2633, 2634, 2635, 2636, 2637, 2638, 2639, 2641, 2642, 2643, 2644, 2645, 2646, 2647, 2648, 2649, 2650, 2651, 2652, 2653, 2654, 2655, 2656, 2657, 2658, 2659, 2660, 2661, 2662, 2663, 2664, 2665, 2666, 2667, 2668, 2669, 2670, 2671, 2672, 2673, 2674, 2675, 2676, 2677, 2678, 2679, 2680, 2681]\n",
      "wrong3_5 [0, 2, 7, 13, 14, 19, 20, 21, 24, 25, 28, 29, 32, 33, 34, 35, 40, 42, 43, 44, 48, 50, 54, 55, 57, 59, 64, 69, 70, 71, 72, 74, 76, 79, 81, 86, 90, 93, 97, 98, 99, 100, 102, 104, 108, 116, 119, 122, 123, 130, 137, 139, 142, 144, 147, 148, 149, 151, 152, 154, 157, 158, 168, 172, 173, 175, 179, 184, 186, 191, 193, 195, 199, 201, 202, 203, 205, 208, 218, 224, 227, 229, 230, 231, 236, 237, 240, 243, 245, 252, 257, 258, 259, 262, 263, 265, 271, 276, 277, 281, 284, 285, 287, 290, 295, 297, 301, 306, 307, 308, 312, 313, 315, 316, 325, 326, 328, 329, 336, 338, 339, 340, 341, 342, 347, 349, 350, 362, 372, 374, 379, 380, 391, 393, 395, 396, 401, 404, 405, 420, 422, 426, 427, 432, 440, 447, 449, 454, 457, 459, 462, 465, 466, 467, 473, 474, 475, 476, 477, 479, 481, 484, 489, 495, 497, 498, 508, 511, 522, 523, 531, 532, 536, 538, 546, 547, 550, 552, 555, 556, 558, 560, 561, 563, 565, 568, 569, 570, 580, 584, 587, 591, 598, 599, 602, 606, 608, 612, 613, 615, 618, 621, 628, 633, 634, 639, 644, 645, 650, 656, 661, 662, 666, 668, 670, 672, 674, 675, 676, 677, 678, 680, 685, 686, 688, 690, 693, 698, 701, 705, 707, 708, 709, 711, 718, 719, 727, 729, 731, 737, 742, 744, 746, 755, 759, 760, 762, 770, 771, 772, 775, 778, 784, 787, 791, 795, 802, 803, 804, 805, 809, 812, 815, 816, 821, 825, 826, 829, 831, 832, 833, 836, 839, 840, 843, 849, 850, 854, 858, 861, 866, 872, 875, 876, 883, 885, 886, 887, 889, 892, 896, 897, 900, 902, 903, 907, 912, 913, 914, 918, 919, 920, 933, 935, 940, 945, 946, 951, 953, 956, 958, 963, 967, 968, 971, 972, 977, 981, 984, 986, 992, 993, 997, 999, 1000, 1001, 1008, 1009, 1011, 1013, 1020, 1025, 1030, 1031, 1032, 1033, 1034, 1040, 1043, 1048, 1049, 1050, 1057, 1064, 1077, 1079, 1080, 1082, 1088, 1092, 1093, 1097, 1099, 1114, 1119, 1126, 1128, 1134, 1137, 1138, 1142, 1143, 1146, 1147, 1154, 1174, 1175, 1176, 1177, 1183, 1184, 1185, 1189, 1192, 1199, 1202, 1203, 1210, 1220, 1225, 1227, 1232, 1234, 1238, 1246, 1253, 1254, 1258, 1259, 1272, 1274, 1280, 1287, 1289, 1290, 1295, 1298, 1299, 1301, 1311, 1318, 1319, 1323, 1324, 1331, 1332, 1336, 1340, 1348, 1351, 1352, 1355, 1356, 1368, 1369, 1371, 1375, 1376, 1377, 1380, 1381, 1383, 1384, 1390, 1391, 1392, 1395, 1398, 1399, 1401, 1404, 1419, 1420, 1421, 1424, 1425, 1426, 1430, 1432, 1434, 1441, 1446, 1451, 1454, 1455, 1465, 1468, 1471, 1483, 1485, 1490, 1493, 1497, 1499, 1503, 1513, 1514, 1517, 1519, 1527, 1528, 1529, 1531, 1538, 1550, 1551, 1554, 1561, 1563, 1564, 1565, 1568, 1570, 1578, 1580, 1586, 1588, 1589, 1596, 1597, 1598, 1603, 1606, 1609, 1611, 1616, 1617, 1619, 1621, 1623, 1625, 1628, 1631, 1637, 1642, 1644, 1646, 1648, 1652, 1659, 1663, 1666, 1667, 1670, 1672, 1675, 1679, 1681, 1682, 1683, 1684, 1686, 1687, 1690, 1691, 1697, 1701, 1705, 1709, 1712, 1713, 1715, 1716, 1720, 1725, 1729, 1739, 1742, 1744, 1745, 1746, 1747, 1754, 1756, 1757, 1758, 1761, 1766, 1768, 1773, 1774, 1779, 1786, 1787, 1794, 1797, 1800, 1806, 1811, 1818, 1825, 1830, 1831, 1833, 1836, 1838, 1839, 1840, 1846, 1852, 1865, 1871, 1873, 1876, 1877, 1880, 1882, 1883, 1884, 1886, 1890, 1892, 1893, 1895, 1898, 1899, 1900, 1901, 1908, 1917, 1921, 1922, 1928, 1933, 1938, 1939, 1940, 1945, 1947, 1950, 1954, 1966, 1972, 1974, 1976, 1980, 1988, 1990, 1997, 1998, 2003, 2004, 2007, 2009, 2013, 2019, 2022, 2024, 2026, 2030, 2034, 2038, 2040, 2047, 2049, 2058, 2060, 2067, 2070, 2074, 2076, 2077, 2079, 2084, 2086, 2088, 2092, 2095, 2096, 2100, 2109, 2115, 2117, 2118, 2119, 2123, 2125, 2131, 2138, 2142, 2143, 2148, 2154, 2155, 2164, 2165, 2166, 2167, 2172, 2178, 2185, 2187, 2192, 2193, 2196, 2207, 2210, 2212, 2220, 2223, 2225, 2229, 2232, 2235, 2237, 2238, 2240, 2249, 2252, 2257, 2280, 2282, 2286, 2287, 2289, 2290, 2291, 2292, 2293, 2295, 2298, 2300, 2307, 2309, 2310, 2313, 2317, 2318, 2322, 2326, 2327, 2328, 2336, 2339, 2345, 2346, 2347, 2349, 2350, 2352, 2354, 2358, 2359, 2360, 2366, 2367, 2368, 2369, 2370, 2376, 2381, 2383, 2384, 2385, 2389, 2390, 2391, 2392, 2393, 2395, 2396, 2400, 2402, 2407, 2412, 2414, 2419, 2420, 2421, 2422, 2428, 2433, 2442, 2443, 2445, 2446, 2448, 2450, 2452, 2458, 2462, 2464, 2468, 2469, 2472, 2474, 2476, 2479, 2493, 2494, 2496, 2501, 2504, 2512, 2514, 2518, 2523, 2524, 2528, 2532, 2533, 2537, 2540, 2542, 2543, 2544, 2546, 2549, 2550, 2551, 2553, 2560, 2561, 2563, 2567, 2573, 2574, 2579, 2580, 2582, 2585, 2587, 2591, 2598, 2605, 2608, 2609, 2611, 2614, 2616, 2620, 2621, 2625, 2629, 2630, 2631, 2637, 2642, 2646, 2649, 2654, 2655, 2657, 2659, 2663, 2669, 2673]\n"
     ]
    }
   ],
   "source": [
    "zip_list = zip(open_test_data['label'].values, test_predictions3_0.argmax(axis=1))\n",
    "correct = 0\n",
    "count = 0\n",
    "wrong3_0 = []\n",
    "for ans, pred in zip_list:\n",
    "    if(ans==pred):\n",
    "        correct += 1\n",
    "    else:\n",
    "        wrong3_0.append(count)\n",
    "    count+=1\n",
    "percentage3_0 = correct/len(open_test_data['label'])\n",
    "\n",
    "zip_list = zip(open_test_data['label'].values, test_predictions3_2.argmax(axis=1))\n",
    "correct = 0\n",
    "count = 0\n",
    "wrong3_2 = []\n",
    "for ans, pred in zip_list:\n",
    "    if(ans==pred):\n",
    "        correct += 1\n",
    "    else:\n",
    "        wrong3_2.append(count)\n",
    "    count+=1\n",
    "percentage3_2 = correct/len(open_test_data['label'])\n",
    "\n",
    "zip_list = zip(open_test_data['label'].values, test_predictions3_1.argmax(axis=1))\n",
    "correct = 0\n",
    "count = 0\n",
    "wrong3_1 = []\n",
    "for ans, pred in zip_list:\n",
    "    if(ans==pred):\n",
    "        correct += 1\n",
    "    else:\n",
    "        wrong3_1.append(count)\n",
    "    count+=1\n",
    "percentage3_1 = correct/len(open_test_data['label'])\n",
    "\n",
    "zip_list = zip(open_test_data['label'].values, test_predictions3_4.argmax(axis=1))\n",
    "correct = 0\n",
    "count = 0\n",
    "wrong3_4 = []\n",
    "for ans, pred in zip_list:\n",
    "    if(ans==pred):\n",
    "        correct += 1\n",
    "    else:\n",
    "        wrong3_4.append(count)\n",
    "    count+=1\n",
    "percentage3_4 = correct/len(open_test_data['label'])\n",
    "\n",
    "zip_list = zip(open_test_data['label'].values, test_predictions3_5.argmax(axis=1))\n",
    "correct = 0\n",
    "count = 0\n",
    "wrong3_5 = []\n",
    "for ans, pred in zip_list:\n",
    "    if(ans==pred):\n",
    "        correct += 1\n",
    "    else:\n",
    "        wrong3_5.append(count)\n",
    "    count+=1\n",
    "percentage3_5 = correct/len(open_test_data['label'])\n",
    "\n",
    "print(percentage3_0, percentage3_2, percentage3_1, percentage3_4, percentage3_5)\n",
    "\n",
    "print('wrong3_0',wrong3_0)\n",
    "print('wrong3_2',wrong3_2)\n",
    "print('wrong3_1',wrong3_1)\n",
    "print('wrong3_4',wrong3_4)\n",
    "print('wrong3_5',wrong3_5)"
   ]
  },
  {
   "cell_type": "code",
   "execution_count": 420,
   "metadata": {},
   "outputs": [
    {
     "name": "stdout",
     "output_type": "stream",
     "text": [
      "0.6950037285607755 0.6923937360178971 0.6935123042505593 0.6957494407158836 0.6991051454138703\n",
      "wrong4_0 [0, 2, 7, 13, 14, 19, 20, 21, 24, 25, 28, 29, 32, 33, 34, 35, 40, 42, 43, 44, 48, 50, 53, 54, 57, 59, 64, 69, 70, 71, 72, 74, 76, 78, 79, 81, 86, 90, 93, 97, 98, 99, 100, 102, 104, 108, 116, 119, 122, 123, 130, 137, 139, 142, 144, 147, 148, 149, 151, 152, 154, 157, 158, 160, 168, 172, 173, 175, 179, 184, 186, 191, 193, 195, 199, 201, 202, 203, 205, 208, 218, 224, 227, 229, 230, 231, 236, 237, 240, 243, 245, 252, 257, 258, 259, 262, 263, 265, 271, 276, 277, 281, 284, 285, 287, 290, 292, 295, 297, 301, 306, 307, 308, 312, 313, 314, 315, 316, 325, 326, 328, 336, 338, 339, 340, 341, 342, 347, 349, 350, 362, 367, 372, 374, 379, 380, 391, 392, 393, 395, 396, 401, 404, 405, 420, 422, 426, 427, 432, 440, 447, 449, 454, 457, 459, 462, 465, 466, 467, 473, 474, 475, 476, 477, 479, 481, 484, 489, 495, 497, 498, 508, 511, 522, 523, 531, 532, 536, 538, 546, 547, 550, 552, 555, 558, 559, 560, 561, 562, 563, 565, 568, 569, 570, 580, 584, 587, 591, 598, 599, 602, 606, 608, 612, 613, 615, 618, 621, 628, 633, 634, 639, 640, 644, 645, 650, 656, 661, 662, 666, 668, 670, 672, 674, 675, 676, 677, 678, 680, 685, 686, 688, 690, 693, 698, 701, 705, 707, 708, 709, 711, 712, 718, 719, 727, 729, 731, 737, 742, 744, 746, 755, 759, 760, 762, 770, 771, 772, 775, 778, 784, 787, 791, 795, 802, 803, 805, 809, 812, 815, 816, 821, 825, 826, 829, 831, 832, 833, 839, 840, 843, 849, 850, 854, 858, 861, 866, 872, 875, 876, 880, 883, 885, 886, 887, 889, 892, 896, 897, 902, 903, 907, 912, 913, 914, 918, 919, 920, 933, 935, 940, 945, 946, 951, 953, 956, 958, 963, 967, 968, 971, 972, 977, 981, 984, 986, 992, 993, 997, 999, 1000, 1001, 1003, 1008, 1009, 1011, 1012, 1013, 1020, 1025, 1030, 1031, 1032, 1033, 1034, 1040, 1043, 1048, 1049, 1050, 1057, 1064, 1077, 1079, 1080, 1082, 1088, 1092, 1093, 1097, 1099, 1107, 1108, 1114, 1119, 1126, 1128, 1134, 1137, 1138, 1142, 1146, 1147, 1154, 1174, 1175, 1176, 1177, 1183, 1184, 1185, 1189, 1192, 1199, 1202, 1203, 1210, 1220, 1225, 1227, 1232, 1234, 1238, 1246, 1253, 1254, 1258, 1259, 1262, 1272, 1274, 1280, 1287, 1289, 1290, 1295, 1298, 1299, 1301, 1318, 1319, 1323, 1324, 1331, 1332, 1336, 1340, 1348, 1351, 1352, 1355, 1356, 1360, 1368, 1369, 1371, 1375, 1376, 1377, 1380, 1381, 1383, 1384, 1390, 1391, 1392, 1395, 1398, 1399, 1401, 1404, 1411, 1419, 1421, 1424, 1425, 1426, 1432, 1434, 1441, 1446, 1451, 1454, 1455, 1465, 1468, 1471, 1485, 1490, 1493, 1497, 1499, 1503, 1513, 1514, 1517, 1519, 1527, 1528, 1529, 1531, 1538, 1550, 1551, 1554, 1561, 1563, 1564, 1565, 1568, 1570, 1578, 1580, 1586, 1588, 1589, 1596, 1597, 1598, 1603, 1606, 1609, 1611, 1616, 1617, 1619, 1621, 1623, 1625, 1628, 1631, 1637, 1642, 1644, 1646, 1648, 1652, 1659, 1663, 1666, 1667, 1670, 1672, 1675, 1679, 1681, 1682, 1683, 1684, 1686, 1687, 1690, 1691, 1697, 1701, 1708, 1709, 1712, 1713, 1715, 1716, 1720, 1725, 1726, 1729, 1739, 1742, 1744, 1745, 1746, 1747, 1750, 1754, 1756, 1757, 1758, 1761, 1766, 1768, 1773, 1774, 1779, 1786, 1787, 1794, 1797, 1800, 1806, 1811, 1818, 1825, 1830, 1831, 1836, 1838, 1839, 1840, 1846, 1852, 1865, 1867, 1871, 1873, 1876, 1877, 1880, 1882, 1883, 1884, 1886, 1890, 1892, 1895, 1898, 1899, 1900, 1901, 1902, 1908, 1917, 1921, 1922, 1928, 1933, 1938, 1939, 1940, 1942, 1945, 1947, 1950, 1954, 1966, 1972, 1974, 1976, 1980, 1988, 1990, 1997, 1998, 2003, 2004, 2007, 2009, 2013, 2019, 2022, 2024, 2026, 2030, 2034, 2038, 2040, 2047, 2049, 2051, 2058, 2060, 2067, 2070, 2074, 2076, 2077, 2079, 2084, 2085, 2086, 2088, 2092, 2095, 2096, 2100, 2109, 2115, 2117, 2118, 2119, 2123, 2125, 2131, 2138, 2142, 2143, 2144, 2148, 2154, 2155, 2164, 2165, 2166, 2167, 2172, 2178, 2185, 2187, 2190, 2192, 2193, 2196, 2207, 2210, 2212, 2220, 2223, 2225, 2229, 2232, 2235, 2237, 2238, 2240, 2249, 2252, 2257, 2280, 2282, 2286, 2287, 2289, 2290, 2291, 2292, 2293, 2298, 2300, 2303, 2307, 2309, 2310, 2313, 2317, 2318, 2322, 2324, 2326, 2327, 2328, 2336, 2339, 2345, 2346, 2347, 2349, 2350, 2352, 2354, 2358, 2359, 2360, 2367, 2368, 2369, 2370, 2376, 2381, 2383, 2384, 2385, 2389, 2390, 2391, 2392, 2393, 2395, 2396, 2400, 2402, 2407, 2412, 2414, 2419, 2420, 2421, 2422, 2428, 2433, 2442, 2443, 2445, 2446, 2448, 2450, 2452, 2458, 2462, 2464, 2468, 2469, 2474, 2476, 2481, 2493, 2494, 2496, 2501, 2504, 2512, 2514, 2518, 2523, 2524, 2528, 2532, 2533, 2537, 2540, 2542, 2543, 2544, 2546, 2549, 2550, 2551, 2553, 2561, 2563, 2567, 2573, 2574, 2580, 2582, 2585, 2587, 2591, 2598, 2605, 2608, 2609, 2611, 2614, 2616, 2620, 2621, 2625, 2629, 2631, 2637, 2642, 2646, 2649, 2654, 2655, 2657, 2659, 2663, 2669, 2673]\n",
      "wrong4_2 [0, 2, 7, 13, 14, 19, 20, 21, 24, 25, 28, 29, 32, 33, 34, 35, 40, 42, 43, 44, 48, 50, 53, 54, 57, 59, 64, 69, 70, 71, 72, 74, 76, 79, 81, 86, 90, 93, 97, 98, 99, 100, 102, 104, 108, 116, 119, 122, 123, 130, 137, 139, 142, 144, 147, 148, 149, 151, 152, 154, 157, 158, 160, 168, 172, 173, 175, 179, 184, 186, 191, 193, 195, 199, 201, 202, 203, 205, 208, 218, 224, 227, 229, 230, 231, 236, 237, 240, 243, 245, 252, 257, 258, 259, 262, 263, 265, 271, 276, 277, 281, 283, 284, 285, 287, 290, 292, 295, 297, 301, 306, 307, 308, 312, 313, 315, 316, 325, 326, 328, 336, 338, 339, 340, 341, 342, 347, 349, 350, 354, 362, 367, 368, 372, 374, 379, 380, 391, 392, 393, 395, 396, 401, 404, 405, 420, 422, 426, 427, 432, 440, 447, 449, 454, 457, 459, 462, 465, 466, 467, 473, 474, 476, 477, 479, 481, 484, 489, 495, 497, 498, 508, 511, 522, 523, 531, 532, 536, 538, 546, 547, 552, 555, 556, 558, 559, 560, 562, 563, 565, 568, 570, 580, 584, 587, 591, 598, 599, 602, 606, 608, 612, 613, 615, 618, 621, 628, 633, 634, 639, 640, 644, 645, 650, 656, 661, 662, 666, 668, 670, 672, 674, 675, 676, 677, 678, 680, 685, 686, 688, 690, 693, 698, 701, 705, 707, 708, 709, 711, 712, 718, 719, 727, 729, 731, 737, 739, 742, 744, 746, 755, 759, 760, 762, 770, 771, 772, 775, 778, 784, 787, 791, 795, 802, 803, 805, 809, 812, 815, 816, 821, 825, 826, 829, 831, 832, 833, 836, 839, 840, 843, 848, 849, 850, 854, 858, 861, 866, 872, 875, 876, 880, 883, 885, 886, 887, 889, 892, 896, 897, 902, 903, 907, 912, 913, 914, 918, 919, 920, 933, 935, 940, 945, 946, 951, 953, 956, 958, 963, 967, 968, 971, 972, 977, 981, 984, 986, 992, 993, 997, 999, 1000, 1001, 1003, 1008, 1009, 1011, 1012, 1013, 1020, 1025, 1030, 1031, 1032, 1033, 1034, 1040, 1043, 1046, 1048, 1049, 1050, 1057, 1064, 1065, 1077, 1079, 1080, 1082, 1088, 1089, 1092, 1093, 1097, 1099, 1107, 1108, 1114, 1119, 1126, 1128, 1134, 1137, 1138, 1142, 1143, 1146, 1147, 1154, 1174, 1175, 1177, 1183, 1184, 1185, 1189, 1192, 1199, 1202, 1203, 1210, 1220, 1225, 1227, 1232, 1234, 1238, 1246, 1253, 1254, 1258, 1259, 1272, 1274, 1280, 1287, 1289, 1290, 1295, 1298, 1299, 1301, 1318, 1319, 1323, 1324, 1331, 1332, 1336, 1340, 1348, 1351, 1352, 1355, 1356, 1360, 1368, 1369, 1371, 1375, 1376, 1377, 1380, 1381, 1383, 1384, 1390, 1391, 1392, 1395, 1398, 1399, 1401, 1404, 1411, 1419, 1421, 1424, 1425, 1426, 1432, 1434, 1441, 1446, 1451, 1454, 1455, 1465, 1468, 1471, 1485, 1490, 1493, 1497, 1499, 1503, 1513, 1514, 1517, 1519, 1527, 1528, 1529, 1531, 1536, 1538, 1550, 1551, 1554, 1561, 1563, 1564, 1565, 1568, 1570, 1572, 1578, 1580, 1586, 1588, 1589, 1596, 1597, 1598, 1603, 1606, 1609, 1611, 1616, 1617, 1619, 1621, 1623, 1625, 1627, 1628, 1631, 1637, 1642, 1644, 1646, 1648, 1652, 1659, 1663, 1666, 1667, 1670, 1672, 1675, 1679, 1681, 1682, 1683, 1684, 1686, 1687, 1690, 1691, 1697, 1701, 1708, 1709, 1712, 1713, 1715, 1716, 1720, 1725, 1726, 1729, 1739, 1742, 1744, 1745, 1746, 1747, 1750, 1754, 1756, 1757, 1758, 1761, 1766, 1768, 1773, 1774, 1779, 1786, 1787, 1794, 1797, 1800, 1806, 1811, 1818, 1825, 1830, 1831, 1836, 1838, 1839, 1840, 1846, 1852, 1865, 1871, 1873, 1876, 1877, 1880, 1882, 1883, 1884, 1886, 1890, 1892, 1893, 1895, 1898, 1899, 1900, 1901, 1908, 1917, 1921, 1922, 1928, 1933, 1938, 1939, 1940, 1945, 1947, 1950, 1951, 1954, 1966, 1972, 1974, 1976, 1980, 1987, 1988, 1990, 1997, 1998, 2003, 2004, 2007, 2009, 2013, 2019, 2022, 2026, 2030, 2034, 2038, 2040, 2042, 2047, 2049, 2051, 2058, 2060, 2070, 2074, 2076, 2077, 2079, 2084, 2085, 2086, 2088, 2092, 2095, 2096, 2100, 2109, 2115, 2117, 2118, 2119, 2123, 2125, 2131, 2138, 2142, 2143, 2148, 2154, 2155, 2164, 2165, 2166, 2167, 2172, 2178, 2179, 2185, 2187, 2190, 2192, 2193, 2196, 2207, 2210, 2212, 2220, 2223, 2225, 2229, 2232, 2235, 2237, 2238, 2240, 2249, 2252, 2257, 2280, 2282, 2286, 2287, 2289, 2290, 2291, 2292, 2293, 2295, 2298, 2300, 2303, 2307, 2310, 2313, 2317, 2318, 2324, 2326, 2327, 2328, 2336, 2339, 2345, 2346, 2347, 2349, 2350, 2352, 2354, 2358, 2359, 2360, 2366, 2367, 2368, 2369, 2370, 2376, 2381, 2383, 2385, 2389, 2390, 2391, 2392, 2393, 2395, 2396, 2400, 2402, 2407, 2412, 2414, 2419, 2420, 2421, 2422, 2428, 2433, 2442, 2443, 2445, 2446, 2448, 2450, 2452, 2458, 2462, 2464, 2468, 2469, 2474, 2476, 2481, 2493, 2494, 2496, 2501, 2504, 2512, 2514, 2518, 2523, 2524, 2526, 2528, 2532, 2533, 2537, 2540, 2542, 2543, 2544, 2546, 2549, 2550, 2551, 2553, 2561, 2563, 2567, 2573, 2574, 2577, 2580, 2582, 2585, 2587, 2591, 2598, 2605, 2608, 2609, 2611, 2614, 2616, 2620, 2621, 2625, 2629, 2631, 2637, 2642, 2646, 2649, 2654, 2655, 2657, 2659, 2663, 2669, 2673, 2676]\n",
      "wrong4_3 [0, 2, 7, 13, 14, 19, 20, 21, 24, 25, 28, 29, 32, 33, 34, 35, 40, 42, 43, 44, 48, 50, 53, 54, 57, 59, 64, 69, 70, 71, 72, 74, 76, 79, 81, 86, 90, 93, 97, 98, 99, 100, 102, 104, 108, 116, 119, 122, 123, 130, 137, 139, 142, 144, 147, 148, 149, 151, 152, 154, 157, 158, 160, 168, 172, 173, 175, 179, 184, 186, 191, 193, 195, 199, 201, 202, 203, 205, 208, 218, 224, 227, 229, 230, 231, 236, 237, 240, 243, 245, 252, 257, 258, 259, 262, 263, 265, 271, 276, 277, 281, 283, 284, 285, 287, 290, 292, 295, 297, 301, 306, 307, 308, 312, 313, 315, 316, 325, 326, 328, 336, 338, 339, 340, 341, 342, 347, 349, 350, 354, 362, 367, 368, 372, 374, 379, 380, 391, 392, 393, 395, 396, 401, 404, 405, 420, 422, 426, 427, 432, 440, 447, 449, 454, 457, 459, 462, 465, 466, 467, 473, 474, 476, 477, 479, 481, 484, 489, 495, 497, 498, 508, 511, 522, 523, 531, 532, 536, 538, 546, 547, 550, 552, 555, 556, 558, 559, 560, 562, 563, 565, 568, 570, 580, 584, 587, 591, 598, 599, 602, 606, 608, 612, 613, 615, 618, 621, 633, 634, 639, 640, 644, 645, 650, 656, 661, 662, 666, 668, 670, 672, 674, 675, 676, 677, 678, 680, 685, 686, 688, 690, 693, 698, 701, 705, 707, 708, 709, 711, 712, 718, 719, 727, 729, 731, 737, 739, 742, 744, 746, 755, 759, 760, 762, 770, 771, 772, 775, 778, 784, 787, 791, 795, 802, 803, 805, 809, 812, 815, 816, 821, 825, 826, 829, 831, 832, 833, 836, 839, 840, 843, 848, 849, 850, 854, 858, 861, 866, 872, 875, 876, 880, 883, 885, 886, 887, 889, 892, 896, 897, 902, 903, 907, 912, 913, 914, 918, 919, 920, 933, 935, 940, 945, 946, 951, 953, 956, 958, 963, 967, 968, 971, 972, 977, 981, 984, 986, 992, 993, 997, 999, 1000, 1001, 1003, 1008, 1009, 1011, 1012, 1013, 1020, 1025, 1030, 1031, 1032, 1033, 1034, 1040, 1043, 1046, 1048, 1049, 1050, 1057, 1064, 1065, 1079, 1080, 1082, 1088, 1089, 1092, 1093, 1097, 1099, 1107, 1108, 1114, 1119, 1126, 1128, 1134, 1137, 1138, 1142, 1146, 1147, 1154, 1174, 1175, 1176, 1177, 1183, 1184, 1185, 1189, 1192, 1199, 1202, 1203, 1210, 1220, 1225, 1227, 1232, 1234, 1238, 1246, 1253, 1254, 1258, 1259, 1272, 1274, 1280, 1287, 1289, 1290, 1295, 1298, 1299, 1301, 1318, 1319, 1323, 1324, 1331, 1332, 1336, 1340, 1348, 1351, 1352, 1355, 1356, 1360, 1368, 1369, 1371, 1375, 1376, 1377, 1380, 1381, 1383, 1384, 1390, 1391, 1392, 1395, 1398, 1399, 1401, 1404, 1411, 1419, 1420, 1421, 1424, 1425, 1426, 1432, 1434, 1441, 1446, 1451, 1454, 1455, 1465, 1468, 1471, 1485, 1490, 1493, 1497, 1499, 1503, 1513, 1514, 1517, 1519, 1527, 1528, 1529, 1531, 1538, 1550, 1551, 1554, 1561, 1563, 1564, 1565, 1568, 1570, 1572, 1578, 1580, 1586, 1588, 1589, 1596, 1597, 1598, 1603, 1606, 1609, 1611, 1616, 1617, 1619, 1621, 1623, 1625, 1628, 1631, 1637, 1642, 1644, 1646, 1648, 1652, 1659, 1663, 1666, 1667, 1670, 1672, 1675, 1679, 1681, 1682, 1683, 1684, 1686, 1687, 1690, 1691, 1697, 1701, 1708, 1709, 1712, 1713, 1715, 1716, 1720, 1725, 1726, 1729, 1739, 1742, 1744, 1745, 1746, 1747, 1750, 1754, 1756, 1757, 1758, 1761, 1766, 1768, 1773, 1774, 1779, 1786, 1787, 1794, 1797, 1800, 1806, 1811, 1818, 1825, 1830, 1831, 1836, 1838, 1839, 1840, 1846, 1852, 1865, 1871, 1873, 1876, 1877, 1880, 1882, 1883, 1884, 1886, 1890, 1892, 1895, 1898, 1899, 1900, 1901, 1908, 1917, 1921, 1922, 1928, 1933, 1938, 1939, 1940, 1945, 1947, 1950, 1951, 1954, 1966, 1972, 1974, 1976, 1980, 1987, 1988, 1990, 1997, 1998, 2003, 2004, 2007, 2009, 2013, 2019, 2022, 2026, 2030, 2034, 2038, 2040, 2042, 2047, 2049, 2051, 2058, 2060, 2067, 2070, 2074, 2076, 2077, 2079, 2084, 2085, 2086, 2092, 2095, 2096, 2100, 2109, 2115, 2117, 2118, 2119, 2123, 2125, 2131, 2138, 2142, 2143, 2144, 2148, 2154, 2155, 2164, 2165, 2166, 2167, 2172, 2178, 2179, 2185, 2187, 2190, 2192, 2193, 2196, 2207, 2210, 2212, 2220, 2223, 2225, 2229, 2232, 2235, 2237, 2238, 2240, 2249, 2252, 2257, 2280, 2282, 2286, 2287, 2289, 2290, 2291, 2292, 2293, 2295, 2298, 2300, 2303, 2307, 2310, 2313, 2317, 2318, 2324, 2326, 2327, 2328, 2336, 2339, 2345, 2346, 2347, 2349, 2350, 2352, 2354, 2358, 2359, 2360, 2366, 2367, 2368, 2369, 2370, 2376, 2381, 2383, 2385, 2389, 2390, 2391, 2392, 2393, 2395, 2396, 2400, 2402, 2407, 2412, 2414, 2419, 2420, 2421, 2422, 2428, 2433, 2442, 2443, 2445, 2446, 2448, 2450, 2452, 2458, 2462, 2464, 2468, 2469, 2474, 2476, 2481, 2493, 2494, 2496, 2501, 2504, 2512, 2514, 2518, 2523, 2524, 2526, 2528, 2532, 2533, 2537, 2540, 2542, 2543, 2544, 2546, 2549, 2550, 2551, 2553, 2561, 2563, 2567, 2573, 2574, 2577, 2580, 2585, 2587, 2591, 2598, 2605, 2608, 2609, 2611, 2614, 2616, 2620, 2621, 2625, 2629, 2631, 2637, 2642, 2646, 2649, 2654, 2655, 2657, 2659, 2663, 2669, 2673, 2676]\n",
      "wrong4_1 [0, 2, 7, 13, 14, 19, 20, 21, 24, 25, 28, 29, 32, 33, 34, 35, 40, 42, 43, 44, 48, 50, 53, 54, 57, 59, 64, 69, 70, 71, 72, 74, 76, 79, 81, 86, 90, 93, 97, 98, 99, 100, 102, 104, 108, 116, 119, 122, 123, 130, 137, 139, 142, 144, 147, 148, 149, 151, 152, 154, 157, 158, 160, 168, 172, 173, 175, 179, 184, 186, 191, 193, 195, 199, 201, 202, 203, 205, 208, 218, 224, 227, 229, 230, 231, 236, 237, 240, 243, 245, 252, 257, 258, 259, 262, 263, 265, 271, 276, 277, 281, 284, 285, 287, 290, 292, 295, 297, 301, 306, 307, 308, 312, 313, 314, 315, 316, 325, 326, 328, 336, 338, 339, 340, 341, 342, 347, 349, 350, 362, 367, 372, 374, 379, 380, 391, 392, 393, 395, 396, 401, 404, 405, 420, 422, 426, 427, 432, 440, 447, 449, 454, 457, 459, 462, 465, 466, 467, 473, 474, 475, 476, 477, 479, 481, 484, 489, 495, 497, 498, 508, 511, 522, 523, 531, 532, 536, 538, 546, 547, 550, 552, 555, 558, 559, 560, 561, 563, 565, 568, 570, 580, 584, 587, 591, 598, 599, 602, 606, 608, 612, 613, 615, 618, 621, 628, 633, 634, 639, 640, 644, 645, 650, 656, 661, 662, 666, 668, 670, 672, 674, 675, 676, 677, 678, 680, 685, 686, 688, 690, 693, 698, 701, 705, 707, 708, 709, 711, 712, 718, 719, 727, 729, 731, 737, 742, 744, 746, 755, 759, 760, 762, 770, 771, 772, 775, 778, 784, 787, 791, 795, 802, 803, 805, 809, 812, 815, 816, 821, 825, 826, 829, 831, 832, 833, 839, 840, 843, 849, 850, 854, 858, 861, 866, 872, 875, 876, 880, 883, 885, 886, 887, 889, 892, 896, 897, 900, 902, 903, 907, 912, 913, 914, 918, 919, 920, 933, 935, 940, 945, 946, 951, 953, 956, 958, 963, 967, 968, 971, 972, 977, 981, 984, 986, 992, 993, 997, 999, 1000, 1001, 1003, 1008, 1009, 1011, 1013, 1020, 1025, 1030, 1031, 1032, 1033, 1034, 1040, 1043, 1048, 1049, 1050, 1057, 1064, 1077, 1079, 1080, 1082, 1088, 1092, 1093, 1097, 1099, 1107, 1108, 1114, 1119, 1126, 1128, 1134, 1137, 1138, 1142, 1146, 1147, 1154, 1174, 1175, 1176, 1177, 1183, 1184, 1185, 1189, 1192, 1199, 1202, 1203, 1210, 1220, 1225, 1227, 1232, 1234, 1238, 1246, 1253, 1254, 1258, 1259, 1262, 1272, 1274, 1280, 1287, 1289, 1290, 1295, 1298, 1299, 1301, 1318, 1319, 1323, 1324, 1331, 1332, 1336, 1340, 1348, 1351, 1352, 1355, 1356, 1360, 1368, 1369, 1371, 1375, 1376, 1377, 1380, 1381, 1383, 1384, 1390, 1391, 1392, 1395, 1398, 1399, 1401, 1403, 1404, 1411, 1419, 1421, 1424, 1425, 1426, 1432, 1434, 1441, 1446, 1451, 1454, 1455, 1465, 1468, 1471, 1485, 1490, 1493, 1497, 1499, 1503, 1513, 1514, 1517, 1519, 1527, 1528, 1529, 1531, 1538, 1550, 1551, 1554, 1561, 1563, 1564, 1565, 1568, 1570, 1578, 1580, 1586, 1588, 1589, 1596, 1597, 1598, 1603, 1606, 1609, 1611, 1616, 1617, 1619, 1621, 1623, 1625, 1628, 1631, 1637, 1642, 1644, 1646, 1648, 1652, 1659, 1663, 1666, 1667, 1670, 1672, 1675, 1679, 1681, 1682, 1683, 1684, 1686, 1687, 1690, 1691, 1697, 1701, 1708, 1709, 1712, 1713, 1715, 1716, 1720, 1725, 1726, 1729, 1739, 1742, 1744, 1745, 1746, 1747, 1750, 1754, 1756, 1757, 1758, 1761, 1766, 1768, 1773, 1774, 1779, 1786, 1787, 1794, 1797, 1800, 1806, 1811, 1818, 1825, 1830, 1831, 1836, 1838, 1839, 1840, 1846, 1852, 1865, 1867, 1871, 1873, 1876, 1877, 1880, 1882, 1883, 1884, 1886, 1890, 1892, 1895, 1898, 1899, 1900, 1901, 1908, 1917, 1921, 1922, 1928, 1933, 1938, 1939, 1940, 1942, 1945, 1947, 1950, 1954, 1966, 1972, 1974, 1976, 1980, 1988, 1990, 1997, 1998, 2003, 2004, 2007, 2009, 2013, 2019, 2022, 2024, 2026, 2030, 2034, 2038, 2040, 2047, 2049, 2051, 2058, 2060, 2067, 2070, 2074, 2076, 2077, 2079, 2084, 2085, 2086, 2088, 2092, 2095, 2096, 2100, 2109, 2115, 2117, 2118, 2119, 2123, 2125, 2131, 2138, 2142, 2143, 2144, 2148, 2154, 2155, 2164, 2165, 2166, 2167, 2172, 2178, 2185, 2187, 2190, 2192, 2193, 2196, 2207, 2210, 2212, 2220, 2223, 2225, 2229, 2232, 2235, 2237, 2238, 2240, 2249, 2252, 2257, 2280, 2282, 2286, 2287, 2289, 2290, 2291, 2292, 2293, 2298, 2300, 2303, 2307, 2309, 2310, 2313, 2317, 2318, 2324, 2326, 2327, 2328, 2336, 2339, 2345, 2346, 2347, 2349, 2350, 2352, 2354, 2358, 2359, 2360, 2367, 2368, 2369, 2370, 2376, 2381, 2383, 2384, 2385, 2389, 2390, 2391, 2392, 2393, 2395, 2396, 2400, 2402, 2407, 2412, 2414, 2419, 2420, 2421, 2422, 2428, 2433, 2442, 2443, 2445, 2446, 2448, 2450, 2452, 2458, 2462, 2464, 2468, 2469, 2474, 2476, 2481, 2493, 2494, 2496, 2501, 2504, 2512, 2514, 2518, 2523, 2524, 2526, 2528, 2532, 2533, 2537, 2540, 2542, 2543, 2544, 2546, 2549, 2550, 2551, 2553, 2561, 2563, 2567, 2573, 2574, 2580, 2582, 2585, 2587, 2591, 2598, 2605, 2608, 2609, 2611, 2614, 2616, 2620, 2621, 2625, 2629, 2631, 2637, 2642, 2646, 2649, 2654, 2655, 2657, 2659, 2660, 2663, 2669, 2673]\n",
      "wrong4_5 [0, 2, 7, 13, 14, 19, 20, 21, 24, 25, 28, 29, 32, 33, 34, 35, 40, 42, 43, 44, 48, 50, 54, 55, 57, 59, 64, 69, 70, 71, 72, 74, 76, 79, 81, 86, 90, 93, 97, 98, 99, 100, 102, 104, 108, 116, 119, 122, 123, 130, 137, 139, 142, 144, 147, 148, 149, 151, 152, 154, 157, 158, 168, 172, 173, 175, 179, 184, 186, 191, 193, 195, 199, 201, 202, 203, 205, 208, 218, 224, 227, 229, 230, 231, 236, 237, 240, 243, 245, 252, 257, 258, 259, 262, 263, 265, 271, 276, 277, 281, 284, 285, 287, 290, 295, 297, 301, 306, 307, 308, 312, 313, 315, 316, 325, 326, 328, 329, 336, 338, 339, 340, 341, 342, 347, 349, 350, 362, 372, 374, 379, 380, 391, 393, 395, 396, 401, 404, 405, 420, 422, 426, 427, 432, 440, 447, 449, 454, 457, 459, 462, 465, 466, 467, 473, 474, 475, 476, 477, 479, 481, 484, 489, 495, 497, 498, 508, 511, 522, 523, 531, 532, 536, 538, 546, 547, 550, 552, 555, 556, 558, 560, 561, 563, 565, 568, 569, 570, 580, 584, 587, 591, 598, 599, 602, 606, 608, 612, 613, 615, 618, 621, 628, 633, 634, 639, 644, 645, 650, 656, 661, 662, 666, 668, 670, 672, 674, 675, 676, 677, 678, 680, 685, 686, 688, 690, 693, 698, 701, 705, 707, 708, 709, 711, 718, 719, 727, 729, 731, 737, 742, 744, 746, 755, 759, 760, 762, 770, 771, 772, 775, 778, 784, 787, 791, 795, 802, 803, 804, 805, 809, 812, 815, 816, 821, 825, 826, 829, 831, 832, 833, 836, 839, 840, 843, 849, 850, 854, 858, 861, 866, 872, 875, 876, 883, 885, 886, 887, 889, 892, 896, 897, 900, 902, 903, 907, 912, 913, 914, 918, 919, 920, 933, 935, 940, 945, 946, 951, 953, 956, 958, 963, 967, 968, 971, 972, 977, 981, 984, 986, 992, 993, 997, 999, 1000, 1001, 1008, 1009, 1011, 1013, 1020, 1025, 1030, 1031, 1032, 1033, 1034, 1040, 1043, 1048, 1049, 1050, 1057, 1064, 1077, 1079, 1080, 1082, 1088, 1092, 1093, 1097, 1099, 1114, 1119, 1126, 1128, 1134, 1137, 1138, 1142, 1143, 1146, 1147, 1154, 1174, 1175, 1176, 1177, 1183, 1184, 1185, 1189, 1192, 1199, 1202, 1203, 1210, 1220, 1225, 1227, 1232, 1234, 1238, 1246, 1253, 1254, 1258, 1259, 1272, 1274, 1280, 1287, 1289, 1290, 1295, 1298, 1299, 1301, 1311, 1318, 1319, 1323, 1324, 1331, 1332, 1336, 1340, 1348, 1351, 1352, 1355, 1356, 1368, 1369, 1371, 1375, 1376, 1377, 1380, 1381, 1383, 1384, 1390, 1391, 1392, 1395, 1398, 1399, 1401, 1404, 1419, 1420, 1421, 1424, 1425, 1426, 1430, 1432, 1434, 1441, 1446, 1451, 1454, 1455, 1465, 1468, 1471, 1483, 1485, 1490, 1493, 1497, 1499, 1503, 1513, 1514, 1517, 1519, 1527, 1528, 1529, 1531, 1538, 1550, 1551, 1554, 1561, 1563, 1564, 1565, 1568, 1570, 1578, 1580, 1586, 1588, 1589, 1596, 1597, 1598, 1603, 1606, 1609, 1611, 1616, 1617, 1619, 1621, 1623, 1625, 1628, 1631, 1637, 1642, 1644, 1646, 1648, 1652, 1659, 1663, 1666, 1667, 1670, 1672, 1675, 1679, 1681, 1682, 1683, 1684, 1686, 1687, 1690, 1691, 1697, 1701, 1705, 1709, 1712, 1713, 1715, 1716, 1720, 1725, 1729, 1739, 1742, 1744, 1745, 1746, 1747, 1754, 1756, 1757, 1758, 1761, 1766, 1768, 1773, 1774, 1779, 1786, 1787, 1794, 1797, 1800, 1806, 1811, 1818, 1825, 1830, 1831, 1833, 1836, 1838, 1839, 1840, 1846, 1852, 1865, 1871, 1873, 1876, 1877, 1880, 1882, 1883, 1884, 1886, 1890, 1892, 1893, 1895, 1898, 1899, 1900, 1901, 1908, 1917, 1921, 1922, 1928, 1933, 1938, 1939, 1940, 1945, 1947, 1950, 1954, 1966, 1972, 1974, 1976, 1980, 1988, 1990, 1997, 1998, 2003, 2004, 2007, 2009, 2013, 2019, 2022, 2024, 2026, 2030, 2034, 2038, 2040, 2047, 2049, 2058, 2060, 2067, 2070, 2074, 2076, 2077, 2079, 2084, 2086, 2088, 2092, 2095, 2096, 2100, 2109, 2115, 2117, 2118, 2119, 2123, 2125, 2131, 2138, 2142, 2143, 2148, 2154, 2155, 2164, 2165, 2166, 2167, 2172, 2178, 2185, 2187, 2192, 2193, 2196, 2207, 2210, 2212, 2220, 2223, 2225, 2229, 2232, 2235, 2237, 2238, 2240, 2249, 2252, 2257, 2280, 2282, 2286, 2287, 2289, 2290, 2291, 2292, 2293, 2295, 2298, 2300, 2307, 2309, 2310, 2313, 2317, 2318, 2322, 2326, 2327, 2328, 2336, 2339, 2345, 2346, 2347, 2349, 2350, 2352, 2354, 2358, 2359, 2360, 2366, 2367, 2368, 2369, 2370, 2376, 2381, 2383, 2384, 2385, 2389, 2390, 2391, 2392, 2393, 2395, 2396, 2400, 2402, 2407, 2412, 2414, 2419, 2420, 2421, 2422, 2428, 2433, 2442, 2443, 2445, 2446, 2448, 2450, 2452, 2458, 2462, 2464, 2468, 2469, 2472, 2474, 2476, 2479, 2493, 2494, 2496, 2501, 2504, 2512, 2514, 2518, 2523, 2524, 2528, 2532, 2533, 2537, 2540, 2542, 2543, 2544, 2546, 2549, 2550, 2551, 2553, 2560, 2561, 2563, 2567, 2573, 2574, 2579, 2580, 2582, 2585, 2587, 2591, 2598, 2605, 2608, 2609, 2611, 2614, 2616, 2620, 2621, 2625, 2629, 2630, 2631, 2637, 2642, 2646, 2649, 2654, 2655, 2657, 2659, 2663, 2669, 2673]\n"
     ]
    }
   ],
   "source": [
    "zip_list = zip(open_test_data['label'].values, test_predictions4_0.argmax(axis=1))\n",
    "correct = 0\n",
    "count = 0\n",
    "wrong4_0 = []\n",
    "for ans, pred in zip_list:\n",
    "    if(ans==pred):\n",
    "        correct += 1\n",
    "    else:\n",
    "        wrong4_0.append(count)\n",
    "    count+=1\n",
    "percentage4_0 = correct/len(open_test_data['label'])\n",
    "\n",
    "zip_list = zip(open_test_data['label'].values, test_predictions4_2.argmax(axis=1))\n",
    "correct = 0\n",
    "count = 0\n",
    "wrong4_2 = []\n",
    "for ans, pred in zip_list:\n",
    "    if(ans==pred):\n",
    "        correct += 1\n",
    "    else:\n",
    "        wrong4_2.append(count)\n",
    "    count+=1\n",
    "percentage4_2 = correct/len(open_test_data['label'])\n",
    "\n",
    "zip_list = zip(open_test_data['label'].values, test_predictions4_3.argmax(axis=1))\n",
    "correct = 0\n",
    "count = 0\n",
    "wrong4_3 = []\n",
    "for ans, pred in zip_list:\n",
    "    if(ans==pred):\n",
    "        correct += 1\n",
    "    else:\n",
    "        wrong4_3.append(count)\n",
    "    count+=1\n",
    "percentage4_3 = correct/len(open_test_data['label'])\n",
    "\n",
    "zip_list = zip(open_test_data['label'].values, test_predictions4_1.argmax(axis=1))\n",
    "correct = 0\n",
    "count = 0\n",
    "wrong4_1 = []\n",
    "for ans, pred in zip_list:\n",
    "    if(ans==pred):\n",
    "        correct += 1\n",
    "    else:\n",
    "        wrong4_1.append(count)\n",
    "    count+=1\n",
    "percentage4_1 = correct/len(open_test_data['label'])\n",
    "\n",
    "zip_list = zip(open_test_data['label'].values, test_predictions4_5.argmax(axis=1))\n",
    "correct = 0\n",
    "count = 0\n",
    "wrong4_5 = []\n",
    "for ans, pred in zip_list:\n",
    "    if(ans==pred):\n",
    "        correct += 1\n",
    "    else:\n",
    "        wrong4_5.append(count)\n",
    "    count+=1\n",
    "percentage4_5 = correct/len(open_test_data['label'])\n",
    "\n",
    "print(percentage4_0, percentage4_2, percentage4_3, percentage4_1, percentage4_5)\n",
    "\n",
    "print('wrong4_0',wrong4_0)\n",
    "print('wrong4_2',wrong4_2)\n",
    "print('wrong4_3',wrong4_3)\n",
    "print('wrong4_1',wrong4_1)\n",
    "print('wrong4_5',wrong4_5)"
   ]
  },
  {
   "cell_type": "code",
   "execution_count": 421,
   "metadata": {},
   "outputs": [
    {
     "name": "stdout",
     "output_type": "stream",
     "text": [
      "0.6950037285607755 0.6923937360178971 0.6935123042505593 0.6957494407158836 0.020879940343027592\n",
      "wrong5_0 [0, 2, 7, 13, 14, 19, 20, 21, 24, 25, 28, 29, 32, 33, 34, 35, 40, 42, 43, 44, 48, 50, 53, 54, 57, 59, 64, 69, 70, 71, 72, 74, 76, 78, 79, 81, 86, 90, 93, 97, 98, 99, 100, 102, 104, 108, 116, 119, 122, 123, 130, 137, 139, 142, 144, 147, 148, 149, 151, 152, 154, 157, 158, 160, 168, 172, 173, 175, 179, 184, 186, 191, 193, 195, 199, 201, 202, 203, 205, 208, 218, 224, 227, 229, 230, 231, 236, 237, 240, 243, 245, 252, 257, 258, 259, 262, 263, 265, 271, 276, 277, 281, 284, 285, 287, 290, 292, 295, 297, 301, 306, 307, 308, 312, 313, 314, 315, 316, 325, 326, 328, 336, 338, 339, 340, 341, 342, 347, 349, 350, 362, 367, 372, 374, 379, 380, 391, 392, 393, 395, 396, 401, 404, 405, 420, 422, 426, 427, 432, 440, 447, 449, 454, 457, 459, 462, 465, 466, 467, 473, 474, 475, 476, 477, 479, 481, 484, 489, 495, 497, 498, 508, 511, 522, 523, 531, 532, 536, 538, 546, 547, 550, 552, 555, 558, 559, 560, 561, 562, 563, 565, 568, 569, 570, 580, 584, 587, 591, 598, 599, 602, 606, 608, 612, 613, 615, 618, 621, 628, 633, 634, 639, 640, 644, 645, 650, 656, 661, 662, 666, 668, 670, 672, 674, 675, 676, 677, 678, 680, 685, 686, 688, 690, 693, 698, 701, 705, 707, 708, 709, 711, 712, 718, 719, 727, 729, 731, 737, 742, 744, 746, 755, 759, 760, 762, 770, 771, 772, 775, 778, 784, 787, 791, 795, 802, 803, 805, 809, 812, 815, 816, 821, 825, 826, 829, 831, 832, 833, 839, 840, 843, 849, 850, 854, 858, 861, 866, 872, 875, 876, 880, 883, 885, 886, 887, 889, 892, 896, 897, 902, 903, 907, 912, 913, 914, 918, 919, 920, 933, 935, 940, 945, 946, 951, 953, 956, 958, 963, 967, 968, 971, 972, 977, 981, 984, 986, 992, 993, 997, 999, 1000, 1001, 1003, 1008, 1009, 1011, 1012, 1013, 1020, 1025, 1030, 1031, 1032, 1033, 1034, 1040, 1043, 1048, 1049, 1050, 1057, 1064, 1077, 1079, 1080, 1082, 1088, 1092, 1093, 1097, 1099, 1107, 1108, 1114, 1119, 1126, 1128, 1134, 1137, 1138, 1142, 1146, 1147, 1154, 1174, 1175, 1176, 1177, 1183, 1184, 1185, 1189, 1192, 1199, 1202, 1203, 1210, 1220, 1225, 1227, 1232, 1234, 1238, 1246, 1253, 1254, 1258, 1259, 1262, 1272, 1274, 1280, 1287, 1289, 1290, 1295, 1298, 1299, 1301, 1318, 1319, 1323, 1324, 1331, 1332, 1336, 1340, 1348, 1351, 1352, 1355, 1356, 1360, 1368, 1369, 1371, 1375, 1376, 1377, 1380, 1381, 1383, 1384, 1390, 1391, 1392, 1395, 1398, 1399, 1401, 1404, 1411, 1419, 1421, 1424, 1425, 1426, 1432, 1434, 1441, 1446, 1451, 1454, 1455, 1465, 1468, 1471, 1485, 1490, 1493, 1497, 1499, 1503, 1513, 1514, 1517, 1519, 1527, 1528, 1529, 1531, 1538, 1550, 1551, 1554, 1561, 1563, 1564, 1565, 1568, 1570, 1578, 1580, 1586, 1588, 1589, 1596, 1597, 1598, 1603, 1606, 1609, 1611, 1616, 1617, 1619, 1621, 1623, 1625, 1628, 1631, 1637, 1642, 1644, 1646, 1648, 1652, 1659, 1663, 1666, 1667, 1670, 1672, 1675, 1679, 1681, 1682, 1683, 1684, 1686, 1687, 1690, 1691, 1697, 1701, 1708, 1709, 1712, 1713, 1715, 1716, 1720, 1725, 1726, 1729, 1739, 1742, 1744, 1745, 1746, 1747, 1750, 1754, 1756, 1757, 1758, 1761, 1766, 1768, 1773, 1774, 1779, 1786, 1787, 1794, 1797, 1800, 1806, 1811, 1818, 1825, 1830, 1831, 1836, 1838, 1839, 1840, 1846, 1852, 1865, 1867, 1871, 1873, 1876, 1877, 1880, 1882, 1883, 1884, 1886, 1890, 1892, 1895, 1898, 1899, 1900, 1901, 1902, 1908, 1917, 1921, 1922, 1928, 1933, 1938, 1939, 1940, 1942, 1945, 1947, 1950, 1954, 1966, 1972, 1974, 1976, 1980, 1988, 1990, 1997, 1998, 2003, 2004, 2007, 2009, 2013, 2019, 2022, 2024, 2026, 2030, 2034, 2038, 2040, 2047, 2049, 2051, 2058, 2060, 2067, 2070, 2074, 2076, 2077, 2079, 2084, 2085, 2086, 2088, 2092, 2095, 2096, 2100, 2109, 2115, 2117, 2118, 2119, 2123, 2125, 2131, 2138, 2142, 2143, 2144, 2148, 2154, 2155, 2164, 2165, 2166, 2167, 2172, 2178, 2185, 2187, 2190, 2192, 2193, 2196, 2207, 2210, 2212, 2220, 2223, 2225, 2229, 2232, 2235, 2237, 2238, 2240, 2249, 2252, 2257, 2280, 2282, 2286, 2287, 2289, 2290, 2291, 2292, 2293, 2298, 2300, 2303, 2307, 2309, 2310, 2313, 2317, 2318, 2322, 2324, 2326, 2327, 2328, 2336, 2339, 2345, 2346, 2347, 2349, 2350, 2352, 2354, 2358, 2359, 2360, 2367, 2368, 2369, 2370, 2376, 2381, 2383, 2384, 2385, 2389, 2390, 2391, 2392, 2393, 2395, 2396, 2400, 2402, 2407, 2412, 2414, 2419, 2420, 2421, 2422, 2428, 2433, 2442, 2443, 2445, 2446, 2448, 2450, 2452, 2458, 2462, 2464, 2468, 2469, 2474, 2476, 2481, 2493, 2494, 2496, 2501, 2504, 2512, 2514, 2518, 2523, 2524, 2528, 2532, 2533, 2537, 2540, 2542, 2543, 2544, 2546, 2549, 2550, 2551, 2553, 2561, 2563, 2567, 2573, 2574, 2580, 2582, 2585, 2587, 2591, 2598, 2605, 2608, 2609, 2611, 2614, 2616, 2620, 2621, 2625, 2629, 2631, 2637, 2642, 2646, 2649, 2654, 2655, 2657, 2659, 2663, 2669, 2673]\n",
      "wrong5_2 [0, 2, 7, 13, 14, 19, 20, 21, 24, 25, 28, 29, 32, 33, 34, 35, 40, 42, 43, 44, 48, 50, 53, 54, 57, 59, 64, 69, 70, 71, 72, 74, 76, 79, 81, 86, 90, 93, 97, 98, 99, 100, 102, 104, 108, 116, 119, 122, 123, 130, 137, 139, 142, 144, 147, 148, 149, 151, 152, 154, 157, 158, 160, 168, 172, 173, 175, 179, 184, 186, 191, 193, 195, 199, 201, 202, 203, 205, 208, 218, 224, 227, 229, 230, 231, 236, 237, 240, 243, 245, 252, 257, 258, 259, 262, 263, 265, 271, 276, 277, 281, 283, 284, 285, 287, 290, 292, 295, 297, 301, 306, 307, 308, 312, 313, 315, 316, 325, 326, 328, 336, 338, 339, 340, 341, 342, 347, 349, 350, 354, 362, 367, 368, 372, 374, 379, 380, 391, 392, 393, 395, 396, 401, 404, 405, 420, 422, 426, 427, 432, 440, 447, 449, 454, 457, 459, 462, 465, 466, 467, 473, 474, 476, 477, 479, 481, 484, 489, 495, 497, 498, 508, 511, 522, 523, 531, 532, 536, 538, 546, 547, 552, 555, 556, 558, 559, 560, 562, 563, 565, 568, 570, 580, 584, 587, 591, 598, 599, 602, 606, 608, 612, 613, 615, 618, 621, 628, 633, 634, 639, 640, 644, 645, 650, 656, 661, 662, 666, 668, 670, 672, 674, 675, 676, 677, 678, 680, 685, 686, 688, 690, 693, 698, 701, 705, 707, 708, 709, 711, 712, 718, 719, 727, 729, 731, 737, 739, 742, 744, 746, 755, 759, 760, 762, 770, 771, 772, 775, 778, 784, 787, 791, 795, 802, 803, 805, 809, 812, 815, 816, 821, 825, 826, 829, 831, 832, 833, 836, 839, 840, 843, 848, 849, 850, 854, 858, 861, 866, 872, 875, 876, 880, 883, 885, 886, 887, 889, 892, 896, 897, 902, 903, 907, 912, 913, 914, 918, 919, 920, 933, 935, 940, 945, 946, 951, 953, 956, 958, 963, 967, 968, 971, 972, 977, 981, 984, 986, 992, 993, 997, 999, 1000, 1001, 1003, 1008, 1009, 1011, 1012, 1013, 1020, 1025, 1030, 1031, 1032, 1033, 1034, 1040, 1043, 1046, 1048, 1049, 1050, 1057, 1064, 1065, 1077, 1079, 1080, 1082, 1088, 1089, 1092, 1093, 1097, 1099, 1107, 1108, 1114, 1119, 1126, 1128, 1134, 1137, 1138, 1142, 1143, 1146, 1147, 1154, 1174, 1175, 1177, 1183, 1184, 1185, 1189, 1192, 1199, 1202, 1203, 1210, 1220, 1225, 1227, 1232, 1234, 1238, 1246, 1253, 1254, 1258, 1259, 1272, 1274, 1280, 1287, 1289, 1290, 1295, 1298, 1299, 1301, 1318, 1319, 1323, 1324, 1331, 1332, 1336, 1340, 1348, 1351, 1352, 1355, 1356, 1360, 1368, 1369, 1371, 1375, 1376, 1377, 1380, 1381, 1383, 1384, 1390, 1391, 1392, 1395, 1398, 1399, 1401, 1404, 1411, 1419, 1421, 1424, 1425, 1426, 1432, 1434, 1441, 1446, 1451, 1454, 1455, 1465, 1468, 1471, 1485, 1490, 1493, 1497, 1499, 1503, 1513, 1514, 1517, 1519, 1527, 1528, 1529, 1531, 1536, 1538, 1550, 1551, 1554, 1561, 1563, 1564, 1565, 1568, 1570, 1572, 1578, 1580, 1586, 1588, 1589, 1596, 1597, 1598, 1603, 1606, 1609, 1611, 1616, 1617, 1619, 1621, 1623, 1625, 1627, 1628, 1631, 1637, 1642, 1644, 1646, 1648, 1652, 1659, 1663, 1666, 1667, 1670, 1672, 1675, 1679, 1681, 1682, 1683, 1684, 1686, 1687, 1690, 1691, 1697, 1701, 1708, 1709, 1712, 1713, 1715, 1716, 1720, 1725, 1726, 1729, 1739, 1742, 1744, 1745, 1746, 1747, 1750, 1754, 1756, 1757, 1758, 1761, 1766, 1768, 1773, 1774, 1779, 1786, 1787, 1794, 1797, 1800, 1806, 1811, 1818, 1825, 1830, 1831, 1836, 1838, 1839, 1840, 1846, 1852, 1865, 1871, 1873, 1876, 1877, 1880, 1882, 1883, 1884, 1886, 1890, 1892, 1893, 1895, 1898, 1899, 1900, 1901, 1908, 1917, 1921, 1922, 1928, 1933, 1938, 1939, 1940, 1945, 1947, 1950, 1951, 1954, 1966, 1972, 1974, 1976, 1980, 1987, 1988, 1990, 1997, 1998, 2003, 2004, 2007, 2009, 2013, 2019, 2022, 2026, 2030, 2034, 2038, 2040, 2042, 2047, 2049, 2051, 2058, 2060, 2070, 2074, 2076, 2077, 2079, 2084, 2085, 2086, 2088, 2092, 2095, 2096, 2100, 2109, 2115, 2117, 2118, 2119, 2123, 2125, 2131, 2138, 2142, 2143, 2148, 2154, 2155, 2164, 2165, 2166, 2167, 2172, 2178, 2179, 2185, 2187, 2190, 2192, 2193, 2196, 2207, 2210, 2212, 2220, 2223, 2225, 2229, 2232, 2235, 2237, 2238, 2240, 2249, 2252, 2257, 2280, 2282, 2286, 2287, 2289, 2290, 2291, 2292, 2293, 2295, 2298, 2300, 2303, 2307, 2310, 2313, 2317, 2318, 2324, 2326, 2327, 2328, 2336, 2339, 2345, 2346, 2347, 2349, 2350, 2352, 2354, 2358, 2359, 2360, 2366, 2367, 2368, 2369, 2370, 2376, 2381, 2383, 2385, 2389, 2390, 2391, 2392, 2393, 2395, 2396, 2400, 2402, 2407, 2412, 2414, 2419, 2420, 2421, 2422, 2428, 2433, 2442, 2443, 2445, 2446, 2448, 2450, 2452, 2458, 2462, 2464, 2468, 2469, 2474, 2476, 2481, 2493, 2494, 2496, 2501, 2504, 2512, 2514, 2518, 2523, 2524, 2526, 2528, 2532, 2533, 2537, 2540, 2542, 2543, 2544, 2546, 2549, 2550, 2551, 2553, 2561, 2563, 2567, 2573, 2574, 2577, 2580, 2582, 2585, 2587, 2591, 2598, 2605, 2608, 2609, 2611, 2614, 2616, 2620, 2621, 2625, 2629, 2631, 2637, 2642, 2646, 2649, 2654, 2655, 2657, 2659, 2663, 2669, 2673, 2676]\n",
      "wrong5_3 [0, 2, 7, 13, 14, 19, 20, 21, 24, 25, 28, 29, 32, 33, 34, 35, 40, 42, 43, 44, 48, 50, 53, 54, 57, 59, 64, 69, 70, 71, 72, 74, 76, 79, 81, 86, 90, 93, 97, 98, 99, 100, 102, 104, 108, 116, 119, 122, 123, 130, 137, 139, 142, 144, 147, 148, 149, 151, 152, 154, 157, 158, 160, 168, 172, 173, 175, 179, 184, 186, 191, 193, 195, 199, 201, 202, 203, 205, 208, 218, 224, 227, 229, 230, 231, 236, 237, 240, 243, 245, 252, 257, 258, 259, 262, 263, 265, 271, 276, 277, 281, 283, 284, 285, 287, 290, 292, 295, 297, 301, 306, 307, 308, 312, 313, 315, 316, 325, 326, 328, 336, 338, 339, 340, 341, 342, 347, 349, 350, 354, 362, 367, 368, 372, 374, 379, 380, 391, 392, 393, 395, 396, 401, 404, 405, 420, 422, 426, 427, 432, 440, 447, 449, 454, 457, 459, 462, 465, 466, 467, 473, 474, 476, 477, 479, 481, 484, 489, 495, 497, 498, 508, 511, 522, 523, 531, 532, 536, 538, 546, 547, 550, 552, 555, 556, 558, 559, 560, 562, 563, 565, 568, 570, 580, 584, 587, 591, 598, 599, 602, 606, 608, 612, 613, 615, 618, 621, 633, 634, 639, 640, 644, 645, 650, 656, 661, 662, 666, 668, 670, 672, 674, 675, 676, 677, 678, 680, 685, 686, 688, 690, 693, 698, 701, 705, 707, 708, 709, 711, 712, 718, 719, 727, 729, 731, 737, 739, 742, 744, 746, 755, 759, 760, 762, 770, 771, 772, 775, 778, 784, 787, 791, 795, 802, 803, 805, 809, 812, 815, 816, 821, 825, 826, 829, 831, 832, 833, 836, 839, 840, 843, 848, 849, 850, 854, 858, 861, 866, 872, 875, 876, 880, 883, 885, 886, 887, 889, 892, 896, 897, 902, 903, 907, 912, 913, 914, 918, 919, 920, 933, 935, 940, 945, 946, 951, 953, 956, 958, 963, 967, 968, 971, 972, 977, 981, 984, 986, 992, 993, 997, 999, 1000, 1001, 1003, 1008, 1009, 1011, 1012, 1013, 1020, 1025, 1030, 1031, 1032, 1033, 1034, 1040, 1043, 1046, 1048, 1049, 1050, 1057, 1064, 1065, 1079, 1080, 1082, 1088, 1089, 1092, 1093, 1097, 1099, 1107, 1108, 1114, 1119, 1126, 1128, 1134, 1137, 1138, 1142, 1146, 1147, 1154, 1174, 1175, 1176, 1177, 1183, 1184, 1185, 1189, 1192, 1199, 1202, 1203, 1210, 1220, 1225, 1227, 1232, 1234, 1238, 1246, 1253, 1254, 1258, 1259, 1272, 1274, 1280, 1287, 1289, 1290, 1295, 1298, 1299, 1301, 1318, 1319, 1323, 1324, 1331, 1332, 1336, 1340, 1348, 1351, 1352, 1355, 1356, 1360, 1368, 1369, 1371, 1375, 1376, 1377, 1380, 1381, 1383, 1384, 1390, 1391, 1392, 1395, 1398, 1399, 1401, 1404, 1411, 1419, 1420, 1421, 1424, 1425, 1426, 1432, 1434, 1441, 1446, 1451, 1454, 1455, 1465, 1468, 1471, 1485, 1490, 1493, 1497, 1499, 1503, 1513, 1514, 1517, 1519, 1527, 1528, 1529, 1531, 1538, 1550, 1551, 1554, 1561, 1563, 1564, 1565, 1568, 1570, 1572, 1578, 1580, 1586, 1588, 1589, 1596, 1597, 1598, 1603, 1606, 1609, 1611, 1616, 1617, 1619, 1621, 1623, 1625, 1628, 1631, 1637, 1642, 1644, 1646, 1648, 1652, 1659, 1663, 1666, 1667, 1670, 1672, 1675, 1679, 1681, 1682, 1683, 1684, 1686, 1687, 1690, 1691, 1697, 1701, 1708, 1709, 1712, 1713, 1715, 1716, 1720, 1725, 1726, 1729, 1739, 1742, 1744, 1745, 1746, 1747, 1750, 1754, 1756, 1757, 1758, 1761, 1766, 1768, 1773, 1774, 1779, 1786, 1787, 1794, 1797, 1800, 1806, 1811, 1818, 1825, 1830, 1831, 1836, 1838, 1839, 1840, 1846, 1852, 1865, 1871, 1873, 1876, 1877, 1880, 1882, 1883, 1884, 1886, 1890, 1892, 1895, 1898, 1899, 1900, 1901, 1908, 1917, 1921, 1922, 1928, 1933, 1938, 1939, 1940, 1945, 1947, 1950, 1951, 1954, 1966, 1972, 1974, 1976, 1980, 1987, 1988, 1990, 1997, 1998, 2003, 2004, 2007, 2009, 2013, 2019, 2022, 2026, 2030, 2034, 2038, 2040, 2042, 2047, 2049, 2051, 2058, 2060, 2067, 2070, 2074, 2076, 2077, 2079, 2084, 2085, 2086, 2092, 2095, 2096, 2100, 2109, 2115, 2117, 2118, 2119, 2123, 2125, 2131, 2138, 2142, 2143, 2144, 2148, 2154, 2155, 2164, 2165, 2166, 2167, 2172, 2178, 2179, 2185, 2187, 2190, 2192, 2193, 2196, 2207, 2210, 2212, 2220, 2223, 2225, 2229, 2232, 2235, 2237, 2238, 2240, 2249, 2252, 2257, 2280, 2282, 2286, 2287, 2289, 2290, 2291, 2292, 2293, 2295, 2298, 2300, 2303, 2307, 2310, 2313, 2317, 2318, 2324, 2326, 2327, 2328, 2336, 2339, 2345, 2346, 2347, 2349, 2350, 2352, 2354, 2358, 2359, 2360, 2366, 2367, 2368, 2369, 2370, 2376, 2381, 2383, 2385, 2389, 2390, 2391, 2392, 2393, 2395, 2396, 2400, 2402, 2407, 2412, 2414, 2419, 2420, 2421, 2422, 2428, 2433, 2442, 2443, 2445, 2446, 2448, 2450, 2452, 2458, 2462, 2464, 2468, 2469, 2474, 2476, 2481, 2493, 2494, 2496, 2501, 2504, 2512, 2514, 2518, 2523, 2524, 2526, 2528, 2532, 2533, 2537, 2540, 2542, 2543, 2544, 2546, 2549, 2550, 2551, 2553, 2561, 2563, 2567, 2573, 2574, 2577, 2580, 2585, 2587, 2591, 2598, 2605, 2608, 2609, 2611, 2614, 2616, 2620, 2621, 2625, 2629, 2631, 2637, 2642, 2646, 2649, 2654, 2655, 2657, 2659, 2663, 2669, 2673, 2676]\n",
      "wrong5_1 [0, 2, 7, 13, 14, 19, 20, 21, 24, 25, 28, 29, 32, 33, 34, 35, 40, 42, 43, 44, 48, 50, 53, 54, 57, 59, 64, 69, 70, 71, 72, 74, 76, 79, 81, 86, 90, 93, 97, 98, 99, 100, 102, 104, 108, 116, 119, 122, 123, 130, 137, 139, 142, 144, 147, 148, 149, 151, 152, 154, 157, 158, 160, 168, 172, 173, 175, 179, 184, 186, 191, 193, 195, 199, 201, 202, 203, 205, 208, 218, 224, 227, 229, 230, 231, 236, 237, 240, 243, 245, 252, 257, 258, 259, 262, 263, 265, 271, 276, 277, 281, 284, 285, 287, 290, 292, 295, 297, 301, 306, 307, 308, 312, 313, 314, 315, 316, 325, 326, 328, 336, 338, 339, 340, 341, 342, 347, 349, 350, 362, 367, 372, 374, 379, 380, 391, 392, 393, 395, 396, 401, 404, 405, 420, 422, 426, 427, 432, 440, 447, 449, 454, 457, 459, 462, 465, 466, 467, 473, 474, 475, 476, 477, 479, 481, 484, 489, 495, 497, 498, 508, 511, 522, 523, 531, 532, 536, 538, 546, 547, 550, 552, 555, 558, 559, 560, 561, 563, 565, 568, 570, 580, 584, 587, 591, 598, 599, 602, 606, 608, 612, 613, 615, 618, 621, 628, 633, 634, 639, 640, 644, 645, 650, 656, 661, 662, 666, 668, 670, 672, 674, 675, 676, 677, 678, 680, 685, 686, 688, 690, 693, 698, 701, 705, 707, 708, 709, 711, 712, 718, 719, 727, 729, 731, 737, 742, 744, 746, 755, 759, 760, 762, 770, 771, 772, 775, 778, 784, 787, 791, 795, 802, 803, 805, 809, 812, 815, 816, 821, 825, 826, 829, 831, 832, 833, 839, 840, 843, 849, 850, 854, 858, 861, 866, 872, 875, 876, 880, 883, 885, 886, 887, 889, 892, 896, 897, 900, 902, 903, 907, 912, 913, 914, 918, 919, 920, 933, 935, 940, 945, 946, 951, 953, 956, 958, 963, 967, 968, 971, 972, 977, 981, 984, 986, 992, 993, 997, 999, 1000, 1001, 1003, 1008, 1009, 1011, 1013, 1020, 1025, 1030, 1031, 1032, 1033, 1034, 1040, 1043, 1048, 1049, 1050, 1057, 1064, 1077, 1079, 1080, 1082, 1088, 1092, 1093, 1097, 1099, 1107, 1108, 1114, 1119, 1126, 1128, 1134, 1137, 1138, 1142, 1146, 1147, 1154, 1174, 1175, 1176, 1177, 1183, 1184, 1185, 1189, 1192, 1199, 1202, 1203, 1210, 1220, 1225, 1227, 1232, 1234, 1238, 1246, 1253, 1254, 1258, 1259, 1262, 1272, 1274, 1280, 1287, 1289, 1290, 1295, 1298, 1299, 1301, 1318, 1319, 1323, 1324, 1331, 1332, 1336, 1340, 1348, 1351, 1352, 1355, 1356, 1360, 1368, 1369, 1371, 1375, 1376, 1377, 1380, 1381, 1383, 1384, 1390, 1391, 1392, 1395, 1398, 1399, 1401, 1403, 1404, 1411, 1419, 1421, 1424, 1425, 1426, 1432, 1434, 1441, 1446, 1451, 1454, 1455, 1465, 1468, 1471, 1485, 1490, 1493, 1497, 1499, 1503, 1513, 1514, 1517, 1519, 1527, 1528, 1529, 1531, 1538, 1550, 1551, 1554, 1561, 1563, 1564, 1565, 1568, 1570, 1578, 1580, 1586, 1588, 1589, 1596, 1597, 1598, 1603, 1606, 1609, 1611, 1616, 1617, 1619, 1621, 1623, 1625, 1628, 1631, 1637, 1642, 1644, 1646, 1648, 1652, 1659, 1663, 1666, 1667, 1670, 1672, 1675, 1679, 1681, 1682, 1683, 1684, 1686, 1687, 1690, 1691, 1697, 1701, 1708, 1709, 1712, 1713, 1715, 1716, 1720, 1725, 1726, 1729, 1739, 1742, 1744, 1745, 1746, 1747, 1750, 1754, 1756, 1757, 1758, 1761, 1766, 1768, 1773, 1774, 1779, 1786, 1787, 1794, 1797, 1800, 1806, 1811, 1818, 1825, 1830, 1831, 1836, 1838, 1839, 1840, 1846, 1852, 1865, 1867, 1871, 1873, 1876, 1877, 1880, 1882, 1883, 1884, 1886, 1890, 1892, 1895, 1898, 1899, 1900, 1901, 1908, 1917, 1921, 1922, 1928, 1933, 1938, 1939, 1940, 1942, 1945, 1947, 1950, 1954, 1966, 1972, 1974, 1976, 1980, 1988, 1990, 1997, 1998, 2003, 2004, 2007, 2009, 2013, 2019, 2022, 2024, 2026, 2030, 2034, 2038, 2040, 2047, 2049, 2051, 2058, 2060, 2067, 2070, 2074, 2076, 2077, 2079, 2084, 2085, 2086, 2088, 2092, 2095, 2096, 2100, 2109, 2115, 2117, 2118, 2119, 2123, 2125, 2131, 2138, 2142, 2143, 2144, 2148, 2154, 2155, 2164, 2165, 2166, 2167, 2172, 2178, 2185, 2187, 2190, 2192, 2193, 2196, 2207, 2210, 2212, 2220, 2223, 2225, 2229, 2232, 2235, 2237, 2238, 2240, 2249, 2252, 2257, 2280, 2282, 2286, 2287, 2289, 2290, 2291, 2292, 2293, 2298, 2300, 2303, 2307, 2309, 2310, 2313, 2317, 2318, 2324, 2326, 2327, 2328, 2336, 2339, 2345, 2346, 2347, 2349, 2350, 2352, 2354, 2358, 2359, 2360, 2367, 2368, 2369, 2370, 2376, 2381, 2383, 2384, 2385, 2389, 2390, 2391, 2392, 2393, 2395, 2396, 2400, 2402, 2407, 2412, 2414, 2419, 2420, 2421, 2422, 2428, 2433, 2442, 2443, 2445, 2446, 2448, 2450, 2452, 2458, 2462, 2464, 2468, 2469, 2474, 2476, 2481, 2493, 2494, 2496, 2501, 2504, 2512, 2514, 2518, 2523, 2524, 2526, 2528, 2532, 2533, 2537, 2540, 2542, 2543, 2544, 2546, 2549, 2550, 2551, 2553, 2561, 2563, 2567, 2573, 2574, 2580, 2582, 2585, 2587, 2591, 2598, 2605, 2608, 2609, 2611, 2614, 2616, 2620, 2621, 2625, 2629, 2631, 2637, 2642, 2646, 2649, 2654, 2655, 2657, 2659, 2660, 2663, 2669, 2673]\n",
      "wrong5_4 [0, 1, 2, 3, 4, 5, 6, 7, 8, 9, 10, 11, 12, 13, 14, 15, 16, 17, 18, 19, 20, 21, 22, 23, 24, 25, 26, 27, 28, 29, 30, 31, 32, 33, 34, 35, 36, 37, 38, 39, 40, 41, 42, 43, 44, 45, 46, 47, 48, 49, 50, 51, 52, 53, 54, 55, 56, 57, 58, 59, 60, 61, 62, 63, 64, 65, 66, 67, 68, 69, 70, 71, 72, 73, 74, 75, 76, 77, 78, 79, 80, 81, 82, 83, 84, 85, 86, 87, 88, 89, 90, 91, 92, 93, 94, 95, 96, 97, 98, 99, 100, 101, 102, 103, 104, 105, 106, 107, 108, 109, 110, 111, 112, 113, 114, 115, 116, 117, 118, 119, 120, 121, 122, 123, 124, 125, 126, 127, 128, 129, 130, 131, 132, 133, 134, 135, 136, 137, 138, 139, 140, 141, 142, 143, 144, 145, 146, 147, 148, 149, 151, 152, 153, 154, 155, 156, 157, 158, 159, 160, 161, 163, 164, 165, 166, 167, 168, 169, 170, 171, 172, 173, 174, 175, 176, 177, 178, 179, 180, 181, 182, 183, 184, 185, 186, 187, 188, 189, 190, 191, 192, 193, 194, 195, 196, 197, 198, 199, 200, 201, 202, 203, 204, 205, 206, 207, 209, 210, 211, 212, 213, 214, 215, 216, 217, 218, 219, 220, 221, 222, 223, 224, 225, 226, 227, 228, 229, 230, 231, 232, 233, 234, 235, 236, 237, 238, 239, 240, 241, 242, 243, 244, 245, 246, 247, 248, 249, 250, 251, 252, 253, 254, 255, 256, 257, 258, 259, 260, 261, 262, 263, 264, 265, 266, 267, 268, 269, 270, 271, 272, 273, 274, 275, 276, 277, 278, 279, 280, 281, 282, 283, 284, 285, 286, 287, 288, 289, 290, 291, 292, 293, 294, 295, 296, 297, 298, 299, 300, 301, 302, 303, 304, 305, 306, 307, 308, 309, 310, 311, 312, 314, 315, 316, 317, 318, 319, 320, 321, 322, 323, 324, 325, 326, 327, 328, 329, 330, 331, 332, 333, 334, 335, 336, 337, 338, 339, 340, 341, 342, 343, 344, 345, 346, 347, 348, 349, 350, 351, 352, 353, 354, 355, 356, 357, 358, 359, 360, 361, 362, 363, 364, 365, 366, 367, 368, 369, 370, 371, 372, 373, 374, 375, 376, 377, 378, 379, 380, 381, 382, 383, 384, 385, 386, 387, 388, 389, 390, 391, 392, 393, 394, 395, 396, 397, 398, 399, 400, 401, 402, 403, 404, 405, 406, 407, 408, 409, 410, 411, 412, 413, 414, 415, 416, 417, 418, 419, 420, 421, 422, 423, 424, 425, 426, 427, 428, 429, 430, 432, 433, 434, 435, 436, 437, 438, 439, 440, 441, 442, 443, 444, 445, 446, 447, 448, 449, 450, 451, 452, 453, 454, 455, 456, 457, 458, 460, 461, 462, 463, 464, 465, 466, 467, 468, 469, 470, 471, 472, 473, 474, 475, 476, 477, 478, 479, 480, 481, 482, 483, 484, 485, 486, 487, 488, 489, 490, 491, 492, 493, 494, 495, 496, 497, 498, 499, 500, 501, 502, 503, 504, 505, 506, 507, 508, 509, 510, 512, 513, 514, 515, 516, 517, 518, 519, 520, 521, 522, 523, 524, 525, 526, 527, 528, 529, 530, 531, 532, 533, 534, 535, 536, 537, 538, 539, 540, 541, 542, 543, 544, 545, 546, 547, 548, 549, 550, 551, 552, 553, 554, 555, 556, 557, 558, 559, 560, 561, 562, 563, 564, 565, 566, 567, 568, 569, 570, 571, 572, 573, 574, 575, 576, 577, 578, 579, 580, 581, 582, 583, 584, 585, 586, 587, 588, 589, 590, 591, 592, 593, 594, 595, 596, 597, 599, 600, 601, 602, 603, 604, 605, 606, 607, 608, 609, 610, 611, 612, 613, 614, 615, 616, 617, 618, 619, 620, 621, 622, 623, 624, 625, 626, 627, 629, 630, 631, 632, 633, 634, 635, 636, 637, 638, 639, 640, 641, 642, 643, 644, 645, 646, 647, 648, 649, 650, 651, 652, 653, 655, 656, 657, 658, 659, 660, 661, 662, 663, 664, 665, 666, 667, 668, 669, 670, 671, 672, 673, 674, 675, 676, 677, 678, 679, 680, 681, 682, 683, 684, 685, 686, 687, 688, 689, 690, 691, 692, 693, 694, 695, 696, 697, 698, 699, 700, 701, 702, 703, 704, 705, 706, 707, 708, 709, 710, 711, 712, 713, 714, 715, 716, 717, 718, 719, 720, 721, 722, 723, 724, 725, 726, 727, 728, 729, 730, 731, 732, 733, 734, 735, 736, 737, 738, 739, 740, 741, 742, 743, 744, 745, 746, 747, 748, 749, 750, 751, 752, 753, 754, 755, 756, 757, 758, 759, 760, 761, 762, 763, 764, 765, 766, 767, 768, 769, 770, 771, 772, 773, 774, 775, 776, 777, 778, 779, 780, 781, 782, 783, 784, 785, 786, 788, 789, 790, 791, 792, 793, 795, 796, 797, 798, 799, 800, 801, 802, 803, 804, 805, 806, 807, 808, 809, 810, 811, 812, 813, 814, 815, 816, 817, 818, 819, 820, 821, 822, 823, 824, 825, 826, 827, 828, 829, 830, 831, 832, 833, 834, 835, 836, 837, 838, 839, 840, 841, 842, 843, 844, 845, 846, 847, 849, 850, 851, 852, 853, 854, 855, 856, 857, 858, 859, 860, 861, 862, 863, 864, 865, 866, 867, 868, 869, 870, 871, 872, 873, 874, 875, 876, 877, 878, 879, 880, 881, 882, 883, 884, 885, 886, 887, 888, 889, 890, 891, 892, 893, 894, 895, 896, 897, 898, 899, 900, 901, 902, 904, 905, 906, 907, 908, 909, 910, 911, 912, 913, 914, 915, 916, 917, 918, 919, 920, 921, 922, 923, 924, 925, 926, 927, 928, 929, 930, 931, 932, 933, 934, 935, 936, 937, 938, 939, 940, 941, 942, 943, 944, 945, 946, 947, 948, 949, 950, 951, 952, 953, 954, 955, 956, 957, 958, 959, 960, 961, 962, 963, 964, 965, 966, 967, 968, 969, 970, 971, 972, 973, 974, 975, 976, 977, 978, 979, 980, 981, 982, 983, 984, 985, 986, 987, 988, 989, 990, 991, 992, 993, 994, 995, 996, 997, 998, 999, 1000, 1001, 1002, 1003, 1004, 1005, 1006, 1007, 1008, 1010, 1011, 1012, 1013, 1014, 1015, 1016, 1017, 1018, 1019, 1020, 1021, 1022, 1023, 1024, 1025, 1026, 1027, 1028, 1029, 1030, 1031, 1032, 1033, 1034, 1035, 1036, 1037, 1038, 1039, 1040, 1041, 1042, 1043, 1044, 1045, 1046, 1047, 1048, 1049, 1050, 1051, 1052, 1053, 1054, 1055, 1056, 1057, 1058, 1059, 1060, 1061, 1062, 1063, 1064, 1065, 1066, 1067, 1068, 1069, 1070, 1071, 1072, 1073, 1074, 1075, 1076, 1077, 1078, 1079, 1080, 1081, 1082, 1083, 1084, 1085, 1086, 1087, 1088, 1089, 1090, 1091, 1092, 1093, 1094, 1095, 1096, 1097, 1098, 1099, 1100, 1101, 1102, 1103, 1104, 1105, 1106, 1107, 1108, 1109, 1110, 1111, 1112, 1113, 1114, 1115, 1116, 1117, 1118, 1119, 1120, 1121, 1122, 1123, 1124, 1125, 1126, 1127, 1128, 1129, 1130, 1131, 1132, 1133, 1134, 1135, 1136, 1137, 1138, 1139, 1140, 1141, 1142, 1144, 1145, 1146, 1147, 1148, 1149, 1150, 1151, 1152, 1153, 1154, 1155, 1156, 1157, 1158, 1159, 1160, 1161, 1162, 1163, 1164, 1165, 1166, 1167, 1168, 1169, 1170, 1171, 1172, 1173, 1174, 1175, 1176, 1177, 1178, 1179, 1180, 1181, 1182, 1183, 1184, 1185, 1186, 1187, 1188, 1189, 1190, 1191, 1192, 1193, 1194, 1195, 1196, 1197, 1198, 1199, 1200, 1201, 1202, 1203, 1204, 1205, 1206, 1207, 1208, 1209, 1210, 1211, 1212, 1213, 1214, 1215, 1216, 1217, 1218, 1219, 1220, 1221, 1222, 1223, 1224, 1225, 1226, 1227, 1228, 1229, 1230, 1231, 1232, 1233, 1234, 1235, 1236, 1237, 1238, 1239, 1240, 1241, 1242, 1243, 1244, 1245, 1246, 1247, 1248, 1249, 1250, 1251, 1252, 1253, 1254, 1255, 1256, 1257, 1258, 1259, 1260, 1261, 1262, 1263, 1264, 1265, 1266, 1267, 1268, 1269, 1270, 1271, 1272, 1273, 1274, 1275, 1276, 1277, 1278, 1279, 1280, 1281, 1282, 1283, 1284, 1285, 1286, 1287, 1288, 1289, 1290, 1291, 1292, 1293, 1294, 1295, 1296, 1297, 1298, 1299, 1300, 1301, 1302, 1303, 1304, 1306, 1307, 1308, 1309, 1310, 1311, 1312, 1313, 1314, 1315, 1316, 1317, 1318, 1319, 1320, 1321, 1322, 1323, 1324, 1325, 1326, 1327, 1328, 1329, 1330, 1331, 1333, 1334, 1335, 1336, 1337, 1338, 1339, 1340, 1341, 1342, 1343, 1344, 1345, 1346, 1347, 1348, 1349, 1350, 1351, 1352, 1353, 1354, 1355, 1356, 1357, 1358, 1359, 1360, 1361, 1362, 1363, 1364, 1365, 1366, 1367, 1369, 1370, 1371, 1372, 1373, 1374, 1375, 1376, 1377, 1378, 1379, 1380, 1381, 1382, 1383, 1384, 1385, 1386, 1387, 1388, 1389, 1390, 1391, 1392, 1393, 1394, 1395, 1396, 1397, 1398, 1399, 1400, 1401, 1402, 1403, 1404, 1405, 1407, 1408, 1409, 1410, 1411, 1412, 1413, 1414, 1415, 1416, 1417, 1418, 1419, 1421, 1422, 1423, 1424, 1425, 1426, 1427, 1428, 1429, 1430, 1431, 1432, 1433, 1434, 1435, 1436, 1437, 1438, 1439, 1440, 1441, 1442, 1443, 1444, 1445, 1446, 1447, 1448, 1449, 1450, 1451, 1452, 1453, 1454, 1455, 1456, 1458, 1459, 1460, 1461, 1462, 1463, 1464, 1465, 1466, 1467, 1468, 1469, 1470, 1471, 1472, 1473, 1474, 1475, 1476, 1477, 1478, 1479, 1480, 1481, 1482, 1483, 1484, 1485, 1486, 1487, 1488, 1489, 1490, 1491, 1492, 1493, 1494, 1495, 1496, 1497, 1498, 1499, 1500, 1501, 1502, 1503, 1504, 1505, 1506, 1507, 1508, 1509, 1510, 1511, 1512, 1513, 1514, 1515, 1516, 1517, 1518, 1519, 1520, 1521, 1522, 1523, 1524, 1525, 1526, 1527, 1528, 1529, 1530, 1531, 1532, 1533, 1534, 1535, 1536, 1537, 1538, 1539, 1540, 1541, 1542, 1543, 1544, 1545, 1546, 1547, 1548, 1550, 1551, 1552, 1553, 1554, 1556, 1557, 1558, 1559, 1560, 1561, 1562, 1563, 1564, 1565, 1566, 1567, 1568, 1569, 1570, 1571, 1572, 1573, 1574, 1575, 1576, 1577, 1578, 1579, 1580, 1581, 1582, 1583, 1584, 1585, 1587, 1588, 1589, 1590, 1592, 1593, 1594, 1595, 1596, 1597, 1598, 1599, 1600, 1601, 1602, 1604, 1605, 1606, 1608, 1609, 1610, 1611, 1612, 1613, 1614, 1615, 1616, 1617, 1618, 1619, 1620, 1621, 1622, 1623, 1624, 1625, 1626, 1627, 1628, 1629, 1630, 1631, 1632, 1633, 1634, 1635, 1636, 1637, 1638, 1639, 1640, 1641, 1642, 1643, 1644, 1645, 1646, 1647, 1648, 1649, 1650, 1651, 1652, 1653, 1654, 1655, 1656, 1657, 1658, 1659, 1660, 1661, 1662, 1663, 1664, 1665, 1666, 1667, 1668, 1669, 1670, 1671, 1672, 1673, 1674, 1675, 1676, 1677, 1678, 1679, 1680, 1681, 1682, 1683, 1684, 1685, 1686, 1687, 1688, 1689, 1690, 1691, 1692, 1693, 1694, 1695, 1696, 1697, 1698, 1699, 1700, 1701, 1702, 1703, 1704, 1705, 1706, 1707, 1708, 1709, 1710, 1711, 1712, 1713, 1714, 1715, 1716, 1717, 1718, 1719, 1720, 1721, 1722, 1723, 1724, 1725, 1726, 1727, 1728, 1729, 1730, 1731, 1732, 1733, 1734, 1735, 1736, 1737, 1738, 1739, 1740, 1741, 1742, 1743, 1744, 1745, 1746, 1747, 1748, 1750, 1751, 1752, 1753, 1754, 1755, 1756, 1757, 1759, 1760, 1761, 1762, 1763, 1764, 1765, 1766, 1767, 1768, 1769, 1770, 1771, 1772, 1773, 1774, 1775, 1776, 1777, 1778, 1779, 1780, 1781, 1782, 1783, 1784, 1785, 1786, 1787, 1788, 1789, 1790, 1791, 1792, 1793, 1794, 1795, 1796, 1797, 1798, 1799, 1800, 1801, 1802, 1803, 1804, 1805, 1806, 1807, 1808, 1809, 1810, 1811, 1812, 1813, 1814, 1815, 1816, 1817, 1818, 1819, 1820, 1821, 1822, 1823, 1824, 1825, 1826, 1827, 1828, 1829, 1830, 1831, 1832, 1833, 1834, 1835, 1836, 1837, 1838, 1839, 1840, 1841, 1842, 1843, 1844, 1845, 1846, 1847, 1848, 1849, 1850, 1851, 1852, 1853, 1854, 1855, 1856, 1857, 1858, 1859, 1860, 1861, 1862, 1863, 1864, 1865, 1866, 1867, 1868, 1869, 1870, 1871, 1872, 1873, 1874, 1875, 1876, 1877, 1878, 1879, 1880, 1881, 1882, 1883, 1884, 1885, 1886, 1887, 1888, 1889, 1890, 1891, 1892, 1893, 1894, 1895, 1896, 1897, 1898, 1899, 1900, 1901, 1902, 1904, 1905, 1906, 1907, 1908, 1909, 1910, 1911, 1913, 1914, 1915, 1916, 1917, 1918, 1919, 1920, 1921, 1922, 1923, 1924, 1925, 1926, 1927, 1928, 1929, 1930, 1931, 1932, 1933, 1934, 1935, 1936, 1937, 1938, 1940, 1941, 1942, 1943, 1944, 1945, 1946, 1947, 1948, 1949, 1950, 1951, 1952, 1953, 1954, 1955, 1956, 1957, 1958, 1959, 1960, 1961, 1962, 1963, 1964, 1965, 1966, 1967, 1968, 1969, 1970, 1971, 1973, 1974, 1975, 1976, 1977, 1978, 1979, 1980, 1981, 1982, 1983, 1984, 1985, 1986, 1988, 1989, 1990, 1991, 1992, 1993, 1994, 1995, 1996, 1997, 1998, 1999, 2000, 2001, 2002, 2003, 2005, 2006, 2007, 2008, 2009, 2010, 2011, 2012, 2013, 2014, 2015, 2016, 2017, 2018, 2019, 2020, 2021, 2023, 2024, 2025, 2026, 2027, 2028, 2029, 2030, 2031, 2032, 2033, 2034, 2035, 2037, 2038, 2039, 2040, 2041, 2042, 2043, 2044, 2045, 2046, 2049, 2050, 2051, 2052, 2053, 2054, 2055, 2056, 2057, 2058, 2059, 2060, 2061, 2062, 2063, 2064, 2065, 2066, 2067, 2068, 2069, 2070, 2071, 2072, 2073, 2074, 2075, 2076, 2077, 2078, 2079, 2080, 2081, 2082, 2083, 2084, 2085, 2086, 2087, 2088, 2089, 2090, 2091, 2092, 2093, 2094, 2095, 2096, 2097, 2098, 2099, 2100, 2101, 2102, 2103, 2104, 2105, 2106, 2107, 2108, 2109, 2110, 2111, 2112, 2113, 2114, 2115, 2116, 2117, 2118, 2119, 2120, 2121, 2122, 2123, 2124, 2126, 2127, 2128, 2129, 2130, 2131, 2132, 2133, 2134, 2135, 2136, 2137, 2138, 2139, 2140, 2142, 2143, 2145, 2146, 2147, 2148, 2149, 2150, 2151, 2152, 2153, 2154, 2155, 2156, 2157, 2158, 2159, 2160, 2161, 2162, 2163, 2164, 2165, 2166, 2167, 2168, 2169, 2170, 2171, 2172, 2173, 2174, 2175, 2176, 2177, 2178, 2179, 2180, 2181, 2182, 2183, 2184, 2185, 2186, 2187, 2188, 2189, 2190, 2191, 2192, 2193, 2194, 2195, 2196, 2197, 2198, 2199, 2200, 2201, 2202, 2203, 2204, 2205, 2206, 2207, 2208, 2209, 2210, 2211, 2212, 2213, 2214, 2215, 2216, 2217, 2218, 2219, 2220, 2221, 2222, 2223, 2224, 2225, 2226, 2227, 2228, 2229, 2230, 2231, 2232, 2233, 2234, 2235, 2236, 2237, 2238, 2239, 2240, 2242, 2243, 2244, 2245, 2246, 2247, 2248, 2249, 2250, 2251, 2252, 2253, 2254, 2255, 2256, 2257, 2258, 2259, 2260, 2261, 2262, 2263, 2264, 2265, 2266, 2267, 2268, 2269, 2270, 2271, 2272, 2273, 2274, 2275, 2276, 2277, 2278, 2279, 2280, 2281, 2282, 2283, 2284, 2285, 2286, 2287, 2288, 2289, 2290, 2291, 2292, 2293, 2294, 2295, 2296, 2297, 2298, 2299, 2300, 2301, 2302, 2303, 2304, 2305, 2306, 2307, 2308, 2309, 2310, 2311, 2312, 2313, 2314, 2315, 2316, 2317, 2318, 2319, 2320, 2321, 2322, 2323, 2324, 2325, 2326, 2327, 2329, 2330, 2331, 2332, 2333, 2334, 2335, 2336, 2337, 2338, 2339, 2340, 2341, 2342, 2343, 2344, 2345, 2346, 2347, 2348, 2349, 2350, 2351, 2352, 2353, 2354, 2355, 2356, 2357, 2358, 2359, 2360, 2361, 2362, 2363, 2364, 2365, 2366, 2367, 2368, 2369, 2370, 2371, 2372, 2373, 2374, 2375, 2376, 2377, 2379, 2380, 2381, 2382, 2383, 2384, 2385, 2386, 2387, 2388, 2389, 2390, 2391, 2392, 2393, 2394, 2395, 2396, 2397, 2398, 2399, 2400, 2401, 2402, 2403, 2404, 2405, 2406, 2407, 2408, 2409, 2410, 2411, 2412, 2413, 2414, 2415, 2416, 2417, 2418, 2419, 2420, 2421, 2422, 2423, 2424, 2425, 2426, 2427, 2429, 2430, 2431, 2432, 2433, 2434, 2435, 2436, 2437, 2438, 2439, 2440, 2441, 2442, 2443, 2444, 2445, 2446, 2447, 2448, 2449, 2450, 2451, 2452, 2453, 2454, 2455, 2456, 2457, 2458, 2459, 2460, 2461, 2462, 2463, 2465, 2466, 2467, 2468, 2469, 2470, 2471, 2472, 2473, 2474, 2475, 2476, 2477, 2478, 2479, 2480, 2481, 2482, 2483, 2484, 2485, 2486, 2487, 2488, 2489, 2490, 2491, 2492, 2493, 2494, 2495, 2496, 2497, 2498, 2499, 2500, 2501, 2502, 2503, 2504, 2505, 2506, 2507, 2508, 2509, 2510, 2511, 2512, 2513, 2514, 2515, 2516, 2518, 2519, 2520, 2521, 2522, 2524, 2525, 2526, 2527, 2528, 2529, 2530, 2531, 2532, 2533, 2534, 2535, 2536, 2537, 2538, 2539, 2542, 2543, 2544, 2545, 2546, 2547, 2548, 2550, 2551, 2552, 2553, 2554, 2555, 2556, 2557, 2558, 2559, 2560, 2561, 2562, 2563, 2564, 2565, 2566, 2567, 2568, 2569, 2570, 2571, 2572, 2573, 2574, 2575, 2576, 2577, 2578, 2579, 2580, 2581, 2582, 2583, 2584, 2585, 2586, 2587, 2588, 2589, 2590, 2591, 2592, 2593, 2594, 2595, 2596, 2597, 2598, 2599, 2600, 2601, 2602, 2603, 2604, 2605, 2606, 2607, 2608, 2609, 2610, 2611, 2612, 2613, 2615, 2616, 2617, 2618, 2619, 2620, 2621, 2622, 2623, 2624, 2625, 2626, 2627, 2628, 2630, 2631, 2632, 2633, 2634, 2635, 2636, 2637, 2638, 2639, 2641, 2642, 2643, 2644, 2645, 2646, 2647, 2648, 2649, 2650, 2651, 2652, 2653, 2654, 2655, 2656, 2657, 2658, 2659, 2660, 2661, 2662, 2663, 2664, 2665, 2666, 2667, 2668, 2669, 2670, 2671, 2672, 2673, 2674, 2675, 2676, 2677, 2678, 2679, 2680, 2681]\n"
     ]
    }
   ],
   "source": [
    "zip_list = zip(open_test_data['label'].values, test_predictions5_0.argmax(axis=1))\n",
    "correct = 0\n",
    "count = 0\n",
    "wrong5_0 = []\n",
    "for ans, pred in zip_list:\n",
    "    if(ans==pred):\n",
    "        correct += 1\n",
    "    else:\n",
    "        wrong5_0.append(count)\n",
    "    count+=1\n",
    "percentage5_0 = correct/len(open_test_data['label'])\n",
    "\n",
    "zip_list = zip(open_test_data['label'].values, test_predictions5_2.argmax(axis=1))\n",
    "correct = 0\n",
    "count = 0\n",
    "wrong5_2 = []\n",
    "for ans, pred in zip_list:\n",
    "    if(ans==pred):\n",
    "        correct += 1\n",
    "    else:\n",
    "        wrong5_2.append(count)\n",
    "    count+=1\n",
    "percentage5_2 = correct/len(open_test_data['label'])\n",
    "\n",
    "zip_list = zip(open_test_data['label'].values, test_predictions5_3.argmax(axis=1))\n",
    "correct = 0\n",
    "count = 0\n",
    "wrong5_3 = []\n",
    "for ans, pred in zip_list:\n",
    "    if(ans==pred):\n",
    "        correct += 1\n",
    "    else:\n",
    "        wrong5_3.append(count)\n",
    "    count+=1\n",
    "percentage5_3 = correct/len(open_test_data['label'])\n",
    "\n",
    "zip_list = zip(open_test_data['label'].values, test_predictions5_1.argmax(axis=1))\n",
    "correct = 0\n",
    "count = 0\n",
    "wrong5_1 = []\n",
    "for ans, pred in zip_list:\n",
    "    if(ans==pred):\n",
    "        correct += 1\n",
    "    else:\n",
    "        wrong5_1.append(count)\n",
    "    count+=1\n",
    "percentage5_1 = correct/len(open_test_data['label'])\n",
    "\n",
    "zip_list = zip(open_test_data['label'].values, test_predictions5_4.argmax(axis=1))\n",
    "correct = 0\n",
    "count = 0\n",
    "wrong5_4 = []\n",
    "for ans, pred in zip_list:\n",
    "    if(ans==pred):\n",
    "        correct += 1\n",
    "    else:\n",
    "        wrong5_4.append(count)\n",
    "    count+=1\n",
    "percentage5_4 = correct/len(open_test_data['label'])\n",
    "\n",
    "print(percentage5_0, percentage5_2, percentage5_3, percentage5_1, percentage5_4)\n",
    "\n",
    "print('wrong5_0',wrong5_0)\n",
    "print('wrong5_2',wrong5_2)\n",
    "print('wrong5_3',wrong5_3)\n",
    "print('wrong5_1',wrong5_1)\n",
    "print('wrong5_4',wrong5_4)"
   ]
  },
  {
   "cell_type": "code",
   "execution_count": 156,
   "metadata": {},
   "outputs": [],
   "source": [
    "list1 = sorted(test_predictions1.max(axis=1))"
   ]
  },
  {
   "cell_type": "code",
   "execution_count": 222,
   "metadata": {},
   "outputs": [
    {
     "data": {
      "text/plain": [
       "array([0], dtype=int64)"
      ]
     },
     "execution_count": 222,
     "metadata": {},
     "output_type": "execute_result"
    }
   ],
   "source": [
    "np.argsort(test_predictions1[893].max(), axis=0)"
   ]
  },
  {
   "cell_type": "code",
   "execution_count": 226,
   "metadata": {},
   "outputs": [
    {
     "data": {
      "text/plain": [
       "array([2.6349176e-03, 4.7732633e-01, 1.3522503e-03, 6.6169369e-04,\n",
       "       3.9443374e-04, 3.1255971e-04, 4.9038912e-04, 5.4255122e-04,\n",
       "       3.5288493e-04, 4.0631549e-04, 3.4434008e-04, 4.5492311e-04,\n",
       "       7.3857157e-04, 4.3799143e-04, 8.4465288e-04, 1.4496159e-03,\n",
       "       3.2529363e-04, 4.9278809e-04, 1.6025386e-03, 3.7133691e-04,\n",
       "       4.9637303e-01, 4.6180759e-04, 5.1987678e-04, 3.1055711e-04,\n",
       "       2.8761374e-04, 7.5126847e-04, 1.7959154e-03, 5.8591680e-04,\n",
       "       2.6981980e-03, 5.3701643e-04, 9.1108697e-04, 4.8458859e-04,\n",
       "       3.4642126e-04, 8.7107660e-04, 3.6518785e-04, 8.1867183e-04,\n",
       "       3.4534198e-04], dtype=float32)"
      ]
     },
     "execution_count": 226,
     "metadata": {},
     "output_type": "execute_result"
    }
   ],
   "source": [
    "test_predictions1[893]"
   ]
  },
  {
   "cell_type": "code",
   "execution_count": 225,
   "metadata": {},
   "outputs": [
    {
     "data": {
      "text/plain": [
       "0.49637303"
      ]
     },
     "execution_count": 225,
     "metadata": {},
     "output_type": "execute_result"
    }
   ],
   "source": [
    "test_predictions1[893].max(axis=0)"
   ]
  },
  {
   "cell_type": "code",
   "execution_count": 227,
   "metadata": {},
   "outputs": [
    {
     "data": {
      "text/plain": [
       "20"
      ]
     },
     "execution_count": 227,
     "metadata": {},
     "output_type": "execute_result"
    }
   ],
   "source": [
    "test_predictions1[893].argmax(axis=0)"
   ]
  },
  {
   "cell_type": "code",
   "execution_count": 234,
   "metadata": {},
   "outputs": [
    {
     "data": {
      "text/plain": [
       "1"
      ]
     },
     "execution_count": 234,
     "metadata": {},
     "output_type": "execute_result"
    }
   ],
   "source": [
    "np.argsort(test_predictions1[893])[-2]"
   ]
  },
  {
   "cell_type": "code",
   "execution_count": 235,
   "metadata": {},
   "outputs": [
    {
     "data": {
      "text/plain": [
       "20"
      ]
     },
     "execution_count": 235,
     "metadata": {},
     "output_type": "execute_result"
    }
   ],
   "source": [
    "np.argsort(test_predictions1[1368])[-2]"
   ]
  },
  {
   "cell_type": "code",
   "execution_count": 260,
   "metadata": {},
   "outputs": [
    {
     "data": {
      "text/plain": [
       "0.44388986"
      ]
     },
     "execution_count": 260,
     "metadata": {},
     "output_type": "execute_result"
    }
   ],
   "source": [
    "test_predictions5[1368][20]"
   ]
  },
  {
   "cell_type": "code",
   "execution_count": 267,
   "metadata": {},
   "outputs": [
    {
     "data": {
      "text/plain": [
       "0.44388986"
      ]
     },
     "execution_count": 267,
     "metadata": {},
     "output_type": "execute_result"
    }
   ],
   "source": [
    "test_predictions0_5[1368][20]"
   ]
  },
  {
   "cell_type": "code",
   "execution_count": 451,
   "metadata": {},
   "outputs": [],
   "source": [
    "test_predictions0123 = test_predictions0 + test_predictions1 + test_predictions2 + test_predictions3"
   ]
  },
  {
   "cell_type": "code",
   "execution_count": 310,
   "metadata": {},
   "outputs": [
    {
     "data": {
      "text/plain": [
       "array([[2.25668133e-04, 8.39276181e-05, 1.20752797e-04, ...,\n",
       "        8.14664061e-04, 1.20222729e-04, 1.50332402e-04],\n",
       "       [4.67872422e-04, 2.79594446e-04, 4.14223410e-04, ...,\n",
       "        4.04158287e-04, 3.98177071e-04, 1.67884631e-04],\n",
       "       [3.65178421e-05, 1.07085500e-04, 3.57134777e-05, ...,\n",
       "        3.17091253e-05, 3.90603345e-05, 1.55322759e-05],\n",
       "       ...,\n",
       "       [2.10242026e-04, 2.59420398e-04, 2.05724937e-04, ...,\n",
       "        2.54305371e-04, 1.88049089e-04, 1.31045119e-04],\n",
       "       [1.50147625e-05, 3.43265565e-05, 3.70246635e-05, ...,\n",
       "        1.86712714e-05, 2.32220336e-05, 1.39054082e-05],\n",
       "       [2.54165556e-04, 3.43393549e-05, 7.02933030e-05, ...,\n",
       "        5.60420376e-05, 5.96607133e-05, 5.85412345e-05]], dtype=float32)"
      ]
     },
     "execution_count": 310,
     "metadata": {},
     "output_type": "execute_result"
    }
   ],
   "source": [
    "test_predictions123"
   ]
  },
  {
   "cell_type": "code",
   "execution_count": 452,
   "metadata": {},
   "outputs": [],
   "source": [
    "zip_list = zip(open_test_data['label'].values, test_predictions0123.argmax(axis=1))\n",
    "correct = 0\n",
    "count = 0\n",
    "wrong0123 = []\n",
    "for ans, pred in zip_list:\n",
    "    if(ans==pred):\n",
    "        correct += 1\n",
    "    else:\n",
    "        wrong0123.append(count)\n",
    "    count+=1\n",
    "percentage0123 = correct/len(open_test_data['label'])"
   ]
  },
  {
   "cell_type": "code",
   "execution_count": 453,
   "metadata": {},
   "outputs": [
    {
     "data": {
      "text/plain": [
       "0.831841909023117"
      ]
     },
     "execution_count": 453,
     "metadata": {},
     "output_type": "execute_result"
    }
   ],
   "source": [
    "percentage0123"
   ]
  },
  {
   "cell_type": "code",
   "execution_count": 336,
   "metadata": {},
   "outputs": [
    {
     "data": {
      "text/plain": [
       "2.2832367"
      ]
     },
     "execution_count": 336,
     "metadata": {},
     "output_type": "execute_result"
    }
   ],
   "source": [
    " test_predictions0123[1368][20]"
   ]
  },
  {
   "cell_type": "code",
   "execution_count": 337,
   "metadata": {},
   "outputs": [
    {
     "data": {
      "text/plain": [
       "0.0004091191"
      ]
     },
     "execution_count": 337,
     "metadata": {},
     "output_type": "execute_result"
    }
   ],
   "source": [
    " test_predictions0123[1368][1]"
   ]
  },
  {
   "cell_type": "code",
   "execution_count": 339,
   "metadata": {},
   "outputs": [
    {
     "name": "stdout",
     "output_type": "stream",
     "text": [
      "20 18\n"
     ]
    }
   ],
   "source": [
    "print(np.argsort(test_predictions0123[1368])[-1], np.argsort(test_predictions0123[1368])[-2])"
   ]
  },
  {
   "cell_type": "code",
   "execution_count": 340,
   "metadata": {},
   "outputs": [
    {
     "data": {
      "text/plain": [
       "2.2832367"
      ]
     },
     "execution_count": 340,
     "metadata": {},
     "output_type": "execute_result"
    }
   ],
   "source": [
    "test_predictions0123[1368][20]"
   ]
  },
  {
   "cell_type": "code",
   "execution_count": 341,
   "metadata": {},
   "outputs": [
    {
     "data": {
      "text/plain": [
       "1.6433449"
      ]
     },
     "execution_count": 341,
     "metadata": {},
     "output_type": "execute_result"
    }
   ],
   "source": [
    "test_predictions0123[1368][18]"
   ]
  },
  {
   "cell_type": "code",
   "execution_count": 342,
   "metadata": {},
   "outputs": [
    {
     "data": {
      "text/plain": [
       "0.08807404"
      ]
     },
     "execution_count": 342,
     "metadata": {},
     "output_type": "execute_result"
    }
   ],
   "source": [
    "test_predictions0[1368][18]"
   ]
  },
  {
   "cell_type": "code",
   "execution_count": 321,
   "metadata": {},
   "outputs": [
    {
     "data": {
      "text/plain": [
       "20"
      ]
     },
     "execution_count": 321,
     "metadata": {},
     "output_type": "execute_result"
    }
   ],
   "source": [
    "test_predictions123[893].argmax()"
   ]
  },
  {
   "cell_type": "code",
   "execution_count": 422,
   "metadata": {},
   "outputs": [],
   "source": [
    "test_predictions0_half = test_predictions0_1 + test_predictions0_2 + test_predictions0_3\n",
    "test_predictions0_all = test_predictions0_1 + test_predictions0_2 + test_predictions0_3 + test_predictions0_4 + test_predictions0_5"
   ]
  },
  {
   "cell_type": "code",
   "execution_count": 423,
   "metadata": {},
   "outputs": [],
   "source": [
    "test_predictions1_half = test_predictions1_0 + test_predictions1_2 + test_predictions1_3\n",
    "test_predictions1_all = test_predictions1_0 + test_predictions1_2 + test_predictions1_3 + test_predictions1_4 + test_predictions1_5"
   ]
  },
  {
   "cell_type": "code",
   "execution_count": 424,
   "metadata": {},
   "outputs": [],
   "source": [
    "test_predictions2_half = test_predictions2_1 + test_predictions2_0 + test_predictions2_3\n",
    "test_predictions2_all = test_predictions2_1 + test_predictions2_0 + test_predictions2_3 + test_predictions2_4 + test_predictions2_5"
   ]
  },
  {
   "cell_type": "code",
   "execution_count": 425,
   "metadata": {},
   "outputs": [],
   "source": [
    "test_predictions3_half = test_predictions3_1 + test_predictions3_2 + test_predictions3_0\n",
    "test_predictions3_all = test_predictions3_1 + test_predictions3_2 + test_predictions3_0 + test_predictions3_4 + test_predictions3_5"
   ]
  },
  {
   "cell_type": "code",
   "execution_count": 426,
   "metadata": {},
   "outputs": [],
   "source": [
    "test_predictions4_half = test_predictions4_0 + test_predictions4_1 + test_predictions4_2 + test_predictions4_3\n",
    "test_predictions4_all = test_predictions4_0 + test_predictions4_1 + test_predictions4_2 + test_predictions4_3 + test_predictions4_5"
   ]
  },
  {
   "cell_type": "code",
   "execution_count": 427,
   "metadata": {},
   "outputs": [],
   "source": [
    "test_predictions5_half = test_predictions5_0 + test_predictions5_1 + test_predictions5_2 + test_predictions5_3\n",
    "test_predictions5_all = test_predictions5_0 + test_predictions5_1 + test_predictions5_2 + test_predictions5_3 + test_predictions5_4"
   ]
  },
  {
   "cell_type": "code",
   "execution_count": 428,
   "metadata": {},
   "outputs": [],
   "source": [
    "test_predictionshalf_half = test_predictions0_half + test_predictions1_half + test_predictions2_half+ test_predictions3_half\n",
    "test_predictionshalf_all = test_predictions0_all + test_predictions1_all + test_predictions2_all+ test_predictions3_all\n",
    "test_predictionsall_half = test_predictionshalf_half + test_predictions4_half + test_predictions5_half\n",
    "test_predictionsall_all = test_predictionshalf_all + test_predictions4_all + test_predictions5_all"
   ]
  },
  {
   "cell_type": "code",
   "execution_count": 429,
   "metadata": {},
   "outputs": [],
   "source": [
    "zip_list = zip(open_test_data['label'].values, test_predictions0_half.argmax(axis=1))\n",
    "correct = 0\n",
    "count = 0\n",
    "wrong0_half = []\n",
    "for ans, pred in zip_list:\n",
    "    if(ans==pred):\n",
    "        correct += 1\n",
    "    else:\n",
    "        wrong0_half.append(count)\n",
    "    count+=1\n",
    "percentage0_half = correct/len(open_test_data['label'])\n",
    "\n",
    "zip_list = zip(open_test_data['label'].values, test_predictions1_half.argmax(axis=1))\n",
    "correct = 0\n",
    "count = 0\n",
    "wrong1_half = []\n",
    "for ans, pred in zip_list:\n",
    "    if(ans==pred):\n",
    "        correct += 1\n",
    "    else:\n",
    "        wrong1_half.append(count)\n",
    "    count+=1\n",
    "percentage1_half = correct/len(open_test_data['label'])\n",
    "\n",
    "zip_list = zip(open_test_data['label'].values, test_predictions2_half.argmax(axis=1))\n",
    "correct = 0\n",
    "count = 0\n",
    "wrong2_half = []\n",
    "for ans, pred in zip_list:\n",
    "    if(ans==pred):\n",
    "        correct += 1\n",
    "    else:\n",
    "        wrong2_half.append(count)\n",
    "    count+=1\n",
    "percentage2_half = correct/len(open_test_data['label'])\n",
    "\n",
    "zip_list = zip(open_test_data['label'].values, test_predictions3_half.argmax(axis=1))\n",
    "correct = 0\n",
    "count = 0\n",
    "wrong3_half = []\n",
    "for ans, pred in zip_list:\n",
    "    if(ans==pred):\n",
    "        correct += 1\n",
    "    else:\n",
    "        wrong3_half.append(count)\n",
    "    count+=1\n",
    "percentage3_half = correct/len(open_test_data['label'])\n",
    "\n",
    "zip_list = zip(open_test_data['label'].values, test_predictions4_half.argmax(axis=1))\n",
    "correct = 0\n",
    "count = 0\n",
    "wrong4_half = []\n",
    "for ans, pred in zip_list:\n",
    "    if(ans==pred):\n",
    "        correct += 1\n",
    "    else:\n",
    "        wrong4_half.append(count)\n",
    "    count+=1\n",
    "percentage4_half = correct/len(open_test_data['label'])\n",
    "\n",
    "zip_list = zip(open_test_data['label'].values, test_predictions5_half.argmax(axis=1))\n",
    "correct = 0\n",
    "count = 0\n",
    "wrong5_half = []\n",
    "for ans, pred in zip_list:\n",
    "    if(ans==pred):\n",
    "        correct += 1\n",
    "    else:\n",
    "        wrong5_half.append(count)\n",
    "    count+=1\n",
    "percentage5_half = correct/len(open_test_data['label'])"
   ]
  },
  {
   "cell_type": "code",
   "execution_count": 430,
   "metadata": {},
   "outputs": [],
   "source": [
    "zip_list = zip(open_test_data['label'].values, test_predictions0_all.argmax(axis=1))\n",
    "correct = 0\n",
    "count = 0\n",
    "wrong0_all = []\n",
    "for ans, pred in zip_list:\n",
    "    if(ans==pred):\n",
    "        correct += 1\n",
    "    else:\n",
    "        wrong0_all.append(count)\n",
    "    count+=1\n",
    "percentage0_all = correct/len(open_test_data['label'])\n",
    "\n",
    "zip_list = zip(open_test_data['label'].values, test_predictions1_all.argmax(axis=1))\n",
    "correct = 0\n",
    "count = 0\n",
    "wrong1_all = []\n",
    "for ans, pred in zip_list:\n",
    "    if(ans==pred):\n",
    "        correct += 1\n",
    "    else:\n",
    "        wrong1_all.append(count)\n",
    "    count+=1\n",
    "percentage1_all = correct/len(open_test_data['label'])\n",
    "\n",
    "zip_list = zip(open_test_data['label'].values, test_predictions2_all.argmax(axis=1))\n",
    "correct = 0\n",
    "count = 0\n",
    "wrong2_all = []\n",
    "for ans, pred in zip_list:\n",
    "    if(ans==pred):\n",
    "        correct += 1\n",
    "    else:\n",
    "        wrong2_all.append(count)\n",
    "    count+=1\n",
    "percentage2_all = correct/len(open_test_data['label'])\n",
    "\n",
    "zip_list = zip(open_test_data['label'].values, test_predictions3_all.argmax(axis=1))\n",
    "correct = 0\n",
    "count = 0\n",
    "wrong3_all = []\n",
    "for ans, pred in zip_list:\n",
    "    if(ans==pred):\n",
    "        correct += 1\n",
    "    else:\n",
    "        wrong3_all.append(count)\n",
    "    count+=1\n",
    "percentage3_all = correct/len(open_test_data['label'])\n",
    "\n",
    "zip_list = zip(open_test_data['label'].values, test_predictions4_all.argmax(axis=1))\n",
    "correct = 0\n",
    "count = 0\n",
    "wrong4_all = []\n",
    "for ans, pred in zip_list:\n",
    "    if(ans==pred):\n",
    "        correct += 1\n",
    "    else:\n",
    "        wrong4_all.append(count)\n",
    "    count+=1\n",
    "percentage4_all = correct/len(open_test_data['label'])\n",
    "\n",
    "zip_list = zip(open_test_data['label'].values, test_predictions5_all.argmax(axis=1))\n",
    "correct = 0\n",
    "count = 0\n",
    "wrong5_all = []\n",
    "for ans, pred in zip_list:\n",
    "    if(ans==pred):\n",
    "        correct += 1\n",
    "    else:\n",
    "        wrong5_all.append(count)\n",
    "    count+=1\n",
    "percentage5_all = correct/len(open_test_data['label'])"
   ]
  },
  {
   "cell_type": "code",
   "execution_count": 431,
   "metadata": {},
   "outputs": [],
   "source": [
    "zip_list = zip(open_test_data['label'].values, test_predictionshalf_half.argmax(axis=1))\n",
    "correct = 0\n",
    "count = 0\n",
    "wronghalf_half = []\n",
    "for ans, pred in zip_list:\n",
    "    if(ans==pred):\n",
    "        correct += 1\n",
    "    else:\n",
    "        wronghalf_half.append(count)\n",
    "    count+=1\n",
    "percentagehalf_half = correct/len(open_test_data['label'])"
   ]
  },
  {
   "cell_type": "code",
   "execution_count": 432,
   "metadata": {},
   "outputs": [],
   "source": [
    "zip_list = zip(open_test_data['label'].values, test_predictionshalf_all.argmax(axis=1))\n",
    "correct = 0\n",
    "count = 0\n",
    "wronghalf_all = []\n",
    "for ans, pred in zip_list:\n",
    "    if(ans==pred):\n",
    "        correct += 1\n",
    "    else:\n",
    "        wronghalf_all.append(count)\n",
    "    count+=1\n",
    "percentagehalf_all = correct/len(open_test_data['label'])"
   ]
  },
  {
   "cell_type": "code",
   "execution_count": 433,
   "metadata": {},
   "outputs": [],
   "source": [
    "zip_list = zip(open_test_data['label'].values, test_predictionsall_half.argmax(axis=1))\n",
    "correct = 0\n",
    "count = 0\n",
    "wrongall_half = []\n",
    "for ans, pred in zip_list:\n",
    "    if(ans==pred):\n",
    "        correct += 1\n",
    "    else:\n",
    "        wrongall_half.append(count)\n",
    "    count+=1\n",
    "percentageall_half = correct/len(open_test_data['label'])"
   ]
  },
  {
   "cell_type": "code",
   "execution_count": 434,
   "metadata": {},
   "outputs": [],
   "source": [
    "zip_list = zip(open_test_data['label'].values, test_predictionsall_all.argmax(axis=1))\n",
    "correct = 0\n",
    "count = 0\n",
    "wrongall_all = []\n",
    "for ans, pred in zip_list:\n",
    "    if(ans==pred):\n",
    "        correct += 1\n",
    "    else:\n",
    "        wrongall_all.append(count)\n",
    "    count+=1\n",
    "percentageall_all = correct/len(open_test_data['label'])"
   ]
  },
  {
   "cell_type": "code",
   "execution_count": 435,
   "metadata": {},
   "outputs": [
    {
     "name": "stdout",
     "output_type": "stream",
     "text": [
      "0.6953765846383296 0.6946308724832215 0.6953765846383296 0.6957494407158836 0.6957494407158836 0.6957494407158836\n",
      "0.6968680089485458 0.6968680089485458 0.6968680089485458 0.6972408650260999 0.6964951528709918 0.6964951528709918\n",
      "0.6957494407158836 0.6961222967934377 0.6957494407158836 0.6972408650260999\n"
     ]
    }
   ],
   "source": [
    "print(percentage0_half,\n",
    "     percentage1_half,\n",
    "     percentage2_half,\n",
    "     percentage3_half,\n",
    "     percentage4_half,\n",
    "     percentage5_half)\n",
    "\n",
    "print(percentage0_all,\n",
    "     percentage1_all,\n",
    "     percentage2_all,\n",
    "     percentage3_all,\n",
    "     percentage4_all,\n",
    "     percentage5_all)\n",
    "\n",
    "print(percentagehalf_half,\n",
    "     percentagehalf_all,\n",
    "     percentageall_half,\n",
    "     percentageall_all,)"
   ]
  },
  {
   "cell_type": "code",
   "execution_count": 436,
   "metadata": {},
   "outputs": [
    {
     "name": "stdout",
     "output_type": "stream",
     "text": [
      "half\n",
      "1 18\n",
      "1 18\n",
      "1 18\n",
      "1 18\n",
      "1 18\n",
      "1 18\n",
      "all\n",
      "1 35\n",
      "1 35\n",
      "1 35\n",
      "1 35\n",
      "1 18\n",
      "1 35\n"
     ]
    }
   ],
   "source": [
    "print(\"half\")\n",
    "print(np.argsort(test_predictions0_half[893])[-1], np.argsort(test_predictions0_half[893])[-2])\n",
    "print(np.argsort(test_predictions1_half[893])[-1], np.argsort(test_predictions1_half[893])[-2])\n",
    "print(np.argsort(test_predictions2_half[893])[-1], np.argsort(test_predictions2_half[893])[-2])\n",
    "print(np.argsort(test_predictions3_half[893])[-1], np.argsort(test_predictions3_half[893])[-2])\n",
    "print(np.argsort(test_predictions4_half[893])[-1], np.argsort(test_predictions4_half[893])[-2])\n",
    "print(np.argsort(test_predictions5_half[893])[-1], np.argsort(test_predictions5_half[893])[-2])\n",
    "print(\"all\")\n",
    "print(np.argsort(test_predictions0_all[893])[-1], np.argsort(test_predictions0_all[893])[-2])\n",
    "print(np.argsort(test_predictions1_all[893])[-1], np.argsort(test_predictions1_all[893])[-2])\n",
    "print(np.argsort(test_predictions2_all[893])[-1], np.argsort(test_predictions2_all[893])[-2])\n",
    "print(np.argsort(test_predictions3_all[893])[-1], np.argsort(test_predictions3_all[893])[-2])\n",
    "print(np.argsort(test_predictions4_all[893])[-1], np.argsort(test_predictions4_all[893])[-2])\n",
    "print(np.argsort(test_predictions5_all[893])[-1], np.argsort(test_predictions5_all[893])[-2])"
   ]
  },
  {
   "cell_type": "code",
   "execution_count": 437,
   "metadata": {},
   "outputs": [
    {
     "name": "stdout",
     "output_type": "stream",
     "text": [
      "half\n",
      "31 18\n",
      "31 18\n",
      "31 18\n",
      "31 18\n",
      "31 18\n",
      "31 18\n",
      "all\n",
      "31 35\n",
      "31 35\n",
      "31 35\n",
      "35 31\n",
      "31 18\n",
      "35 31\n"
     ]
    }
   ],
   "source": [
    "print(\"half\")\n",
    "print(np.argsort(test_predictions0_half[1368])[-1], np.argsort(test_predictions0_half[1368])[-2])\n",
    "print(np.argsort(test_predictions1_half[1368])[-1], np.argsort(test_predictions1_half[1368])[-2])\n",
    "print(np.argsort(test_predictions2_half[1368])[-1], np.argsort(test_predictions2_half[1368])[-2])\n",
    "print(np.argsort(test_predictions3_half[1368])[-1], np.argsort(test_predictions3_half[1368])[-2])\n",
    "print(np.argsort(test_predictions4_half[1368])[-1], np.argsort(test_predictions4_half[1368])[-2])\n",
    "print(np.argsort(test_predictions5_half[1368])[-1], np.argsort(test_predictions5_half[1368])[-2])\n",
    "print(\"all\")\n",
    "print(np.argsort(test_predictions0_all[1368])[-1], np.argsort(test_predictions0_all[1368])[-2])\n",
    "print(np.argsort(test_predictions1_all[1368])[-1], np.argsort(test_predictions1_all[1368])[-2])\n",
    "print(np.argsort(test_predictions2_all[1368])[-1], np.argsort(test_predictions2_all[1368])[-2])\n",
    "print(np.argsort(test_predictions3_all[1368])[-1], np.argsort(test_predictions3_all[1368])[-2])\n",
    "print(np.argsort(test_predictions4_all[1368])[-1], np.argsort(test_predictions4_all[1368])[-2])\n",
    "print(np.argsort(test_predictions5_all[1368])[-1], np.argsort(test_predictions5_all[1368])[-2])"
   ]
  },
  {
   "cell_type": "code",
   "execution_count": 438,
   "metadata": {},
   "outputs": [
    {
     "name": "stdout",
     "output_type": "stream",
     "text": [
      "1 18\n",
      "1 35\n",
      "1 18\n",
      "1 35\n"
     ]
    }
   ],
   "source": [
    "print(np.argsort(test_predictionshalf_half[893])[-1], np.argsort(test_predictionshalf_half[893])[-2])\n",
    "print(np.argsort(test_predictionshalf_all[893])[-1], np.argsort(test_predictionshalf_all[893])[-2])\n",
    "print(np.argsort(test_predictionsall_half[893])[-1], np.argsort(test_predictionsall_half[893])[-2])\n",
    "print(np.argsort(test_predictionsall_all[893])[-1], np.argsort(test_predictionsall_all[893])[-2])"
   ]
  },
  {
   "cell_type": "code",
   "execution_count": 439,
   "metadata": {},
   "outputs": [
    {
     "name": "stdout",
     "output_type": "stream",
     "text": [
      "31 18\n",
      "31 35\n",
      "31 18\n",
      "31 35\n"
     ]
    }
   ],
   "source": [
    "print(np.argsort(test_predictionshalf_half[1368])[-1], np.argsort(test_predictionshalf_half[1368])[-2])\n",
    "print(np.argsort(test_predictionshalf_all[1368])[-1], np.argsort(test_predictionshalf_all[1368])[-2])\n",
    "print(np.argsort(test_predictionsall_half[1368])[-1], np.argsort(test_predictionsall_half[1368])[-2])\n",
    "print(np.argsort(test_predictionsall_all[1368])[-1], np.argsort(test_predictionsall_all[1368])[-2])"
   ]
  },
  {
   "cell_type": "code",
   "execution_count": 440,
   "metadata": {},
   "outputs": [
    {
     "name": "stdout",
     "output_type": "stream",
     "text": [
      "31 18\n",
      "31 18\n",
      "31 18\n",
      "31 18\n",
      "31 18\n",
      "31 18\n",
      "31 35\n",
      "31 35\n",
      "31 35\n",
      "35 31\n",
      "31 18\n",
      "35 31\n"
     ]
    }
   ],
   "source": [
    "print(np.argsort(test_predictions0_half[1368])[-1], np.argsort(test_predictions0_half[1368])[-2])\n",
    "print(np.argsort(test_predictions1_half[1368])[-1], np.argsort(test_predictions1_half[1368])[-2])\n",
    "print(np.argsort(test_predictions2_half[1368])[-1], np.argsort(test_predictions2_half[1368])[-2])\n",
    "print(np.argsort(test_predictions3_half[1368])[-1], np.argsort(test_predictions3_half[1368])[-2])\n",
    "print(np.argsort(test_predictions4_half[1368])[-1], np.argsort(test_predictions4_half[1368])[-2])\n",
    "print(np.argsort(test_predictions5_half[1368])[-1], np.argsort(test_predictions5_half[1368])[-2])\n",
    "\n",
    "print(np.argsort(test_predictions0_all[1368])[-1], np.argsort(test_predictions0_all[1368])[-2])\n",
    "print(np.argsort(test_predictions1_all[1368])[-1], np.argsort(test_predictions1_all[1368])[-2])\n",
    "print(np.argsort(test_predictions2_all[1368])[-1], np.argsort(test_predictions2_all[1368])[-2])\n",
    "print(np.argsort(test_predictions3_all[1368])[-1], np.argsort(test_predictions3_all[1368])[-2])\n",
    "print(np.argsort(test_predictions4_all[1368])[-1], np.argsort(test_predictions4_all[1368])[-2])\n",
    "print(np.argsort(test_predictions5_all[1368])[-1], np.argsort(test_predictions5_all[1368])[-2])"
   ]
  },
  {
   "cell_type": "code",
   "execution_count": 441,
   "metadata": {},
   "outputs": [
    {
     "name": "stdout",
     "output_type": "stream",
     "text": [
      "1 20\n",
      "1 20\n",
      "1 20\n",
      "1 18\n",
      "15 1\n",
      "1 5\n"
     ]
    }
   ],
   "source": [
    "print(np.argsort(test_predictions0[893])[-1], np.argsort(test_predictions0[893])[-2])\n",
    "print(np.argsort(test_predictions1[893])[-1], np.argsort(test_predictions1[893])[-2])\n",
    "print(np.argsort(test_predictions2[893])[-1], np.argsort(test_predictions2[893])[-2])\n",
    "print(np.argsort(test_predictions3[893])[-1], np.argsort(test_predictions3[893])[-2])\n",
    "print(np.argsort(test_predictions4[893])[-1], np.argsort(test_predictions4[893])[-2])\n",
    "print(np.argsort(test_predictions5[893])[-1], np.argsort(test_predictions5[893])[-2])"
   ]
  },
  {
   "cell_type": "code",
   "execution_count": 442,
   "metadata": {},
   "outputs": [
    {
     "name": "stdout",
     "output_type": "stream",
     "text": [
      "1 5\n",
      "1 18\n",
      "1 18\n",
      "35 26\n",
      "1 5\n"
     ]
    }
   ],
   "source": [
    "print(np.argsort(test_predictions0_1[893])[-1], np.argsort(test_predictions0_1[893])[-2])\n",
    "print(np.argsort(test_predictions0_2[893])[-1], np.argsort(test_predictions0_2[893])[-2])\n",
    "print(np.argsort(test_predictions0_3[893])[-1], np.argsort(test_predictions0_3[893])[-2])\n",
    "print(np.argsort(test_predictions0_4[893])[-1], np.argsort(test_predictions0_4[893])[-2])\n",
    "print(np.argsort(test_predictions0_5[893])[-1], np.argsort(test_predictions0_5[893])[-2])"
   ]
  },
  {
   "cell_type": "code",
   "execution_count": 443,
   "metadata": {},
   "outputs": [
    {
     "name": "stdout",
     "output_type": "stream",
     "text": [
      "1 5\n",
      "1 18\n",
      "1 18\n",
      "35 26\n",
      "1 5\n"
     ]
    }
   ],
   "source": [
    "print(np.argsort(test_predictions1_0[893])[-1], np.argsort(test_predictions1_0[893])[-2])\n",
    "print(np.argsort(test_predictions1_2[893])[-1], np.argsort(test_predictions1_2[893])[-2])\n",
    "print(np.argsort(test_predictions1_3[893])[-1], np.argsort(test_predictions1_3[893])[-2])\n",
    "print(np.argsort(test_predictions1_4[893])[-1], np.argsort(test_predictions1_4[893])[-2])\n",
    "print(np.argsort(test_predictions1_5[893])[-1], np.argsort(test_predictions1_5[893])[-2])"
   ]
  },
  {
   "cell_type": "code",
   "execution_count": 444,
   "metadata": {},
   "outputs": [
    {
     "name": "stdout",
     "output_type": "stream",
     "text": [
      "1 5\n",
      "1 5\n",
      "1 18\n",
      "35 26\n",
      "1 5\n"
     ]
    }
   ],
   "source": [
    "print(np.argsort(test_predictions2_0[893])[-1], np.argsort(test_predictions2_0[893])[-2])\n",
    "print(np.argsort(test_predictions2_1[893])[-1], np.argsort(test_predictions2_1[893])[-2])\n",
    "print(np.argsort(test_predictions2_3[893])[-1], np.argsort(test_predictions2_3[893])[-2])\n",
    "print(np.argsort(test_predictions2_4[893])[-1], np.argsort(test_predictions2_4[893])[-2])\n",
    "print(np.argsort(test_predictions2_5[893])[-1], np.argsort(test_predictions2_5[893])[-2])"
   ]
  },
  {
   "cell_type": "code",
   "execution_count": 445,
   "metadata": {},
   "outputs": [
    {
     "name": "stdout",
     "output_type": "stream",
     "text": [
      "1 5\n",
      "1 5\n",
      "1 18\n",
      "35 26\n",
      "1 5\n"
     ]
    }
   ],
   "source": [
    "print(np.argsort(test_predictions3_0[893])[-1], np.argsort(test_predictions3_0[893])[-2])\n",
    "print(np.argsort(test_predictions3_1[893])[-1], np.argsort(test_predictions3_1[893])[-2])\n",
    "print(np.argsort(test_predictions3_2[893])[-1], np.argsort(test_predictions3_2[893])[-2])\n",
    "print(np.argsort(test_predictions3_4[893])[-1], np.argsort(test_predictions3_4[893])[-2])\n",
    "print(np.argsort(test_predictions3_5[893])[-1], np.argsort(test_predictions3_5[893])[-2])"
   ]
  },
  {
   "cell_type": "code",
   "execution_count": 446,
   "metadata": {
    "scrolled": true
   },
   "outputs": [
    {
     "name": "stdout",
     "output_type": "stream",
     "text": [
      "1 5\n",
      "1 5\n",
      "1 18\n",
      "1 18\n",
      "1 5\n"
     ]
    }
   ],
   "source": [
    "print(np.argsort(test_predictions4_0[893])[-1], np.argsort(test_predictions4_0[893])[-2])\n",
    "print(np.argsort(test_predictions4_1[893])[-1], np.argsort(test_predictions4_1[893])[-2])\n",
    "print(np.argsort(test_predictions4_2[893])[-1], np.argsort(test_predictions4_2[893])[-2])\n",
    "print(np.argsort(test_predictions4_3[893])[-1], np.argsort(test_predictions4_3[893])[-2])\n",
    "print(np.argsort(test_predictions4_5[893])[-1], np.argsort(test_predictions4_5[893])[-2])"
   ]
  },
  {
   "cell_type": "code",
   "execution_count": 447,
   "metadata": {},
   "outputs": [
    {
     "name": "stdout",
     "output_type": "stream",
     "text": [
      "1 5\n",
      "1 5\n",
      "1 18\n",
      "1 18\n",
      "35 26\n"
     ]
    }
   ],
   "source": [
    "print(np.argsort(test_predictions5_0[893])[-1], np.argsort(test_predictions5_0[893])[-2])\n",
    "print(np.argsort(test_predictions5_1[893])[-1], np.argsort(test_predictions5_1[893])[-2])\n",
    "print(np.argsort(test_predictions5_2[893])[-1], np.argsort(test_predictions5_2[893])[-2])\n",
    "print(np.argsort(test_predictions5_3[893])[-1], np.argsort(test_predictions5_3[893])[-2])\n",
    "print(np.argsort(test_predictions5_4[893])[-1], np.argsort(test_predictions5_4[893])[-2])"
   ]
  },
  {
   "cell_type": "code",
   "execution_count": 261,
   "metadata": {},
   "outputs": [
    {
     "data": {
      "text/plain": [
       "0.5337115"
      ]
     },
     "execution_count": 261,
     "metadata": {},
     "output_type": "execute_result"
    }
   ],
   "source": [
    "np.max(test_predictions0_1[1368])"
   ]
  },
  {
   "cell_type": "code",
   "execution_count": 193,
   "metadata": {},
   "outputs": [
    {
     "name": "stdout",
     "output_type": "stream",
     "text": [
      "2\n"
     ]
    }
   ],
   "source": [
    "sort_test_pred1 = sorted(test_predictions1.max(axis=1),reverse=False)\n",
    "count = 0\n",
    "for i in sort_test_pred1:\n",
    "    if i < 0.50:\n",
    "        count += 1\n",
    "print(count)"
   ]
  },
  {
   "cell_type": "code",
   "execution_count": 192,
   "metadata": {},
   "outputs": [
    {
     "name": "stdout",
     "output_type": "stream",
     "text": [
      "1\n"
     ]
    }
   ],
   "source": [
    "sort_test_pred2 = sorted(test_predictions2.max(axis=1),reverse=False)\n",
    "count = 0\n",
    "for i in sort_test_pred2:\n",
    "    if i < 0.50:\n",
    "        count += 1\n",
    "print(count)"
   ]
  },
  {
   "cell_type": "code",
   "execution_count": 191,
   "metadata": {},
   "outputs": [
    {
     "name": "stdout",
     "output_type": "stream",
     "text": [
      "2\n"
     ]
    }
   ],
   "source": [
    "sort_test_pred3 = sorted(test_predictions3.max(axis=1),reverse=False)\n",
    "count = 0\n",
    "for i in sort_test_pred3:\n",
    "    if i < 0.50:\n",
    "        count += 1\n",
    "print(count)"
   ]
  },
  {
   "cell_type": "code",
   "execution_count": 190,
   "metadata": {},
   "outputs": [
    {
     "name": "stdout",
     "output_type": "stream",
     "text": [
      "274\n"
     ]
    }
   ],
   "source": [
    "sort_test_pred4 = sorted(test_predictions4.max(axis=1),reverse=False)\n",
    "count = 0\n",
    "for i in sort_test_pred4:\n",
    "    if i < 0.50:\n",
    "        count += 1\n",
    "print(count)"
   ]
  },
  {
   "cell_type": "code",
   "execution_count": 184,
   "metadata": {},
   "outputs": [
    {
     "name": "stdout",
     "output_type": "stream",
     "text": [
      "114\n"
     ]
    }
   ],
   "source": [
    "sort_test_pred5 = sorted(test_predictions5.max(axis=1),reverse=False)\n",
    "count = 0\n",
    "for i in sort_test_pred5:\n",
    "    if i < 0.50:\n",
    "        count += 1\n",
    "print(count)"
   ]
  },
  {
   "cell_type": "code",
   "execution_count": 208,
   "metadata": {},
   "outputs": [
    {
     "data": {
      "text/plain": [
       "0.6879749"
      ]
     },
     "execution_count": 208,
     "metadata": {},
     "output_type": "execute_result"
    }
   ],
   "source": [
    "test_predictions3_[893].max()"
   ]
  },
  {
   "cell_type": "code",
   "execution_count": 133,
   "metadata": {},
   "outputs": [
    {
     "data": {
      "text/plain": [
       "0.496781"
      ]
     },
     "execution_count": 133,
     "metadata": {},
     "output_type": "execute_result"
    }
   ],
   "source": [
    "test_predictions3[893].max()"
   ]
  },
  {
   "cell_type": "code",
   "execution_count": 136,
   "metadata": {},
   "outputs": [
    {
     "data": {
      "text/plain": [
       "0.6879749"
      ]
     },
     "execution_count": 136,
     "metadata": {},
     "output_type": "execute_result"
    }
   ],
   "source": [
    "test_predictions3_2[893].max()"
   ]
  },
  {
   "cell_type": "code",
   "execution_count": 28,
   "metadata": {
    "scrolled": true
   },
   "outputs": [
    {
     "data": {
      "text/plain": [
       "array([33,  6, 17, ..., 22, 18, 34], dtype=int64)"
      ]
     },
     "execution_count": 28,
     "metadata": {},
     "output_type": "execute_result"
    }
   ],
   "source": [
    "test_predictions1.argmax(axis=1)"
   ]
  },
  {
   "cell_type": "code",
   "execution_count": 16,
   "metadata": {
    "scrolled": true
   },
   "outputs": [
    {
     "data": {
      "text/plain": [
       "array([[6.2358013e-04, 2.1808062e-04, 6.1475165e-04, ..., 5.1126839e-04,\n",
       "        8.7359035e-04, 4.6595727e-05],\n",
       "       [2.2786936e-04, 2.9028361e-05, 2.3115735e-04, ..., 3.8274706e-05,\n",
       "        5.8605077e-05, 3.3263092e-05],\n",
       "       [5.7085003e-06, 5.3871722e-06, 1.1827373e-05, ..., 5.2252522e-06,\n",
       "        3.0896023e-05, 2.8574039e-05],\n",
       "       ...,\n",
       "       [1.0517626e-05, 9.3944518e-06, 4.7778831e-06, ..., 2.9509340e-05,\n",
       "        1.1692599e-05, 7.5778735e-06],\n",
       "       [4.2963130e-04, 1.1960221e-04, 3.0312661e-04, ..., 1.0786421e-04,\n",
       "        1.9948088e-04, 1.6578412e-04],\n",
       "       [1.3106690e-05, 2.3793637e-05, 2.2182845e-05, ..., 9.9480361e-01,\n",
       "        4.1309441e-04, 8.5840194e-04]], dtype=float32)"
      ]
     },
     "execution_count": 16,
     "metadata": {},
     "output_type": "execute_result"
    }
   ],
   "source": [
    "test_predictions2"
   ]
  },
  {
   "cell_type": "code",
   "execution_count": 17,
   "metadata": {},
   "outputs": [
    {
     "data": {
      "text/plain": [
       "array([[4.76189714e-04, 1.79339127e-04, 1.85228462e-04, ...,\n",
       "        4.55330126e-04, 9.11451760e-04, 6.14041492e-05],\n",
       "       [1.43575075e-04, 3.51108465e-05, 1.58227485e-04, ...,\n",
       "        6.59663201e-05, 9.39462625e-05, 4.18528398e-05],\n",
       "       [6.71874113e-06, 7.57777980e-06, 1.35951732e-05, ...,\n",
       "        5.83190740e-06, 2.57950942e-05, 2.95722202e-05],\n",
       "       ...,\n",
       "       [1.21163785e-05, 1.12831995e-05, 7.05116236e-06, ...,\n",
       "        2.74903196e-05, 1.12880316e-05, 8.92948265e-06],\n",
       "       [6.95524737e-04, 1.96239576e-04, 2.97457358e-04, ...,\n",
       "        1.28116371e-04, 2.28530465e-04, 1.88074409e-04],\n",
       "       [9.76733736e-06, 2.22070194e-05, 2.91578835e-05, ...,\n",
       "        9.95537281e-01, 5.88897849e-04, 5.63493813e-04]], dtype=float32)"
      ]
     },
     "execution_count": 17,
     "metadata": {},
     "output_type": "execute_result"
    }
   ],
   "source": [
    "test_predictions3"
   ]
  },
  {
   "cell_type": "code",
   "execution_count": 22,
   "metadata": {},
   "outputs": [
    {
     "data": {
      "text/plain": [
       "array([[6.0483394e-03, 6.2603150e-03, 4.3824073e-03, ..., 2.6178598e-02,\n",
       "        3.7694265e-04, 3.5494269e-04],\n",
       "       [4.5502730e-04, 2.3380038e-04, 6.6620111e-04, ..., 1.9540139e-04,\n",
       "        2.0825190e-03, 1.1469890e-04],\n",
       "       [1.0445520e-05, 1.7451199e-05, 1.8588364e-05, ..., 6.1682586e-05,\n",
       "        7.4562937e-05, 7.1665585e-05],\n",
       "       ...,\n",
       "       [1.4557211e-03, 2.2534319e-04, 4.1004596e-04, ..., 4.4426080e-03,\n",
       "        3.4214228e-03, 3.2265735e-04],\n",
       "       [7.8368007e-04, 9.3790155e-04, 1.4345295e-03, ..., 6.0565089e-04,\n",
       "        8.9805711e-05, 1.9425007e-04],\n",
       "       [1.6567766e-04, 9.4562660e-05, 2.6193185e-04, ..., 9.3274170e-01,\n",
       "        8.0608977e-03, 9.2328442e-03]], dtype=float32)"
      ]
     },
     "execution_count": 22,
     "metadata": {},
     "output_type": "execute_result"
    }
   ],
   "source": [
    "test_predictions4"
   ]
  },
  {
   "cell_type": "code",
   "execution_count": 23,
   "metadata": {},
   "outputs": [
    {
     "data": {
      "text/plain": [
       "array([[3.64680745e-04, 1.74839457e-04, 3.84119339e-04, ...,\n",
       "        5.05125558e-04, 6.42877771e-04, 3.22505730e-05],\n",
       "       [1.47090090e-04, 3.67215653e-05, 1.85812707e-04, ...,\n",
       "        6.89196168e-05, 1.44327118e-04, 2.62434187e-05],\n",
       "       [3.24026587e-05, 2.39588262e-05, 2.01101957e-05, ...,\n",
       "        1.81391351e-05, 1.01922888e-04, 3.88188309e-05],\n",
       "       ...,\n",
       "       [1.25371289e-05, 7.36366383e-06, 5.00282613e-06, ...,\n",
       "        3.00996271e-05, 1.22082365e-05, 8.14425221e-06],\n",
       "       [3.45522683e-04, 1.58135561e-04, 1.99305301e-04, ...,\n",
       "        1.32219342e-04, 5.13754901e-04, 4.79766109e-04],\n",
       "       [1.29891268e-05, 3.11375516e-05, 2.99810363e-05, ...,\n",
       "        9.94804680e-01, 6.16037229e-04, 1.05567579e-03]], dtype=float32)"
      ]
     },
     "execution_count": 23,
     "metadata": {},
     "output_type": "execute_result"
    }
   ],
   "source": [
    "test_predictions5"
   ]
  },
  {
   "cell_type": "code",
   "execution_count": 376,
   "metadata": {},
   "outputs": [
    {
     "data": {
      "text/plain": [
       "array([[3.8842089e-04, 9.8658915e-05, 1.9220541e-04, ..., 1.1361293e-03,\n",
       "        2.0893250e-04, 1.9492055e-03],\n",
       "       [1.6855529e-03, 1.7572835e-04, 5.8907818e-04, ..., 3.0967992e-04,\n",
       "        2.1141237e-03, 2.6890243e-04],\n",
       "       [3.0358782e-04, 3.2406375e-03, 1.3832428e-03, ..., 3.7622737e-04,\n",
       "        4.7626131e-04, 3.5005203e-04],\n",
       "       ...,\n",
       "       [1.6813530e-04, 1.3912636e-04, 2.1999129e-04, ..., 2.2457165e-04,\n",
       "        7.7291136e-04, 3.1955555e-04],\n",
       "       [7.6917221e-04, 3.3593684e-04, 1.9677414e-02, ..., 1.8990072e-04,\n",
       "        7.0570689e-04, 2.5088130e-04],\n",
       "       [4.9666845e-04, 2.7456594e-05, 1.0102015e-04, ..., 3.5992758e-05,\n",
       "        1.2247005e-04, 6.1042992e-05]], dtype=float32)"
      ]
     },
     "execution_count": 376,
     "metadata": {},
     "output_type": "execute_result"
    }
   ],
   "source": [
    "test_predictions"
   ]
  },
  {
   "cell_type": "code",
   "execution_count": 14,
   "metadata": {},
   "outputs": [],
   "source": [
    "FILEPATH = '../Mondeique/predictions2/'\n",
    "\n",
    "np.save(FILEPATH+'XGB_'+'ne0',test_predictions0)\n",
    "np.save(FILEPATH+'XGB_'+'ne1',test_predictions1)\n",
    "np.save(FILEPATH+'XGB_'+'ne2',test_predictions2)\n",
    "np.save(FILEPATH+'XGB_'+'ne3',test_predictions3)\n",
    "np.save(FILEPATH+'XGB_'+'ne4',test_predictions4)\n",
    "np.save(FILEPATH+'XGB_'+'ne5',test_predictions5)\n",
    "\n",
    "np.save(FILEPATH+'XGB_'+'ne0m',test_predictions0m)\n",
    "np.save(FILEPATH+'XGB_'+'ne1m',test_predictions1m)\n",
    "np.save(FILEPATH+'XGB_'+'ne2m',test_predictions2m)\n",
    "np.save(FILEPATH+'XGB_'+'ne3m',test_predictions3m)\n",
    "np.save(FILEPATH+'XGB_'+'ne4m',test_predictions4m)\n",
    "np.save(FILEPATH+'XGB_'+'ne5m',test_predictions5m)"
   ]
  },
  {
   "cell_type": "code",
   "execution_count": 456,
   "metadata": {},
   "outputs": [],
   "source": [
    "np.save(FILEPATH+'XGB_'+'ne0_ne1',test_predictions0_1)\n",
    "np.save(FILEPATH+'XGB_'+'ne0_ne2',test_predictions0_2)\n",
    "np.save(FILEPATH+'XGB_'+'ne0_ne3',test_predictions0_3)\n",
    "np.save(FILEPATH+'XGB_'+'ne0_ne4',test_predictions0_4)\n",
    "np.save(FILEPATH+'XGB_'+'ne0_ne5',test_predictions0_5)"
   ]
  },
  {
   "cell_type": "code",
   "execution_count": 457,
   "metadata": {},
   "outputs": [],
   "source": [
    "np.save(FILEPATH+'XGB_'+'ne1_ne0',test_predictions1_0)\n",
    "np.save(FILEPATH+'XGB_'+'ne1_ne2',test_predictions1_2)\n",
    "np.save(FILEPATH+'XGB_'+'ne1_ne3',test_predictions1_3)\n",
    "np.save(FILEPATH+'XGB_'+'ne1_ne4',test_predictions1_4)\n",
    "np.save(FILEPATH+'XGB_'+'ne1_ne5',test_predictions1_5)"
   ]
  },
  {
   "cell_type": "code",
   "execution_count": 458,
   "metadata": {},
   "outputs": [],
   "source": [
    "np.save(FILEPATH+'XGB_'+'ne2_ne1',test_predictions2_1)\n",
    "np.save(FILEPATH+'XGB_'+'ne2_ne0',test_predictions2_0)\n",
    "np.save(FILEPATH+'XGB_'+'ne2_ne3',test_predictions2_3)\n",
    "np.save(FILEPATH+'XGB_'+'ne2_ne4',test_predictions2_4)\n",
    "np.save(FILEPATH+'XGB_'+'ne2_ne5',test_predictions2_5)"
   ]
  },
  {
   "cell_type": "code",
   "execution_count": 459,
   "metadata": {},
   "outputs": [],
   "source": [
    "np.save(FILEPATH+'XGB_'+'ne3_ne1',test_predictions3_1)\n",
    "np.save(FILEPATH+'XGB_'+'ne3_ne2',test_predictions3_2)\n",
    "np.save(FILEPATH+'XGB_'+'ne3_ne0',test_predictions3_0)\n",
    "np.save(FILEPATH+'XGB_'+'ne3_ne4',test_predictions3_4)\n",
    "np.save(FILEPATH+'XGB_'+'ne3_ne5',test_predictions3_5)"
   ]
  },
  {
   "cell_type": "code",
   "execution_count": 460,
   "metadata": {},
   "outputs": [],
   "source": [
    "np.save(FILEPATH+'XGB_'+'ne4_ne1',test_predictions4_1)\n",
    "np.save(FILEPATH+'XGB_'+'ne4_ne2',test_predictions4_2)\n",
    "np.save(FILEPATH+'XGB_'+'ne4_ne3',test_predictions4_3)\n",
    "np.save(FILEPATH+'XGB_'+'ne4_ne0',test_predictions4_0)\n",
    "np.save(FILEPATH+'XGB_'+'ne4_ne5',test_predictions4_5)"
   ]
  },
  {
   "cell_type": "code",
   "execution_count": 461,
   "metadata": {},
   "outputs": [],
   "source": [
    "np.save(FILEPATH+'XGB_'+'ne5_ne1',test_predictions5_1)\n",
    "np.save(FILEPATH+'XGB_'+'ne5_ne2',test_predictions5_2)\n",
    "np.save(FILEPATH+'XGB_'+'ne5_ne3',test_predictions5_3)\n",
    "np.save(FILEPATH+'XGB_'+'ne5_ne4',test_predictions5_4)\n",
    "np.save(FILEPATH+'XGB_'+'ne5_ne0',test_predictions5_0)"
   ]
  },
  {
   "cell_type": "code",
   "execution_count": null,
   "metadata": {},
   "outputs": [],
   "source": [
    "##############################################################################################"
   ]
  },
  {
   "cell_type": "code",
   "execution_count": 25,
   "metadata": {},
   "outputs": [
    {
     "name": "stdout",
     "output_type": "stream",
     "text": [
      "XGB ctv logloss: 0.435, accuracy: 0.881, f1_score: 0.881\n",
      "XGB ctv logloss: 0.384, accuracy: 0.905, f1_score: 0.905\n",
      "XGB ctv logloss: 0.466, accuracy: 0.883, f1_score: 0.883\n",
      "XGB ctv logloss: 0.485, accuracy: 0.879, f1_score: 0.879\n",
      "XGB ctv logloss: 0.460, accuracy: 0.869, f1_score: 0.869\n",
      "XGB ctv logloss: 0.474, accuracy: 0.873, f1_score: 0.873\n",
      "XGB ctv logloss: 0.370, accuracy: 0.901, f1_score: 0.901\n",
      "XGB ctv logloss: 0.435, accuracy: 0.888, f1_score: 0.888\n",
      "XGB ctv logloss: 0.466, accuracy: 0.871, f1_score: 0.871\n",
      "XGB ctv logloss: 0.502, accuracy: 0.879, f1_score: 0.879\n"
     ]
    }
   ],
   "source": [
    "skf = StratifiedKFold(n_splits=10, shuffle=True, random_state=10)\n",
    "\n",
    "xgb_preds_2=[]\n",
    "\n",
    "\n",
    "\n",
    "for dev_index, val_index in skf.split(train_cvec_char2.tocsc(), ytrain):\n",
    "    dev_X, val_X = train_cvec_char2.tocsc()[dev_index], train_cvec_char2.tocsc()[val_index]\n",
    "    dev_y, val_y = ytrain[dev_index], ytrain[val_index]\n",
    "    watchlist = [(dev_X, dev_y), (val_X, val_y)]\n",
    "    watchmetric = ['merror', 'mlogloss']\n",
    "    \n",
    "    clf = xgb.XGBClassifier(max_depth=7, n_estimators=200, colsample_bytree=0.8, \n",
    "                            subsample=0.8, nthread=10, learning_rate=0.1)\n",
    "    \n",
    "    clf.fit(dev_X, dev_y)\n",
    "    val_predictions = clf.predict_proba(val_X)\n",
    "    test_predictions = clf.predict_proba(test_cvec_char2.tocsc())\n",
    "    \n",
    "    print (\"XGB ctv logloss: %0.3f, accuracy: %0.3f, f1_score: %0.3f\" % (multiclass_logloss(val_y, val_predictions), \n",
    "                                                                         prediction_accuracy(val_predictions, val_y), \n",
    "                                                                         f1_score(val_y, val_predictions.argmax(axis=1), average='micro')))\n",
    "    xgb_preds_2.append(test_predictions)"
   ]
  },
  {
   "cell_type": "code",
   "execution_count": 26,
   "metadata": {},
   "outputs": [
    {
     "name": "stdout",
     "output_type": "stream",
     "text": [
      "XGB ctv logloss: 0.409, accuracy: 0.888, f1_score: 0.888\n",
      "XGB ctv logloss: 0.377, accuracy: 0.907, f1_score: 0.907\n",
      "XGB ctv logloss: 0.472, accuracy: 0.877, f1_score: 0.877\n",
      "XGB ctv logloss: 0.472, accuracy: 0.873, f1_score: 0.873\n",
      "XGB ctv logloss: 0.460, accuracy: 0.879, f1_score: 0.879\n",
      "XGB ctv logloss: 0.473, accuracy: 0.866, f1_score: 0.866\n",
      "XGB ctv logloss: 0.351, accuracy: 0.894, f1_score: 0.894\n",
      "XGB ctv logloss: 0.437, accuracy: 0.896, f1_score: 0.896\n",
      "XGB ctv logloss: 0.476, accuracy: 0.856, f1_score: 0.856\n",
      "XGB ctv logloss: 0.498, accuracy: 0.882, f1_score: 0.882\n"
     ]
    }
   ],
   "source": [
    "skf = StratifiedKFold(n_splits=10, shuffle=True, random_state=10)\n",
    "\n",
    "xgb_preds_2_1=[]\n",
    "\n",
    "\n",
    "\n",
    "for dev_index, val_index in skf.split(train_cvec_char2_1.tocsc(), ytrain):\n",
    "    dev_X, val_X = train_cvec_char2_1.tocsc()[dev_index], train_cvec_char2_1.tocsc()[val_index]\n",
    "    dev_y, val_y = ytrain[dev_index], ytrain[val_index]\n",
    "    watchlist = [(dev_X, dev_y), (val_X, val_y)]\n",
    "    watchmetric = ['merror', 'mlogloss']\n",
    "    \n",
    "    clf = xgb.XGBClassifier(max_depth=7, n_estimators=200, colsample_bytree=0.8, \n",
    "                            subsample=0.8, nthread=10, learning_rate=0.1)\n",
    "    \n",
    "    clf.fit(dev_X, dev_y)\n",
    "    val_predictions = clf.predict_proba(val_X)\n",
    "    test_predictions = clf.predict_proba(test_cvec_char2_1.tocsc())\n",
    "    \n",
    "    print (\"XGB ctv logloss: %0.3f, accuracy: %0.3f, f1_score: %0.3f\" % (multiclass_logloss(val_y, val_predictions), \n",
    "                                                                         prediction_accuracy(val_predictions, val_y), \n",
    "                                                                         f1_score(val_y, val_predictions.argmax(axis=1), average='micro')))\n",
    "    xgb_preds_2_1.append(test_predictions)"
   ]
  },
  {
   "cell_type": "code",
   "execution_count": 27,
   "metadata": {},
   "outputs": [
    {
     "name": "stdout",
     "output_type": "stream",
     "text": [
      "XGB ctv logloss: 0.411, accuracy: 0.894, f1_score: 0.894\n",
      "XGB ctv logloss: 0.384, accuracy: 0.903, f1_score: 0.903\n",
      "XGB ctv logloss: 0.465, accuracy: 0.875, f1_score: 0.875\n",
      "XGB ctv logloss: 0.487, accuracy: 0.875, f1_score: 0.875\n",
      "XGB ctv logloss: 0.469, accuracy: 0.877, f1_score: 0.877\n",
      "XGB ctv logloss: 0.482, accuracy: 0.869, f1_score: 0.869\n",
      "XGB ctv logloss: 0.365, accuracy: 0.892, f1_score: 0.892\n",
      "XGB ctv logloss: 0.451, accuracy: 0.873, f1_score: 0.873\n",
      "XGB ctv logloss: 0.467, accuracy: 0.858, f1_score: 0.858\n",
      "XGB ctv logloss: 0.499, accuracy: 0.886, f1_score: 0.886\n"
     ]
    }
   ],
   "source": [
    "skf = StratifiedKFold(n_splits=10, shuffle=True, random_state=10)\n",
    "\n",
    "xgb_preds_2_2=[]\n",
    "\n",
    "\n",
    "\n",
    "for dev_index, val_index in skf.split(train_cvec_char2_2.tocsc(), ytrain):\n",
    "    dev_X, val_X = train_cvec_char2_2.tocsc()[dev_index], train_cvec_char2_2.tocsc()[val_index]\n",
    "    dev_y, val_y = ytrain[dev_index], ytrain[val_index]\n",
    "    watchlist = [(dev_X, dev_y), (val_X, val_y)]\n",
    "    watchmetric = ['merror', 'mlogloss']\n",
    "    \n",
    "    clf = xgb.XGBClassifier(max_depth=7, n_estimators=200, colsample_bytree=0.8, \n",
    "                            subsample=0.8, nthread=10, learning_rate=0.1)\n",
    "    \n",
    "    clf.fit(dev_X, dev_y)\n",
    "    val_predictions = clf.predict_proba(val_X)\n",
    "    test_predictions = clf.predict_proba(test_cvec_char2_2.tocsc())\n",
    "    \n",
    "    print (\"XGB ctv logloss: %0.3f, accuracy: %0.3f, f1_score: %0.3f\" % (multiclass_logloss(val_y, val_predictions), \n",
    "                                                                         prediction_accuracy(val_predictions, val_y), \n",
    "                                                                         f1_score(val_y, val_predictions.argmax(axis=1), average='micro')))\n",
    "    xgb_preds_2_2.append(test_predictions)"
   ]
  },
  {
   "cell_type": "code",
   "execution_count": 36,
   "metadata": {},
   "outputs": [
    {
     "data": {
      "text/plain": [
       "array([0.5394178 , 0.4711591 , 0.60229176, ..., 0.9207871 , 0.9863323 ,\n",
       "       0.9364443 ], dtype=float32)"
      ]
     },
     "execution_count": 36,
     "metadata": {},
     "output_type": "execute_result"
    }
   ],
   "source": [
    "xgb_preds_2[2].max(axis=1)"
   ]
  },
  {
   "cell_type": "code",
   "execution_count": null,
   "metadata": {},
   "outputs": [],
   "source": [
    "test_predictions"
   ]
  },
  {
   "cell_type": "code",
   "execution_count": null,
   "metadata": {},
   "outputs": [],
   "source": []
  },
  {
   "cell_type": "code",
   "execution_count": 30,
   "metadata": {},
   "outputs": [
    {
     "data": {
      "text/plain": [
       "[array([[3.31616262e-04, 3.75245290e-04, 2.97131628e-04, ...,\n",
       "         4.41962969e-04, 1.92853069e-04, 3.96920339e-04],\n",
       "        [6.57173753e-01, 1.61453476e-03, 1.25216365e-01, ...,\n",
       "         2.05072830e-03, 2.17495509e-03, 8.08643934e-04],\n",
       "        [9.85371880e-04, 3.33238468e-02, 3.57390777e-03, ...,\n",
       "         9.70782654e-04, 4.49901709e-04, 5.41437184e-04],\n",
       "        ...,\n",
       "        [1.47345945e-05, 1.10768233e-05, 1.30480666e-05, ...,\n",
       "         5.56525556e-05, 4.15815084e-05, 1.76199883e-05],\n",
       "        [1.05559557e-05, 1.25924462e-05, 1.38724981e-05, ...,\n",
       "         1.04757673e-05, 1.66592108e-05, 1.09325692e-05],\n",
       "        [4.23284037e-05, 9.77870368e-05, 4.28256426e-05, ...,\n",
       "         3.79988123e-05, 3.35154800e-05, 2.38424709e-05]], dtype=float32),\n",
       " array([[5.9826660e-04, 3.9518086e-04, 3.7778972e-04, ..., 9.3364046e-04,\n",
       "         3.0966938e-04, 7.8373670e-04],\n",
       "        [8.4158289e-01, 1.0108527e-03, 6.4529292e-02, ..., 1.6272322e-03,\n",
       "         1.0021975e-03, 5.5430457e-04],\n",
       "        [7.4209092e-04, 1.6423658e-02, 1.9207767e-03, ..., 4.9068325e-04,\n",
       "         3.2664865e-04, 4.2190502e-04],\n",
       "        ...,\n",
       "        [7.5992175e-06, 5.3801741e-06, 7.5809112e-06, ..., 1.9618041e-05,\n",
       "         2.6163985e-05, 1.2635208e-05],\n",
       "        [1.2640958e-05, 2.3174503e-05, 7.7937229e-06, ..., 9.1083530e-06,\n",
       "         1.9438696e-05, 9.4547822e-06],\n",
       "        [3.3933193e-05, 8.2347993e-05, 1.8629726e-05, ..., 3.0528474e-05,\n",
       "         2.1984053e-05, 2.2982647e-05]], dtype=float32),\n",
       " array([[4.1812184e-04, 8.7418297e-04, 5.8336498e-04, ..., 1.0176415e-03,\n",
       "         2.7254139e-04, 1.3816989e-03],\n",
       "        [6.3206774e-01, 2.2160066e-03, 1.3894020e-01, ..., 3.7287285e-03,\n",
       "         2.5819354e-03, 1.1238259e-03],\n",
       "        [6.9306477e-04, 1.4369677e-02, 3.9349007e-03, ..., 5.4199027e-04,\n",
       "         3.9520930e-04, 4.5894971e-04],\n",
       "        ...,\n",
       "        [1.4670351e-05, 1.0380766e-05, 2.1223444e-05, ..., 5.8730842e-05,\n",
       "         5.3929922e-05, 2.5700461e-05],\n",
       "        [2.4298823e-05, 3.0546107e-05, 2.7624441e-05, ..., 1.7807432e-05,\n",
       "         3.5925310e-05, 2.0987727e-05],\n",
       "        [1.2259225e-04, 3.7374353e-04, 1.0886363e-04, ..., 1.2329809e-04,\n",
       "         8.3774154e-05, 8.0434387e-05]], dtype=float32),\n",
       " array([[3.59812344e-04, 5.99892868e-04, 6.27885980e-04, ...,\n",
       "         4.50714782e-04, 3.12109332e-04, 4.82297823e-04],\n",
       "        [7.64152169e-01, 1.31469301e-03, 1.12715364e-01, ...,\n",
       "         2.01907265e-03, 1.09082449e-03, 6.41562918e-04],\n",
       "        [7.87788827e-04, 7.95357116e-03, 3.62892984e-03, ...,\n",
       "         6.70481531e-04, 4.74485481e-04, 3.35868128e-04],\n",
       "        ...,\n",
       "        [2.30144851e-05, 1.65222282e-05, 2.81446064e-05, ...,\n",
       "         9.27652727e-05, 8.17422697e-05, 5.96056634e-05],\n",
       "        [2.88564606e-05, 5.60066983e-05, 2.87183411e-05, ...,\n",
       "         2.07569556e-05, 6.02301916e-05, 2.45986284e-05],\n",
       "        [8.87951246e-05, 1.74651737e-04, 5.99568921e-05, ...,\n",
       "         1.04845865e-04, 5.25214418e-05, 4.70608829e-05]], dtype=float32),\n",
       " array([[4.76830726e-04, 4.47375525e-04, 3.35917750e-04, ...,\n",
       "         6.14569348e-04, 3.72904527e-04, 8.13884544e-04],\n",
       "        [9.07247663e-01, 6.32809941e-04, 2.81637926e-02, ...,\n",
       "         1.07994257e-03, 6.53210795e-04, 3.12165299e-04],\n",
       "        [7.25325895e-04, 4.21120599e-02, 4.90445271e-03, ...,\n",
       "         7.96914799e-04, 4.49599960e-04, 6.68737688e-04],\n",
       "        ...,\n",
       "        [3.47165915e-05, 1.61324642e-05, 2.05469041e-05, ...,\n",
       "         8.16271495e-05, 1.34452392e-04, 7.22700788e-05],\n",
       "        [8.30410499e-06, 1.02611466e-05, 1.16030333e-05, ...,\n",
       "         6.85698205e-06, 1.12407051e-05, 7.47043441e-06],\n",
       "        [6.64285253e-05, 1.12595335e-04, 7.08926818e-05, ...,\n",
       "         5.65900409e-05, 4.06850886e-05, 4.23054807e-05]], dtype=float32),\n",
       " array([[4.2419764e-04, 3.6874320e-04, 4.4289904e-04, ..., 5.5780448e-04,\n",
       "         1.9602331e-04, 5.5243581e-04],\n",
       "        [8.7000161e-01, 8.8150060e-04, 6.6836558e-02, ..., 6.7101204e-04,\n",
       "         1.0871193e-03, 4.4784718e-04],\n",
       "        [4.1853121e-04, 9.2887403e-03, 1.6543027e-03, ..., 3.4878196e-04,\n",
       "         2.7138478e-04, 3.4057364e-04],\n",
       "        ...,\n",
       "        [1.8503726e-05, 1.3146997e-05, 2.4083747e-05, ..., 6.2950749e-05,\n",
       "         5.1513973e-05, 3.7501599e-05],\n",
       "        [2.3730878e-05, 3.3269054e-05, 3.0904299e-05, ..., 1.9106705e-05,\n",
       "         3.3253826e-05, 2.7635675e-05],\n",
       "        [4.2253552e-05, 7.0122383e-05, 4.3950571e-05, ..., 6.3564890e-05,\n",
       "         3.4860397e-05, 3.0707062e-05]], dtype=float32),\n",
       " array([[8.85416172e-04, 7.74544314e-04, 6.20834413e-04, ...,\n",
       "         1.14867021e-03, 3.99592944e-04, 1.16058451e-03],\n",
       "        [7.63485372e-01, 1.50042248e-03, 1.01396196e-01, ...,\n",
       "         2.93056760e-03, 1.64849218e-03, 7.59058516e-04],\n",
       "        [4.97577537e-04, 1.61933806e-02, 1.95163547e-03, ...,\n",
       "         4.58117633e-04, 2.68070202e-04, 3.45237582e-04],\n",
       "        ...,\n",
       "        [3.00249467e-05, 2.49309924e-05, 3.08936324e-05, ...,\n",
       "         9.49294918e-05, 9.35980570e-05, 6.09342896e-05],\n",
       "        [2.13475105e-05, 3.74690499e-05, 2.03931450e-05, ...,\n",
       "         2.46788604e-05, 2.69159482e-05, 1.64127523e-05],\n",
       "        [9.91578781e-05, 1.45052109e-04, 7.22881960e-05, ...,\n",
       "         7.90833801e-05, 6.22076623e-05, 4.23463534e-05]], dtype=float32),\n",
       " array([[3.88797547e-04, 3.67783272e-04, 2.77115352e-04, ...,\n",
       "         3.14772129e-04, 1.51787099e-04, 5.03581832e-04],\n",
       "        [7.81686068e-01, 1.66003837e-03, 5.89924119e-02, ...,\n",
       "         2.29729596e-03, 2.01082090e-03, 7.95362575e-04],\n",
       "        [4.08543623e-04, 1.58572514e-02, 2.19172565e-03, ...,\n",
       "         5.07476449e-04, 2.88592128e-04, 4.28238651e-04],\n",
       "        ...,\n",
       "        [2.32891471e-05, 9.74866362e-06, 1.63616642e-05, ...,\n",
       "         5.45088260e-05, 5.65510600e-05, 3.42453350e-05],\n",
       "        [2.23954085e-05, 2.74535905e-05, 1.13161750e-05, ...,\n",
       "         1.26824380e-05, 2.71136469e-05, 1.30168155e-05],\n",
       "        [6.69351284e-05, 1.14605100e-04, 3.62865394e-05, ...,\n",
       "         4.48329010e-05, 4.24014215e-05, 3.30247167e-05]], dtype=float32),\n",
       " array([[3.6336365e-04, 3.5752487e-04, 3.8085502e-04, ..., 5.8151013e-04,\n",
       "         1.9350002e-04, 3.9930758e-04],\n",
       "        [8.3711624e-01, 8.7447488e-04, 6.4331830e-02, ..., 1.5326448e-03,\n",
       "         1.2623013e-03, 5.8921176e-04],\n",
       "        [5.5466389e-04, 2.3213977e-02, 3.9318171e-03, ..., 6.9880899e-04,\n",
       "         4.1340842e-04, 5.8031891e-04],\n",
       "        ...,\n",
       "        [2.9541976e-05, 1.9568501e-05, 3.0009654e-05, ..., 1.0255214e-04,\n",
       "         3.7135695e-05, 5.6188903e-05],\n",
       "        [2.1589605e-05, 3.4454748e-05, 4.0001993e-05, ..., 2.1801639e-05,\n",
       "         5.3836575e-05, 2.5381532e-05],\n",
       "        [8.4896281e-05, 2.1435939e-04, 7.8613026e-05, ..., 8.4795378e-05,\n",
       "         6.6487686e-05, 5.7567526e-05]], dtype=float32),\n",
       " array([[3.7327921e-04, 3.7587422e-04, 4.0616700e-04, ..., 4.4104739e-04,\n",
       "         1.8565939e-04, 5.4645818e-04],\n",
       "        [7.5956577e-01, 1.2554206e-03, 9.5497549e-02, ..., 2.5178643e-03,\n",
       "         2.3037060e-03, 8.5092033e-04],\n",
       "        [1.2952565e-04, 2.8708156e-03, 5.3456519e-04, ..., 1.3746993e-04,\n",
       "         6.4223270e-05, 9.4776362e-05],\n",
       "        ...,\n",
       "        [6.6137451e-05, 3.2883167e-05, 4.6241930e-05, ..., 2.4825530e-04,\n",
       "         1.7729963e-04, 7.9201243e-05],\n",
       "        [1.4790495e-05, 2.2267117e-05, 1.1933082e-05, ..., 1.2830158e-05,\n",
       "         3.3592409e-05, 2.1124708e-05],\n",
       "        [1.2220439e-04, 1.9959720e-04, 1.4808746e-04, ..., 1.2625469e-04,\n",
       "         1.1850930e-04, 1.1026000e-04]], dtype=float32)]"
      ]
     },
     "execution_count": 30,
     "metadata": {},
     "output_type": "execute_result"
    }
   ],
   "source": [
    "xgb_preds_2_2"
   ]
  },
  {
   "cell_type": "code",
   "execution_count": 46,
   "metadata": {},
   "outputs": [],
   "source": [
    "enc_prediction = lbl_enc.inverse_transform((np.mean(xgb_preds_2, axis=0)+np.mean(xgb_preds_2_1, axis=0)+np.mean(xgb_preds_2_2, axis=0)).argmax(axis=1))"
   ]
  },
  {
   "cell_type": "code",
   "execution_count": 43,
   "metadata": {},
   "outputs": [],
   "source": [
    "enc_prediction_2 = lbl_enc.inverse_transform(np.mean(xgb_preds_2, axis=0).argmax(axis=1))"
   ]
  },
  {
   "cell_type": "code",
   "execution_count": 44,
   "metadata": {},
   "outputs": [],
   "source": [
    "enc_prediction_2_1 = lbl_enc.inverse_transform(np.mean(xgb_preds_2_1, axis=0).argmax(axis=1))"
   ]
  },
  {
   "cell_type": "code",
   "execution_count": 45,
   "metadata": {},
   "outputs": [],
   "source": [
    "enc_prediction_2_2 = lbl_enc.inverse_transform(np.mean(xgb_preds_2_2, axis=0).argmax(axis=1))"
   ]
  },
  {
   "cell_type": "code",
   "execution_count": null,
   "metadata": {},
   "outputs": [],
   "source": []
  }
 ],
 "metadata": {
  "kernelspec": {
   "display_name": "Python 3",
   "language": "python",
   "name": "python3"
  },
  "language_info": {
   "codemirror_mode": {
    "name": "ipython",
    "version": 3
   },
   "file_extension": ".py",
   "mimetype": "text/x-python",
   "name": "python",
   "nbconvert_exporter": "python",
   "pygments_lexer": "ipython3",
   "version": "3.8.1"
  }
 },
 "nbformat": 4,
 "nbformat_minor": 4
}
